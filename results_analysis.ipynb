{
 "cells": [
  {
   "cell_type": "code",
   "execution_count": 8,
   "metadata": {},
   "outputs": [],
   "source": [
    "import pandas as pd"
   ]
  },
  {
   "cell_type": "markdown",
   "metadata": {},
   "source": [
    "## Init bias\n",
    "Tiene sentido usar el init bias para estudiar el delta bias, si en este caso evaluamos varias veces cambiando las palabras."
   ]
  },
  {
   "cell_type": "markdown",
   "metadata": {},
   "source": [
    "Usamos los weats (weat como criterio de optimización) para tener un df con todos los algs"
   ]
  },
  {
   "cell_type": "code",
   "execution_count": 9,
   "metadata": {},
   "outputs": [],
   "source": [
    "hd = pd.read_csv(r'.\\hd\\results\\bests_hd_weat.csv')\n",
    "dhd = pd.read_csv(r'.\\dhd\\results\\bests_dhd_weat.csv')\n",
    "ran = pd.read_csv(r'.\\ran\\results\\bests_ran_weat.csv')\n",
    "hsr = pd.read_csv(r'.\\hsr\\results\\bests_hsr_weat.csv')\n"
   ]
  },
  {
   "cell_type": "code",
   "execution_count": 10,
   "metadata": {},
   "outputs": [],
   "source": [
    "init_bias = pd.read_csv(r'init_bias.csv')"
   ]
  },
  {
   "cell_type": "code",
   "execution_count": 11,
   "metadata": {},
   "outputs": [],
   "source": [
    "init_metrics =   init_bias.drop(columns=['Unnamed: 0'])   #"
   ]
  },
  {
   "cell_type": "code",
   "execution_count": 12,
   "metadata": {},
   "outputs": [
    {
     "data": {
      "text/html": [
       "<div>\n",
       "<style scoped>\n",
       "    .dataframe tbody tr th:only-of-type {\n",
       "        vertical-align: middle;\n",
       "    }\n",
       "\n",
       "    .dataframe tbody tr th {\n",
       "        vertical-align: top;\n",
       "    }\n",
       "\n",
       "    .dataframe thead th {\n",
       "        text-align: right;\n",
       "    }\n",
       "</style>\n",
       "<table border=\"1\" class=\"dataframe\">\n",
       "  <thead>\n",
       "    <tr style=\"text-align: right;\">\n",
       "      <th></th>\n",
       "      <th>Weat</th>\n",
       "      <th>Weates</th>\n",
       "      <th>RND</th>\n",
       "      <th>RIPA</th>\n",
       "      <th>ECT</th>\n",
       "      <th>RNSB</th>\n",
       "    </tr>\n",
       "  </thead>\n",
       "  <tbody>\n",
       "    <tr>\n",
       "      <th>0</th>\n",
       "      <td>0.246647</td>\n",
       "      <td>0.901104</td>\n",
       "      <td>0.548545</td>\n",
       "      <td>0.190966</td>\n",
       "      <td>0.568189</td>\n",
       "      <td>0.081473</td>\n",
       "    </tr>\n",
       "    <tr>\n",
       "      <th>1</th>\n",
       "      <td>0.144591</td>\n",
       "      <td>0.577259</td>\n",
       "      <td>0.211059</td>\n",
       "      <td>0.190374</td>\n",
       "      <td>0.388672</td>\n",
       "      <td>0.104630</td>\n",
       "    </tr>\n",
       "    <tr>\n",
       "      <th>2</th>\n",
       "      <td>0.226134</td>\n",
       "      <td>0.848182</td>\n",
       "      <td>0.191214</td>\n",
       "      <td>0.248695</td>\n",
       "      <td>0.565449</td>\n",
       "      <td>0.094981</td>\n",
       "    </tr>\n",
       "    <tr>\n",
       "      <th>3</th>\n",
       "      <td>0.177700</td>\n",
       "      <td>0.754676</td>\n",
       "      <td>0.155268</td>\n",
       "      <td>0.224951</td>\n",
       "      <td>0.872865</td>\n",
       "      <td>0.052950</td>\n",
       "    </tr>\n",
       "    <tr>\n",
       "      <th>4</th>\n",
       "      <td>0.196311</td>\n",
       "      <td>0.729108</td>\n",
       "      <td>0.217762</td>\n",
       "      <td>0.182797</td>\n",
       "      <td>0.570621</td>\n",
       "      <td>0.105177</td>\n",
       "    </tr>\n",
       "    <tr>\n",
       "      <th>5</th>\n",
       "      <td>0.140059</td>\n",
       "      <td>0.861547</td>\n",
       "      <td>0.141913</td>\n",
       "      <td>0.153638</td>\n",
       "      <td>0.718981</td>\n",
       "      <td>0.085191</td>\n",
       "    </tr>\n",
       "    <tr>\n",
       "      <th>6</th>\n",
       "      <td>0.169556</td>\n",
       "      <td>0.951932</td>\n",
       "      <td>0.266487</td>\n",
       "      <td>0.200886</td>\n",
       "      <td>0.708492</td>\n",
       "      <td>0.129975</td>\n",
       "    </tr>\n",
       "    <tr>\n",
       "      <th>7</th>\n",
       "      <td>0.153538</td>\n",
       "      <td>0.732534</td>\n",
       "      <td>0.243326</td>\n",
       "      <td>0.239662</td>\n",
       "      <td>0.310014</td>\n",
       "      <td>0.158345</td>\n",
       "    </tr>\n",
       "    <tr>\n",
       "      <th>8</th>\n",
       "      <td>0.137363</td>\n",
       "      <td>0.680226</td>\n",
       "      <td>0.297200</td>\n",
       "      <td>0.245076</td>\n",
       "      <td>0.675478</td>\n",
       "      <td>0.064678</td>\n",
       "    </tr>\n",
       "    <tr>\n",
       "      <th>9</th>\n",
       "      <td>0.155190</td>\n",
       "      <td>0.870039</td>\n",
       "      <td>0.284458</td>\n",
       "      <td>0.156672</td>\n",
       "      <td>0.689642</td>\n",
       "      <td>0.085689</td>\n",
       "    </tr>\n",
       "  </tbody>\n",
       "</table>\n",
       "</div>"
      ],
      "text/plain": [
       "       Weat    Weates       RND      RIPA       ECT      RNSB\n",
       "0  0.246647  0.901104  0.548545  0.190966  0.568189  0.081473\n",
       "1  0.144591  0.577259  0.211059  0.190374  0.388672  0.104630\n",
       "2  0.226134  0.848182  0.191214  0.248695  0.565449  0.094981\n",
       "3  0.177700  0.754676  0.155268  0.224951  0.872865  0.052950\n",
       "4  0.196311  0.729108  0.217762  0.182797  0.570621  0.105177\n",
       "5  0.140059  0.861547  0.141913  0.153638  0.718981  0.085191\n",
       "6  0.169556  0.951932  0.266487  0.200886  0.708492  0.129975\n",
       "7  0.153538  0.732534  0.243326  0.239662  0.310014  0.158345\n",
       "8  0.137363  0.680226  0.297200  0.245076  0.675478  0.064678\n",
       "9  0.155190  0.870039  0.284458  0.156672  0.689642  0.085689"
      ]
     },
     "execution_count": 12,
     "metadata": {},
     "output_type": "execute_result"
    }
   ],
   "source": [
    "init_metrics"
   ]
  },
  {
   "cell_type": "code",
   "execution_count": 13,
   "metadata": {},
   "outputs": [],
   "source": [
    "dfs = [hd, dhd, ran, hsr]"
   ]
  },
  {
   "cell_type": "code",
   "execution_count": 14,
   "metadata": {},
   "outputs": [],
   "source": [
    "for df in dfs:\n",
    "    df.drop(columns=['Unnamed: 0'], inplace=True)\n",
    " "
   ]
  },
  {
   "cell_type": "code",
   "execution_count": 15,
   "metadata": {},
   "outputs": [],
   "source": [
    "best_aux = []\n",
    "for df in dfs:\n",
    "    diff = df.iloc[:, :6] - init_metrics\n",
    "    last_col = df.iloc[:, -1:] \n",
    "    final = pd.concat([diff, last_col], axis=1)\n",
    "    best_aux.append(final)"
   ]
  },
  {
   "cell_type": "code",
   "execution_count": 16,
   "metadata": {},
   "outputs": [],
   "source": [
    "names = ['HD', 'DHD', 'RAN', 'HSR']"
   ]
  },
  {
   "cell_type": "code",
   "execution_count": 17,
   "metadata": {},
   "outputs": [],
   "source": [
    "metrics = ['Weat', 'RND', 'RIPA', 'RNSB', 'ECT', 'Weates']"
   ]
  },
  {
   "cell_type": "code",
   "execution_count": 18,
   "metadata": {},
   "outputs": [],
   "source": [
    "\n",
    "\n",
    "\n",
    "resultados = {}\n",
    "prom = []\n",
    "stds = []\n",
    "df_res = pd.DataFrame()\n",
    "\n",
    "for i, df in enumerate(best_aux, start=1):\n",
    "    promedio = df[metrics].mean()\n",
    "\n",
    "\n",
    "    desviacion_estandar = df[metrics].std()\n",
    "\n",
    "    df_resumen = pd.DataFrame({'Promedio': promedio, 'Desviacion_Estandar': desviacion_estandar})\n",
    "    df_resumen['Algorithm'] = names[i-1]\n",
    "    df_res = pd.concat([df_res,df_resumen])"
   ]
  },
  {
   "cell_type": "code",
   "execution_count": 19,
   "metadata": {},
   "outputs": [],
   "source": [
    "df_ttest = df_res.copy()"
   ]
  },
  {
   "cell_type": "code",
   "execution_count": 20,
   "metadata": {},
   "outputs": [],
   "source": [
    "df_res = df_res.round(3)"
   ]
  },
  {
   "cell_type": "code",
   "execution_count": 21,
   "metadata": {},
   "outputs": [],
   "source": [
    "df_res['value'] = df_res['Promedio'].astype(str) + ' ± ' + df_res['Desviacion_Estandar'].astype(str)"
   ]
  },
  {
   "cell_type": "code",
   "execution_count": 22,
   "metadata": {},
   "outputs": [],
   "source": [
    "df_res.drop(columns=['Promedio', 'Desviacion_Estandar'], inplace=True)"
   ]
  },
  {
   "cell_type": "code",
   "execution_count": 23,
   "metadata": {},
   "outputs": [
    {
     "data": {
      "text/html": [
       "<div>\n",
       "<style scoped>\n",
       "    .dataframe tbody tr th:only-of-type {\n",
       "        vertical-align: middle;\n",
       "    }\n",
       "\n",
       "    .dataframe tbody tr th {\n",
       "        vertical-align: top;\n",
       "    }\n",
       "\n",
       "    .dataframe thead th {\n",
       "        text-align: right;\n",
       "    }\n",
       "</style>\n",
       "<table border=\"1\" class=\"dataframe\">\n",
       "  <thead>\n",
       "    <tr style=\"text-align: right;\">\n",
       "      <th></th>\n",
       "      <th>Algorithm</th>\n",
       "      <th>value</th>\n",
       "    </tr>\n",
       "  </thead>\n",
       "  <tbody>\n",
       "    <tr>\n",
       "      <th>Weat</th>\n",
       "      <td>HD</td>\n",
       "      <td>-0.1 ± 0.031</td>\n",
       "    </tr>\n",
       "    <tr>\n",
       "      <th>RND</th>\n",
       "      <td>HD</td>\n",
       "      <td>-0.234 ± 0.102</td>\n",
       "    </tr>\n",
       "    <tr>\n",
       "      <th>RIPA</th>\n",
       "      <td>HD</td>\n",
       "      <td>-0.186 ± 0.035</td>\n",
       "    </tr>\n",
       "    <tr>\n",
       "      <th>RNSB</th>\n",
       "      <td>HD</td>\n",
       "      <td>-0.073 ± 0.024</td>\n",
       "    </tr>\n",
       "    <tr>\n",
       "      <th>ECT</th>\n",
       "      <td>HD</td>\n",
       "      <td>0.14 ± 0.113</td>\n",
       "    </tr>\n",
       "    <tr>\n",
       "      <th>Weates</th>\n",
       "      <td>HD</td>\n",
       "      <td>-0.325 ± 0.114</td>\n",
       "    </tr>\n",
       "    <tr>\n",
       "      <th>Weat</th>\n",
       "      <td>DHD</td>\n",
       "      <td>-0.033 ± 0.009</td>\n",
       "    </tr>\n",
       "    <tr>\n",
       "      <th>RND</th>\n",
       "      <td>DHD</td>\n",
       "      <td>-0.024 ± 0.011</td>\n",
       "    </tr>\n",
       "    <tr>\n",
       "      <th>RIPA</th>\n",
       "      <td>DHD</td>\n",
       "      <td>-0.035 ± 0.012</td>\n",
       "    </tr>\n",
       "    <tr>\n",
       "      <th>RNSB</th>\n",
       "      <td>DHD</td>\n",
       "      <td>-0.004 ± 0.012</td>\n",
       "    </tr>\n",
       "    <tr>\n",
       "      <th>ECT</th>\n",
       "      <td>DHD</td>\n",
       "      <td>0.008 ± 0.026</td>\n",
       "    </tr>\n",
       "    <tr>\n",
       "      <th>Weates</th>\n",
       "      <td>DHD</td>\n",
       "      <td>-0.056 ± 0.036</td>\n",
       "    </tr>\n",
       "    <tr>\n",
       "      <th>Weat</th>\n",
       "      <td>RAN</td>\n",
       "      <td>-0.099 ± 0.037</td>\n",
       "    </tr>\n",
       "    <tr>\n",
       "      <th>RND</th>\n",
       "      <td>RAN</td>\n",
       "      <td>-0.233 ± 0.101</td>\n",
       "    </tr>\n",
       "    <tr>\n",
       "      <th>RIPA</th>\n",
       "      <td>RAN</td>\n",
       "      <td>-0.19 ± 0.036</td>\n",
       "    </tr>\n",
       "    <tr>\n",
       "      <th>RNSB</th>\n",
       "      <td>RAN</td>\n",
       "      <td>-0.074 ± 0.034</td>\n",
       "    </tr>\n",
       "    <tr>\n",
       "      <th>ECT</th>\n",
       "      <td>RAN</td>\n",
       "      <td>0.15 ± 0.123</td>\n",
       "    </tr>\n",
       "    <tr>\n",
       "      <th>Weates</th>\n",
       "      <td>RAN</td>\n",
       "      <td>-0.341 ± 0.129</td>\n",
       "    </tr>\n",
       "    <tr>\n",
       "      <th>Weat</th>\n",
       "      <td>HSR</td>\n",
       "      <td>-0.124 ± 0.032</td>\n",
       "    </tr>\n",
       "    <tr>\n",
       "      <th>RND</th>\n",
       "      <td>HSR</td>\n",
       "      <td>-0.022 ± 0.092</td>\n",
       "    </tr>\n",
       "    <tr>\n",
       "      <th>RIPA</th>\n",
       "      <td>HSR</td>\n",
       "      <td>-0.157 ± 0.036</td>\n",
       "    </tr>\n",
       "    <tr>\n",
       "      <th>RNSB</th>\n",
       "      <td>HSR</td>\n",
       "      <td>-0.042 ± 0.033</td>\n",
       "    </tr>\n",
       "    <tr>\n",
       "      <th>ECT</th>\n",
       "      <td>HSR</td>\n",
       "      <td>-0.151 ± 0.082</td>\n",
       "    </tr>\n",
       "    <tr>\n",
       "      <th>Weates</th>\n",
       "      <td>HSR</td>\n",
       "      <td>-0.229 ± 0.082</td>\n",
       "    </tr>\n",
       "  </tbody>\n",
       "</table>\n",
       "</div>"
      ],
      "text/plain": [
       "       Algorithm           value\n",
       "Weat          HD    -0.1 ± 0.031\n",
       "RND           HD  -0.234 ± 0.102\n",
       "RIPA          HD  -0.186 ± 0.035\n",
       "RNSB          HD  -0.073 ± 0.024\n",
       "ECT           HD    0.14 ± 0.113\n",
       "Weates        HD  -0.325 ± 0.114\n",
       "Weat         DHD  -0.033 ± 0.009\n",
       "RND          DHD  -0.024 ± 0.011\n",
       "RIPA         DHD  -0.035 ± 0.012\n",
       "RNSB         DHD  -0.004 ± 0.012\n",
       "ECT          DHD   0.008 ± 0.026\n",
       "Weates       DHD  -0.056 ± 0.036\n",
       "Weat         RAN  -0.099 ± 0.037\n",
       "RND          RAN  -0.233 ± 0.101\n",
       "RIPA         RAN   -0.19 ± 0.036\n",
       "RNSB         RAN  -0.074 ± 0.034\n",
       "ECT          RAN    0.15 ± 0.123\n",
       "Weates       RAN  -0.341 ± 0.129\n",
       "Weat         HSR  -0.124 ± 0.032\n",
       "RND          HSR  -0.022 ± 0.092\n",
       "RIPA         HSR  -0.157 ± 0.036\n",
       "RNSB         HSR  -0.042 ± 0.033\n",
       "ECT          HSR  -0.151 ± 0.082\n",
       "Weates       HSR  -0.229 ± 0.082"
      ]
     },
     "execution_count": 23,
     "metadata": {},
     "output_type": "execute_result"
    }
   ],
   "source": [
    "df_res"
   ]
  },
  {
   "cell_type": "code",
   "execution_count": 24,
   "metadata": {},
   "outputs": [],
   "source": [
    "final_df = pd.DataFrame()\n",
    "for i in names:\n",
    "    aux = df_res[df_res['Algorithm'] == i].drop(columns=['Algorithm']).transpose().reset_index().rename(columns={'index': 'Algorithm'})\n",
    "    aux['Algorithm'] = i\n",
    "    final_df = pd.concat([final_df, aux])"
   ]
  },
  {
   "cell_type": "code",
   "execution_count": 25,
   "metadata": {},
   "outputs": [
    {
     "data": {
      "text/html": [
       "<div>\n",
       "<style scoped>\n",
       "    .dataframe tbody tr th:only-of-type {\n",
       "        vertical-align: middle;\n",
       "    }\n",
       "\n",
       "    .dataframe tbody tr th {\n",
       "        vertical-align: top;\n",
       "    }\n",
       "\n",
       "    .dataframe thead th {\n",
       "        text-align: right;\n",
       "    }\n",
       "</style>\n",
       "<table border=\"1\" class=\"dataframe\">\n",
       "  <thead>\n",
       "    <tr style=\"text-align: right;\">\n",
       "      <th></th>\n",
       "      <th>Algorithm</th>\n",
       "      <th>Weat</th>\n",
       "      <th>RND</th>\n",
       "      <th>RIPA</th>\n",
       "      <th>RNSB</th>\n",
       "      <th>ECT</th>\n",
       "      <th>Weates</th>\n",
       "    </tr>\n",
       "  </thead>\n",
       "  <tbody>\n",
       "    <tr>\n",
       "      <th>0</th>\n",
       "      <td>HD</td>\n",
       "      <td>-0.1 ± 0.031</td>\n",
       "      <td>-0.234 ± 0.102</td>\n",
       "      <td>-0.186 ± 0.035</td>\n",
       "      <td>-0.073 ± 0.024</td>\n",
       "      <td>0.14 ± 0.113</td>\n",
       "      <td>-0.325 ± 0.114</td>\n",
       "    </tr>\n",
       "    <tr>\n",
       "      <th>0</th>\n",
       "      <td>DHD</td>\n",
       "      <td>-0.033 ± 0.009</td>\n",
       "      <td>-0.024 ± 0.011</td>\n",
       "      <td>-0.035 ± 0.012</td>\n",
       "      <td>-0.004 ± 0.012</td>\n",
       "      <td>0.008 ± 0.026</td>\n",
       "      <td>-0.056 ± 0.036</td>\n",
       "    </tr>\n",
       "    <tr>\n",
       "      <th>0</th>\n",
       "      <td>RAN</td>\n",
       "      <td>-0.099 ± 0.037</td>\n",
       "      <td>-0.233 ± 0.101</td>\n",
       "      <td>-0.19 ± 0.036</td>\n",
       "      <td>-0.074 ± 0.034</td>\n",
       "      <td>0.15 ± 0.123</td>\n",
       "      <td>-0.341 ± 0.129</td>\n",
       "    </tr>\n",
       "    <tr>\n",
       "      <th>0</th>\n",
       "      <td>HSR</td>\n",
       "      <td>-0.124 ± 0.032</td>\n",
       "      <td>-0.022 ± 0.092</td>\n",
       "      <td>-0.157 ± 0.036</td>\n",
       "      <td>-0.042 ± 0.033</td>\n",
       "      <td>-0.151 ± 0.082</td>\n",
       "      <td>-0.229 ± 0.082</td>\n",
       "    </tr>\n",
       "  </tbody>\n",
       "</table>\n",
       "</div>"
      ],
      "text/plain": [
       "  Algorithm            Weat             RND            RIPA            RNSB  \\\n",
       "0        HD    -0.1 ± 0.031  -0.234 ± 0.102  -0.186 ± 0.035  -0.073 ± 0.024   \n",
       "0       DHD  -0.033 ± 0.009  -0.024 ± 0.011  -0.035 ± 0.012  -0.004 ± 0.012   \n",
       "0       RAN  -0.099 ± 0.037  -0.233 ± 0.101   -0.19 ± 0.036  -0.074 ± 0.034   \n",
       "0       HSR  -0.124 ± 0.032  -0.022 ± 0.092  -0.157 ± 0.036  -0.042 ± 0.033   \n",
       "\n",
       "              ECT          Weates  \n",
       "0    0.14 ± 0.113  -0.325 ± 0.114  \n",
       "0   0.008 ± 0.026  -0.056 ± 0.036  \n",
       "0    0.15 ± 0.123  -0.341 ± 0.129  \n",
       "0  -0.151 ± 0.082  -0.229 ± 0.082  "
      ]
     },
     "execution_count": 25,
     "metadata": {},
     "output_type": "execute_result"
    }
   ],
   "source": [
    "final_df"
   ]
  },
  {
   "cell_type": "markdown",
   "metadata": {},
   "source": [
    "## ttest "
   ]
  },
  {
   "cell_type": "code",
   "execution_count": 30,
   "metadata": {},
   "outputs": [],
   "source": [
    "import numpy as np\n",
    "from scipy.stats import t"
   ]
  },
  {
   "cell_type": "code",
   "execution_count": 31,
   "metadata": {},
   "outputs": [],
   "source": [
    "def corrected_ttest(baslein,alg):\n",
    "    differences = baslein.values - alg.values\n",
    "    mean_diff = np.mean(differences)\n",
    "    variance_diff = np.var(differences, ddof=1)\n",
    "\n",
    "    k = 10  # Número de particiones (folds)\n",
    "    n = len(baslein)  # Tamaño de la muestra\n",
    "    corrected_t_stat = mean_diff / np.sqrt((variance_diff / n) * (1 + 1/k))\n",
    "    df = n - 1\n",
    "\n",
    "    # Calcular el valor p\n",
    "    p_value = 2 * (1 - t.cdf(np.abs(corrected_t_stat), df))\n",
    "\n",
    "    return p_value"
   ]
  },
  {
   "cell_type": "code",
   "execution_count": 32,
   "metadata": {},
   "outputs": [],
   "source": [
    "df_alls = pd.DataFrame()\n",
    "for i in range(4):\n",
    "    df = pd.melt(best_aux[i].iloc[:, :-1], var_name='Metric', value_name='Value')\n",
    "    df['Algorithm'] = names[i]\n",
    "    df_alls = pd.concat([df_alls, df])"
   ]
  },
  {
   "cell_type": "code",
   "execution_count": 33,
   "metadata": {},
   "outputs": [],
   "source": [
    "from scipy.stats import ttest_ind\n",
    "\n",
    "dhd = {}\n",
    "hsr = {}\n",
    "ran = {}\n",
    "\n",
    "\n",
    "for i in metrics:\n",
    "    \n",
    "    basline = df_alls[(df_alls['Algorithm'] == 'HD') & (df_alls['Metric'] == i)]['Value']\n",
    "    dhd[i] = corrected_ttest(basline, df_alls[(df_alls['Algorithm'] == 'DHD') & (df_alls['Metric'] == i)]['Value']) \n",
    "    hsr[i] = corrected_ttest(basline, df_alls[(df_alls['Algorithm'] == 'HSR') & (df_alls['Metric'] == i)]['Value'])\n",
    "    ran[i] = corrected_ttest(basline, df_alls[(df_alls['Algorithm'] == 'RAN') & (df_alls['Metric'] == i)]['Value']) \n",
    "  \n"
   ]
  },
  {
   "cell_type": "code",
   "execution_count": 34,
   "metadata": {},
   "outputs": [],
   "source": [
    "p_values = pd.DataFrame([hsr,dhd,ran],index=[0,1,2])"
   ]
  },
  {
   "cell_type": "code",
   "execution_count": 35,
   "metadata": {},
   "outputs": [],
   "source": [
    "p_values['Algorithm'] = ['HSR', 'DHD', 'RAN']"
   ]
  },
  {
   "cell_type": "code",
   "execution_count": 36,
   "metadata": {},
   "outputs": [
    {
     "data": {
      "text/html": [
       "<div>\n",
       "<style scoped>\n",
       "    .dataframe tbody tr th:only-of-type {\n",
       "        vertical-align: middle;\n",
       "    }\n",
       "\n",
       "    .dataframe tbody tr th {\n",
       "        vertical-align: top;\n",
       "    }\n",
       "\n",
       "    .dataframe thead th {\n",
       "        text-align: right;\n",
       "    }\n",
       "</style>\n",
       "<table border=\"1\" class=\"dataframe\">\n",
       "  <thead>\n",
       "    <tr style=\"text-align: right;\">\n",
       "      <th></th>\n",
       "      <th>Weat</th>\n",
       "      <th>RND</th>\n",
       "      <th>RIPA</th>\n",
       "      <th>RNSB</th>\n",
       "      <th>ECT</th>\n",
       "      <th>Weates</th>\n",
       "      <th>Algorithm</th>\n",
       "    </tr>\n",
       "  </thead>\n",
       "  <tbody>\n",
       "    <tr>\n",
       "      <th>0</th>\n",
       "      <td>0.008111</td>\n",
       "      <td>0.004825</td>\n",
       "      <td>1.269450e-05</td>\n",
       "      <td>0.000525</td>\n",
       "      <td>0.000019</td>\n",
       "      <td>0.076222</td>\n",
       "      <td>HSR</td>\n",
       "    </tr>\n",
       "    <tr>\n",
       "      <th>1</th>\n",
       "      <td>0.000019</td>\n",
       "      <td>0.000300</td>\n",
       "      <td>2.005101e-07</td>\n",
       "      <td>0.000002</td>\n",
       "      <td>0.008334</td>\n",
       "      <td>0.000022</td>\n",
       "      <td>DHD</td>\n",
       "    </tr>\n",
       "    <tr>\n",
       "      <th>2</th>\n",
       "      <td>0.934315</td>\n",
       "      <td>0.825253</td>\n",
       "      <td>1.714813e-02</td>\n",
       "      <td>0.902839</td>\n",
       "      <td>0.674645</td>\n",
       "      <td>0.562755</td>\n",
       "      <td>RAN</td>\n",
       "    </tr>\n",
       "  </tbody>\n",
       "</table>\n",
       "</div>"
      ],
      "text/plain": [
       "       Weat       RND          RIPA      RNSB       ECT    Weates Algorithm\n",
       "0  0.008111  0.004825  1.269450e-05  0.000525  0.000019  0.076222       HSR\n",
       "1  0.000019  0.000300  2.005101e-07  0.000002  0.008334  0.000022       DHD\n",
       "2  0.934315  0.825253  1.714813e-02  0.902839  0.674645  0.562755       RAN"
      ]
     },
     "execution_count": 36,
     "metadata": {},
     "output_type": "execute_result"
    }
   ],
   "source": [
    "p_values"
   ]
  },
  {
   "cell_type": "code",
   "execution_count": 37,
   "metadata": {},
   "outputs": [
    {
     "data": {
      "text/html": [
       "<div>\n",
       "<style scoped>\n",
       "    .dataframe tbody tr th:only-of-type {\n",
       "        vertical-align: middle;\n",
       "    }\n",
       "\n",
       "    .dataframe tbody tr th {\n",
       "        vertical-align: top;\n",
       "    }\n",
       "\n",
       "    .dataframe thead th {\n",
       "        text-align: right;\n",
       "    }\n",
       "</style>\n",
       "<table border=\"1\" class=\"dataframe\">\n",
       "  <thead>\n",
       "    <tr style=\"text-align: right;\">\n",
       "      <th></th>\n",
       "      <th>Weat</th>\n",
       "      <th>RND</th>\n",
       "      <th>RIPA</th>\n",
       "      <th>RNSB</th>\n",
       "      <th>ECT</th>\n",
       "      <th>Weates</th>\n",
       "      <th>Algorithm</th>\n",
       "    </tr>\n",
       "  </thead>\n",
       "  <tbody>\n",
       "    <tr>\n",
       "      <th>0</th>\n",
       "      <td>0.008111</td>\n",
       "      <td>0.004825</td>\n",
       "      <td>1.269450e-05</td>\n",
       "      <td>0.000525</td>\n",
       "      <td>0.000019</td>\n",
       "      <td>NaN</td>\n",
       "      <td>NaN</td>\n",
       "    </tr>\n",
       "    <tr>\n",
       "      <th>1</th>\n",
       "      <td>0.000019</td>\n",
       "      <td>0.000300</td>\n",
       "      <td>2.005101e-07</td>\n",
       "      <td>0.000002</td>\n",
       "      <td>0.008334</td>\n",
       "      <td>0.000022</td>\n",
       "      <td>NaN</td>\n",
       "    </tr>\n",
       "    <tr>\n",
       "      <th>2</th>\n",
       "      <td>NaN</td>\n",
       "      <td>NaN</td>\n",
       "      <td>1.714813e-02</td>\n",
       "      <td>NaN</td>\n",
       "      <td>NaN</td>\n",
       "      <td>NaN</td>\n",
       "      <td>NaN</td>\n",
       "    </tr>\n",
       "  </tbody>\n",
       "</table>\n",
       "</div>"
      ],
      "text/plain": [
       "       Weat       RND          RIPA      RNSB       ECT    Weates Algorithm\n",
       "0  0.008111  0.004825  1.269450e-05  0.000525  0.000019       NaN       NaN\n",
       "1  0.000019  0.000300  2.005101e-07  0.000002  0.008334  0.000022       NaN\n",
       "2       NaN       NaN  1.714813e-02       NaN       NaN       NaN       NaN"
      ]
     },
     "execution_count": 37,
     "metadata": {},
     "output_type": "execute_result"
    }
   ],
   "source": [
    "p_values[p_values.drop(columns=['Algorithm']) < 0.05]"
   ]
  },
  {
   "cell_type": "markdown",
   "metadata": {},
   "source": [
    "## Violin plot"
   ]
  },
  {
   "cell_type": "markdown",
   "metadata": {},
   "source": [
    "### read data"
   ]
  },
  {
   "cell_type": "code",
   "execution_count": 39,
   "metadata": {},
   "outputs": [],
   "source": [
    "hd_weat = pd.read_csv(r'.\\hd\\results\\bests_hd_weat.csv')\n",
    "dhd_weat = pd.read_csv(r'.\\dhd\\results\\bests_dhd_weat.csv')\n",
    "ran_weat = pd.read_csv(r'.\\ran\\results\\bests_ran_weat.csv')\n",
    "hsr_weat = pd.read_csv(r'.\\hsr\\results\\bests_hsr_weat.csv')"
   ]
  },
  {
   "cell_type": "code",
   "execution_count": 40,
   "metadata": {},
   "outputs": [],
   "source": [
    "hd_ripa = pd.read_csv(r'.\\hd\\results\\bests_hd_ripa.csv')\n",
    "dhd_ripa = pd.read_csv(r'.\\dhd\\results\\bests_dhd_ripa.csv')\n",
    "ran_ripa = pd.read_csv(r'.\\ran\\results\\bests_ran_ripa.csv')\n",
    "hsr_ripa = pd.read_csv(r'.\\hsr\\results\\bests_hsr_ripa.csv')"
   ]
  },
  {
   "cell_type": "code",
   "execution_count": 41,
   "metadata": {},
   "outputs": [],
   "source": [
    "hd_ect = pd.read_csv(r'.\\hd\\results\\bests_hd_ect.csv')\n",
    "dhd_ect = pd.read_csv(r'.\\dhd\\results\\bests_dhd_ect.csv')\n",
    "ran_ect = pd.read_csv(r'.\\ran\\results\\bests_ran_ect.csv')\n",
    "hsr_ect = pd.read_csv(r'.\\hsr\\results\\bests_hsr_ect.csv')"
   ]
  },
  {
   "cell_type": "code",
   "execution_count": 42,
   "metadata": {},
   "outputs": [],
   "source": [
    "hd_rnd = pd.read_csv(r'.\\hd\\results\\bests_hd_rnd.csv')\n",
    "dhd_rnd = pd.read_csv(r'.\\dhd\\results\\bests_dhd_rnd.csv')\n",
    "ran_rnd = pd.read_csv(r'.\\ran\\results\\bests_ran_rnd.csv')\n",
    "hsr_rnd = pd.read_csv(r'.\\hsr\\results\\bests_hsr_rnd.csv')"
   ]
  },
  {
   "cell_type": "code",
   "execution_count": 43,
   "metadata": {},
   "outputs": [],
   "source": [
    "hd_rnsb = pd.read_csv(r'.\\hd\\results\\bests_hd_rnsb.csv')\n",
    "dhd_rnsb = pd.read_csv(r'.\\dhd\\results\\bests_dhd_rnsb.csv')\n",
    "ran_rnsb = pd.read_csv(r'.\\ran\\results\\bests_ran_rnsb.csv')\n",
    "hsr_rnsb = pd.read_csv(r'.\\hsr\\results\\bests_hsr_rnsb.csv')\n"
   ]
  },
  {
   "cell_type": "code",
   "execution_count": 44,
   "metadata": {},
   "outputs": [],
   "source": [
    "hd_weates = pd.read_csv(r'.\\hd\\results\\bests_hd_weates.csv')\n",
    "dhd_weates = pd.read_csv(r'.\\dhd\\results\\bests_dhd_weates.csv')\n",
    "ran_weates = pd.read_csv(r'.\\ran\\results\\bests_ran_weates.csv')\n",
    "hsr_weates = pd.read_csv(r'.\\hsr\\results\\bests_hsr_weates.csv')"
   ]
  },
  {
   "cell_type": "markdown",
   "metadata": {},
   "source": [
    "##  bests"
   ]
  },
  {
   "cell_type": "code",
   "execution_count": 49,
   "metadata": {},
   "outputs": [],
   "source": [
    "# juntar todos los dataframes hd\n",
    "hd = pd.concat([hd_weat, hd_ripa, hd_ect, hd_rnd, hd_rnsb, hd_weates], axis=0)\n",
    "hd.drop(columns=['Unnamed: 0'], inplace=True)\n",
    "hd_melt = pd.melt(hd, var_name='Metric', value_name='Value')\n",
    "hd_melt['Algorithm'] = 'HD'\n",
    "\n",
    "#juntar todos los dataframes dhd\n",
    "dhd = pd.concat([dhd_weat, dhd_ripa, dhd_ect, dhd_rnd, dhd_rnsb, dhd_weates], axis=0)\n",
    "dhd.drop(columns=['Unnamed: 0'], inplace=True)\n",
    "dhd_melt = pd.melt(dhd, var_name='Metric', value_name='Value')\n",
    "dhd_melt['Algorithm'] = 'DHD'\n",
    "\n",
    "#juntar todos los dataframes ran\n",
    "ran = pd.concat([ran_weat, ran_ripa, ran_ect, ran_rnd, ran_rnsb, ran_weates], axis=0)\n",
    "ran.drop(columns=['Unnamed: 0'], inplace=True)\n",
    "ran_melt = pd.melt(ran, var_name='Metric', value_name='Value')\n",
    "ran_melt['Algorithm'] = 'RAN'\n",
    "\n",
    "#juntar todos los dataframes hsr\n",
    "hsr = pd.concat([hsr_weat, hsr_ripa, hsr_ect, hsr_rnd, hsr_rnsb, hsr_weates], axis=0)\n",
    "hsr.drop(columns=['Unnamed: 0'], inplace=True)\n",
    "#hsr_melt = pd.melt(hsr, var_name='Metric', value_name='Value')\n",
    "#hsr_melt['Algorithm'] = 'HSR'"
   ]
  },
  {
   "cell_type": "code",
   "execution_count": 50,
   "metadata": {},
   "outputs": [
    {
     "data": {
      "text/html": [
       "<div>\n",
       "<style scoped>\n",
       "    .dataframe tbody tr th:only-of-type {\n",
       "        vertical-align: middle;\n",
       "    }\n",
       "\n",
       "    .dataframe tbody tr th {\n",
       "        vertical-align: top;\n",
       "    }\n",
       "\n",
       "    .dataframe thead th {\n",
       "        text-align: right;\n",
       "    }\n",
       "</style>\n",
       "<table border=\"1\" class=\"dataframe\">\n",
       "  <thead>\n",
       "    <tr style=\"text-align: right;\">\n",
       "      <th></th>\n",
       "      <th>Weat</th>\n",
       "      <th>Weates</th>\n",
       "      <th>RND</th>\n",
       "      <th>RIPA</th>\n",
       "      <th>ECT</th>\n",
       "      <th>RNSB</th>\n",
       "    </tr>\n",
       "    <tr>\n",
       "      <th>solver</th>\n",
       "      <th></th>\n",
       "      <th></th>\n",
       "      <th></th>\n",
       "      <th></th>\n",
       "      <th></th>\n",
       "      <th></th>\n",
       "    </tr>\n",
       "  </thead>\n",
       "  <tbody>\n",
       "    <tr>\n",
       "      <th>arpack</th>\n",
       "      <td>18</td>\n",
       "      <td>18</td>\n",
       "      <td>18</td>\n",
       "      <td>18</td>\n",
       "      <td>18</td>\n",
       "      <td>18</td>\n",
       "    </tr>\n",
       "    <tr>\n",
       "      <th>auto</th>\n",
       "      <td>21</td>\n",
       "      <td>21</td>\n",
       "      <td>21</td>\n",
       "      <td>21</td>\n",
       "      <td>21</td>\n",
       "      <td>21</td>\n",
       "    </tr>\n",
       "    <tr>\n",
       "      <th>full</th>\n",
       "      <td>4</td>\n",
       "      <td>4</td>\n",
       "      <td>4</td>\n",
       "      <td>4</td>\n",
       "      <td>4</td>\n",
       "      <td>4</td>\n",
       "    </tr>\n",
       "    <tr>\n",
       "      <th>randomized</th>\n",
       "      <td>17</td>\n",
       "      <td>17</td>\n",
       "      <td>17</td>\n",
       "      <td>17</td>\n",
       "      <td>17</td>\n",
       "      <td>17</td>\n",
       "    </tr>\n",
       "  </tbody>\n",
       "</table>\n",
       "</div>"
      ],
      "text/plain": [
       "            Weat  Weates  RND  RIPA  ECT  RNSB\n",
       "solver                                        \n",
       "arpack        18      18   18    18   18    18\n",
       "auto          21      21   21    21   21    21\n",
       "full           4       4    4     4    4     4\n",
       "randomized    17      17   17    17   17    17"
      ]
     },
     "execution_count": 50,
     "metadata": {},
     "output_type": "execute_result"
    }
   ],
   "source": [
    "dhd.groupby(['solver',]).count()"
   ]
  },
  {
   "cell_type": "code",
   "execution_count": 51,
   "metadata": {},
   "outputs": [
    {
     "data": {
      "text/html": [
       "<div>\n",
       "<style scoped>\n",
       "    .dataframe tbody tr th:only-of-type {\n",
       "        vertical-align: middle;\n",
       "    }\n",
       "\n",
       "    .dataframe tbody tr th {\n",
       "        vertical-align: top;\n",
       "    }\n",
       "\n",
       "    .dataframe thead th {\n",
       "        text-align: right;\n",
       "    }\n",
       "</style>\n",
       "<table border=\"1\" class=\"dataframe\">\n",
       "  <thead>\n",
       "    <tr style=\"text-align: right;\">\n",
       "      <th></th>\n",
       "      <th>Weat</th>\n",
       "      <th>Weates</th>\n",
       "      <th>RND</th>\n",
       "      <th>RIPA</th>\n",
       "      <th>ECT</th>\n",
       "      <th>RNSB</th>\n",
       "    </tr>\n",
       "    <tr>\n",
       "      <th>solver</th>\n",
       "      <th></th>\n",
       "      <th></th>\n",
       "      <th></th>\n",
       "      <th></th>\n",
       "      <th></th>\n",
       "      <th></th>\n",
       "    </tr>\n",
       "  </thead>\n",
       "  <tbody>\n",
       "    <tr>\n",
       "      <th>arpack</th>\n",
       "      <td>19</td>\n",
       "      <td>19</td>\n",
       "      <td>19</td>\n",
       "      <td>19</td>\n",
       "      <td>19</td>\n",
       "      <td>19</td>\n",
       "    </tr>\n",
       "    <tr>\n",
       "      <th>auto</th>\n",
       "      <td>23</td>\n",
       "      <td>23</td>\n",
       "      <td>23</td>\n",
       "      <td>23</td>\n",
       "      <td>23</td>\n",
       "      <td>23</td>\n",
       "    </tr>\n",
       "    <tr>\n",
       "      <th>full</th>\n",
       "      <td>3</td>\n",
       "      <td>3</td>\n",
       "      <td>3</td>\n",
       "      <td>3</td>\n",
       "      <td>3</td>\n",
       "      <td>3</td>\n",
       "    </tr>\n",
       "    <tr>\n",
       "      <th>randomized</th>\n",
       "      <td>15</td>\n",
       "      <td>15</td>\n",
       "      <td>15</td>\n",
       "      <td>15</td>\n",
       "      <td>15</td>\n",
       "      <td>15</td>\n",
       "    </tr>\n",
       "  </tbody>\n",
       "</table>\n",
       "</div>"
      ],
      "text/plain": [
       "            Weat  Weates  RND  RIPA  ECT  RNSB\n",
       "solver                                        \n",
       "arpack        19      19   19    19   19    19\n",
       "auto          23      23   23    23   23    23\n",
       "full           3       3    3     3    3     3\n",
       "randomized    15      15   15    15   15    15"
      ]
     },
     "execution_count": 51,
     "metadata": {},
     "output_type": "execute_result"
    }
   ],
   "source": [
    "hd.groupby('solver').count()"
   ]
  },
  {
   "cell_type": "code",
   "execution_count": 52,
   "metadata": {},
   "outputs": [
    {
     "data": {
      "text/html": [
       "<div>\n",
       "<style scoped>\n",
       "    .dataframe tbody tr th:only-of-type {\n",
       "        vertical-align: middle;\n",
       "    }\n",
       "\n",
       "    .dataframe tbody tr th {\n",
       "        vertical-align: top;\n",
       "    }\n",
       "\n",
       "    .dataframe thead th {\n",
       "        text-align: right;\n",
       "    }\n",
       "</style>\n",
       "<table border=\"1\" class=\"dataframe\">\n",
       "  <thead>\n",
       "    <tr style=\"text-align: right;\">\n",
       "      <th></th>\n",
       "      <th>Weat</th>\n",
       "      <th>Weates</th>\n",
       "      <th>RND</th>\n",
       "      <th>RIPA</th>\n",
       "      <th>ECT</th>\n",
       "      <th>RNSB</th>\n",
       "    </tr>\n",
       "    <tr>\n",
       "      <th>alpha</th>\n",
       "      <th></th>\n",
       "      <th></th>\n",
       "      <th></th>\n",
       "      <th></th>\n",
       "      <th></th>\n",
       "      <th></th>\n",
       "    </tr>\n",
       "  </thead>\n",
       "  <tbody>\n",
       "    <tr>\n",
       "      <th>0</th>\n",
       "      <td>45</td>\n",
       "      <td>45</td>\n",
       "      <td>45</td>\n",
       "      <td>45</td>\n",
       "      <td>45</td>\n",
       "      <td>45</td>\n",
       "    </tr>\n",
       "    <tr>\n",
       "      <th>10</th>\n",
       "      <td>7</td>\n",
       "      <td>7</td>\n",
       "      <td>7</td>\n",
       "      <td>7</td>\n",
       "      <td>7</td>\n",
       "      <td>7</td>\n",
       "    </tr>\n",
       "    <tr>\n",
       "      <th>60</th>\n",
       "      <td>1</td>\n",
       "      <td>1</td>\n",
       "      <td>1</td>\n",
       "      <td>1</td>\n",
       "      <td>1</td>\n",
       "      <td>1</td>\n",
       "    </tr>\n",
       "    <tr>\n",
       "      <th>80</th>\n",
       "      <td>2</td>\n",
       "      <td>2</td>\n",
       "      <td>2</td>\n",
       "      <td>2</td>\n",
       "      <td>2</td>\n",
       "      <td>2</td>\n",
       "    </tr>\n",
       "    <tr>\n",
       "      <th>100</th>\n",
       "      <td>5</td>\n",
       "      <td>5</td>\n",
       "      <td>5</td>\n",
       "      <td>5</td>\n",
       "      <td>5</td>\n",
       "      <td>5</td>\n",
       "    </tr>\n",
       "  </tbody>\n",
       "</table>\n",
       "</div>"
      ],
      "text/plain": [
       "       Weat  Weates  RND  RIPA  ECT  RNSB\n",
       "alpha                                    \n",
       "0        45      45   45    45   45    45\n",
       "10        7       7    7     7    7     7\n",
       "60        1       1    1     1    1     1\n",
       "80        2       2    2     2    2     2\n",
       "100       5       5    5     5    5     5"
      ]
     },
     "execution_count": 52,
     "metadata": {},
     "output_type": "execute_result"
    }
   ],
   "source": [
    "hsr.groupby('alpha').count()"
   ]
  },
  {
   "cell_type": "code",
   "execution_count": 53,
   "metadata": {},
   "outputs": [
    {
     "data": {
      "text/html": [
       "<div>\n",
       "<style scoped>\n",
       "    .dataframe tbody tr th:only-of-type {\n",
       "        vertical-align: middle;\n",
       "    }\n",
       "\n",
       "    .dataframe tbody tr th {\n",
       "        vertical-align: top;\n",
       "    }\n",
       "\n",
       "    .dataframe thead th {\n",
       "        text-align: right;\n",
       "    }\n",
       "</style>\n",
       "<table border=\"1\" class=\"dataframe\">\n",
       "  <thead>\n",
       "    <tr style=\"text-align: right;\">\n",
       "      <th></th>\n",
       "      <th>Weat</th>\n",
       "      <th>Weates</th>\n",
       "      <th>RND</th>\n",
       "      <th>RIPA</th>\n",
       "      <th>RNSB</th>\n",
       "      <th>ECT</th>\n",
       "    </tr>\n",
       "    <tr>\n",
       "      <th>[theta,neighbour]</th>\n",
       "      <th></th>\n",
       "      <th></th>\n",
       "      <th></th>\n",
       "      <th></th>\n",
       "      <th></th>\n",
       "      <th></th>\n",
       "    </tr>\n",
       "  </thead>\n",
       "  <tbody>\n",
       "    <tr>\n",
       "      <th>[0.02, 100]</th>\n",
       "      <td>10</td>\n",
       "      <td>10</td>\n",
       "      <td>10</td>\n",
       "      <td>10</td>\n",
       "      <td>10</td>\n",
       "      <td>10</td>\n",
       "    </tr>\n",
       "    <tr>\n",
       "      <th>[0.02, 200]</th>\n",
       "      <td>18</td>\n",
       "      <td>18</td>\n",
       "      <td>18</td>\n",
       "      <td>18</td>\n",
       "      <td>18</td>\n",
       "      <td>18</td>\n",
       "    </tr>\n",
       "    <tr>\n",
       "      <th>[0.02, 50]</th>\n",
       "      <td>6</td>\n",
       "      <td>6</td>\n",
       "      <td>6</td>\n",
       "      <td>6</td>\n",
       "      <td>6</td>\n",
       "      <td>6</td>\n",
       "    </tr>\n",
       "    <tr>\n",
       "      <th>[0.05, 100]</th>\n",
       "      <td>3</td>\n",
       "      <td>3</td>\n",
       "      <td>3</td>\n",
       "      <td>3</td>\n",
       "      <td>3</td>\n",
       "      <td>3</td>\n",
       "    </tr>\n",
       "    <tr>\n",
       "      <th>[0.05, 200]</th>\n",
       "      <td>3</td>\n",
       "      <td>3</td>\n",
       "      <td>3</td>\n",
       "      <td>3</td>\n",
       "      <td>3</td>\n",
       "      <td>3</td>\n",
       "    </tr>\n",
       "    <tr>\n",
       "      <th>[0.05, 50]</th>\n",
       "      <td>4</td>\n",
       "      <td>4</td>\n",
       "      <td>4</td>\n",
       "      <td>4</td>\n",
       "      <td>4</td>\n",
       "      <td>4</td>\n",
       "    </tr>\n",
       "    <tr>\n",
       "      <th>[0.1, 100]</th>\n",
       "      <td>2</td>\n",
       "      <td>2</td>\n",
       "      <td>2</td>\n",
       "      <td>2</td>\n",
       "      <td>2</td>\n",
       "      <td>2</td>\n",
       "    </tr>\n",
       "    <tr>\n",
       "      <th>[0.1, 200]</th>\n",
       "      <td>4</td>\n",
       "      <td>4</td>\n",
       "      <td>4</td>\n",
       "      <td>4</td>\n",
       "      <td>4</td>\n",
       "      <td>4</td>\n",
       "    </tr>\n",
       "    <tr>\n",
       "      <th>[0.1, 50]</th>\n",
       "      <td>10</td>\n",
       "      <td>10</td>\n",
       "      <td>10</td>\n",
       "      <td>10</td>\n",
       "      <td>10</td>\n",
       "      <td>10</td>\n",
       "    </tr>\n",
       "  </tbody>\n",
       "</table>\n",
       "</div>"
      ],
      "text/plain": [
       "                   Weat  Weates  RND  RIPA  RNSB  ECT\n",
       "[theta,neighbour]                                    \n",
       "[0.02, 100]          10      10   10    10    10   10\n",
       "[0.02, 200]          18      18   18    18    18   18\n",
       "[0.02, 50]            6       6    6     6     6    6\n",
       "[0.05, 100]           3       3    3     3     3    3\n",
       "[0.05, 200]           3       3    3     3     3    3\n",
       "[0.05, 50]            4       4    4     4     4    4\n",
       "[0.1, 100]            2       2    2     2     2    2\n",
       "[0.1, 200]            4       4    4     4     4    4\n",
       "[0.1, 50]            10      10   10    10    10   10"
      ]
     },
     "execution_count": 53,
     "metadata": {},
     "output_type": "execute_result"
    }
   ],
   "source": [
    "ran.groupby('[theta,neighbour]').count()"
   ]
  },
  {
   "cell_type": "markdown",
   "metadata": {},
   "source": [
    "### Plot"
   ]
  },
  {
   "cell_type": "code",
   "execution_count": 54,
   "metadata": {},
   "outputs": [],
   "source": [
    "\n",
    "hd = pd.concat([hd_weat, hd_ripa, hd_ect, hd_rnd, hd_rnsb, hd_weates], axis=0)"
   ]
  },
  {
   "cell_type": "code",
   "execution_count": 55,
   "metadata": {},
   "outputs": [],
   "source": [
    "hd.drop(columns=['Unnamed: 0','solver'], inplace=True)\n",
    "hd_melt = pd.melt(hd, var_name='Metric', value_name='Value')\n"
   ]
  },
  {
   "cell_type": "code",
   "execution_count": 56,
   "metadata": {},
   "outputs": [],
   "source": [
    "hd_melt['Algorithm'] = 'HD'"
   ]
  },
  {
   "cell_type": "code",
   "execution_count": 58,
   "metadata": {},
   "outputs": [],
   "source": [
    "#juntar todos los dataframes dhd\n",
    "dhd = pd.concat([dhd_weat, dhd_ripa, dhd_ect, dhd_rnd, dhd_rnsb, dhd_weates], axis=0)\n",
    "dhd.drop(columns=['Unnamed: 0','solver'], inplace=True)\n",
    "dhd_melt = pd.melt(dhd, var_name='Metric', value_name='Value')\n",
    "dhd_melt['Algorithm'] = 'DHD'"
   ]
  },
  {
   "cell_type": "code",
   "execution_count": 59,
   "metadata": {},
   "outputs": [],
   "source": [
    "#juntar todos los dataframes ran\n",
    "ran = pd.concat([ran_weat, ran_ripa, ran_ect, ran_rnd, ran_rnsb, ran_weates], axis=0)\n",
    "ran.drop(columns=['Unnamed: 0','[theta,neighbour]'], inplace=True)\n",
    "ran_melt = pd.melt(ran, var_name='Metric', value_name='Value')\n",
    "ran_melt['Algorithm'] = 'RAN'"
   ]
  },
  {
   "cell_type": "code",
   "execution_count": 60,
   "metadata": {},
   "outputs": [],
   "source": [
    "#juntar todos los dataframes hsr\n",
    "hsr = pd.concat([hsr_weat, hsr_ripa, hsr_ect, hsr_rnd, hsr_rnsb, hsr_weates], axis=0)\n",
    "hsr.drop(columns=['Unnamed: 0','alpha'], inplace=True)\n",
    "hsr_melt = pd.melt(hsr, var_name='Metric', value_name='Value')\n",
    "hsr_melt['Algorithm'] = 'HSR'"
   ]
  },
  {
   "cell_type": "code",
   "execution_count": 61,
   "metadata": {},
   "outputs": [],
   "source": [
    "\n",
    "all_results = pd.concat([hd_melt, dhd_melt, ran_melt, hsr_melt], axis=0)"
   ]
  },
  {
   "cell_type": "code",
   "execution_count": 62,
   "metadata": {},
   "outputs": [],
   "source": [
    "weats = all_results[all_results['Metric'] == 'Weat']"
   ]
  },
  {
   "cell_type": "code",
   "execution_count": 63,
   "metadata": {},
   "outputs": [],
   "source": [
    "ects = all_results[all_results['Metric'] == 'ECT']"
   ]
  },
  {
   "cell_type": "code",
   "execution_count": 64,
   "metadata": {},
   "outputs": [],
   "source": [
    "rnsbs = all_results[all_results['Metric'] == 'RNSB']"
   ]
  },
  {
   "cell_type": "code",
   "execution_count": 65,
   "metadata": {},
   "outputs": [],
   "source": [
    "rnds = all_results[all_results['Metric'] == 'RND']"
   ]
  },
  {
   "cell_type": "code",
   "execution_count": 66,
   "metadata": {},
   "outputs": [],
   "source": [
    "weatess = all_results[all_results['Metric'] == 'Weates']"
   ]
  },
  {
   "cell_type": "code",
   "execution_count": 67,
   "metadata": {},
   "outputs": [],
   "source": [
    "ripas = all_results[all_results['Metric'] == 'RIPA']"
   ]
  },
  {
   "cell_type": "code",
   "execution_count": 68,
   "metadata": {},
   "outputs": [
    {
     "data": {
      "application/vnd.plotly.v1+json": {
       "config": {
        "plotlyServerURL": "https://plot.ly"
       },
       "data": [
        {
         "box": {
          "visible": true
         },
         "meanline": {
          "visible": true
         },
         "name": "HD",
         "type": "violin",
         "x": [
          "HD",
          "HD",
          "HD",
          "HD",
          "HD",
          "HD",
          "HD",
          "HD",
          "HD",
          "HD",
          "HD",
          "HD",
          "HD",
          "HD",
          "HD",
          "HD",
          "HD",
          "HD",
          "HD",
          "HD",
          "HD",
          "HD",
          "HD",
          "HD",
          "HD",
          "HD",
          "HD",
          "HD",
          "HD",
          "HD",
          "HD",
          "HD",
          "HD",
          "HD",
          "HD",
          "HD",
          "HD",
          "HD",
          "HD",
          "HD",
          "HD",
          "HD",
          "HD",
          "HD",
          "HD",
          "HD",
          "HD",
          "HD",
          "HD",
          "HD",
          "HD",
          "HD",
          "HD",
          "HD",
          "HD",
          "HD",
          "HD",
          "HD",
          "HD",
          "HD"
         ],
         "y": [
          0.1490771190255884,
          0.0556617790708309,
          0.0564670436960906,
          0.0540274742186394,
          0.0928108447139234,
          0.0369410490385931,
          0.0694253143112684,
          0.0792758780821834,
          0.0571840275673411,
          0.1002032196771184,
          0.1490771546417321,
          0.055661767881384,
          0.0564670436960906,
          0.0540274734269556,
          0.0928109144479439,
          0.0369410496485678,
          0.0694252664980581,
          0.0792759597693009,
          0.0571841003210046,
          0.100203220027107,
          0.1490771546417321,
          0.0556617904211089,
          0.0564670135464065,
          0.0540274358640147,
          0.0928109144479439,
          0.036941062757968,
          0.0694252826708682,
          0.0792760266949058,
          0.0571840680012794,
          0.100203220027107,
          0.1490771546417321,
          0.055661738555445,
          0.0564670436960906,
          0.0540274734269556,
          0.0928108494055095,
          0.0369410176231174,
          0.0694252826708682,
          0.0792759131848525,
          0.0571839860198856,
          0.1002032175098555,
          0.149077157358652,
          0.0556617904211089,
          0.0564670436960906,
          0.0540274734269556,
          0.0928108736818801,
          0.0369410713541347,
          0.0694253441625597,
          0.0792759910353495,
          0.0571840045217914,
          0.1002032046665861,
          0.1490771580107802,
          0.0556617985969778,
          0.0564670436960906,
          0.0540274734269556,
          0.0928108343216964,
          0.0369410332082752,
          0.0694252826708682,
          0.0792759910353495,
          0.0571840250336391,
          0.100203220027107
         ]
        },
        {
         "box": {
          "visible": true
         },
         "meanline": {
          "visible": true
         },
         "name": "DHD",
         "type": "violin",
         "x": [
          "DHD",
          "DHD",
          "DHD",
          "DHD",
          "DHD",
          "DHD",
          "DHD",
          "DHD",
          "DHD",
          "DHD",
          "DHD",
          "DHD",
          "DHD",
          "DHD",
          "DHD",
          "DHD",
          "DHD",
          "DHD",
          "DHD",
          "DHD",
          "DHD",
          "DHD",
          "DHD",
          "DHD",
          "DHD",
          "DHD",
          "DHD",
          "DHD",
          "DHD",
          "DHD",
          "DHD",
          "DHD",
          "DHD",
          "DHD",
          "DHD",
          "DHD",
          "DHD",
          "DHD",
          "DHD",
          "DHD",
          "DHD",
          "DHD",
          "DHD",
          "DHD",
          "DHD",
          "DHD",
          "DHD",
          "DHD",
          "DHD",
          "DHD",
          "DHD",
          "DHD",
          "DHD",
          "DHD",
          "DHD",
          "DHD",
          "DHD",
          "DHD",
          "DHD",
          "DHD"
         ],
         "y": [
          0.2146844533682853,
          0.1067257638443386,
          0.1763553896646151,
          0.1412769849438814,
          0.1605884771337041,
          0.1069055302956809,
          0.1408818510529053,
          0.131060037364536,
          0.0962706854085238,
          0.137646127196563,
          0.214684446842602,
          0.1067257733528756,
          0.1763553609858801,
          0.141276983418714,
          0.1605884857593069,
          0.1069055302956809,
          0.1408818510529053,
          0.131060037364536,
          0.0962706854085238,
          0.137646127196563,
          0.214684446842602,
          0.1067257792603244,
          0.1763553893883856,
          0.1412769822160252,
          0.1605884857593069,
          0.1069055302956809,
          0.1408967883192543,
          0.131060037364536,
          0.0962706854085238,
          0.1383551971044883,
          0.2146844522631209,
          0.1067257792603244,
          0.1757697762204604,
          0.1412769822160252,
          0.1605884857593069,
          0.106905531190592,
          0.140896794462595,
          0.1310600450426777,
          0.0962706806284851,
          0.1376461281182075,
          0.2146844448971845,
          0.1067257730530094,
          0.1763553725993124,
          0.1412769869854431,
          0.1605884766947425,
          0.1069055306211834,
          0.140896805589938,
          0.1310600460377641,
          0.0962706857132888,
          0.1376461295911235,
          0.214684434147384,
          0.1067257538148305,
          0.1763553759522494,
          0.141276988634906,
          0.160588486926368,
          0.1069055384579317,
          0.1408818528713064,
          0.1310600609413029,
          0.096270685044859,
          0.1376461290101086
         ]
        },
        {
         "box": {
          "visible": true
         },
         "meanline": {
          "visible": true
         },
         "name": "RAN",
         "type": "violin",
         "x": [
          "RAN",
          "RAN",
          "RAN",
          "RAN",
          "RAN",
          "RAN",
          "RAN",
          "RAN",
          "RAN",
          "RAN",
          "RAN",
          "RAN",
          "RAN",
          "RAN",
          "RAN",
          "RAN",
          "RAN",
          "RAN",
          "RAN",
          "RAN",
          "RAN",
          "RAN",
          "RAN",
          "RAN",
          "RAN",
          "RAN",
          "RAN",
          "RAN",
          "RAN",
          "RAN",
          "RAN",
          "RAN",
          "RAN",
          "RAN",
          "RAN",
          "RAN",
          "RAN",
          "RAN",
          "RAN",
          "RAN",
          "RAN",
          "RAN",
          "RAN",
          "RAN",
          "RAN",
          "RAN",
          "RAN",
          "RAN",
          "RAN",
          "RAN",
          "RAN",
          "RAN",
          "RAN",
          "RAN",
          "RAN",
          "RAN",
          "RAN",
          "RAN",
          "RAN",
          "RAN"
         ],
         "y": [
          0.1138962158579372,
          0.0551871021304972,
          0.0459322991692586,
          0.0831368509747911,
          0.0973608032107289,
          0.0499683254118776,
          0.0539761489901965,
          0.0920064971333068,
          0.0600079679574939,
          0.1045700574158556,
          0.1138962158579372,
          0.0642216680941071,
          0.0403823773344041,
          0.0831368509747911,
          0.1412158920655113,
          0.0577735876856148,
          0.0401045713366304,
          0.0768378789500773,
          0.0735450980779157,
          0.0969343468059441,
          0.150654152652654,
          0.0864425064568922,
          0.0403823773344041,
          0.0634440984908932,
          0.1293133215814854,
          0.0452385994057203,
          0.0619543907460734,
          0.0891937271327631,
          0.0595731684029213,
          0.1244306014509065,
          0.1455910060948503,
          0.0864425064568922,
          0.0479949534595387,
          0.0547899435712889,
          0.099768919438718,
          0.050147541633374,
          0.0539761489901965,
          0.1063501648075437,
          0.0672037428000489,
          0.0969343468059441,
          0.1455910060948503,
          0.0778537433365038,
          0.0443433336669868,
          0.0842570032469804,
          0.094105295225235,
          0.0577735876856148,
          0.0401045713366304,
          0.0768378789500773,
          0.0672037428000489,
          0.0969343468059441,
          0.1537127072139047,
          0.0551871021304972,
          0.0459322991692586,
          0.0898865046928431,
          0.094105295225235,
          0.0499683254118776,
          0.0416973653638064,
          0.0744736353361343,
          0.0672037428000489,
          0.0969343468059441
         ]
        },
        {
         "box": {
          "visible": true
         },
         "meanline": {
          "visible": true
         },
         "name": "HSR",
         "type": "violin",
         "x": [
          "HSR",
          "HSR",
          "HSR",
          "HSR",
          "HSR",
          "HSR",
          "HSR",
          "HSR",
          "HSR",
          "HSR",
          "HSR",
          "HSR",
          "HSR",
          "HSR",
          "HSR",
          "HSR",
          "HSR",
          "HSR",
          "HSR",
          "HSR",
          "HSR",
          "HSR",
          "HSR",
          "HSR",
          "HSR",
          "HSR",
          "HSR",
          "HSR",
          "HSR",
          "HSR",
          "HSR",
          "HSR",
          "HSR",
          "HSR",
          "HSR",
          "HSR",
          "HSR",
          "HSR",
          "HSR",
          "HSR",
          "HSR",
          "HSR",
          "HSR",
          "HSR",
          "HSR",
          "HSR",
          "HSR",
          "HSR",
          "HSR",
          "HSR",
          "HSR",
          "HSR",
          "HSR",
          "HSR",
          "HSR",
          "HSR",
          "HSR",
          "HSR",
          "HSR",
          "HSR"
         ],
         "y": [
          0.0859919956632945,
          0.0307627061031157,
          0.0522015798054883,
          0.0387802875906454,
          0.042877552189135,
          0.0490033905209962,
          0.0538606289328589,
          0.0450312051289453,
          0.0355039164087495,
          0.0762779198195881,
          0.0859919956660004,
          0.0307627061010863,
          0.0522015798109001,
          0.0387802875825892,
          0.0428775521857526,
          0.0386406579502946,
          0.0538606289366103,
          0.0450312051344801,
          0.0351943175567867,
          0.0762779198216175,
          0.1177801237100682,
          0.0588418588327216,
          0.0522015798109001,
          0.0387802875825892,
          0.0428775521857526,
          0.0490033905216112,
          0.053860628930153,
          0.0573959134615019,
          0.0355039164129929,
          0.0979497877509152,
          0.1230583010616238,
          0.0307627061093885,
          0.0522015798109001,
          0.075776446855812,
          0.0976127115416946,
          0.0386406579502946,
          0.0646175209531756,
          0.0694469567243875,
          0.0355039164327952,
          0.1314761136590406,
          0.0859919956660004,
          0.0253817789540909,
          0.0522015798109001,
          0.0387802875825892,
          0.0428775521857526,
          0.0490033905216112,
          0.053860628930153,
          0.0450312051344801,
          0.0351943175577092,
          0.0762779198216175,
          0.0859919956666702,
          0.0307627061037388,
          0.0522015798125077,
          0.0387802875826428,
          0.0428775521875209,
          0.0490033905246924,
          0.053860628930153,
          0.045031205133462,
          0.0355039164136091,
          0.0762779198234394
         ]
        }
       ],
       "layout": {
        "template": {
         "data": {
          "bar": [
           {
            "error_x": {
             "color": "#2a3f5f"
            },
            "error_y": {
             "color": "#2a3f5f"
            },
            "marker": {
             "line": {
              "color": "#E5ECF6",
              "width": 0.5
             },
             "pattern": {
              "fillmode": "overlay",
              "size": 10,
              "solidity": 0.2
             }
            },
            "type": "bar"
           }
          ],
          "barpolar": [
           {
            "marker": {
             "line": {
              "color": "#E5ECF6",
              "width": 0.5
             },
             "pattern": {
              "fillmode": "overlay",
              "size": 10,
              "solidity": 0.2
             }
            },
            "type": "barpolar"
           }
          ],
          "carpet": [
           {
            "aaxis": {
             "endlinecolor": "#2a3f5f",
             "gridcolor": "white",
             "linecolor": "white",
             "minorgridcolor": "white",
             "startlinecolor": "#2a3f5f"
            },
            "baxis": {
             "endlinecolor": "#2a3f5f",
             "gridcolor": "white",
             "linecolor": "white",
             "minorgridcolor": "white",
             "startlinecolor": "#2a3f5f"
            },
            "type": "carpet"
           }
          ],
          "choropleth": [
           {
            "colorbar": {
             "outlinewidth": 0,
             "ticks": ""
            },
            "type": "choropleth"
           }
          ],
          "contour": [
           {
            "colorbar": {
             "outlinewidth": 0,
             "ticks": ""
            },
            "colorscale": [
             [
              0,
              "#0d0887"
             ],
             [
              0.1111111111111111,
              "#46039f"
             ],
             [
              0.2222222222222222,
              "#7201a8"
             ],
             [
              0.3333333333333333,
              "#9c179e"
             ],
             [
              0.4444444444444444,
              "#bd3786"
             ],
             [
              0.5555555555555556,
              "#d8576b"
             ],
             [
              0.6666666666666666,
              "#ed7953"
             ],
             [
              0.7777777777777778,
              "#fb9f3a"
             ],
             [
              0.8888888888888888,
              "#fdca26"
             ],
             [
              1,
              "#f0f921"
             ]
            ],
            "type": "contour"
           }
          ],
          "contourcarpet": [
           {
            "colorbar": {
             "outlinewidth": 0,
             "ticks": ""
            },
            "type": "contourcarpet"
           }
          ],
          "heatmap": [
           {
            "colorbar": {
             "outlinewidth": 0,
             "ticks": ""
            },
            "colorscale": [
             [
              0,
              "#0d0887"
             ],
             [
              0.1111111111111111,
              "#46039f"
             ],
             [
              0.2222222222222222,
              "#7201a8"
             ],
             [
              0.3333333333333333,
              "#9c179e"
             ],
             [
              0.4444444444444444,
              "#bd3786"
             ],
             [
              0.5555555555555556,
              "#d8576b"
             ],
             [
              0.6666666666666666,
              "#ed7953"
             ],
             [
              0.7777777777777778,
              "#fb9f3a"
             ],
             [
              0.8888888888888888,
              "#fdca26"
             ],
             [
              1,
              "#f0f921"
             ]
            ],
            "type": "heatmap"
           }
          ],
          "heatmapgl": [
           {
            "colorbar": {
             "outlinewidth": 0,
             "ticks": ""
            },
            "colorscale": [
             [
              0,
              "#0d0887"
             ],
             [
              0.1111111111111111,
              "#46039f"
             ],
             [
              0.2222222222222222,
              "#7201a8"
             ],
             [
              0.3333333333333333,
              "#9c179e"
             ],
             [
              0.4444444444444444,
              "#bd3786"
             ],
             [
              0.5555555555555556,
              "#d8576b"
             ],
             [
              0.6666666666666666,
              "#ed7953"
             ],
             [
              0.7777777777777778,
              "#fb9f3a"
             ],
             [
              0.8888888888888888,
              "#fdca26"
             ],
             [
              1,
              "#f0f921"
             ]
            ],
            "type": "heatmapgl"
           }
          ],
          "histogram": [
           {
            "marker": {
             "pattern": {
              "fillmode": "overlay",
              "size": 10,
              "solidity": 0.2
             }
            },
            "type": "histogram"
           }
          ],
          "histogram2d": [
           {
            "colorbar": {
             "outlinewidth": 0,
             "ticks": ""
            },
            "colorscale": [
             [
              0,
              "#0d0887"
             ],
             [
              0.1111111111111111,
              "#46039f"
             ],
             [
              0.2222222222222222,
              "#7201a8"
             ],
             [
              0.3333333333333333,
              "#9c179e"
             ],
             [
              0.4444444444444444,
              "#bd3786"
             ],
             [
              0.5555555555555556,
              "#d8576b"
             ],
             [
              0.6666666666666666,
              "#ed7953"
             ],
             [
              0.7777777777777778,
              "#fb9f3a"
             ],
             [
              0.8888888888888888,
              "#fdca26"
             ],
             [
              1,
              "#f0f921"
             ]
            ],
            "type": "histogram2d"
           }
          ],
          "histogram2dcontour": [
           {
            "colorbar": {
             "outlinewidth": 0,
             "ticks": ""
            },
            "colorscale": [
             [
              0,
              "#0d0887"
             ],
             [
              0.1111111111111111,
              "#46039f"
             ],
             [
              0.2222222222222222,
              "#7201a8"
             ],
             [
              0.3333333333333333,
              "#9c179e"
             ],
             [
              0.4444444444444444,
              "#bd3786"
             ],
             [
              0.5555555555555556,
              "#d8576b"
             ],
             [
              0.6666666666666666,
              "#ed7953"
             ],
             [
              0.7777777777777778,
              "#fb9f3a"
             ],
             [
              0.8888888888888888,
              "#fdca26"
             ],
             [
              1,
              "#f0f921"
             ]
            ],
            "type": "histogram2dcontour"
           }
          ],
          "mesh3d": [
           {
            "colorbar": {
             "outlinewidth": 0,
             "ticks": ""
            },
            "type": "mesh3d"
           }
          ],
          "parcoords": [
           {
            "line": {
             "colorbar": {
              "outlinewidth": 0,
              "ticks": ""
             }
            },
            "type": "parcoords"
           }
          ],
          "pie": [
           {
            "automargin": true,
            "type": "pie"
           }
          ],
          "scatter": [
           {
            "fillpattern": {
             "fillmode": "overlay",
             "size": 10,
             "solidity": 0.2
            },
            "type": "scatter"
           }
          ],
          "scatter3d": [
           {
            "line": {
             "colorbar": {
              "outlinewidth": 0,
              "ticks": ""
             }
            },
            "marker": {
             "colorbar": {
              "outlinewidth": 0,
              "ticks": ""
             }
            },
            "type": "scatter3d"
           }
          ],
          "scattercarpet": [
           {
            "marker": {
             "colorbar": {
              "outlinewidth": 0,
              "ticks": ""
             }
            },
            "type": "scattercarpet"
           }
          ],
          "scattergeo": [
           {
            "marker": {
             "colorbar": {
              "outlinewidth": 0,
              "ticks": ""
             }
            },
            "type": "scattergeo"
           }
          ],
          "scattergl": [
           {
            "marker": {
             "colorbar": {
              "outlinewidth": 0,
              "ticks": ""
             }
            },
            "type": "scattergl"
           }
          ],
          "scattermapbox": [
           {
            "marker": {
             "colorbar": {
              "outlinewidth": 0,
              "ticks": ""
             }
            },
            "type": "scattermapbox"
           }
          ],
          "scatterpolar": [
           {
            "marker": {
             "colorbar": {
              "outlinewidth": 0,
              "ticks": ""
             }
            },
            "type": "scatterpolar"
           }
          ],
          "scatterpolargl": [
           {
            "marker": {
             "colorbar": {
              "outlinewidth": 0,
              "ticks": ""
             }
            },
            "type": "scatterpolargl"
           }
          ],
          "scatterternary": [
           {
            "marker": {
             "colorbar": {
              "outlinewidth": 0,
              "ticks": ""
             }
            },
            "type": "scatterternary"
           }
          ],
          "surface": [
           {
            "colorbar": {
             "outlinewidth": 0,
             "ticks": ""
            },
            "colorscale": [
             [
              0,
              "#0d0887"
             ],
             [
              0.1111111111111111,
              "#46039f"
             ],
             [
              0.2222222222222222,
              "#7201a8"
             ],
             [
              0.3333333333333333,
              "#9c179e"
             ],
             [
              0.4444444444444444,
              "#bd3786"
             ],
             [
              0.5555555555555556,
              "#d8576b"
             ],
             [
              0.6666666666666666,
              "#ed7953"
             ],
             [
              0.7777777777777778,
              "#fb9f3a"
             ],
             [
              0.8888888888888888,
              "#fdca26"
             ],
             [
              1,
              "#f0f921"
             ]
            ],
            "type": "surface"
           }
          ],
          "table": [
           {
            "cells": {
             "fill": {
              "color": "#EBF0F8"
             },
             "line": {
              "color": "white"
             }
            },
            "header": {
             "fill": {
              "color": "#C8D4E3"
             },
             "line": {
              "color": "white"
             }
            },
            "type": "table"
           }
          ]
         },
         "layout": {
          "annotationdefaults": {
           "arrowcolor": "#2a3f5f",
           "arrowhead": 0,
           "arrowwidth": 1
          },
          "autotypenumbers": "strict",
          "coloraxis": {
           "colorbar": {
            "outlinewidth": 0,
            "ticks": ""
           }
          },
          "colorscale": {
           "diverging": [
            [
             0,
             "#8e0152"
            ],
            [
             0.1,
             "#c51b7d"
            ],
            [
             0.2,
             "#de77ae"
            ],
            [
             0.3,
             "#f1b6da"
            ],
            [
             0.4,
             "#fde0ef"
            ],
            [
             0.5,
             "#f7f7f7"
            ],
            [
             0.6,
             "#e6f5d0"
            ],
            [
             0.7,
             "#b8e186"
            ],
            [
             0.8,
             "#7fbc41"
            ],
            [
             0.9,
             "#4d9221"
            ],
            [
             1,
             "#276419"
            ]
           ],
           "sequential": [
            [
             0,
             "#0d0887"
            ],
            [
             0.1111111111111111,
             "#46039f"
            ],
            [
             0.2222222222222222,
             "#7201a8"
            ],
            [
             0.3333333333333333,
             "#9c179e"
            ],
            [
             0.4444444444444444,
             "#bd3786"
            ],
            [
             0.5555555555555556,
             "#d8576b"
            ],
            [
             0.6666666666666666,
             "#ed7953"
            ],
            [
             0.7777777777777778,
             "#fb9f3a"
            ],
            [
             0.8888888888888888,
             "#fdca26"
            ],
            [
             1,
             "#f0f921"
            ]
           ],
           "sequentialminus": [
            [
             0,
             "#0d0887"
            ],
            [
             0.1111111111111111,
             "#46039f"
            ],
            [
             0.2222222222222222,
             "#7201a8"
            ],
            [
             0.3333333333333333,
             "#9c179e"
            ],
            [
             0.4444444444444444,
             "#bd3786"
            ],
            [
             0.5555555555555556,
             "#d8576b"
            ],
            [
             0.6666666666666666,
             "#ed7953"
            ],
            [
             0.7777777777777778,
             "#fb9f3a"
            ],
            [
             0.8888888888888888,
             "#fdca26"
            ],
            [
             1,
             "#f0f921"
            ]
           ]
          },
          "colorway": [
           "#636efa",
           "#EF553B",
           "#00cc96",
           "#ab63fa",
           "#FFA15A",
           "#19d3f3",
           "#FF6692",
           "#B6E880",
           "#FF97FF",
           "#FECB52"
          ],
          "font": {
           "color": "#2a3f5f"
          },
          "geo": {
           "bgcolor": "white",
           "lakecolor": "white",
           "landcolor": "#E5ECF6",
           "showlakes": true,
           "showland": true,
           "subunitcolor": "white"
          },
          "hoverlabel": {
           "align": "left"
          },
          "hovermode": "closest",
          "mapbox": {
           "style": "light"
          },
          "paper_bgcolor": "white",
          "plot_bgcolor": "#E5ECF6",
          "polar": {
           "angularaxis": {
            "gridcolor": "white",
            "linecolor": "white",
            "ticks": ""
           },
           "bgcolor": "#E5ECF6",
           "radialaxis": {
            "gridcolor": "white",
            "linecolor": "white",
            "ticks": ""
           }
          },
          "scene": {
           "xaxis": {
            "backgroundcolor": "#E5ECF6",
            "gridcolor": "white",
            "gridwidth": 2,
            "linecolor": "white",
            "showbackground": true,
            "ticks": "",
            "zerolinecolor": "white"
           },
           "yaxis": {
            "backgroundcolor": "#E5ECF6",
            "gridcolor": "white",
            "gridwidth": 2,
            "linecolor": "white",
            "showbackground": true,
            "ticks": "",
            "zerolinecolor": "white"
           },
           "zaxis": {
            "backgroundcolor": "#E5ECF6",
            "gridcolor": "white",
            "gridwidth": 2,
            "linecolor": "white",
            "showbackground": true,
            "ticks": "",
            "zerolinecolor": "white"
           }
          },
          "shapedefaults": {
           "line": {
            "color": "#2a3f5f"
           }
          },
          "ternary": {
           "aaxis": {
            "gridcolor": "white",
            "linecolor": "white",
            "ticks": ""
           },
           "baxis": {
            "gridcolor": "white",
            "linecolor": "white",
            "ticks": ""
           },
           "bgcolor": "#E5ECF6",
           "caxis": {
            "gridcolor": "white",
            "linecolor": "white",
            "ticks": ""
           }
          },
          "title": {
           "x": 0.05
          },
          "xaxis": {
           "automargin": true,
           "gridcolor": "white",
           "linecolor": "white",
           "ticks": "",
           "title": {
            "standoff": 15
           },
           "zerolinecolor": "white",
           "zerolinewidth": 2
          },
          "yaxis": {
           "automargin": true,
           "gridcolor": "white",
           "linecolor": "white",
           "ticks": "",
           "title": {
            "standoff": 15
           },
           "zerolinecolor": "white",
           "zerolinewidth": 2
          }
         }
        },
        "title": {
         "text": "WEAT"
        }
       }
      }
     },
     "metadata": {},
     "output_type": "display_data"
    }
   ],
   "source": [
    "import plotly.graph_objects as go\n",
    "\n",
    "import pandas as pd\n",
    "\n",
    "#df = pd.read_csv(\"https://raw.githubusercontent.com/plotly/datasets/master/violin_data.csv\")\n",
    "\n",
    "fig = go.Figure()\n",
    "\n",
    "#days = ['Thur', 'Fri', 'Sat', 'Sun']\n",
    "\n",
    "for met in names:\n",
    "    fig.add_trace(go.Violin(x=weats['Algorithm'][weats['Algorithm'] == met],\n",
    "                            y=weats['Value'][weats['Algorithm'] == met],\n",
    "                            name=met,\n",
    "                            box_visible=True,\n",
    "                            meanline_visible=True))\n",
    "    \n",
    "fig.update_layout(title=\"WEAT\")\n",
    "\n",
    "fig.show()"
   ]
  },
  {
   "cell_type": "code",
   "execution_count": 69,
   "metadata": {},
   "outputs": [
    {
     "data": {
      "application/vnd.plotly.v1+json": {
       "config": {
        "plotlyServerURL": "https://plot.ly"
       },
       "data": [
        {
         "box": {
          "visible": true
         },
         "meanline": {
          "visible": true
         },
         "name": "HD",
         "type": "violin",
         "x": [
          "HD",
          "HD",
          "HD",
          "HD",
          "HD",
          "HD",
          "HD",
          "HD",
          "HD",
          "HD",
          "HD",
          "HD",
          "HD",
          "HD",
          "HD",
          "HD",
          "HD",
          "HD",
          "HD",
          "HD",
          "HD",
          "HD",
          "HD",
          "HD",
          "HD",
          "HD",
          "HD",
          "HD",
          "HD",
          "HD",
          "HD",
          "HD",
          "HD",
          "HD",
          "HD",
          "HD",
          "HD",
          "HD",
          "HD",
          "HD",
          "HD",
          "HD",
          "HD",
          "HD",
          "HD",
          "HD",
          "HD",
          "HD",
          "HD",
          "HD",
          "HD",
          "HD",
          "HD",
          "HD",
          "HD",
          "HD",
          "HD",
          "HD",
          "HD",
          "HD"
         ],
         "y": [
          0.5757498804983012,
          0.7433524566972758,
          0.826654061815129,
          0.922850165227904,
          0.5954963204723491,
          0.8401094080781385,
          0.8635737992840249,
          0.4429864675680131,
          0.906482507680172,
          0.755892736216679,
          0.5757498673948799,
          0.7433524566972758,
          0.826654061815129,
          0.9228501680805412,
          0.5954963328398722,
          0.8401094342560819,
          0.8635738220247954,
          0.442986457327777,
          0.9064824910397888,
          0.7558927979763869,
          0.5757498673948799,
          0.7433524728134567,
          0.8266540510209839,
          0.9228501656667714,
          0.5954963328398722,
          0.8401094521558936,
          0.8635737823695576,
          0.442986457327777,
          0.906482500012186,
          0.7558927979763869,
          0.5757498673948799,
          0.7433524728134567,
          0.826654061815129,
          0.9228501680805412,
          0.5954963390367282,
          0.8401094080781385,
          0.8635737823695576,
          0.4429864694575804,
          0.9064824762320932,
          0.7558927007951333,
          0.5757498095217867,
          0.7433524728134567,
          0.826654061815129,
          0.9228501680805412,
          0.5954963370173507,
          0.8401094441221845,
          0.8635738906275762,
          0.4429864570961526,
          0.9064825050266616,
          0.7558927802842309,
          0.5757498064534794,
          0.7433524728134567,
          0.826654061815129,
          0.9228501680805412,
          0.595496327780708,
          0.8401094301511051,
          0.8635737823695576,
          0.4429864570961526,
          0.9064825038489724,
          0.7558927979763869
         ]
        },
        {
         "box": {
          "visible": true
         },
         "meanline": {
          "visible": true
         },
         "name": "DHD",
         "type": "violin",
         "x": [
          "DHD",
          "DHD",
          "DHD",
          "DHD",
          "DHD",
          "DHD",
          "DHD",
          "DHD",
          "DHD",
          "DHD",
          "DHD",
          "DHD",
          "DHD",
          "DHD",
          "DHD",
          "DHD",
          "DHD",
          "DHD",
          "DHD",
          "DHD",
          "DHD",
          "DHD",
          "DHD",
          "DHD",
          "DHD",
          "DHD",
          "DHD",
          "DHD",
          "DHD",
          "DHD",
          "DHD",
          "DHD",
          "DHD",
          "DHD",
          "DHD",
          "DHD",
          "DHD",
          "DHD",
          "DHD",
          "DHD",
          "DHD",
          "DHD",
          "DHD",
          "DHD",
          "DHD",
          "DHD",
          "DHD",
          "DHD",
          "DHD",
          "DHD",
          "DHD",
          "DHD",
          "DHD",
          "DHD",
          "DHD",
          "DHD",
          "DHD",
          "DHD",
          "DHD",
          "DHD"
         ],
         "y": [
          0.5451679398889052,
          0.4006844597989272,
          0.5530558405829193,
          0.8681802147339734,
          0.6220573882526735,
          0.756384359072372,
          0.7467398485845864,
          0.3098374302921922,
          0.6599326855123933,
          0.6908685753635987,
          0.5451679398889052,
          0.4006844597989272,
          0.5530558405829193,
          0.8681802147339734,
          0.6220573882526735,
          0.756384359072372,
          0.7467398485845864,
          0.3098374302921922,
          0.6599326855123933,
          0.6908685753635987,
          0.5451679398889052,
          0.4006844597989272,
          0.5530558405829193,
          0.8681802147339734,
          0.6220573882526735,
          0.756384359072372,
          0.7457566857051413,
          0.3098374302921922,
          0.6599326855123933,
          0.6863216921019314,
          0.5451679398889052,
          0.4006844597989272,
          0.5466146551430323,
          0.8681802147339734,
          0.6220573882526735,
          0.756384359072372,
          0.7457566857051413,
          0.3098374302921922,
          0.6599326855123933,
          0.6908685753635987,
          0.5451679398889052,
          0.4006844597989272,
          0.5530558405829193,
          0.8681802147339734,
          0.6220573882526735,
          0.756384359072372,
          0.7457566857051413,
          0.3098374302921922,
          0.6599326855123933,
          0.6908685753635987,
          0.5451679398889052,
          0.4006844597989272,
          0.5530558405829193,
          0.8681802147339734,
          0.6220573882526735,
          0.756384359072372,
          0.7467398485845864,
          0.3098374302921922,
          0.6599326855123933,
          0.6908685753635987
         ]
        },
        {
         "box": {
          "visible": true
         },
         "meanline": {
          "visible": true
         },
         "name": "RAN",
         "type": "violin",
         "x": [
          "RAN",
          "RAN",
          "RAN",
          "RAN",
          "RAN",
          "RAN",
          "RAN",
          "RAN",
          "RAN",
          "RAN",
          "RAN",
          "RAN",
          "RAN",
          "RAN",
          "RAN",
          "RAN",
          "RAN",
          "RAN",
          "RAN",
          "RAN",
          "RAN",
          "RAN",
          "RAN",
          "RAN",
          "RAN",
          "RAN",
          "RAN",
          "RAN",
          "RAN",
          "RAN",
          "RAN",
          "RAN",
          "RAN",
          "RAN",
          "RAN",
          "RAN",
          "RAN",
          "RAN",
          "RAN",
          "RAN",
          "RAN",
          "RAN",
          "RAN",
          "RAN",
          "RAN",
          "RAN",
          "RAN",
          "RAN",
          "RAN",
          "RAN",
          "RAN",
          "RAN",
          "RAN",
          "RAN",
          "RAN",
          "RAN",
          "RAN",
          "RAN",
          "RAN",
          "RAN"
         ],
         "y": [
          0.5124865063751792,
          0.7029151224841691,
          0.8334625845791631,
          0.9017547728480714,
          0.6819874607548907,
          0.8575640358001481,
          0.8108788145837317,
          0.5925478445934325,
          0.9233012985222652,
          0.7503362209771121,
          0.5124865063751792,
          0.6934769273337681,
          0.8895320435423182,
          0.9017547728480714,
          0.6859977821943336,
          0.7452936075982893,
          0.8382740863594883,
          0.611839990498949,
          0.8655220626454486,
          0.7603748524936366,
          0.642136464720182,
          0.6962824108262642,
          0.8895320435423182,
          0.9339215608611228,
          0.7658820293523267,
          0.8674882617633153,
          0.8834576312602858,
          0.5021931220800727,
          0.9135576699148636,
          0.7722365384855469,
          0.634403975030137,
          0.6962824108262642,
          0.7338065889561675,
          0.940990114462394,
          0.6568102532253981,
          0.86279052886873,
          0.8108788145837317,
          0.6302888523539912,
          0.913140432739003,
          0.7603748524936366,
          0.634403975030137,
          0.6332952616882191,
          0.8736973834020457,
          0.9469385467561954,
          0.6488817253438702,
          0.7452936075982893,
          0.8382740863594883,
          0.611839990498949,
          0.913140432739003,
          0.7603748524936366,
          0.4883200801776154,
          0.7029151224841691,
          0.8334625845791631,
          0.924125623700176,
          0.6488817253438702,
          0.8575640358001481,
          0.809615398856005,
          0.5713342244699814,
          0.913140432739003,
          0.7603748524936366
         ]
        },
        {
         "box": {
          "visible": true
         },
         "meanline": {
          "visible": true
         },
         "name": "HSR",
         "type": "violin",
         "x": [
          "HSR",
          "HSR",
          "HSR",
          "HSR",
          "HSR",
          "HSR",
          "HSR",
          "HSR",
          "HSR",
          "HSR",
          "HSR",
          "HSR",
          "HSR",
          "HSR",
          "HSR",
          "HSR",
          "HSR",
          "HSR",
          "HSR",
          "HSR",
          "HSR",
          "HSR",
          "HSR",
          "HSR",
          "HSR",
          "HSR",
          "HSR",
          "HSR",
          "HSR",
          "HSR",
          "HSR",
          "HSR",
          "HSR",
          "HSR",
          "HSR",
          "HSR",
          "HSR",
          "HSR",
          "HSR",
          "HSR",
          "HSR",
          "HSR",
          "HSR",
          "HSR",
          "HSR",
          "HSR",
          "HSR",
          "HSR",
          "HSR",
          "HSR",
          "HSR",
          "HSR",
          "HSR",
          "HSR",
          "HSR",
          "HSR",
          "HSR",
          "HSR",
          "HSR",
          "HSR"
         ],
         "y": [
          0.5233845036892619,
          0.3389865219754788,
          0.5001695225019307,
          0.7249041214937543,
          0.2811093369842433,
          0.4854419587544007,
          0.5367497527282338,
          0.1948839054522248,
          0.4862697441251516,
          0.4908371045146591,
          0.5233845036892619,
          0.3389865219754788,
          0.5001695225019307,
          0.7249041214937543,
          0.2811093369842433,
          0.5282489388163387,
          0.5367497527282338,
          0.1948839054522248,
          0.5196822588013019,
          0.4908371045146591,
          0.5166734579007383,
          0.4179427579754123,
          0.5001695225019307,
          0.7249041214937543,
          0.2811093369842433,
          0.4854419587544007,
          0.5367497527282338,
          0.28689814472687,
          0.4862697441251516,
          0.4169260563480397,
          0.5232608697234717,
          0.3389865219754788,
          0.5001695225019307,
          0.7943162237936119,
          0.2839766853986581,
          0.5282489388163387,
          0.5009633408529602,
          0.3133029255254665,
          0.4862697441251516,
          0.4481324047325521,
          0.5233845036892619,
          0.3306751088940688,
          0.5001695225019307,
          0.7249041214937543,
          0.2811093369842433,
          0.4854419587544007,
          0.5367497527282338,
          0.1948839054522248,
          0.5196822588013019,
          0.4908371045146591,
          0.5233845036892619,
          0.3389865219754788,
          0.5001695225019307,
          0.7249041214937543,
          0.2811093369842433,
          0.4854419587544007,
          0.5367497527282338,
          0.1948839054522248,
          0.4862697441251516,
          0.4908371045146591
         ]
        }
       ],
       "layout": {
        "template": {
         "data": {
          "bar": [
           {
            "error_x": {
             "color": "#2a3f5f"
            },
            "error_y": {
             "color": "#2a3f5f"
            },
            "marker": {
             "line": {
              "color": "#E5ECF6",
              "width": 0.5
             },
             "pattern": {
              "fillmode": "overlay",
              "size": 10,
              "solidity": 0.2
             }
            },
            "type": "bar"
           }
          ],
          "barpolar": [
           {
            "marker": {
             "line": {
              "color": "#E5ECF6",
              "width": 0.5
             },
             "pattern": {
              "fillmode": "overlay",
              "size": 10,
              "solidity": 0.2
             }
            },
            "type": "barpolar"
           }
          ],
          "carpet": [
           {
            "aaxis": {
             "endlinecolor": "#2a3f5f",
             "gridcolor": "white",
             "linecolor": "white",
             "minorgridcolor": "white",
             "startlinecolor": "#2a3f5f"
            },
            "baxis": {
             "endlinecolor": "#2a3f5f",
             "gridcolor": "white",
             "linecolor": "white",
             "minorgridcolor": "white",
             "startlinecolor": "#2a3f5f"
            },
            "type": "carpet"
           }
          ],
          "choropleth": [
           {
            "colorbar": {
             "outlinewidth": 0,
             "ticks": ""
            },
            "type": "choropleth"
           }
          ],
          "contour": [
           {
            "colorbar": {
             "outlinewidth": 0,
             "ticks": ""
            },
            "colorscale": [
             [
              0,
              "#0d0887"
             ],
             [
              0.1111111111111111,
              "#46039f"
             ],
             [
              0.2222222222222222,
              "#7201a8"
             ],
             [
              0.3333333333333333,
              "#9c179e"
             ],
             [
              0.4444444444444444,
              "#bd3786"
             ],
             [
              0.5555555555555556,
              "#d8576b"
             ],
             [
              0.6666666666666666,
              "#ed7953"
             ],
             [
              0.7777777777777778,
              "#fb9f3a"
             ],
             [
              0.8888888888888888,
              "#fdca26"
             ],
             [
              1,
              "#f0f921"
             ]
            ],
            "type": "contour"
           }
          ],
          "contourcarpet": [
           {
            "colorbar": {
             "outlinewidth": 0,
             "ticks": ""
            },
            "type": "contourcarpet"
           }
          ],
          "heatmap": [
           {
            "colorbar": {
             "outlinewidth": 0,
             "ticks": ""
            },
            "colorscale": [
             [
              0,
              "#0d0887"
             ],
             [
              0.1111111111111111,
              "#46039f"
             ],
             [
              0.2222222222222222,
              "#7201a8"
             ],
             [
              0.3333333333333333,
              "#9c179e"
             ],
             [
              0.4444444444444444,
              "#bd3786"
             ],
             [
              0.5555555555555556,
              "#d8576b"
             ],
             [
              0.6666666666666666,
              "#ed7953"
             ],
             [
              0.7777777777777778,
              "#fb9f3a"
             ],
             [
              0.8888888888888888,
              "#fdca26"
             ],
             [
              1,
              "#f0f921"
             ]
            ],
            "type": "heatmap"
           }
          ],
          "heatmapgl": [
           {
            "colorbar": {
             "outlinewidth": 0,
             "ticks": ""
            },
            "colorscale": [
             [
              0,
              "#0d0887"
             ],
             [
              0.1111111111111111,
              "#46039f"
             ],
             [
              0.2222222222222222,
              "#7201a8"
             ],
             [
              0.3333333333333333,
              "#9c179e"
             ],
             [
              0.4444444444444444,
              "#bd3786"
             ],
             [
              0.5555555555555556,
              "#d8576b"
             ],
             [
              0.6666666666666666,
              "#ed7953"
             ],
             [
              0.7777777777777778,
              "#fb9f3a"
             ],
             [
              0.8888888888888888,
              "#fdca26"
             ],
             [
              1,
              "#f0f921"
             ]
            ],
            "type": "heatmapgl"
           }
          ],
          "histogram": [
           {
            "marker": {
             "pattern": {
              "fillmode": "overlay",
              "size": 10,
              "solidity": 0.2
             }
            },
            "type": "histogram"
           }
          ],
          "histogram2d": [
           {
            "colorbar": {
             "outlinewidth": 0,
             "ticks": ""
            },
            "colorscale": [
             [
              0,
              "#0d0887"
             ],
             [
              0.1111111111111111,
              "#46039f"
             ],
             [
              0.2222222222222222,
              "#7201a8"
             ],
             [
              0.3333333333333333,
              "#9c179e"
             ],
             [
              0.4444444444444444,
              "#bd3786"
             ],
             [
              0.5555555555555556,
              "#d8576b"
             ],
             [
              0.6666666666666666,
              "#ed7953"
             ],
             [
              0.7777777777777778,
              "#fb9f3a"
             ],
             [
              0.8888888888888888,
              "#fdca26"
             ],
             [
              1,
              "#f0f921"
             ]
            ],
            "type": "histogram2d"
           }
          ],
          "histogram2dcontour": [
           {
            "colorbar": {
             "outlinewidth": 0,
             "ticks": ""
            },
            "colorscale": [
             [
              0,
              "#0d0887"
             ],
             [
              0.1111111111111111,
              "#46039f"
             ],
             [
              0.2222222222222222,
              "#7201a8"
             ],
             [
              0.3333333333333333,
              "#9c179e"
             ],
             [
              0.4444444444444444,
              "#bd3786"
             ],
             [
              0.5555555555555556,
              "#d8576b"
             ],
             [
              0.6666666666666666,
              "#ed7953"
             ],
             [
              0.7777777777777778,
              "#fb9f3a"
             ],
             [
              0.8888888888888888,
              "#fdca26"
             ],
             [
              1,
              "#f0f921"
             ]
            ],
            "type": "histogram2dcontour"
           }
          ],
          "mesh3d": [
           {
            "colorbar": {
             "outlinewidth": 0,
             "ticks": ""
            },
            "type": "mesh3d"
           }
          ],
          "parcoords": [
           {
            "line": {
             "colorbar": {
              "outlinewidth": 0,
              "ticks": ""
             }
            },
            "type": "parcoords"
           }
          ],
          "pie": [
           {
            "automargin": true,
            "type": "pie"
           }
          ],
          "scatter": [
           {
            "fillpattern": {
             "fillmode": "overlay",
             "size": 10,
             "solidity": 0.2
            },
            "type": "scatter"
           }
          ],
          "scatter3d": [
           {
            "line": {
             "colorbar": {
              "outlinewidth": 0,
              "ticks": ""
             }
            },
            "marker": {
             "colorbar": {
              "outlinewidth": 0,
              "ticks": ""
             }
            },
            "type": "scatter3d"
           }
          ],
          "scattercarpet": [
           {
            "marker": {
             "colorbar": {
              "outlinewidth": 0,
              "ticks": ""
             }
            },
            "type": "scattercarpet"
           }
          ],
          "scattergeo": [
           {
            "marker": {
             "colorbar": {
              "outlinewidth": 0,
              "ticks": ""
             }
            },
            "type": "scattergeo"
           }
          ],
          "scattergl": [
           {
            "marker": {
             "colorbar": {
              "outlinewidth": 0,
              "ticks": ""
             }
            },
            "type": "scattergl"
           }
          ],
          "scattermapbox": [
           {
            "marker": {
             "colorbar": {
              "outlinewidth": 0,
              "ticks": ""
             }
            },
            "type": "scattermapbox"
           }
          ],
          "scatterpolar": [
           {
            "marker": {
             "colorbar": {
              "outlinewidth": 0,
              "ticks": ""
             }
            },
            "type": "scatterpolar"
           }
          ],
          "scatterpolargl": [
           {
            "marker": {
             "colorbar": {
              "outlinewidth": 0,
              "ticks": ""
             }
            },
            "type": "scatterpolargl"
           }
          ],
          "scatterternary": [
           {
            "marker": {
             "colorbar": {
              "outlinewidth": 0,
              "ticks": ""
             }
            },
            "type": "scatterternary"
           }
          ],
          "surface": [
           {
            "colorbar": {
             "outlinewidth": 0,
             "ticks": ""
            },
            "colorscale": [
             [
              0,
              "#0d0887"
             ],
             [
              0.1111111111111111,
              "#46039f"
             ],
             [
              0.2222222222222222,
              "#7201a8"
             ],
             [
              0.3333333333333333,
              "#9c179e"
             ],
             [
              0.4444444444444444,
              "#bd3786"
             ],
             [
              0.5555555555555556,
              "#d8576b"
             ],
             [
              0.6666666666666666,
              "#ed7953"
             ],
             [
              0.7777777777777778,
              "#fb9f3a"
             ],
             [
              0.8888888888888888,
              "#fdca26"
             ],
             [
              1,
              "#f0f921"
             ]
            ],
            "type": "surface"
           }
          ],
          "table": [
           {
            "cells": {
             "fill": {
              "color": "#EBF0F8"
             },
             "line": {
              "color": "white"
             }
            },
            "header": {
             "fill": {
              "color": "#C8D4E3"
             },
             "line": {
              "color": "white"
             }
            },
            "type": "table"
           }
          ]
         },
         "layout": {
          "annotationdefaults": {
           "arrowcolor": "#2a3f5f",
           "arrowhead": 0,
           "arrowwidth": 1
          },
          "autotypenumbers": "strict",
          "coloraxis": {
           "colorbar": {
            "outlinewidth": 0,
            "ticks": ""
           }
          },
          "colorscale": {
           "diverging": [
            [
             0,
             "#8e0152"
            ],
            [
             0.1,
             "#c51b7d"
            ],
            [
             0.2,
             "#de77ae"
            ],
            [
             0.3,
             "#f1b6da"
            ],
            [
             0.4,
             "#fde0ef"
            ],
            [
             0.5,
             "#f7f7f7"
            ],
            [
             0.6,
             "#e6f5d0"
            ],
            [
             0.7,
             "#b8e186"
            ],
            [
             0.8,
             "#7fbc41"
            ],
            [
             0.9,
             "#4d9221"
            ],
            [
             1,
             "#276419"
            ]
           ],
           "sequential": [
            [
             0,
             "#0d0887"
            ],
            [
             0.1111111111111111,
             "#46039f"
            ],
            [
             0.2222222222222222,
             "#7201a8"
            ],
            [
             0.3333333333333333,
             "#9c179e"
            ],
            [
             0.4444444444444444,
             "#bd3786"
            ],
            [
             0.5555555555555556,
             "#d8576b"
            ],
            [
             0.6666666666666666,
             "#ed7953"
            ],
            [
             0.7777777777777778,
             "#fb9f3a"
            ],
            [
             0.8888888888888888,
             "#fdca26"
            ],
            [
             1,
             "#f0f921"
            ]
           ],
           "sequentialminus": [
            [
             0,
             "#0d0887"
            ],
            [
             0.1111111111111111,
             "#46039f"
            ],
            [
             0.2222222222222222,
             "#7201a8"
            ],
            [
             0.3333333333333333,
             "#9c179e"
            ],
            [
             0.4444444444444444,
             "#bd3786"
            ],
            [
             0.5555555555555556,
             "#d8576b"
            ],
            [
             0.6666666666666666,
             "#ed7953"
            ],
            [
             0.7777777777777778,
             "#fb9f3a"
            ],
            [
             0.8888888888888888,
             "#fdca26"
            ],
            [
             1,
             "#f0f921"
            ]
           ]
          },
          "colorway": [
           "#636efa",
           "#EF553B",
           "#00cc96",
           "#ab63fa",
           "#FFA15A",
           "#19d3f3",
           "#FF6692",
           "#B6E880",
           "#FF97FF",
           "#FECB52"
          ],
          "font": {
           "color": "#2a3f5f"
          },
          "geo": {
           "bgcolor": "white",
           "lakecolor": "white",
           "landcolor": "#E5ECF6",
           "showlakes": true,
           "showland": true,
           "subunitcolor": "white"
          },
          "hoverlabel": {
           "align": "left"
          },
          "hovermode": "closest",
          "mapbox": {
           "style": "light"
          },
          "paper_bgcolor": "white",
          "plot_bgcolor": "#E5ECF6",
          "polar": {
           "angularaxis": {
            "gridcolor": "white",
            "linecolor": "white",
            "ticks": ""
           },
           "bgcolor": "#E5ECF6",
           "radialaxis": {
            "gridcolor": "white",
            "linecolor": "white",
            "ticks": ""
           }
          },
          "scene": {
           "xaxis": {
            "backgroundcolor": "#E5ECF6",
            "gridcolor": "white",
            "gridwidth": 2,
            "linecolor": "white",
            "showbackground": true,
            "ticks": "",
            "zerolinecolor": "white"
           },
           "yaxis": {
            "backgroundcolor": "#E5ECF6",
            "gridcolor": "white",
            "gridwidth": 2,
            "linecolor": "white",
            "showbackground": true,
            "ticks": "",
            "zerolinecolor": "white"
           },
           "zaxis": {
            "backgroundcolor": "#E5ECF6",
            "gridcolor": "white",
            "gridwidth": 2,
            "linecolor": "white",
            "showbackground": true,
            "ticks": "",
            "zerolinecolor": "white"
           }
          },
          "shapedefaults": {
           "line": {
            "color": "#2a3f5f"
           }
          },
          "ternary": {
           "aaxis": {
            "gridcolor": "white",
            "linecolor": "white",
            "ticks": ""
           },
           "baxis": {
            "gridcolor": "white",
            "linecolor": "white",
            "ticks": ""
           },
           "bgcolor": "#E5ECF6",
           "caxis": {
            "gridcolor": "white",
            "linecolor": "white",
            "ticks": ""
           }
          },
          "title": {
           "x": 0.05
          },
          "xaxis": {
           "automargin": true,
           "gridcolor": "white",
           "linecolor": "white",
           "ticks": "",
           "title": {
            "standoff": 15
           },
           "zerolinecolor": "white",
           "zerolinewidth": 2
          },
          "yaxis": {
           "automargin": true,
           "gridcolor": "white",
           "linecolor": "white",
           "ticks": "",
           "title": {
            "standoff": 15
           },
           "zerolinecolor": "white",
           "zerolinewidth": 2
          }
         }
        }
       }
      }
     },
     "metadata": {},
     "output_type": "display_data"
    }
   ],
   "source": [
    "import plotly.graph_objects as go\n",
    "\n",
    "import pandas as pd\n",
    "\n",
    "#df = pd.read_csv(\"https://raw.githubusercontent.com/plotly/datasets/master/violin_data.csv\")\n",
    "\n",
    "fig = go.Figure()\n",
    "\n",
    "#days = ['Thur', 'Fri', 'Sat', 'Sun']\n",
    "\n",
    "for met in names:\n",
    "    fig.add_trace(go.Violin(x=ects['Algorithm'][ects['Algorithm'] == met],\n",
    "                            y=ects['Value'][ects['Algorithm'] == met],\n",
    "                            name=met,\n",
    "                            box_visible=True,\n",
    "                            meanline_visible=True))\n",
    "\n",
    "fig.show()"
   ]
  },
  {
   "cell_type": "code",
   "execution_count": 70,
   "metadata": {},
   "outputs": [
    {
     "data": {
      "application/vnd.plotly.v1+json": {
       "config": {
        "plotlyServerURL": "https://plot.ly"
       },
       "data": [
        {
         "box": {
          "visible": true
         },
         "meanline": {
          "visible": true
         },
         "name": "HD",
         "type": "violin",
         "x": [
          "HD",
          "HD",
          "HD",
          "HD",
          "HD",
          "HD",
          "HD",
          "HD",
          "HD",
          "HD",
          "HD",
          "HD",
          "HD",
          "HD",
          "HD",
          "HD",
          "HD",
          "HD",
          "HD",
          "HD",
          "HD",
          "HD",
          "HD",
          "HD",
          "HD",
          "HD",
          "HD",
          "HD",
          "HD",
          "HD",
          "HD",
          "HD",
          "HD",
          "HD",
          "HD",
          "HD",
          "HD",
          "HD",
          "HD",
          "HD",
          "HD",
          "HD",
          "HD",
          "HD",
          "HD",
          "HD",
          "HD",
          "HD",
          "HD",
          "HD",
          "HD",
          "HD",
          "HD",
          "HD",
          "HD",
          "HD",
          "HD",
          "HD",
          "HD",
          "HD"
         ],
         "y": [
          0.0125092261449608,
          0.030001571604088,
          0.0113655924503345,
          0.0107581886431462,
          0.0141667204809579,
          0.020274902605424,
          0.0327919131802767,
          0.0448833611585947,
          0.0171176389701399,
          0.0384595884023906,
          0.013370610721684,
          0.0277380048830518,
          0.0116298816737067,
          0.0101084101910782,
          0.0158809847495908,
          0.0206318447572279,
          0.0337358186024459,
          0.0538197490121997,
          0.0186677301845963,
          0.0393762438165972,
          0.0135145450099932,
          0.027320348318135,
          0.0121618299476678,
          0.0107016303639948,
          0.0146846087888105,
          0.0227938820688788,
          0.0314521413998346,
          0.0437417302113958,
          0.0188872948158772,
          0.0395913646361668,
          0.0134980173781108,
          0.0254005660141583,
          0.0147576712801853,
          0.0099283777294953,
          0.01274060186517,
          0.0174600610821442,
          0.0355576289115336,
          0.0469481515509885,
          0.0177266695720304,
          0.0398870653458684,
          0.0135605425312401,
          0.0285246764139943,
          0.0095102768450096,
          0.0113477429181445,
          0.0156624631233126,
          0.0195053447676802,
          0.0346876454153014,
          0.0408110076921428,
          0.0263865987959064,
          0.0410045261412073,
          0.0113865290941756,
          0.0318793090397886,
          0.0109672631666115,
          0.0086038069256613,
          0.0152595678912272,
          0.0241093366042932,
          0.0364595925435897,
          0.0440143082994406,
          0.0180949230611051,
          0.0395171372968528
         ]
        },
        {
         "box": {
          "visible": true
         },
         "meanline": {
          "visible": true
         },
         "name": "DHD",
         "type": "violin",
         "x": [
          "DHD",
          "DHD",
          "DHD",
          "DHD",
          "DHD",
          "DHD",
          "DHD",
          "DHD",
          "DHD",
          "DHD",
          "DHD",
          "DHD",
          "DHD",
          "DHD",
          "DHD",
          "DHD",
          "DHD",
          "DHD",
          "DHD",
          "DHD",
          "DHD",
          "DHD",
          "DHD",
          "DHD",
          "DHD",
          "DHD",
          "DHD",
          "DHD",
          "DHD",
          "DHD",
          "DHD",
          "DHD",
          "DHD",
          "DHD",
          "DHD",
          "DHD",
          "DHD",
          "DHD",
          "DHD",
          "DHD",
          "DHD",
          "DHD",
          "DHD",
          "DHD",
          "DHD",
          "DHD",
          "DHD",
          "DHD",
          "DHD",
          "DHD",
          "DHD",
          "DHD",
          "DHD",
          "DHD",
          "DHD",
          "DHD",
          "DHD",
          "DHD",
          "DHD",
          "DHD"
         ],
         "y": [
          0.0846671709023912,
          0.1035433589172981,
          0.0776096654003835,
          0.0530869378444222,
          0.0939978903694133,
          0.1035621718172753,
          0.1119799930364507,
          0.1432378565379197,
          0.0702535184424148,
          0.0771446680903968,
          0.0892656019009199,
          0.1130230689624265,
          0.093240572851609,
          0.0682772749916415,
          0.092086331692539,
          0.0654891405220881,
          0.1166990793440818,
          0.1376855942057988,
          0.0759272937188281,
          0.0792901229458519,
          0.0857233248799215,
          0.1045733286584917,
          0.1044396951581854,
          0.0465101315038245,
          0.0901385451949472,
          0.0934031948270228,
          0.1144920735432249,
          0.1213852074699444,
          0.0814025667412874,
          0.0897632104589621,
          0.0901346818742088,
          0.0893262912100727,
          0.1105960231396058,
          0.0451199722503253,
          0.0828649852076771,
          0.0921121274280316,
          0.0964162905069178,
          0.1248784473881355,
          0.0578824610104446,
          0.0869881130727956,
          0.1075832301105155,
          0.0936357245803953,
          0.0907442874076893,
          0.0498723995185403,
          0.0943329410598985,
          0.1246725950091845,
          0.1142507967202047,
          0.1462976227526462,
          0.0732715326917044,
          0.091023795174392,
          0.0873228201586516,
          0.1091034689777825,
          0.0890764255121358,
          0.0473844367358383,
          0.1036592926134376,
          0.0876508279858927,
          0.1116753165159749,
          0.1395250789069025,
          0.0796279412550186,
          0.0890580536571683
         ]
        },
        {
         "box": {
          "visible": true
         },
         "meanline": {
          "visible": true
         },
         "name": "RAN",
         "type": "violin",
         "x": [
          "RAN",
          "RAN",
          "RAN",
          "RAN",
          "RAN",
          "RAN",
          "RAN",
          "RAN",
          "RAN",
          "RAN",
          "RAN",
          "RAN",
          "RAN",
          "RAN",
          "RAN",
          "RAN",
          "RAN",
          "RAN",
          "RAN",
          "RAN",
          "RAN",
          "RAN",
          "RAN",
          "RAN",
          "RAN",
          "RAN",
          "RAN",
          "RAN",
          "RAN",
          "RAN",
          "RAN",
          "RAN",
          "RAN",
          "RAN",
          "RAN",
          "RAN",
          "RAN",
          "RAN",
          "RAN",
          "RAN",
          "RAN",
          "RAN",
          "RAN",
          "RAN",
          "RAN",
          "RAN",
          "RAN",
          "RAN",
          "RAN",
          "RAN",
          "RAN",
          "RAN",
          "RAN",
          "RAN",
          "RAN",
          "RAN",
          "RAN",
          "RAN",
          "RAN",
          "RAN"
         ],
         "y": [
          0.0654060526313008,
          0.0129479998658613,
          0.0159104711459123,
          0.0123555012531882,
          0.0227252244331433,
          0.0128167393219861,
          0.0208159773662345,
          0.0240140740385223,
          0.0139370251969113,
          0.0225376252679309,
          0.0654060526313008,
          0.0132674524821267,
          0.0186348022943518,
          0.0123555012531882,
          0.0289083845550223,
          0.0125978438564118,
          0.0226824191679501,
          0.0228070381454961,
          0.0119705415731273,
          0.0210732158463122,
          0.0613624886611031,
          0.0134665809622097,
          0.0186348022943518,
          0.0093520774799035,
          0.02785199084733,
          0.0122175496493877,
          0.02070149113251,
          0.023538918643554,
          0.0142631842497607,
          0.0243703214013086,
          0.0595275756276621,
          0.0134665809622097,
          0.01504286864225,
          0.0089321907292469,
          0.0233823917960128,
          0.0113606032596184,
          0.0208159773662345,
          0.024935776118872,
          0.0113814399463605,
          0.0210732158463122,
          0.0595275756276621,
          0.0128915845565888,
          0.0170975022488873,
          0.0112561608134012,
          0.0230801932348956,
          0.0125978438564118,
          0.0226824191679501,
          0.0228070381454961,
          0.0113814399463605,
          0.0210732158463122,
          0.0653062447933146,
          0.0129479998658613,
          0.0159104711459123,
          0.0127700975993243,
          0.0230801932348956,
          0.0128167393219861,
          0.0216862317467849,
          0.022570997079559,
          0.0113814399463605,
          0.0210732158463122
         ]
        },
        {
         "box": {
          "visible": true
         },
         "meanline": {
          "visible": true
         },
         "name": "HSR",
         "type": "violin",
         "x": [
          "HSR",
          "HSR",
          "HSR",
          "HSR",
          "HSR",
          "HSR",
          "HSR",
          "HSR",
          "HSR",
          "HSR",
          "HSR",
          "HSR",
          "HSR",
          "HSR",
          "HSR",
          "HSR",
          "HSR",
          "HSR",
          "HSR",
          "HSR",
          "HSR",
          "HSR",
          "HSR",
          "HSR",
          "HSR",
          "HSR",
          "HSR",
          "HSR",
          "HSR",
          "HSR",
          "HSR",
          "HSR",
          "HSR",
          "HSR",
          "HSR",
          "HSR",
          "HSR",
          "HSR",
          "HSR",
          "HSR",
          "HSR",
          "HSR",
          "HSR",
          "HSR",
          "HSR",
          "HSR",
          "HSR",
          "HSR",
          "HSR",
          "HSR",
          "HSR",
          "HSR",
          "HSR",
          "HSR",
          "HSR",
          "HSR",
          "HSR",
          "HSR",
          "HSR",
          "HSR"
         ],
         "y": [
          0.0462411914773618,
          0.0660702575782875,
          0.0352332138183843,
          0.0217028637971535,
          0.0408020201435308,
          0.0600746604222139,
          0.0582199428221097,
          0.0656048825007912,
          0.0939289051277743,
          0.0588067121644913,
          0.0491292022746676,
          0.0701257579892905,
          0.0320923760111882,
          0.0216968201763175,
          0.0487022066818865,
          0.0916402212265958,
          0.0520281678593958,
          0.061540157342456,
          0.0778983941090425,
          0.0665091307037393,
          0.1275329505266199,
          0.1723134654331087,
          0.0312810703503579,
          0.0234726614601763,
          0.0425388067339264,
          0.0485109651117006,
          0.0600070085851701,
          0.2109264186636613,
          0.0817712101661766,
          0.0977349275924253,
          0.1450589835344156,
          0.0735758117004128,
          0.0460913772587749,
          0.1621798948962046,
          0.195345736870491,
          0.0741082048598588,
          0.1400336899217459,
          0.2445289995555141,
          0.0929030160124756,
          0.2154588616011401,
          0.0536710338870587,
          0.0985013953949181,
          0.0388341926083564,
          0.0243323030528585,
          0.0435747832178283,
          0.0405328938961419,
          0.0607554120783339,
          0.0658711286918701,
          0.0770937120796697,
          0.0648337833095108,
          0.0618896324422175,
          0.0619330403237419,
          0.0427952574982389,
          0.0197576305017287,
          0.0445263222200622,
          0.056859538759727,
          0.0505719465500865,
          0.0741776947759155,
          0.0929639531790887,
          0.0680230469175837
         ]
        }
       ],
       "layout": {
        "template": {
         "data": {
          "bar": [
           {
            "error_x": {
             "color": "#2a3f5f"
            },
            "error_y": {
             "color": "#2a3f5f"
            },
            "marker": {
             "line": {
              "color": "#E5ECF6",
              "width": 0.5
             },
             "pattern": {
              "fillmode": "overlay",
              "size": 10,
              "solidity": 0.2
             }
            },
            "type": "bar"
           }
          ],
          "barpolar": [
           {
            "marker": {
             "line": {
              "color": "#E5ECF6",
              "width": 0.5
             },
             "pattern": {
              "fillmode": "overlay",
              "size": 10,
              "solidity": 0.2
             }
            },
            "type": "barpolar"
           }
          ],
          "carpet": [
           {
            "aaxis": {
             "endlinecolor": "#2a3f5f",
             "gridcolor": "white",
             "linecolor": "white",
             "minorgridcolor": "white",
             "startlinecolor": "#2a3f5f"
            },
            "baxis": {
             "endlinecolor": "#2a3f5f",
             "gridcolor": "white",
             "linecolor": "white",
             "minorgridcolor": "white",
             "startlinecolor": "#2a3f5f"
            },
            "type": "carpet"
           }
          ],
          "choropleth": [
           {
            "colorbar": {
             "outlinewidth": 0,
             "ticks": ""
            },
            "type": "choropleth"
           }
          ],
          "contour": [
           {
            "colorbar": {
             "outlinewidth": 0,
             "ticks": ""
            },
            "colorscale": [
             [
              0,
              "#0d0887"
             ],
             [
              0.1111111111111111,
              "#46039f"
             ],
             [
              0.2222222222222222,
              "#7201a8"
             ],
             [
              0.3333333333333333,
              "#9c179e"
             ],
             [
              0.4444444444444444,
              "#bd3786"
             ],
             [
              0.5555555555555556,
              "#d8576b"
             ],
             [
              0.6666666666666666,
              "#ed7953"
             ],
             [
              0.7777777777777778,
              "#fb9f3a"
             ],
             [
              0.8888888888888888,
              "#fdca26"
             ],
             [
              1,
              "#f0f921"
             ]
            ],
            "type": "contour"
           }
          ],
          "contourcarpet": [
           {
            "colorbar": {
             "outlinewidth": 0,
             "ticks": ""
            },
            "type": "contourcarpet"
           }
          ],
          "heatmap": [
           {
            "colorbar": {
             "outlinewidth": 0,
             "ticks": ""
            },
            "colorscale": [
             [
              0,
              "#0d0887"
             ],
             [
              0.1111111111111111,
              "#46039f"
             ],
             [
              0.2222222222222222,
              "#7201a8"
             ],
             [
              0.3333333333333333,
              "#9c179e"
             ],
             [
              0.4444444444444444,
              "#bd3786"
             ],
             [
              0.5555555555555556,
              "#d8576b"
             ],
             [
              0.6666666666666666,
              "#ed7953"
             ],
             [
              0.7777777777777778,
              "#fb9f3a"
             ],
             [
              0.8888888888888888,
              "#fdca26"
             ],
             [
              1,
              "#f0f921"
             ]
            ],
            "type": "heatmap"
           }
          ],
          "heatmapgl": [
           {
            "colorbar": {
             "outlinewidth": 0,
             "ticks": ""
            },
            "colorscale": [
             [
              0,
              "#0d0887"
             ],
             [
              0.1111111111111111,
              "#46039f"
             ],
             [
              0.2222222222222222,
              "#7201a8"
             ],
             [
              0.3333333333333333,
              "#9c179e"
             ],
             [
              0.4444444444444444,
              "#bd3786"
             ],
             [
              0.5555555555555556,
              "#d8576b"
             ],
             [
              0.6666666666666666,
              "#ed7953"
             ],
             [
              0.7777777777777778,
              "#fb9f3a"
             ],
             [
              0.8888888888888888,
              "#fdca26"
             ],
             [
              1,
              "#f0f921"
             ]
            ],
            "type": "heatmapgl"
           }
          ],
          "histogram": [
           {
            "marker": {
             "pattern": {
              "fillmode": "overlay",
              "size": 10,
              "solidity": 0.2
             }
            },
            "type": "histogram"
           }
          ],
          "histogram2d": [
           {
            "colorbar": {
             "outlinewidth": 0,
             "ticks": ""
            },
            "colorscale": [
             [
              0,
              "#0d0887"
             ],
             [
              0.1111111111111111,
              "#46039f"
             ],
             [
              0.2222222222222222,
              "#7201a8"
             ],
             [
              0.3333333333333333,
              "#9c179e"
             ],
             [
              0.4444444444444444,
              "#bd3786"
             ],
             [
              0.5555555555555556,
              "#d8576b"
             ],
             [
              0.6666666666666666,
              "#ed7953"
             ],
             [
              0.7777777777777778,
              "#fb9f3a"
             ],
             [
              0.8888888888888888,
              "#fdca26"
             ],
             [
              1,
              "#f0f921"
             ]
            ],
            "type": "histogram2d"
           }
          ],
          "histogram2dcontour": [
           {
            "colorbar": {
             "outlinewidth": 0,
             "ticks": ""
            },
            "colorscale": [
             [
              0,
              "#0d0887"
             ],
             [
              0.1111111111111111,
              "#46039f"
             ],
             [
              0.2222222222222222,
              "#7201a8"
             ],
             [
              0.3333333333333333,
              "#9c179e"
             ],
             [
              0.4444444444444444,
              "#bd3786"
             ],
             [
              0.5555555555555556,
              "#d8576b"
             ],
             [
              0.6666666666666666,
              "#ed7953"
             ],
             [
              0.7777777777777778,
              "#fb9f3a"
             ],
             [
              0.8888888888888888,
              "#fdca26"
             ],
             [
              1,
              "#f0f921"
             ]
            ],
            "type": "histogram2dcontour"
           }
          ],
          "mesh3d": [
           {
            "colorbar": {
             "outlinewidth": 0,
             "ticks": ""
            },
            "type": "mesh3d"
           }
          ],
          "parcoords": [
           {
            "line": {
             "colorbar": {
              "outlinewidth": 0,
              "ticks": ""
             }
            },
            "type": "parcoords"
           }
          ],
          "pie": [
           {
            "automargin": true,
            "type": "pie"
           }
          ],
          "scatter": [
           {
            "fillpattern": {
             "fillmode": "overlay",
             "size": 10,
             "solidity": 0.2
            },
            "type": "scatter"
           }
          ],
          "scatter3d": [
           {
            "line": {
             "colorbar": {
              "outlinewidth": 0,
              "ticks": ""
             }
            },
            "marker": {
             "colorbar": {
              "outlinewidth": 0,
              "ticks": ""
             }
            },
            "type": "scatter3d"
           }
          ],
          "scattercarpet": [
           {
            "marker": {
             "colorbar": {
              "outlinewidth": 0,
              "ticks": ""
             }
            },
            "type": "scattercarpet"
           }
          ],
          "scattergeo": [
           {
            "marker": {
             "colorbar": {
              "outlinewidth": 0,
              "ticks": ""
             }
            },
            "type": "scattergeo"
           }
          ],
          "scattergl": [
           {
            "marker": {
             "colorbar": {
              "outlinewidth": 0,
              "ticks": ""
             }
            },
            "type": "scattergl"
           }
          ],
          "scattermapbox": [
           {
            "marker": {
             "colorbar": {
              "outlinewidth": 0,
              "ticks": ""
             }
            },
            "type": "scattermapbox"
           }
          ],
          "scatterpolar": [
           {
            "marker": {
             "colorbar": {
              "outlinewidth": 0,
              "ticks": ""
             }
            },
            "type": "scatterpolar"
           }
          ],
          "scatterpolargl": [
           {
            "marker": {
             "colorbar": {
              "outlinewidth": 0,
              "ticks": ""
             }
            },
            "type": "scatterpolargl"
           }
          ],
          "scatterternary": [
           {
            "marker": {
             "colorbar": {
              "outlinewidth": 0,
              "ticks": ""
             }
            },
            "type": "scatterternary"
           }
          ],
          "surface": [
           {
            "colorbar": {
             "outlinewidth": 0,
             "ticks": ""
            },
            "colorscale": [
             [
              0,
              "#0d0887"
             ],
             [
              0.1111111111111111,
              "#46039f"
             ],
             [
              0.2222222222222222,
              "#7201a8"
             ],
             [
              0.3333333333333333,
              "#9c179e"
             ],
             [
              0.4444444444444444,
              "#bd3786"
             ],
             [
              0.5555555555555556,
              "#d8576b"
             ],
             [
              0.6666666666666666,
              "#ed7953"
             ],
             [
              0.7777777777777778,
              "#fb9f3a"
             ],
             [
              0.8888888888888888,
              "#fdca26"
             ],
             [
              1,
              "#f0f921"
             ]
            ],
            "type": "surface"
           }
          ],
          "table": [
           {
            "cells": {
             "fill": {
              "color": "#EBF0F8"
             },
             "line": {
              "color": "white"
             }
            },
            "header": {
             "fill": {
              "color": "#C8D4E3"
             },
             "line": {
              "color": "white"
             }
            },
            "type": "table"
           }
          ]
         },
         "layout": {
          "annotationdefaults": {
           "arrowcolor": "#2a3f5f",
           "arrowhead": 0,
           "arrowwidth": 1
          },
          "autotypenumbers": "strict",
          "coloraxis": {
           "colorbar": {
            "outlinewidth": 0,
            "ticks": ""
           }
          },
          "colorscale": {
           "diverging": [
            [
             0,
             "#8e0152"
            ],
            [
             0.1,
             "#c51b7d"
            ],
            [
             0.2,
             "#de77ae"
            ],
            [
             0.3,
             "#f1b6da"
            ],
            [
             0.4,
             "#fde0ef"
            ],
            [
             0.5,
             "#f7f7f7"
            ],
            [
             0.6,
             "#e6f5d0"
            ],
            [
             0.7,
             "#b8e186"
            ],
            [
             0.8,
             "#7fbc41"
            ],
            [
             0.9,
             "#4d9221"
            ],
            [
             1,
             "#276419"
            ]
           ],
           "sequential": [
            [
             0,
             "#0d0887"
            ],
            [
             0.1111111111111111,
             "#46039f"
            ],
            [
             0.2222222222222222,
             "#7201a8"
            ],
            [
             0.3333333333333333,
             "#9c179e"
            ],
            [
             0.4444444444444444,
             "#bd3786"
            ],
            [
             0.5555555555555556,
             "#d8576b"
            ],
            [
             0.6666666666666666,
             "#ed7953"
            ],
            [
             0.7777777777777778,
             "#fb9f3a"
            ],
            [
             0.8888888888888888,
             "#fdca26"
            ],
            [
             1,
             "#f0f921"
            ]
           ],
           "sequentialminus": [
            [
             0,
             "#0d0887"
            ],
            [
             0.1111111111111111,
             "#46039f"
            ],
            [
             0.2222222222222222,
             "#7201a8"
            ],
            [
             0.3333333333333333,
             "#9c179e"
            ],
            [
             0.4444444444444444,
             "#bd3786"
            ],
            [
             0.5555555555555556,
             "#d8576b"
            ],
            [
             0.6666666666666666,
             "#ed7953"
            ],
            [
             0.7777777777777778,
             "#fb9f3a"
            ],
            [
             0.8888888888888888,
             "#fdca26"
            ],
            [
             1,
             "#f0f921"
            ]
           ]
          },
          "colorway": [
           "#636efa",
           "#EF553B",
           "#00cc96",
           "#ab63fa",
           "#FFA15A",
           "#19d3f3",
           "#FF6692",
           "#B6E880",
           "#FF97FF",
           "#FECB52"
          ],
          "font": {
           "color": "#2a3f5f"
          },
          "geo": {
           "bgcolor": "white",
           "lakecolor": "white",
           "landcolor": "#E5ECF6",
           "showlakes": true,
           "showland": true,
           "subunitcolor": "white"
          },
          "hoverlabel": {
           "align": "left"
          },
          "hovermode": "closest",
          "mapbox": {
           "style": "light"
          },
          "paper_bgcolor": "white",
          "plot_bgcolor": "#E5ECF6",
          "polar": {
           "angularaxis": {
            "gridcolor": "white",
            "linecolor": "white",
            "ticks": ""
           },
           "bgcolor": "#E5ECF6",
           "radialaxis": {
            "gridcolor": "white",
            "linecolor": "white",
            "ticks": ""
           }
          },
          "scene": {
           "xaxis": {
            "backgroundcolor": "#E5ECF6",
            "gridcolor": "white",
            "gridwidth": 2,
            "linecolor": "white",
            "showbackground": true,
            "ticks": "",
            "zerolinecolor": "white"
           },
           "yaxis": {
            "backgroundcolor": "#E5ECF6",
            "gridcolor": "white",
            "gridwidth": 2,
            "linecolor": "white",
            "showbackground": true,
            "ticks": "",
            "zerolinecolor": "white"
           },
           "zaxis": {
            "backgroundcolor": "#E5ECF6",
            "gridcolor": "white",
            "gridwidth": 2,
            "linecolor": "white",
            "showbackground": true,
            "ticks": "",
            "zerolinecolor": "white"
           }
          },
          "shapedefaults": {
           "line": {
            "color": "#2a3f5f"
           }
          },
          "ternary": {
           "aaxis": {
            "gridcolor": "white",
            "linecolor": "white",
            "ticks": ""
           },
           "baxis": {
            "gridcolor": "white",
            "linecolor": "white",
            "ticks": ""
           },
           "bgcolor": "#E5ECF6",
           "caxis": {
            "gridcolor": "white",
            "linecolor": "white",
            "ticks": ""
           }
          },
          "title": {
           "x": 0.05
          },
          "xaxis": {
           "automargin": true,
           "gridcolor": "white",
           "linecolor": "white",
           "ticks": "",
           "title": {
            "standoff": 15
           },
           "zerolinecolor": "white",
           "zerolinewidth": 2
          },
          "yaxis": {
           "automargin": true,
           "gridcolor": "white",
           "linecolor": "white",
           "ticks": "",
           "title": {
            "standoff": 15
           },
           "zerolinecolor": "white",
           "zerolinewidth": 2
          }
         }
        }
       }
      }
     },
     "metadata": {},
     "output_type": "display_data"
    }
   ],
   "source": [
    "import plotly.graph_objects as go\n",
    "\n",
    "import pandas as pd\n",
    "\n",
    "#df = pd.read_csv(\"https://raw.githubusercontent.com/plotly/datasets/master/violin_data.csv\")\n",
    "\n",
    "fig = go.Figure()\n",
    "\n",
    "#days = ['Thur', 'Fri', 'Sat', 'Sun']\n",
    "\n",
    "for met in names:\n",
    "    fig.add_trace(go.Violin(x=rnsbs['Algorithm'][rnsbs['Algorithm'] == met],\n",
    "                            y=rnsbs['Value'][rnsbs['Algorithm'] == met],\n",
    "                            name=met,\n",
    "                            box_visible=True,\n",
    "                            meanline_visible=True))\n",
    "\n",
    "fig.show()"
   ]
  },
  {
   "cell_type": "code",
   "execution_count": 71,
   "metadata": {},
   "outputs": [
    {
     "data": {
      "application/vnd.plotly.v1+json": {
       "config": {
        "plotlyServerURL": "https://plot.ly"
       },
       "data": [
        {
         "box": {
          "visible": true
         },
         "meanline": {
          "visible": true
         },
         "name": "HD",
         "type": "violin",
         "x": [
          "HD",
          "HD",
          "HD",
          "HD",
          "HD",
          "HD",
          "HD",
          "HD",
          "HD",
          "HD",
          "HD",
          "HD",
          "HD",
          "HD",
          "HD",
          "HD",
          "HD",
          "HD",
          "HD",
          "HD",
          "HD",
          "HD",
          "HD",
          "HD",
          "HD",
          "HD",
          "HD",
          "HD",
          "HD",
          "HD",
          "HD",
          "HD",
          "HD",
          "HD",
          "HD",
          "HD",
          "HD",
          "HD",
          "HD",
          "HD",
          "HD",
          "HD",
          "HD",
          "HD",
          "HD",
          "HD",
          "HD",
          "HD",
          "HD",
          "HD",
          "HD",
          "HD",
          "HD",
          "HD",
          "HD",
          "HD",
          "HD",
          "HD",
          "HD",
          "HD"
         ],
         "y": [
          0.705835147918317,
          0.2366923301213876,
          0.3673958898899002,
          0.3843578637025538,
          0.4376751484736049,
          0.3887814709812108,
          0.5246685942196224,
          0.5846656819470358,
          0.4041500123124111,
          0.6267877017703505,
          0.7058352661315956,
          0.2366923182122947,
          0.3673958898899002,
          0.3843578132699187,
          0.4376754981661356,
          0.3887815767219575,
          0.5246682639222421,
          0.5846662328931461,
          0.4041506755020532,
          0.6267876096694049,
          0.7058352661315956,
          0.2366924206588816,
          0.3673957988755082,
          0.3843575937374338,
          0.4376754981661356,
          0.3887816523654442,
          0.5246683979126746,
          0.5846666792862601,
          0.4041503618901563,
          0.6267876096694049,
          0.7058352661315956,
          0.2366921366842135,
          0.3673958898899002,
          0.3843578132699187,
          0.4376751421817751,
          0.3887812601188484,
          0.5246683979126746,
          0.5846659206819427,
          0.4041498149561217,
          0.6267876250513448,
          0.7058353900935135,
          0.2366924206588816,
          0.3673958898899002,
          0.3843578132699187,
          0.4376753109854672,
          0.3887820587871844,
          0.5246688942438427,
          0.5846664727290893,
          0.4041499801880895,
          0.6267875491373689,
          0.7058353692528527,
          0.2366924535550794,
          0.3673958898899002,
          0.3843578132699187,
          0.4376750457893059,
          0.3887813453228444,
          0.5246683979126746,
          0.5846664727290893,
          0.4041499797846907,
          0.6267876096694049
         ]
        },
        {
         "box": {
          "visible": true
         },
         "meanline": {
          "visible": true
         },
         "name": "DHD",
         "type": "violin",
         "x": [
          "DHD",
          "DHD",
          "DHD",
          "DHD",
          "DHD",
          "DHD",
          "DHD",
          "DHD",
          "DHD",
          "DHD",
          "DHD",
          "DHD",
          "DHD",
          "DHD",
          "DHD",
          "DHD",
          "DHD",
          "DHD",
          "DHD",
          "DHD",
          "DHD",
          "DHD",
          "DHD",
          "DHD",
          "DHD",
          "DHD",
          "DHD",
          "DHD",
          "DHD",
          "DHD",
          "DHD",
          "DHD",
          "DHD",
          "DHD",
          "DHD",
          "DHD",
          "DHD",
          "DHD",
          "DHD",
          "DHD",
          "DHD",
          "DHD",
          "DHD",
          "DHD",
          "DHD",
          "DHD",
          "DHD",
          "DHD",
          "DHD",
          "DHD",
          "DHD",
          "DHD",
          "DHD",
          "DHD",
          "DHD",
          "DHD",
          "DHD",
          "DHD",
          "DHD",
          "DHD"
         ],
         "y": [
          0.8705709783220926,
          0.5015689784615097,
          0.7862113866872716,
          0.6963768039024328,
          0.6767870852804762,
          0.7853557088217783,
          0.8975922780277135,
          0.7458662820158973,
          0.5537482191324453,
          0.8370520252006445,
          0.8705709588439176,
          0.501568994220272,
          0.786211275261599,
          0.6963767864174437,
          0.6767871018968096,
          0.7853557088217783,
          0.8975922780277135,
          0.7458662820158973,
          0.5537482191324453,
          0.8370520252006445,
          0.8705709588439176,
          0.5015690214835463,
          0.7862113641077016,
          0.696376804175421,
          0.6767871018968096,
          0.7853557088217783,
          0.8954597376009367,
          0.7458662820158973,
          0.5537482191324453,
          0.8379513796414433,
          0.8705709705986698,
          0.5015690214835463,
          0.7860942150364647,
          0.696376804175421,
          0.6767871018968096,
          0.7853556864288178,
          0.8954597564744456,
          0.745866319575753,
          0.5537481865131907,
          0.8370520403118736,
          0.8705709575963521,
          0.5015690181966653,
          0.7862113158694471,
          0.6963768142027865,
          0.6767870777900145,
          0.7853556994062548,
          0.8954597947541642,
          0.745866314321792,
          0.5537481595092819,
          0.8370520307589976,
          0.8705709422244352,
          0.5015689524483081,
          0.7862113655913624,
          0.69637681745463,
          0.6767871134146141,
          0.7853557345562642,
          0.8975922881301438,
          0.7458664096503365,
          0.5537481294435199,
          0.8370520172378547
         ]
        },
        {
         "box": {
          "visible": true
         },
         "meanline": {
          "visible": true
         },
         "name": "RAN",
         "type": "violin",
         "x": [
          "RAN",
          "RAN",
          "RAN",
          "RAN",
          "RAN",
          "RAN",
          "RAN",
          "RAN",
          "RAN",
          "RAN",
          "RAN",
          "RAN",
          "RAN",
          "RAN",
          "RAN",
          "RAN",
          "RAN",
          "RAN",
          "RAN",
          "RAN",
          "RAN",
          "RAN",
          "RAN",
          "RAN",
          "RAN",
          "RAN",
          "RAN",
          "RAN",
          "RAN",
          "RAN",
          "RAN",
          "RAN",
          "RAN",
          "RAN",
          "RAN",
          "RAN",
          "RAN",
          "RAN",
          "RAN",
          "RAN",
          "RAN",
          "RAN",
          "RAN",
          "RAN",
          "RAN",
          "RAN",
          "RAN",
          "RAN",
          "RAN",
          "RAN",
          "RAN",
          "RAN",
          "RAN",
          "RAN",
          "RAN",
          "RAN",
          "RAN",
          "RAN",
          "RAN",
          "RAN"
         ],
         "y": [
          0.5432109489650336,
          0.2177519731881017,
          0.2780044467464665,
          0.4707648558330936,
          0.4606632942265704,
          0.4681858518025203,
          0.419696594474053,
          0.5517159668183585,
          0.4442345327656994,
          0.6434972160311884,
          0.5432109489650336,
          0.3095757971597495,
          0.245520314620598,
          0.4707648558330936,
          0.5448215405452775,
          0.4771531033014663,
          0.2882863763654441,
          0.4909483987851785,
          0.4397963777388938,
          0.5176740032213171,
          0.6782803640799617,
          0.350222957802885,
          0.245520314620598,
          0.4388946245863408,
          0.533610693283547,
          0.4223094390453812,
          0.4515631790957782,
          0.5651190401521134,
          0.441899002640759,
          0.6186343404976414,
          0.6932115297523597,
          0.350222957802885,
          0.264033258743911,
          0.3854860679450234,
          0.4714874265998858,
          0.4465326462521048,
          0.419696594474053,
          0.6787568864051992,
          0.4056137287788771,
          0.5176740032213171,
          0.6932115297523597,
          0.3519687571432602,
          0.2749388657952227,
          0.4481438454819118,
          0.4449392144477571,
          0.4771531033014663,
          0.2882863763654441,
          0.4909483987851785,
          0.4056137287788771,
          0.5176740032213171,
          0.632211023877924,
          0.2177519731881017,
          0.2780044467464665,
          0.451358074355643,
          0.4449392144477571,
          0.4681858518025203,
          0.2982584559829294,
          0.4985643716988492,
          0.4056137287788771,
          0.5176740032213171
         ]
        },
        {
         "box": {
          "visible": true
         },
         "meanline": {
          "visible": true
         },
         "name": "HSR",
         "type": "violin",
         "x": [
          "HSR",
          "HSR",
          "HSR",
          "HSR",
          "HSR",
          "HSR",
          "HSR",
          "HSR",
          "HSR",
          "HSR",
          "HSR",
          "HSR",
          "HSR",
          "HSR",
          "HSR",
          "HSR",
          "HSR",
          "HSR",
          "HSR",
          "HSR",
          "HSR",
          "HSR",
          "HSR",
          "HSR",
          "HSR",
          "HSR",
          "HSR",
          "HSR",
          "HSR",
          "HSR",
          "HSR",
          "HSR",
          "HSR",
          "HSR",
          "HSR",
          "HSR",
          "HSR",
          "HSR",
          "HSR",
          "HSR",
          "HSR",
          "HSR",
          "HSR",
          "HSR",
          "HSR",
          "HSR",
          "HSR",
          "HSR",
          "HSR",
          "HSR",
          "HSR",
          "HSR",
          "HSR",
          "HSR",
          "HSR",
          "HSR",
          "HSR",
          "HSR",
          "HSR",
          "HSR"
         ],
         "y": [
          0.622315306161611,
          0.3451199250842651,
          0.5398621548159414,
          0.5962649620300072,
          0.385026576210021,
          0.7855112853573833,
          0.6752718563662593,
          0.5673519540724667,
          0.4170331269728785,
          0.6876587352301083,
          0.6223153062321801,
          0.3451199251555321,
          0.5398621550260433,
          0.5962649618785051,
          0.3850265761400305,
          0.5407095081665199,
          0.6752718564788577,
          0.5673519543567466,
          0.3362848816727616,
          0.687658735302947,
          0.6425228487864454,
          0.3946677374938631,
          0.5398621550260433,
          0.5962649618785051,
          0.3850265761400305,
          0.7855112853232915,
          0.6752718562686938,
          0.5036421225612658,
          0.4170331270371827,
          0.8655952574687581,
          0.6570859402452832,
          0.3451199252007376,
          0.5398621550260433,
          0.6023859217893816,
          0.6190853724843169,
          0.5407095081665199,
          0.7226604734196049,
          0.5257512763164974,
          0.4170331273640833,
          1.0413161181133408,
          0.6223153062321801,
          0.2331726955223178,
          0.5398621550260433,
          0.5962649618785051,
          0.3850265761400305,
          0.7855112853232915,
          0.6752718562686938,
          0.5673519543567466,
          0.3362848816734551,
          0.687658735302947,
          0.6223153062348142,
          0.3451199251719718,
          0.5398621550737589,
          0.596264961858229,
          0.3850265761741394,
          0.785511285408418,
          0.6752718562647891,
          0.5673519542521109,
          0.4170331270570188,
          0.6876587353308141
         ]
        }
       ],
       "layout": {
        "template": {
         "data": {
          "bar": [
           {
            "error_x": {
             "color": "#2a3f5f"
            },
            "error_y": {
             "color": "#2a3f5f"
            },
            "marker": {
             "line": {
              "color": "#E5ECF6",
              "width": 0.5
             },
             "pattern": {
              "fillmode": "overlay",
              "size": 10,
              "solidity": 0.2
             }
            },
            "type": "bar"
           }
          ],
          "barpolar": [
           {
            "marker": {
             "line": {
              "color": "#E5ECF6",
              "width": 0.5
             },
             "pattern": {
              "fillmode": "overlay",
              "size": 10,
              "solidity": 0.2
             }
            },
            "type": "barpolar"
           }
          ],
          "carpet": [
           {
            "aaxis": {
             "endlinecolor": "#2a3f5f",
             "gridcolor": "white",
             "linecolor": "white",
             "minorgridcolor": "white",
             "startlinecolor": "#2a3f5f"
            },
            "baxis": {
             "endlinecolor": "#2a3f5f",
             "gridcolor": "white",
             "linecolor": "white",
             "minorgridcolor": "white",
             "startlinecolor": "#2a3f5f"
            },
            "type": "carpet"
           }
          ],
          "choropleth": [
           {
            "colorbar": {
             "outlinewidth": 0,
             "ticks": ""
            },
            "type": "choropleth"
           }
          ],
          "contour": [
           {
            "colorbar": {
             "outlinewidth": 0,
             "ticks": ""
            },
            "colorscale": [
             [
              0,
              "#0d0887"
             ],
             [
              0.1111111111111111,
              "#46039f"
             ],
             [
              0.2222222222222222,
              "#7201a8"
             ],
             [
              0.3333333333333333,
              "#9c179e"
             ],
             [
              0.4444444444444444,
              "#bd3786"
             ],
             [
              0.5555555555555556,
              "#d8576b"
             ],
             [
              0.6666666666666666,
              "#ed7953"
             ],
             [
              0.7777777777777778,
              "#fb9f3a"
             ],
             [
              0.8888888888888888,
              "#fdca26"
             ],
             [
              1,
              "#f0f921"
             ]
            ],
            "type": "contour"
           }
          ],
          "contourcarpet": [
           {
            "colorbar": {
             "outlinewidth": 0,
             "ticks": ""
            },
            "type": "contourcarpet"
           }
          ],
          "heatmap": [
           {
            "colorbar": {
             "outlinewidth": 0,
             "ticks": ""
            },
            "colorscale": [
             [
              0,
              "#0d0887"
             ],
             [
              0.1111111111111111,
              "#46039f"
             ],
             [
              0.2222222222222222,
              "#7201a8"
             ],
             [
              0.3333333333333333,
              "#9c179e"
             ],
             [
              0.4444444444444444,
              "#bd3786"
             ],
             [
              0.5555555555555556,
              "#d8576b"
             ],
             [
              0.6666666666666666,
              "#ed7953"
             ],
             [
              0.7777777777777778,
              "#fb9f3a"
             ],
             [
              0.8888888888888888,
              "#fdca26"
             ],
             [
              1,
              "#f0f921"
             ]
            ],
            "type": "heatmap"
           }
          ],
          "heatmapgl": [
           {
            "colorbar": {
             "outlinewidth": 0,
             "ticks": ""
            },
            "colorscale": [
             [
              0,
              "#0d0887"
             ],
             [
              0.1111111111111111,
              "#46039f"
             ],
             [
              0.2222222222222222,
              "#7201a8"
             ],
             [
              0.3333333333333333,
              "#9c179e"
             ],
             [
              0.4444444444444444,
              "#bd3786"
             ],
             [
              0.5555555555555556,
              "#d8576b"
             ],
             [
              0.6666666666666666,
              "#ed7953"
             ],
             [
              0.7777777777777778,
              "#fb9f3a"
             ],
             [
              0.8888888888888888,
              "#fdca26"
             ],
             [
              1,
              "#f0f921"
             ]
            ],
            "type": "heatmapgl"
           }
          ],
          "histogram": [
           {
            "marker": {
             "pattern": {
              "fillmode": "overlay",
              "size": 10,
              "solidity": 0.2
             }
            },
            "type": "histogram"
           }
          ],
          "histogram2d": [
           {
            "colorbar": {
             "outlinewidth": 0,
             "ticks": ""
            },
            "colorscale": [
             [
              0,
              "#0d0887"
             ],
             [
              0.1111111111111111,
              "#46039f"
             ],
             [
              0.2222222222222222,
              "#7201a8"
             ],
             [
              0.3333333333333333,
              "#9c179e"
             ],
             [
              0.4444444444444444,
              "#bd3786"
             ],
             [
              0.5555555555555556,
              "#d8576b"
             ],
             [
              0.6666666666666666,
              "#ed7953"
             ],
             [
              0.7777777777777778,
              "#fb9f3a"
             ],
             [
              0.8888888888888888,
              "#fdca26"
             ],
             [
              1,
              "#f0f921"
             ]
            ],
            "type": "histogram2d"
           }
          ],
          "histogram2dcontour": [
           {
            "colorbar": {
             "outlinewidth": 0,
             "ticks": ""
            },
            "colorscale": [
             [
              0,
              "#0d0887"
             ],
             [
              0.1111111111111111,
              "#46039f"
             ],
             [
              0.2222222222222222,
              "#7201a8"
             ],
             [
              0.3333333333333333,
              "#9c179e"
             ],
             [
              0.4444444444444444,
              "#bd3786"
             ],
             [
              0.5555555555555556,
              "#d8576b"
             ],
             [
              0.6666666666666666,
              "#ed7953"
             ],
             [
              0.7777777777777778,
              "#fb9f3a"
             ],
             [
              0.8888888888888888,
              "#fdca26"
             ],
             [
              1,
              "#f0f921"
             ]
            ],
            "type": "histogram2dcontour"
           }
          ],
          "mesh3d": [
           {
            "colorbar": {
             "outlinewidth": 0,
             "ticks": ""
            },
            "type": "mesh3d"
           }
          ],
          "parcoords": [
           {
            "line": {
             "colorbar": {
              "outlinewidth": 0,
              "ticks": ""
             }
            },
            "type": "parcoords"
           }
          ],
          "pie": [
           {
            "automargin": true,
            "type": "pie"
           }
          ],
          "scatter": [
           {
            "fillpattern": {
             "fillmode": "overlay",
             "size": 10,
             "solidity": 0.2
            },
            "type": "scatter"
           }
          ],
          "scatter3d": [
           {
            "line": {
             "colorbar": {
              "outlinewidth": 0,
              "ticks": ""
             }
            },
            "marker": {
             "colorbar": {
              "outlinewidth": 0,
              "ticks": ""
             }
            },
            "type": "scatter3d"
           }
          ],
          "scattercarpet": [
           {
            "marker": {
             "colorbar": {
              "outlinewidth": 0,
              "ticks": ""
             }
            },
            "type": "scattercarpet"
           }
          ],
          "scattergeo": [
           {
            "marker": {
             "colorbar": {
              "outlinewidth": 0,
              "ticks": ""
             }
            },
            "type": "scattergeo"
           }
          ],
          "scattergl": [
           {
            "marker": {
             "colorbar": {
              "outlinewidth": 0,
              "ticks": ""
             }
            },
            "type": "scattergl"
           }
          ],
          "scattermapbox": [
           {
            "marker": {
             "colorbar": {
              "outlinewidth": 0,
              "ticks": ""
             }
            },
            "type": "scattermapbox"
           }
          ],
          "scatterpolar": [
           {
            "marker": {
             "colorbar": {
              "outlinewidth": 0,
              "ticks": ""
             }
            },
            "type": "scatterpolar"
           }
          ],
          "scatterpolargl": [
           {
            "marker": {
             "colorbar": {
              "outlinewidth": 0,
              "ticks": ""
             }
            },
            "type": "scatterpolargl"
           }
          ],
          "scatterternary": [
           {
            "marker": {
             "colorbar": {
              "outlinewidth": 0,
              "ticks": ""
             }
            },
            "type": "scatterternary"
           }
          ],
          "surface": [
           {
            "colorbar": {
             "outlinewidth": 0,
             "ticks": ""
            },
            "colorscale": [
             [
              0,
              "#0d0887"
             ],
             [
              0.1111111111111111,
              "#46039f"
             ],
             [
              0.2222222222222222,
              "#7201a8"
             ],
             [
              0.3333333333333333,
              "#9c179e"
             ],
             [
              0.4444444444444444,
              "#bd3786"
             ],
             [
              0.5555555555555556,
              "#d8576b"
             ],
             [
              0.6666666666666666,
              "#ed7953"
             ],
             [
              0.7777777777777778,
              "#fb9f3a"
             ],
             [
              0.8888888888888888,
              "#fdca26"
             ],
             [
              1,
              "#f0f921"
             ]
            ],
            "type": "surface"
           }
          ],
          "table": [
           {
            "cells": {
             "fill": {
              "color": "#EBF0F8"
             },
             "line": {
              "color": "white"
             }
            },
            "header": {
             "fill": {
              "color": "#C8D4E3"
             },
             "line": {
              "color": "white"
             }
            },
            "type": "table"
           }
          ]
         },
         "layout": {
          "annotationdefaults": {
           "arrowcolor": "#2a3f5f",
           "arrowhead": 0,
           "arrowwidth": 1
          },
          "autotypenumbers": "strict",
          "coloraxis": {
           "colorbar": {
            "outlinewidth": 0,
            "ticks": ""
           }
          },
          "colorscale": {
           "diverging": [
            [
             0,
             "#8e0152"
            ],
            [
             0.1,
             "#c51b7d"
            ],
            [
             0.2,
             "#de77ae"
            ],
            [
             0.3,
             "#f1b6da"
            ],
            [
             0.4,
             "#fde0ef"
            ],
            [
             0.5,
             "#f7f7f7"
            ],
            [
             0.6,
             "#e6f5d0"
            ],
            [
             0.7,
             "#b8e186"
            ],
            [
             0.8,
             "#7fbc41"
            ],
            [
             0.9,
             "#4d9221"
            ],
            [
             1,
             "#276419"
            ]
           ],
           "sequential": [
            [
             0,
             "#0d0887"
            ],
            [
             0.1111111111111111,
             "#46039f"
            ],
            [
             0.2222222222222222,
             "#7201a8"
            ],
            [
             0.3333333333333333,
             "#9c179e"
            ],
            [
             0.4444444444444444,
             "#bd3786"
            ],
            [
             0.5555555555555556,
             "#d8576b"
            ],
            [
             0.6666666666666666,
             "#ed7953"
            ],
            [
             0.7777777777777778,
             "#fb9f3a"
            ],
            [
             0.8888888888888888,
             "#fdca26"
            ],
            [
             1,
             "#f0f921"
            ]
           ],
           "sequentialminus": [
            [
             0,
             "#0d0887"
            ],
            [
             0.1111111111111111,
             "#46039f"
            ],
            [
             0.2222222222222222,
             "#7201a8"
            ],
            [
             0.3333333333333333,
             "#9c179e"
            ],
            [
             0.4444444444444444,
             "#bd3786"
            ],
            [
             0.5555555555555556,
             "#d8576b"
            ],
            [
             0.6666666666666666,
             "#ed7953"
            ],
            [
             0.7777777777777778,
             "#fb9f3a"
            ],
            [
             0.8888888888888888,
             "#fdca26"
            ],
            [
             1,
             "#f0f921"
            ]
           ]
          },
          "colorway": [
           "#636efa",
           "#EF553B",
           "#00cc96",
           "#ab63fa",
           "#FFA15A",
           "#19d3f3",
           "#FF6692",
           "#B6E880",
           "#FF97FF",
           "#FECB52"
          ],
          "font": {
           "color": "#2a3f5f"
          },
          "geo": {
           "bgcolor": "white",
           "lakecolor": "white",
           "landcolor": "#E5ECF6",
           "showlakes": true,
           "showland": true,
           "subunitcolor": "white"
          },
          "hoverlabel": {
           "align": "left"
          },
          "hovermode": "closest",
          "mapbox": {
           "style": "light"
          },
          "paper_bgcolor": "white",
          "plot_bgcolor": "#E5ECF6",
          "polar": {
           "angularaxis": {
            "gridcolor": "white",
            "linecolor": "white",
            "ticks": ""
           },
           "bgcolor": "#E5ECF6",
           "radialaxis": {
            "gridcolor": "white",
            "linecolor": "white",
            "ticks": ""
           }
          },
          "scene": {
           "xaxis": {
            "backgroundcolor": "#E5ECF6",
            "gridcolor": "white",
            "gridwidth": 2,
            "linecolor": "white",
            "showbackground": true,
            "ticks": "",
            "zerolinecolor": "white"
           },
           "yaxis": {
            "backgroundcolor": "#E5ECF6",
            "gridcolor": "white",
            "gridwidth": 2,
            "linecolor": "white",
            "showbackground": true,
            "ticks": "",
            "zerolinecolor": "white"
           },
           "zaxis": {
            "backgroundcolor": "#E5ECF6",
            "gridcolor": "white",
            "gridwidth": 2,
            "linecolor": "white",
            "showbackground": true,
            "ticks": "",
            "zerolinecolor": "white"
           }
          },
          "shapedefaults": {
           "line": {
            "color": "#2a3f5f"
           }
          },
          "ternary": {
           "aaxis": {
            "gridcolor": "white",
            "linecolor": "white",
            "ticks": ""
           },
           "baxis": {
            "gridcolor": "white",
            "linecolor": "white",
            "ticks": ""
           },
           "bgcolor": "#E5ECF6",
           "caxis": {
            "gridcolor": "white",
            "linecolor": "white",
            "ticks": ""
           }
          },
          "title": {
           "x": 0.05
          },
          "xaxis": {
           "automargin": true,
           "gridcolor": "white",
           "linecolor": "white",
           "ticks": "",
           "title": {
            "standoff": 15
           },
           "zerolinecolor": "white",
           "zerolinewidth": 2
          },
          "yaxis": {
           "automargin": true,
           "gridcolor": "white",
           "linecolor": "white",
           "ticks": "",
           "title": {
            "standoff": 15
           },
           "zerolinecolor": "white",
           "zerolinewidth": 2
          }
         }
        }
       }
      }
     },
     "metadata": {},
     "output_type": "display_data"
    }
   ],
   "source": [
    "import plotly.graph_objects as go\n",
    "\n",
    "import pandas as pd\n",
    "\n",
    "#df = pd.read_csv(\"https://raw.githubusercontent.com/plotly/datasets/master/violin_data.csv\")\n",
    "\n",
    "fig = go.Figure()\n",
    "\n",
    "#days = ['Thur', 'Fri', 'Sat', 'Sun']\n",
    "\n",
    "for met in names:\n",
    "    fig.add_trace(go.Violin(x=weatess['Algorithm'][weatess['Algorithm'] == met],\n",
    "                            y=weatess['Value'][weatess['Algorithm'] == met],\n",
    "                            name=met,\n",
    "                            box_visible=True,\n",
    "                            meanline_visible=True))\n",
    "\n",
    "fig.show()"
   ]
  },
  {
   "cell_type": "code",
   "execution_count": 72,
   "metadata": {},
   "outputs": [
    {
     "data": {
      "application/vnd.plotly.v1+json": {
       "config": {
        "plotlyServerURL": "https://plot.ly"
       },
       "data": [
        {
         "box": {
          "visible": true
         },
         "meanline": {
          "visible": true
         },
         "name": "HD",
         "type": "violin",
         "x": [
          "HD",
          "HD",
          "HD",
          "HD",
          "HD",
          "HD",
          "HD",
          "HD",
          "HD",
          "HD",
          "HD",
          "HD",
          "HD",
          "HD",
          "HD",
          "HD",
          "HD",
          "HD",
          "HD",
          "HD",
          "HD",
          "HD",
          "HD",
          "HD",
          "HD",
          "HD",
          "HD",
          "HD",
          "HD",
          "HD",
          "HD",
          "HD",
          "HD",
          "HD",
          "HD",
          "HD",
          "HD",
          "HD",
          "HD",
          "HD",
          "HD",
          "HD",
          "HD",
          "HD",
          "HD",
          "HD",
          "HD",
          "HD",
          "HD",
          "HD",
          "HD",
          "HD",
          "HD",
          "HD",
          "HD",
          "HD",
          "HD",
          "HD",
          "HD",
          "HD"
         ],
         "y": [
          0.0150272725,
          0.009694028,
          0.010888905,
          0.018522989,
          0.021246858,
          0.017063523,
          0.02104432,
          0.028193837,
          0.015152453,
          0.014538831,
          0.015027274,
          0.009694024,
          0.010888905,
          0.018522982,
          0.021246849,
          0.017063523,
          0.021044316,
          0.02819384,
          0.015152457,
          0.014538825,
          0.015027274,
          0.009694023,
          0.010888903,
          0.018522983,
          0.021246849,
          0.017063525,
          0.021044323,
          0.028193844,
          0.015152459,
          0.014538825,
          0.015027274,
          0.009694025,
          0.010888905,
          0.018522982,
          0.021246845,
          0.017063512,
          0.021044323,
          0.028193839,
          0.015152432,
          0.014538828,
          0.01502728,
          0.009694023,
          0.010888905,
          0.018522982,
          0.021246843,
          0.017063541,
          0.021044342,
          0.028193844,
          0.015152439,
          0.014538827,
          0.015027281,
          0.009694018,
          0.010888905,
          0.018522982,
          0.021246849,
          0.017063523,
          0.021044323,
          0.028193844,
          0.015152452,
          0.014538825
         ]
        },
        {
         "box": {
          "visible": true
         },
         "meanline": {
          "visible": true
         },
         "name": "DHD",
         "type": "violin",
         "x": [
          "DHD",
          "DHD",
          "DHD",
          "DHD",
          "DHD",
          "DHD",
          "DHD",
          "DHD",
          "DHD",
          "DHD",
          "DHD",
          "DHD",
          "DHD",
          "DHD",
          "DHD",
          "DHD",
          "DHD",
          "DHD",
          "DHD",
          "DHD",
          "DHD",
          "DHD",
          "DHD",
          "DHD",
          "DHD",
          "DHD",
          "DHD",
          "DHD",
          "DHD",
          "DHD",
          "DHD",
          "DHD",
          "DHD",
          "DHD",
          "DHD",
          "DHD",
          "DHD",
          "DHD",
          "DHD",
          "DHD",
          "DHD",
          "DHD",
          "DHD",
          "DHD",
          "DHD",
          "DHD",
          "DHD",
          "DHD",
          "DHD",
          "DHD",
          "DHD",
          "DHD",
          "DHD",
          "DHD",
          "DHD",
          "DHD",
          "DHD",
          "DHD",
          "DHD",
          "DHD"
         ],
         "y": [
          0.16535483,
          0.15634142,
          0.20115204,
          0.17704451,
          0.14798707,
          0.115270756,
          0.17485543,
          0.22577985,
          0.19182557,
          0.12515898,
          0.16535483,
          0.15634143,
          0.20115201,
          0.1770445,
          0.14798707,
          0.115270756,
          0.17485543,
          0.22577985,
          0.19182557,
          0.12515898,
          0.16535483,
          0.15634143,
          0.20115204,
          0.1770445,
          0.14798707,
          0.115270756,
          0.17502858,
          0.22577985,
          0.19182557,
          0.12428802,
          0.16535483,
          0.15634143,
          0.20045106,
          0.1770445,
          0.14798707,
          0.11527077,
          0.17502858,
          0.22577985,
          0.19182558,
          0.12515898,
          0.16535483,
          0.15634142,
          0.20115203,
          0.17704451,
          0.14798708,
          0.11527077,
          0.1750286,
          0.22577985,
          0.19182561,
          0.12515898,
          0.16535483,
          0.15634143,
          0.20115204,
          0.17704451,
          0.14798708,
          0.11527076,
          0.17485541,
          0.22577988,
          0.19182558,
          0.12515897
         ]
        },
        {
         "box": {
          "visible": true
         },
         "meanline": {
          "visible": true
         },
         "name": "RAN",
         "type": "violin",
         "x": [
          "RAN",
          "RAN",
          "RAN",
          "RAN",
          "RAN",
          "RAN",
          "RAN",
          "RAN",
          "RAN",
          "RAN",
          "RAN",
          "RAN",
          "RAN",
          "RAN",
          "RAN",
          "RAN",
          "RAN",
          "RAN",
          "RAN",
          "RAN",
          "RAN",
          "RAN",
          "RAN",
          "RAN",
          "RAN",
          "RAN",
          "RAN",
          "RAN",
          "RAN",
          "RAN",
          "RAN",
          "RAN",
          "RAN",
          "RAN",
          "RAN",
          "RAN",
          "RAN",
          "RAN",
          "RAN",
          "RAN",
          "RAN",
          "RAN",
          "RAN",
          "RAN",
          "RAN",
          "RAN",
          "RAN",
          "RAN",
          "RAN",
          "RAN",
          "RAN",
          "RAN",
          "RAN",
          "RAN",
          "RAN",
          "RAN",
          "RAN",
          "RAN",
          "RAN",
          "RAN"
         ],
         "y": [
          0.0111809755,
          0.0087513225,
          0.008178918,
          0.013662454,
          0.020476729,
          0.017662484,
          0.012001444,
          0.018191108,
          0.013306086,
          0.013423309,
          0.0111809755,
          0.008448686,
          0.010233522,
          0.013662454,
          0.0156811,
          0.009250109,
          0.010356688,
          0.016461575,
          0.012698159,
          0.013453223,
          0.0141604515,
          0.009128851,
          0.010233522,
          0.017005334,
          0.014822108,
          0.01634225,
          0.014052109,
          0.020006062,
          0.013561565,
          0.017090848,
          0.014434119,
          0.009128851,
          0.009662212,
          0.018062903,
          0.020297255,
          0.014023326,
          0.012001444,
          0.021029733,
          0.01193479,
          0.013453223,
          0.014434119,
          0.008240699,
          0.009445114,
          0.013726431,
          0.021577468,
          0.009250109,
          0.010356688,
          0.016461575,
          0.01193479,
          0.013453223,
          0.014559925,
          0.0087513225,
          0.008178918,
          0.015399606,
          0.021577468,
          0.017662484,
          0.010258196,
          0.025240183,
          0.01193479,
          0.013453223
         ]
        },
        {
         "box": {
          "visible": true
         },
         "meanline": {
          "visible": true
         },
         "name": "HSR",
         "type": "violin",
         "x": [
          "HSR",
          "HSR",
          "HSR",
          "HSR",
          "HSR",
          "HSR",
          "HSR",
          "HSR",
          "HSR",
          "HSR",
          "HSR",
          "HSR",
          "HSR",
          "HSR",
          "HSR",
          "HSR",
          "HSR",
          "HSR",
          "HSR",
          "HSR",
          "HSR",
          "HSR",
          "HSR",
          "HSR",
          "HSR",
          "HSR",
          "HSR",
          "HSR",
          "HSR",
          "HSR",
          "HSR",
          "HSR",
          "HSR",
          "HSR",
          "HSR",
          "HSR",
          "HSR",
          "HSR",
          "HSR",
          "HSR",
          "HSR",
          "HSR",
          "HSR",
          "HSR",
          "HSR",
          "HSR",
          "HSR",
          "HSR",
          "HSR",
          "HSR",
          "HSR",
          "HSR",
          "HSR",
          "HSR",
          "HSR",
          "HSR",
          "HSR",
          "HSR",
          "HSR",
          "HSR"
         ],
         "y": [
          0.04298779,
          0.027583636,
          0.048439797,
          0.030428307,
          0.04604873,
          0.040642165,
          0.055987287,
          0.059767794,
          0.052890446,
          0.061249938,
          0.04298779,
          0.027583636,
          0.048439797,
          0.030428307,
          0.04604873,
          0.040455636,
          0.055987287,
          0.059767794,
          0.053004265,
          0.061249938,
          0.08402296,
          0.080699496,
          0.048439797,
          0.030428307,
          0.04604873,
          0.040642165,
          0.055987287,
          0.10014852,
          0.052890446,
          0.067246236,
          0.08933669,
          0.027583636,
          0.048439797,
          0.07567329,
          0.073126756,
          0.040455636,
          0.078936696,
          0.1088201,
          0.052890446,
          0.095976174,
          0.04298779,
          0.037546415,
          0.048439797,
          0.030428307,
          0.04604873,
          0.040642165,
          0.055987287,
          0.059767794,
          0.053004265,
          0.061249938,
          0.04298779,
          0.027583636,
          0.048439797,
          0.030428307,
          0.04604873,
          0.040642165,
          0.055987287,
          0.059767794,
          0.052890446,
          0.061249938
         ]
        }
       ],
       "layout": {
        "template": {
         "data": {
          "bar": [
           {
            "error_x": {
             "color": "#2a3f5f"
            },
            "error_y": {
             "color": "#2a3f5f"
            },
            "marker": {
             "line": {
              "color": "#E5ECF6",
              "width": 0.5
             },
             "pattern": {
              "fillmode": "overlay",
              "size": 10,
              "solidity": 0.2
             }
            },
            "type": "bar"
           }
          ],
          "barpolar": [
           {
            "marker": {
             "line": {
              "color": "#E5ECF6",
              "width": 0.5
             },
             "pattern": {
              "fillmode": "overlay",
              "size": 10,
              "solidity": 0.2
             }
            },
            "type": "barpolar"
           }
          ],
          "carpet": [
           {
            "aaxis": {
             "endlinecolor": "#2a3f5f",
             "gridcolor": "white",
             "linecolor": "white",
             "minorgridcolor": "white",
             "startlinecolor": "#2a3f5f"
            },
            "baxis": {
             "endlinecolor": "#2a3f5f",
             "gridcolor": "white",
             "linecolor": "white",
             "minorgridcolor": "white",
             "startlinecolor": "#2a3f5f"
            },
            "type": "carpet"
           }
          ],
          "choropleth": [
           {
            "colorbar": {
             "outlinewidth": 0,
             "ticks": ""
            },
            "type": "choropleth"
           }
          ],
          "contour": [
           {
            "colorbar": {
             "outlinewidth": 0,
             "ticks": ""
            },
            "colorscale": [
             [
              0,
              "#0d0887"
             ],
             [
              0.1111111111111111,
              "#46039f"
             ],
             [
              0.2222222222222222,
              "#7201a8"
             ],
             [
              0.3333333333333333,
              "#9c179e"
             ],
             [
              0.4444444444444444,
              "#bd3786"
             ],
             [
              0.5555555555555556,
              "#d8576b"
             ],
             [
              0.6666666666666666,
              "#ed7953"
             ],
             [
              0.7777777777777778,
              "#fb9f3a"
             ],
             [
              0.8888888888888888,
              "#fdca26"
             ],
             [
              1,
              "#f0f921"
             ]
            ],
            "type": "contour"
           }
          ],
          "contourcarpet": [
           {
            "colorbar": {
             "outlinewidth": 0,
             "ticks": ""
            },
            "type": "contourcarpet"
           }
          ],
          "heatmap": [
           {
            "colorbar": {
             "outlinewidth": 0,
             "ticks": ""
            },
            "colorscale": [
             [
              0,
              "#0d0887"
             ],
             [
              0.1111111111111111,
              "#46039f"
             ],
             [
              0.2222222222222222,
              "#7201a8"
             ],
             [
              0.3333333333333333,
              "#9c179e"
             ],
             [
              0.4444444444444444,
              "#bd3786"
             ],
             [
              0.5555555555555556,
              "#d8576b"
             ],
             [
              0.6666666666666666,
              "#ed7953"
             ],
             [
              0.7777777777777778,
              "#fb9f3a"
             ],
             [
              0.8888888888888888,
              "#fdca26"
             ],
             [
              1,
              "#f0f921"
             ]
            ],
            "type": "heatmap"
           }
          ],
          "heatmapgl": [
           {
            "colorbar": {
             "outlinewidth": 0,
             "ticks": ""
            },
            "colorscale": [
             [
              0,
              "#0d0887"
             ],
             [
              0.1111111111111111,
              "#46039f"
             ],
             [
              0.2222222222222222,
              "#7201a8"
             ],
             [
              0.3333333333333333,
              "#9c179e"
             ],
             [
              0.4444444444444444,
              "#bd3786"
             ],
             [
              0.5555555555555556,
              "#d8576b"
             ],
             [
              0.6666666666666666,
              "#ed7953"
             ],
             [
              0.7777777777777778,
              "#fb9f3a"
             ],
             [
              0.8888888888888888,
              "#fdca26"
             ],
             [
              1,
              "#f0f921"
             ]
            ],
            "type": "heatmapgl"
           }
          ],
          "histogram": [
           {
            "marker": {
             "pattern": {
              "fillmode": "overlay",
              "size": 10,
              "solidity": 0.2
             }
            },
            "type": "histogram"
           }
          ],
          "histogram2d": [
           {
            "colorbar": {
             "outlinewidth": 0,
             "ticks": ""
            },
            "colorscale": [
             [
              0,
              "#0d0887"
             ],
             [
              0.1111111111111111,
              "#46039f"
             ],
             [
              0.2222222222222222,
              "#7201a8"
             ],
             [
              0.3333333333333333,
              "#9c179e"
             ],
             [
              0.4444444444444444,
              "#bd3786"
             ],
             [
              0.5555555555555556,
              "#d8576b"
             ],
             [
              0.6666666666666666,
              "#ed7953"
             ],
             [
              0.7777777777777778,
              "#fb9f3a"
             ],
             [
              0.8888888888888888,
              "#fdca26"
             ],
             [
              1,
              "#f0f921"
             ]
            ],
            "type": "histogram2d"
           }
          ],
          "histogram2dcontour": [
           {
            "colorbar": {
             "outlinewidth": 0,
             "ticks": ""
            },
            "colorscale": [
             [
              0,
              "#0d0887"
             ],
             [
              0.1111111111111111,
              "#46039f"
             ],
             [
              0.2222222222222222,
              "#7201a8"
             ],
             [
              0.3333333333333333,
              "#9c179e"
             ],
             [
              0.4444444444444444,
              "#bd3786"
             ],
             [
              0.5555555555555556,
              "#d8576b"
             ],
             [
              0.6666666666666666,
              "#ed7953"
             ],
             [
              0.7777777777777778,
              "#fb9f3a"
             ],
             [
              0.8888888888888888,
              "#fdca26"
             ],
             [
              1,
              "#f0f921"
             ]
            ],
            "type": "histogram2dcontour"
           }
          ],
          "mesh3d": [
           {
            "colorbar": {
             "outlinewidth": 0,
             "ticks": ""
            },
            "type": "mesh3d"
           }
          ],
          "parcoords": [
           {
            "line": {
             "colorbar": {
              "outlinewidth": 0,
              "ticks": ""
             }
            },
            "type": "parcoords"
           }
          ],
          "pie": [
           {
            "automargin": true,
            "type": "pie"
           }
          ],
          "scatter": [
           {
            "fillpattern": {
             "fillmode": "overlay",
             "size": 10,
             "solidity": 0.2
            },
            "type": "scatter"
           }
          ],
          "scatter3d": [
           {
            "line": {
             "colorbar": {
              "outlinewidth": 0,
              "ticks": ""
             }
            },
            "marker": {
             "colorbar": {
              "outlinewidth": 0,
              "ticks": ""
             }
            },
            "type": "scatter3d"
           }
          ],
          "scattercarpet": [
           {
            "marker": {
             "colorbar": {
              "outlinewidth": 0,
              "ticks": ""
             }
            },
            "type": "scattercarpet"
           }
          ],
          "scattergeo": [
           {
            "marker": {
             "colorbar": {
              "outlinewidth": 0,
              "ticks": ""
             }
            },
            "type": "scattergeo"
           }
          ],
          "scattergl": [
           {
            "marker": {
             "colorbar": {
              "outlinewidth": 0,
              "ticks": ""
             }
            },
            "type": "scattergl"
           }
          ],
          "scattermapbox": [
           {
            "marker": {
             "colorbar": {
              "outlinewidth": 0,
              "ticks": ""
             }
            },
            "type": "scattermapbox"
           }
          ],
          "scatterpolar": [
           {
            "marker": {
             "colorbar": {
              "outlinewidth": 0,
              "ticks": ""
             }
            },
            "type": "scatterpolar"
           }
          ],
          "scatterpolargl": [
           {
            "marker": {
             "colorbar": {
              "outlinewidth": 0,
              "ticks": ""
             }
            },
            "type": "scatterpolargl"
           }
          ],
          "scatterternary": [
           {
            "marker": {
             "colorbar": {
              "outlinewidth": 0,
              "ticks": ""
             }
            },
            "type": "scatterternary"
           }
          ],
          "surface": [
           {
            "colorbar": {
             "outlinewidth": 0,
             "ticks": ""
            },
            "colorscale": [
             [
              0,
              "#0d0887"
             ],
             [
              0.1111111111111111,
              "#46039f"
             ],
             [
              0.2222222222222222,
              "#7201a8"
             ],
             [
              0.3333333333333333,
              "#9c179e"
             ],
             [
              0.4444444444444444,
              "#bd3786"
             ],
             [
              0.5555555555555556,
              "#d8576b"
             ],
             [
              0.6666666666666666,
              "#ed7953"
             ],
             [
              0.7777777777777778,
              "#fb9f3a"
             ],
             [
              0.8888888888888888,
              "#fdca26"
             ],
             [
              1,
              "#f0f921"
             ]
            ],
            "type": "surface"
           }
          ],
          "table": [
           {
            "cells": {
             "fill": {
              "color": "#EBF0F8"
             },
             "line": {
              "color": "white"
             }
            },
            "header": {
             "fill": {
              "color": "#C8D4E3"
             },
             "line": {
              "color": "white"
             }
            },
            "type": "table"
           }
          ]
         },
         "layout": {
          "annotationdefaults": {
           "arrowcolor": "#2a3f5f",
           "arrowhead": 0,
           "arrowwidth": 1
          },
          "autotypenumbers": "strict",
          "coloraxis": {
           "colorbar": {
            "outlinewidth": 0,
            "ticks": ""
           }
          },
          "colorscale": {
           "diverging": [
            [
             0,
             "#8e0152"
            ],
            [
             0.1,
             "#c51b7d"
            ],
            [
             0.2,
             "#de77ae"
            ],
            [
             0.3,
             "#f1b6da"
            ],
            [
             0.4,
             "#fde0ef"
            ],
            [
             0.5,
             "#f7f7f7"
            ],
            [
             0.6,
             "#e6f5d0"
            ],
            [
             0.7,
             "#b8e186"
            ],
            [
             0.8,
             "#7fbc41"
            ],
            [
             0.9,
             "#4d9221"
            ],
            [
             1,
             "#276419"
            ]
           ],
           "sequential": [
            [
             0,
             "#0d0887"
            ],
            [
             0.1111111111111111,
             "#46039f"
            ],
            [
             0.2222222222222222,
             "#7201a8"
            ],
            [
             0.3333333333333333,
             "#9c179e"
            ],
            [
             0.4444444444444444,
             "#bd3786"
            ],
            [
             0.5555555555555556,
             "#d8576b"
            ],
            [
             0.6666666666666666,
             "#ed7953"
            ],
            [
             0.7777777777777778,
             "#fb9f3a"
            ],
            [
             0.8888888888888888,
             "#fdca26"
            ],
            [
             1,
             "#f0f921"
            ]
           ],
           "sequentialminus": [
            [
             0,
             "#0d0887"
            ],
            [
             0.1111111111111111,
             "#46039f"
            ],
            [
             0.2222222222222222,
             "#7201a8"
            ],
            [
             0.3333333333333333,
             "#9c179e"
            ],
            [
             0.4444444444444444,
             "#bd3786"
            ],
            [
             0.5555555555555556,
             "#d8576b"
            ],
            [
             0.6666666666666666,
             "#ed7953"
            ],
            [
             0.7777777777777778,
             "#fb9f3a"
            ],
            [
             0.8888888888888888,
             "#fdca26"
            ],
            [
             1,
             "#f0f921"
            ]
           ]
          },
          "colorway": [
           "#636efa",
           "#EF553B",
           "#00cc96",
           "#ab63fa",
           "#FFA15A",
           "#19d3f3",
           "#FF6692",
           "#B6E880",
           "#FF97FF",
           "#FECB52"
          ],
          "font": {
           "color": "#2a3f5f"
          },
          "geo": {
           "bgcolor": "white",
           "lakecolor": "white",
           "landcolor": "#E5ECF6",
           "showlakes": true,
           "showland": true,
           "subunitcolor": "white"
          },
          "hoverlabel": {
           "align": "left"
          },
          "hovermode": "closest",
          "mapbox": {
           "style": "light"
          },
          "paper_bgcolor": "white",
          "plot_bgcolor": "#E5ECF6",
          "polar": {
           "angularaxis": {
            "gridcolor": "white",
            "linecolor": "white",
            "ticks": ""
           },
           "bgcolor": "#E5ECF6",
           "radialaxis": {
            "gridcolor": "white",
            "linecolor": "white",
            "ticks": ""
           }
          },
          "scene": {
           "xaxis": {
            "backgroundcolor": "#E5ECF6",
            "gridcolor": "white",
            "gridwidth": 2,
            "linecolor": "white",
            "showbackground": true,
            "ticks": "",
            "zerolinecolor": "white"
           },
           "yaxis": {
            "backgroundcolor": "#E5ECF6",
            "gridcolor": "white",
            "gridwidth": 2,
            "linecolor": "white",
            "showbackground": true,
            "ticks": "",
            "zerolinecolor": "white"
           },
           "zaxis": {
            "backgroundcolor": "#E5ECF6",
            "gridcolor": "white",
            "gridwidth": 2,
            "linecolor": "white",
            "showbackground": true,
            "ticks": "",
            "zerolinecolor": "white"
           }
          },
          "shapedefaults": {
           "line": {
            "color": "#2a3f5f"
           }
          },
          "ternary": {
           "aaxis": {
            "gridcolor": "white",
            "linecolor": "white",
            "ticks": ""
           },
           "baxis": {
            "gridcolor": "white",
            "linecolor": "white",
            "ticks": ""
           },
           "bgcolor": "#E5ECF6",
           "caxis": {
            "gridcolor": "white",
            "linecolor": "white",
            "ticks": ""
           }
          },
          "title": {
           "x": 0.05
          },
          "xaxis": {
           "automargin": true,
           "gridcolor": "white",
           "linecolor": "white",
           "ticks": "",
           "title": {
            "standoff": 15
           },
           "zerolinecolor": "white",
           "zerolinewidth": 2
          },
          "yaxis": {
           "automargin": true,
           "gridcolor": "white",
           "linecolor": "white",
           "ticks": "",
           "title": {
            "standoff": 15
           },
           "zerolinecolor": "white",
           "zerolinewidth": 2
          }
         }
        }
       }
      }
     },
     "metadata": {},
     "output_type": "display_data"
    }
   ],
   "source": [
    "import plotly.graph_objects as go\n",
    "\n",
    "import pandas as pd\n",
    "\n",
    "#df = pd.read_csv(\"https://raw.githubusercontent.com/plotly/datasets/master/violin_data.csv\")\n",
    "\n",
    "fig = go.Figure()\n",
    "\n",
    "#days = ['Thur', 'Fri', 'Sat', 'Sun']\n",
    "\n",
    "for met in names:\n",
    "    fig.add_trace(go.Violin(x=ripas['Algorithm'][ripas['Algorithm'] == met],\n",
    "                            y=ripas['Value'][ripas['Algorithm'] == met],\n",
    "                            name=met,\n",
    "                            box_visible=True,\n",
    "                            meanline_visible=True))\n",
    "\n",
    "fig.show()"
   ]
  }
 ],
 "metadata": {
  "kernelspec": {
   "display_name": "env",
   "language": "python",
   "name": "python3"
  },
  "language_info": {
   "codemirror_mode": {
    "name": "ipython",
    "version": 3
   },
   "file_extension": ".py",
   "mimetype": "text/x-python",
   "name": "python",
   "nbconvert_exporter": "python",
   "pygments_lexer": "ipython3",
   "version": "3.11.4"
  }
 },
 "nbformat": 4,
 "nbformat_minor": 2
}
