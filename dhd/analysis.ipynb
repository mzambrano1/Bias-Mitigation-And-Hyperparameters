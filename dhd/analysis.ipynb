{
 "cells": [
  {
   "cell_type": "code",
   "execution_count": 1,
   "metadata": {},
   "outputs": [],
   "source": [
    "import pandas as pd\n"
   ]
  },
  {
   "cell_type": "markdown",
   "metadata": {},
   "source": [
    "# Bests Values"
   ]
  },
  {
   "cell_type": "code",
   "execution_count": 2,
   "metadata": {},
   "outputs": [],
   "source": [
    "bests_weat = pd.read_csv('results/bests_dhd_weat.csv')\n",
    "bests_rnd = pd.read_csv('results/bests_dhd_rnd.csv')\n",
    "bests_ripa = pd.read_csv('results/bests_dhd_ripa.csv')\n",
    "bests_rnsb = pd.read_csv('results/bests_dhd_rnsb.csv')\n",
    "bests_ect = pd.read_csv('results/bests_dhd_ect.csv')\n",
    "bests_weates = pd.read_csv('results/bests_dhd_weates.csv')"
   ]
  },
  {
   "cell_type": "code",
   "execution_count": 15,
   "metadata": {},
   "outputs": [
    {
     "data": {
      "text/html": [
       "<div>\n",
       "<style scoped>\n",
       "    .dataframe tbody tr th:only-of-type {\n",
       "        vertical-align: middle;\n",
       "    }\n",
       "\n",
       "    .dataframe tbody tr th {\n",
       "        vertical-align: top;\n",
       "    }\n",
       "\n",
       "    .dataframe thead th {\n",
       "        text-align: right;\n",
       "    }\n",
       "</style>\n",
       "<table border=\"1\" class=\"dataframe\">\n",
       "  <thead>\n",
       "    <tr style=\"text-align: right;\">\n",
       "      <th></th>\n",
       "      <th>Weat</th>\n",
       "      <th>Weates</th>\n",
       "      <th>RND</th>\n",
       "      <th>RIPA</th>\n",
       "      <th>ECT</th>\n",
       "      <th>RNSB</th>\n",
       "      <th>solver</th>\n",
       "    </tr>\n",
       "  </thead>\n",
       "  <tbody>\n",
       "    <tr>\n",
       "      <th>0</th>\n",
       "      <td>0.214684</td>\n",
       "      <td>0.870571</td>\n",
       "      <td>0.543347</td>\n",
       "      <td>0.165355</td>\n",
       "      <td>0.545168</td>\n",
       "      <td>0.087323</td>\n",
       "      <td>randomized</td>\n",
       "    </tr>\n",
       "    <tr>\n",
       "      <th>1</th>\n",
       "      <td>0.106726</td>\n",
       "      <td>0.501569</td>\n",
       "      <td>0.180600</td>\n",
       "      <td>0.156341</td>\n",
       "      <td>0.400684</td>\n",
       "      <td>0.109103</td>\n",
       "      <td>arpack</td>\n",
       "    </tr>\n",
       "    <tr>\n",
       "      <th>2</th>\n",
       "      <td>0.176355</td>\n",
       "      <td>0.786211</td>\n",
       "      <td>0.155912</td>\n",
       "      <td>0.201152</td>\n",
       "      <td>0.553056</td>\n",
       "      <td>0.089076</td>\n",
       "      <td>arpack</td>\n",
       "    </tr>\n",
       "    <tr>\n",
       "      <th>3</th>\n",
       "      <td>0.141277</td>\n",
       "      <td>0.696377</td>\n",
       "      <td>0.126041</td>\n",
       "      <td>0.177045</td>\n",
       "      <td>0.868180</td>\n",
       "      <td>0.047384</td>\n",
       "      <td>arpack</td>\n",
       "    </tr>\n",
       "    <tr>\n",
       "      <th>4</th>\n",
       "      <td>0.160588</td>\n",
       "      <td>0.676787</td>\n",
       "      <td>0.192201</td>\n",
       "      <td>0.147987</td>\n",
       "      <td>0.622057</td>\n",
       "      <td>0.103659</td>\n",
       "      <td>arpack</td>\n",
       "    </tr>\n",
       "    <tr>\n",
       "      <th>5</th>\n",
       "      <td>0.106906</td>\n",
       "      <td>0.785356</td>\n",
       "      <td>0.108473</td>\n",
       "      <td>0.115271</td>\n",
       "      <td>0.756384</td>\n",
       "      <td>0.087651</td>\n",
       "      <td>arpack</td>\n",
       "    </tr>\n",
       "    <tr>\n",
       "      <th>6</th>\n",
       "      <td>0.140882</td>\n",
       "      <td>0.897592</td>\n",
       "      <td>0.243884</td>\n",
       "      <td>0.174855</td>\n",
       "      <td>0.746740</td>\n",
       "      <td>0.111675</td>\n",
       "      <td>arpack</td>\n",
       "    </tr>\n",
       "    <tr>\n",
       "      <th>7</th>\n",
       "      <td>0.131060</td>\n",
       "      <td>0.745866</td>\n",
       "      <td>0.210256</td>\n",
       "      <td>0.225780</td>\n",
       "      <td>0.309837</td>\n",
       "      <td>0.139525</td>\n",
       "      <td>arpack</td>\n",
       "    </tr>\n",
       "    <tr>\n",
       "      <th>8</th>\n",
       "      <td>0.096271</td>\n",
       "      <td>0.553748</td>\n",
       "      <td>0.282349</td>\n",
       "      <td>0.191826</td>\n",
       "      <td>0.659933</td>\n",
       "      <td>0.079628</td>\n",
       "      <td>arpack</td>\n",
       "    </tr>\n",
       "    <tr>\n",
       "      <th>9</th>\n",
       "      <td>0.137646</td>\n",
       "      <td>0.837052</td>\n",
       "      <td>0.274110</td>\n",
       "      <td>0.125159</td>\n",
       "      <td>0.690869</td>\n",
       "      <td>0.089058</td>\n",
       "      <td>arpack</td>\n",
       "    </tr>\n",
       "  </tbody>\n",
       "</table>\n",
       "</div>"
      ],
      "text/plain": [
       "       Weat    Weates       RND      RIPA       ECT      RNSB      solver\n",
       "0  0.214684  0.870571  0.543347  0.165355  0.545168  0.087323  randomized\n",
       "1  0.106726  0.501569  0.180600  0.156341  0.400684  0.109103      arpack\n",
       "2  0.176355  0.786211  0.155912  0.201152  0.553056  0.089076      arpack\n",
       "3  0.141277  0.696377  0.126041  0.177045  0.868180  0.047384      arpack\n",
       "4  0.160588  0.676787  0.192201  0.147987  0.622057  0.103659      arpack\n",
       "5  0.106906  0.785356  0.108473  0.115271  0.756384  0.087651      arpack\n",
       "6  0.140882  0.897592  0.243884  0.174855  0.746740  0.111675      arpack\n",
       "7  0.131060  0.745866  0.210256  0.225780  0.309837  0.139525      arpack\n",
       "8  0.096271  0.553748  0.282349  0.191826  0.659933  0.079628      arpack\n",
       "9  0.137646  0.837052  0.274110  0.125159  0.690869  0.089058      arpack"
      ]
     },
     "execution_count": 15,
     "metadata": {},
     "output_type": "execute_result"
    }
   ],
   "source": [
    "bests_weates"
   ]
  },
  {
   "cell_type": "code",
   "execution_count": 4,
   "metadata": {},
   "outputs": [],
   "source": [
    "bests_df = [bests_weat, bests_rnd, bests_ripa, bests_rnsb, bests_ect, bests_weates]"
   ]
  },
  {
   "cell_type": "code",
   "execution_count": 5,
   "metadata": {},
   "outputs": [
    {
     "data": {
      "text/html": [
       "<div>\n",
       "<style scoped>\n",
       "    .dataframe tbody tr th:only-of-type {\n",
       "        vertical-align: middle;\n",
       "    }\n",
       "\n",
       "    .dataframe tbody tr th {\n",
       "        vertical-align: top;\n",
       "    }\n",
       "\n",
       "    .dataframe thead th {\n",
       "        text-align: right;\n",
       "    }\n",
       "</style>\n",
       "<table border=\"1\" class=\"dataframe\">\n",
       "  <thead>\n",
       "    <tr style=\"text-align: right;\">\n",
       "      <th></th>\n",
       "      <th>Unnamed: 0</th>\n",
       "      <th>Weat</th>\n",
       "      <th>Weates</th>\n",
       "      <th>RND</th>\n",
       "      <th>RIPA</th>\n",
       "      <th>ECT</th>\n",
       "      <th>RNSB</th>\n",
       "      <th>solver</th>\n",
       "    </tr>\n",
       "  </thead>\n",
       "  <tbody>\n",
       "    <tr>\n",
       "      <th>0</th>\n",
       "      <td>0</td>\n",
       "      <td>0.214684</td>\n",
       "      <td>0.870571</td>\n",
       "      <td>0.543347</td>\n",
       "      <td>0.165355</td>\n",
       "      <td>0.545168</td>\n",
       "      <td>[0.08910641395306158, 0.08883976622901905, 0.1...</td>\n",
       "      <td>arpack</td>\n",
       "    </tr>\n",
       "    <tr>\n",
       "      <th>1</th>\n",
       "      <td>1</td>\n",
       "      <td>0.106726</td>\n",
       "      <td>0.501569</td>\n",
       "      <td>0.180600</td>\n",
       "      <td>0.156341</td>\n",
       "      <td>0.400684</td>\n",
       "      <td>[0.0891434008072904, 0.0894027110110592, 0.098...</td>\n",
       "      <td>arpack</td>\n",
       "    </tr>\n",
       "    <tr>\n",
       "      <th>2</th>\n",
       "      <td>2</td>\n",
       "      <td>0.176355</td>\n",
       "      <td>0.786211</td>\n",
       "      <td>0.155912</td>\n",
       "      <td>0.201152</td>\n",
       "      <td>0.553056</td>\n",
       "      <td>[0.1052416486995276, 0.09019418558356655, 0.07...</td>\n",
       "      <td>arpack</td>\n",
       "    </tr>\n",
       "    <tr>\n",
       "      <th>3</th>\n",
       "      <td>3</td>\n",
       "      <td>0.141277</td>\n",
       "      <td>0.696377</td>\n",
       "      <td>0.126041</td>\n",
       "      <td>0.177045</td>\n",
       "      <td>0.868180</td>\n",
       "      <td>[0.06054734140509192, 0.04374214733654772, 0.0...</td>\n",
       "      <td>arpack</td>\n",
       "    </tr>\n",
       "    <tr>\n",
       "      <th>4</th>\n",
       "      <td>4</td>\n",
       "      <td>0.160588</td>\n",
       "      <td>0.676787</td>\n",
       "      <td>0.192201</td>\n",
       "      <td>0.147987</td>\n",
       "      <td>0.622057</td>\n",
       "      <td>[0.08082369092789718, 0.10159747906189749, 0.1...</td>\n",
       "      <td>arpack</td>\n",
       "    </tr>\n",
       "    <tr>\n",
       "      <th>5</th>\n",
       "      <td>5</td>\n",
       "      <td>0.106906</td>\n",
       "      <td>0.785356</td>\n",
       "      <td>0.108473</td>\n",
       "      <td>0.115271</td>\n",
       "      <td>0.756384</td>\n",
       "      <td>[0.08161126071426987, 0.1035672076574444, 0.09...</td>\n",
       "      <td>arpack</td>\n",
       "    </tr>\n",
       "    <tr>\n",
       "      <th>6</th>\n",
       "      <td>6</td>\n",
       "      <td>0.140882</td>\n",
       "      <td>0.897592</td>\n",
       "      <td>0.243884</td>\n",
       "      <td>0.174855</td>\n",
       "      <td>0.746740</td>\n",
       "      <td>[0.10984986283407143, 0.09810164946845583, 0.1...</td>\n",
       "      <td>arpack</td>\n",
       "    </tr>\n",
       "    <tr>\n",
       "      <th>7</th>\n",
       "      <td>7</td>\n",
       "      <td>0.131060</td>\n",
       "      <td>0.745866</td>\n",
       "      <td>0.210256</td>\n",
       "      <td>0.225780</td>\n",
       "      <td>0.309837</td>\n",
       "      <td>[0.153873498247076, 0.14163872990617687, 0.132...</td>\n",
       "      <td>arpack</td>\n",
       "    </tr>\n",
       "    <tr>\n",
       "      <th>8</th>\n",
       "      <td>8</td>\n",
       "      <td>0.096271</td>\n",
       "      <td>0.553748</td>\n",
       "      <td>0.282349</td>\n",
       "      <td>0.191826</td>\n",
       "      <td>0.659933</td>\n",
       "      <td>[0.08793125739946686, 0.09588588623162154, 0.0...</td>\n",
       "      <td>auto</td>\n",
       "    </tr>\n",
       "    <tr>\n",
       "      <th>9</th>\n",
       "      <td>9</td>\n",
       "      <td>0.137646</td>\n",
       "      <td>0.837052</td>\n",
       "      <td>0.274110</td>\n",
       "      <td>0.125159</td>\n",
       "      <td>0.690869</td>\n",
       "      <td>[0.08917912687510185, 0.07324359779476323, 0.0...</td>\n",
       "      <td>auto</td>\n",
       "    </tr>\n",
       "  </tbody>\n",
       "</table>\n",
       "</div>"
      ],
      "text/plain": [
       "   Unnamed: 0      Weat    Weates       RND      RIPA       ECT  \\\n",
       "0           0  0.214684  0.870571  0.543347  0.165355  0.545168   \n",
       "1           1  0.106726  0.501569  0.180600  0.156341  0.400684   \n",
       "2           2  0.176355  0.786211  0.155912  0.201152  0.553056   \n",
       "3           3  0.141277  0.696377  0.126041  0.177045  0.868180   \n",
       "4           4  0.160588  0.676787  0.192201  0.147987  0.622057   \n",
       "5           5  0.106906  0.785356  0.108473  0.115271  0.756384   \n",
       "6           6  0.140882  0.897592  0.243884  0.174855  0.746740   \n",
       "7           7  0.131060  0.745866  0.210256  0.225780  0.309837   \n",
       "8           8  0.096271  0.553748  0.282349  0.191826  0.659933   \n",
       "9           9  0.137646  0.837052  0.274110  0.125159  0.690869   \n",
       "\n",
       "                                                RNSB  solver  \n",
       "0  [0.08910641395306158, 0.08883976622901905, 0.1...  arpack  \n",
       "1  [0.0891434008072904, 0.0894027110110592, 0.098...  arpack  \n",
       "2  [0.1052416486995276, 0.09019418558356655, 0.07...  arpack  \n",
       "3  [0.06054734140509192, 0.04374214733654772, 0.0...  arpack  \n",
       "4  [0.08082369092789718, 0.10159747906189749, 0.1...  arpack  \n",
       "5  [0.08161126071426987, 0.1035672076574444, 0.09...  arpack  \n",
       "6  [0.10984986283407143, 0.09810164946845583, 0.1...  arpack  \n",
       "7  [0.153873498247076, 0.14163872990617687, 0.132...  arpack  \n",
       "8  [0.08793125739946686, 0.09588588623162154, 0.0...    auto  \n",
       "9  [0.08917912687510185, 0.07324359779476323, 0.0...    auto  "
      ]
     },
     "execution_count": 5,
     "metadata": {},
     "output_type": "execute_result"
    }
   ],
   "source": [
    "bests_df[0]"
   ]
  },
  {
   "cell_type": "code",
   "execution_count": 6,
   "metadata": {},
   "outputs": [],
   "source": [
    "for df in bests_df:\n",
    "    df.drop(columns=['Unnamed: 0'], inplace=True)"
   ]
  },
  {
   "cell_type": "code",
   "execution_count": 7,
   "metadata": {},
   "outputs": [],
   "source": [
    "metrics = ['Weat', 'RND', 'RIPA', 'RNSB', 'ECT', 'Weates']"
   ]
  },
  {
   "cell_type": "code",
   "execution_count": 8,
   "metadata": {},
   "outputs": [],
   "source": [
    "df = bests_df[0]"
   ]
  },
  {
   "cell_type": "code",
   "execution_count": 9,
   "metadata": {},
   "outputs": [
    {
     "data": {
      "text/html": [
       "<div>\n",
       "<style scoped>\n",
       "    .dataframe tbody tr th:only-of-type {\n",
       "        vertical-align: middle;\n",
       "    }\n",
       "\n",
       "    .dataframe tbody tr th {\n",
       "        vertical-align: top;\n",
       "    }\n",
       "\n",
       "    .dataframe thead th {\n",
       "        text-align: right;\n",
       "    }\n",
       "</style>\n",
       "<table border=\"1\" class=\"dataframe\">\n",
       "  <thead>\n",
       "    <tr style=\"text-align: right;\">\n",
       "      <th></th>\n",
       "      <th>Weat</th>\n",
       "      <th>Weates</th>\n",
       "      <th>RND</th>\n",
       "      <th>RIPA</th>\n",
       "      <th>ECT</th>\n",
       "      <th>RNSB</th>\n",
       "      <th>solver</th>\n",
       "    </tr>\n",
       "  </thead>\n",
       "  <tbody>\n",
       "    <tr>\n",
       "      <th>0</th>\n",
       "      <td>0.214684</td>\n",
       "      <td>0.870571</td>\n",
       "      <td>0.543347</td>\n",
       "      <td>0.165355</td>\n",
       "      <td>0.545168</td>\n",
       "      <td>[0.08910641395306158, 0.08883976622901905, 0.1...</td>\n",
       "      <td>arpack</td>\n",
       "    </tr>\n",
       "    <tr>\n",
       "      <th>1</th>\n",
       "      <td>0.106726</td>\n",
       "      <td>0.501569</td>\n",
       "      <td>0.180600</td>\n",
       "      <td>0.156341</td>\n",
       "      <td>0.400684</td>\n",
       "      <td>[0.0891434008072904, 0.0894027110110592, 0.098...</td>\n",
       "      <td>arpack</td>\n",
       "    </tr>\n",
       "    <tr>\n",
       "      <th>2</th>\n",
       "      <td>0.176355</td>\n",
       "      <td>0.786211</td>\n",
       "      <td>0.155912</td>\n",
       "      <td>0.201152</td>\n",
       "      <td>0.553056</td>\n",
       "      <td>[0.1052416486995276, 0.09019418558356655, 0.07...</td>\n",
       "      <td>arpack</td>\n",
       "    </tr>\n",
       "    <tr>\n",
       "      <th>3</th>\n",
       "      <td>0.141277</td>\n",
       "      <td>0.696377</td>\n",
       "      <td>0.126041</td>\n",
       "      <td>0.177045</td>\n",
       "      <td>0.868180</td>\n",
       "      <td>[0.06054734140509192, 0.04374214733654772, 0.0...</td>\n",
       "      <td>arpack</td>\n",
       "    </tr>\n",
       "    <tr>\n",
       "      <th>4</th>\n",
       "      <td>0.160588</td>\n",
       "      <td>0.676787</td>\n",
       "      <td>0.192201</td>\n",
       "      <td>0.147987</td>\n",
       "      <td>0.622057</td>\n",
       "      <td>[0.08082369092789718, 0.10159747906189749, 0.1...</td>\n",
       "      <td>arpack</td>\n",
       "    </tr>\n",
       "    <tr>\n",
       "      <th>5</th>\n",
       "      <td>0.106906</td>\n",
       "      <td>0.785356</td>\n",
       "      <td>0.108473</td>\n",
       "      <td>0.115271</td>\n",
       "      <td>0.756384</td>\n",
       "      <td>[0.08161126071426987, 0.1035672076574444, 0.09...</td>\n",
       "      <td>arpack</td>\n",
       "    </tr>\n",
       "    <tr>\n",
       "      <th>6</th>\n",
       "      <td>0.140882</td>\n",
       "      <td>0.897592</td>\n",
       "      <td>0.243884</td>\n",
       "      <td>0.174855</td>\n",
       "      <td>0.746740</td>\n",
       "      <td>[0.10984986283407143, 0.09810164946845583, 0.1...</td>\n",
       "      <td>arpack</td>\n",
       "    </tr>\n",
       "    <tr>\n",
       "      <th>7</th>\n",
       "      <td>0.131060</td>\n",
       "      <td>0.745866</td>\n",
       "      <td>0.210256</td>\n",
       "      <td>0.225780</td>\n",
       "      <td>0.309837</td>\n",
       "      <td>[0.153873498247076, 0.14163872990617687, 0.132...</td>\n",
       "      <td>arpack</td>\n",
       "    </tr>\n",
       "    <tr>\n",
       "      <th>8</th>\n",
       "      <td>0.096271</td>\n",
       "      <td>0.553748</td>\n",
       "      <td>0.282349</td>\n",
       "      <td>0.191826</td>\n",
       "      <td>0.659933</td>\n",
       "      <td>[0.08793125739946686, 0.09588588623162154, 0.0...</td>\n",
       "      <td>auto</td>\n",
       "    </tr>\n",
       "    <tr>\n",
       "      <th>9</th>\n",
       "      <td>0.137646</td>\n",
       "      <td>0.837052</td>\n",
       "      <td>0.274110</td>\n",
       "      <td>0.125159</td>\n",
       "      <td>0.690869</td>\n",
       "      <td>[0.08917912687510185, 0.07324359779476323, 0.0...</td>\n",
       "      <td>auto</td>\n",
       "    </tr>\n",
       "  </tbody>\n",
       "</table>\n",
       "</div>"
      ],
      "text/plain": [
       "       Weat    Weates       RND      RIPA       ECT  \\\n",
       "0  0.214684  0.870571  0.543347  0.165355  0.545168   \n",
       "1  0.106726  0.501569  0.180600  0.156341  0.400684   \n",
       "2  0.176355  0.786211  0.155912  0.201152  0.553056   \n",
       "3  0.141277  0.696377  0.126041  0.177045  0.868180   \n",
       "4  0.160588  0.676787  0.192201  0.147987  0.622057   \n",
       "5  0.106906  0.785356  0.108473  0.115271  0.756384   \n",
       "6  0.140882  0.897592  0.243884  0.174855  0.746740   \n",
       "7  0.131060  0.745866  0.210256  0.225780  0.309837   \n",
       "8  0.096271  0.553748  0.282349  0.191826  0.659933   \n",
       "9  0.137646  0.837052  0.274110  0.125159  0.690869   \n",
       "\n",
       "                                                RNSB  solver  \n",
       "0  [0.08910641395306158, 0.08883976622901905, 0.1...  arpack  \n",
       "1  [0.0891434008072904, 0.0894027110110592, 0.098...  arpack  \n",
       "2  [0.1052416486995276, 0.09019418558356655, 0.07...  arpack  \n",
       "3  [0.06054734140509192, 0.04374214733654772, 0.0...  arpack  \n",
       "4  [0.08082369092789718, 0.10159747906189749, 0.1...  arpack  \n",
       "5  [0.08161126071426987, 0.1035672076574444, 0.09...  arpack  \n",
       "6  [0.10984986283407143, 0.09810164946845583, 0.1...  arpack  \n",
       "7  [0.153873498247076, 0.14163872990617687, 0.132...  arpack  \n",
       "8  [0.08793125739946686, 0.09588588623162154, 0.0...    auto  \n",
       "9  [0.08917912687510185, 0.07324359779476323, 0.0...    auto  "
      ]
     },
     "execution_count": 9,
     "metadata": {},
     "output_type": "execute_result"
    }
   ],
   "source": [
    "df"
   ]
  },
  {
   "cell_type": "code",
   "execution_count": 10,
   "metadata": {},
   "outputs": [
    {
     "ename": "TypeError",
     "evalue": "Could not convert ['[0.08910641395306158, 0.08883976622901905, 0.10286157952278178, 0.08561206578460465][0.0891434008072904, 0.0894027110110592, 0.09892065042462665, 0.10583822235565718][0.1052416486995276, 0.09019418558356655, 0.07455157103685583, 0.07943319137896153][0.06054734140509192, 0.04374214733654772, 0.05323920701255863, 0.05965703037566291][0.08082369092789718, 0.10159747906189749, 0.10687910204791418, 0.08212621414127907][0.08161126071426987, 0.1035672076574444, 0.09641573493788849, 0.07281462095112602][0.10984986283407143, 0.09810164946845583, 0.1136841615180778, 0.10958569787204][0.153873498247076, 0.14163872990617687, 0.13217697407966705, 0.1267168538467032][0.08793125739946686, 0.09588588623162154, 0.0727970920925658, 0.06918842449374618][0.08917912687510185, 0.07324359779476323, 0.09331433607634092, 0.09372570644217071]'] to numeric",
     "output_type": "error",
     "traceback": [
      "\u001b[1;31m---------------------------------------------------------------------------\u001b[0m",
      "\u001b[1;31mValueError\u001b[0m                                Traceback (most recent call last)",
      "File \u001b[1;32mc:\\Users\\zambr\\OneDrive\\Documents\\tesis\\env\\Lib\\site-packages\\pandas\\core\\nanops.py:1680\u001b[0m, in \u001b[0;36m_ensure_numeric\u001b[1;34m(x)\u001b[0m\n\u001b[0;32m   1679\u001b[0m \u001b[38;5;28;01mtry\u001b[39;00m:\n\u001b[1;32m-> 1680\u001b[0m     x \u001b[38;5;241m=\u001b[39m \u001b[43mx\u001b[49m\u001b[38;5;241;43m.\u001b[39;49m\u001b[43mastype\u001b[49m\u001b[43m(\u001b[49m\u001b[43mnp\u001b[49m\u001b[38;5;241;43m.\u001b[39;49m\u001b[43mcomplex128\u001b[49m\u001b[43m)\u001b[49m\n\u001b[0;32m   1681\u001b[0m \u001b[38;5;28;01mexcept\u001b[39;00m (\u001b[38;5;167;01mTypeError\u001b[39;00m, \u001b[38;5;167;01mValueError\u001b[39;00m):\n",
      "\u001b[1;31mValueError\u001b[0m: complex() arg is a malformed string",
      "\nDuring handling of the above exception, another exception occurred:\n",
      "\u001b[1;31mValueError\u001b[0m                                Traceback (most recent call last)",
      "File \u001b[1;32mc:\\Users\\zambr\\OneDrive\\Documents\\tesis\\env\\Lib\\site-packages\\pandas\\core\\nanops.py:1683\u001b[0m, in \u001b[0;36m_ensure_numeric\u001b[1;34m(x)\u001b[0m\n\u001b[0;32m   1682\u001b[0m \u001b[38;5;28;01mtry\u001b[39;00m:\n\u001b[1;32m-> 1683\u001b[0m     x \u001b[38;5;241m=\u001b[39m \u001b[43mx\u001b[49m\u001b[38;5;241;43m.\u001b[39;49m\u001b[43mastype\u001b[49m\u001b[43m(\u001b[49m\u001b[43mnp\u001b[49m\u001b[38;5;241;43m.\u001b[39;49m\u001b[43mfloat64\u001b[49m\u001b[43m)\u001b[49m\n\u001b[0;32m   1684\u001b[0m \u001b[38;5;28;01mexcept\u001b[39;00m \u001b[38;5;167;01mValueError\u001b[39;00m \u001b[38;5;28;01mas\u001b[39;00m err:\n\u001b[0;32m   1685\u001b[0m     \u001b[38;5;66;03m# GH#29941 we get here with object arrays containing strs\u001b[39;00m\n",
      "\u001b[1;31mValueError\u001b[0m: could not convert string to float: '[0.08910641395306158, 0.08883976622901905, 0.10286157952278178, 0.08561206578460465][0.0891434008072904, 0.0894027110110592, 0.09892065042462665, 0.10583822235565718][0.1052416486995276, 0.09019418558356655, 0.07455157103685583, 0.07943319137896153][0.06054734140509192, 0.04374214733654772, 0.05323920701255863, 0.05965703037566291][0.08082369092789718, 0.10159747906189749, 0.10687910204791418, 0.08212621414127907][0.08161126071426987, 0.1035672076574444, 0.09641573493788849, 0.07281462095112602][0.10984986283407143, 0.09810164946845583, 0.1136841615180778, 0.10958569787204][0.153873498247076, 0.14163872990617687, 0.13217697407966705, 0.1267168538467032][0.08793125739946686, 0.09588588623162154, 0.0727970920925658, 0.06918842449374618][0.08917912687510185, 0.07324359779476323, 0.09331433607634092, 0.09372570644217071]'",
      "\nThe above exception was the direct cause of the following exception:\n",
      "\u001b[1;31mTypeError\u001b[0m                                 Traceback (most recent call last)",
      "Cell \u001b[1;32mIn[10], line 1\u001b[0m\n\u001b[1;32m----> 1\u001b[0m promedio \u001b[38;5;241m=\u001b[39m \u001b[43mdf\u001b[49m\u001b[43m[\u001b[49m\u001b[43mmetrics\u001b[49m\u001b[43m]\u001b[49m\u001b[38;5;241;43m.\u001b[39;49m\u001b[43mmean\u001b[49m\u001b[43m(\u001b[49m\u001b[43m)\u001b[49m\n\u001b[0;32m      3\u001b[0m \u001b[38;5;66;03m# Calcular la desviación estándar de cada columna\u001b[39;00m\n\u001b[0;32m      4\u001b[0m desviacion_estandar \u001b[38;5;241m=\u001b[39m df[metrics]\u001b[38;5;241m.\u001b[39mstd()\n",
      "File \u001b[1;32mc:\\Users\\zambr\\OneDrive\\Documents\\tesis\\env\\Lib\\site-packages\\pandas\\core\\generic.py:11556\u001b[0m, in \u001b[0;36mNDFrame._add_numeric_operations.<locals>.mean\u001b[1;34m(self, axis, skipna, numeric_only, **kwargs)\u001b[0m\n\u001b[0;32m  11539\u001b[0m \u001b[38;5;129m@doc\u001b[39m(\n\u001b[0;32m  11540\u001b[0m     _num_doc,\n\u001b[0;32m  11541\u001b[0m     desc\u001b[38;5;241m=\u001b[39m\u001b[38;5;124m\"\u001b[39m\u001b[38;5;124mReturn the mean of the values over the requested axis.\u001b[39m\u001b[38;5;124m\"\u001b[39m,\n\u001b[1;32m   (...)\u001b[0m\n\u001b[0;32m  11554\u001b[0m     \u001b[38;5;241m*\u001b[39m\u001b[38;5;241m*\u001b[39mkwargs,\n\u001b[0;32m  11555\u001b[0m ):\n\u001b[1;32m> 11556\u001b[0m     \u001b[38;5;28;01mreturn\u001b[39;00m \u001b[43mNDFrame\u001b[49m\u001b[38;5;241;43m.\u001b[39;49m\u001b[43mmean\u001b[49m\u001b[43m(\u001b[49m\u001b[38;5;28;43mself\u001b[39;49m\u001b[43m,\u001b[49m\u001b[43m \u001b[49m\u001b[43maxis\u001b[49m\u001b[43m,\u001b[49m\u001b[43m \u001b[49m\u001b[43mskipna\u001b[49m\u001b[43m,\u001b[49m\u001b[43m \u001b[49m\u001b[43mnumeric_only\u001b[49m\u001b[43m,\u001b[49m\u001b[43m \u001b[49m\u001b[38;5;241;43m*\u001b[39;49m\u001b[38;5;241;43m*\u001b[39;49m\u001b[43mkwargs\u001b[49m\u001b[43m)\u001b[49m\n",
      "File \u001b[1;32mc:\\Users\\zambr\\OneDrive\\Documents\\tesis\\env\\Lib\\site-packages\\pandas\\core\\generic.py:11201\u001b[0m, in \u001b[0;36mNDFrame.mean\u001b[1;34m(self, axis, skipna, numeric_only, **kwargs)\u001b[0m\n\u001b[0;32m  11194\u001b[0m \u001b[38;5;28;01mdef\u001b[39;00m \u001b[38;5;21mmean\u001b[39m(\n\u001b[0;32m  11195\u001b[0m     \u001b[38;5;28mself\u001b[39m,\n\u001b[0;32m  11196\u001b[0m     axis: Axis \u001b[38;5;241m|\u001b[39m \u001b[38;5;28;01mNone\u001b[39;00m \u001b[38;5;241m=\u001b[39m \u001b[38;5;241m0\u001b[39m,\n\u001b[1;32m   (...)\u001b[0m\n\u001b[0;32m  11199\u001b[0m     \u001b[38;5;241m*\u001b[39m\u001b[38;5;241m*\u001b[39mkwargs,\n\u001b[0;32m  11200\u001b[0m ) \u001b[38;5;241m-\u001b[39m\u001b[38;5;241m>\u001b[39m Series \u001b[38;5;241m|\u001b[39m \u001b[38;5;28mfloat\u001b[39m:\n\u001b[1;32m> 11201\u001b[0m     \u001b[38;5;28;01mreturn\u001b[39;00m \u001b[38;5;28;43mself\u001b[39;49m\u001b[38;5;241;43m.\u001b[39;49m\u001b[43m_stat_function\u001b[49m\u001b[43m(\u001b[49m\n\u001b[0;32m  11202\u001b[0m \u001b[43m        \u001b[49m\u001b[38;5;124;43m\"\u001b[39;49m\u001b[38;5;124;43mmean\u001b[39;49m\u001b[38;5;124;43m\"\u001b[39;49m\u001b[43m,\u001b[49m\u001b[43m \u001b[49m\u001b[43mnanops\u001b[49m\u001b[38;5;241;43m.\u001b[39;49m\u001b[43mnanmean\u001b[49m\u001b[43m,\u001b[49m\u001b[43m \u001b[49m\u001b[43maxis\u001b[49m\u001b[43m,\u001b[49m\u001b[43m \u001b[49m\u001b[43mskipna\u001b[49m\u001b[43m,\u001b[49m\u001b[43m \u001b[49m\u001b[43mnumeric_only\u001b[49m\u001b[43m,\u001b[49m\u001b[43m \u001b[49m\u001b[38;5;241;43m*\u001b[39;49m\u001b[38;5;241;43m*\u001b[39;49m\u001b[43mkwargs\u001b[49m\n\u001b[0;32m  11203\u001b[0m \u001b[43m    \u001b[49m\u001b[43m)\u001b[49m\n",
      "File \u001b[1;32mc:\\Users\\zambr\\OneDrive\\Documents\\tesis\\env\\Lib\\site-packages\\pandas\\core\\generic.py:11158\u001b[0m, in \u001b[0;36mNDFrame._stat_function\u001b[1;34m(self, name, func, axis, skipna, numeric_only, **kwargs)\u001b[0m\n\u001b[0;32m  11154\u001b[0m     nv\u001b[38;5;241m.\u001b[39mvalidate_stat_func((), kwargs, fname\u001b[38;5;241m=\u001b[39mname)\n\u001b[0;32m  11156\u001b[0m validate_bool_kwarg(skipna, \u001b[38;5;124m\"\u001b[39m\u001b[38;5;124mskipna\u001b[39m\u001b[38;5;124m\"\u001b[39m, none_allowed\u001b[38;5;241m=\u001b[39m\u001b[38;5;28;01mFalse\u001b[39;00m)\n\u001b[1;32m> 11158\u001b[0m \u001b[38;5;28;01mreturn\u001b[39;00m \u001b[38;5;28;43mself\u001b[39;49m\u001b[38;5;241;43m.\u001b[39;49m\u001b[43m_reduce\u001b[49m\u001b[43m(\u001b[49m\n\u001b[0;32m  11159\u001b[0m \u001b[43m    \u001b[49m\u001b[43mfunc\u001b[49m\u001b[43m,\u001b[49m\u001b[43m \u001b[49m\u001b[43mname\u001b[49m\u001b[38;5;241;43m=\u001b[39;49m\u001b[43mname\u001b[49m\u001b[43m,\u001b[49m\u001b[43m \u001b[49m\u001b[43maxis\u001b[49m\u001b[38;5;241;43m=\u001b[39;49m\u001b[43maxis\u001b[49m\u001b[43m,\u001b[49m\u001b[43m \u001b[49m\u001b[43mskipna\u001b[49m\u001b[38;5;241;43m=\u001b[39;49m\u001b[43mskipna\u001b[49m\u001b[43m,\u001b[49m\u001b[43m \u001b[49m\u001b[43mnumeric_only\u001b[49m\u001b[38;5;241;43m=\u001b[39;49m\u001b[43mnumeric_only\u001b[49m\n\u001b[0;32m  11160\u001b[0m \u001b[43m\u001b[49m\u001b[43m)\u001b[49m\n",
      "File \u001b[1;32mc:\\Users\\zambr\\OneDrive\\Documents\\tesis\\env\\Lib\\site-packages\\pandas\\core\\frame.py:10519\u001b[0m, in \u001b[0;36mDataFrame._reduce\u001b[1;34m(self, op, name, axis, skipna, numeric_only, filter_type, **kwds)\u001b[0m\n\u001b[0;32m  10515\u001b[0m     df \u001b[38;5;241m=\u001b[39m df\u001b[38;5;241m.\u001b[39mT\n\u001b[0;32m  10517\u001b[0m \u001b[38;5;66;03m# After possibly _get_data and transposing, we are now in the\u001b[39;00m\n\u001b[0;32m  10518\u001b[0m \u001b[38;5;66;03m#  simple case where we can use BlockManager.reduce\u001b[39;00m\n\u001b[1;32m> 10519\u001b[0m res \u001b[38;5;241m=\u001b[39m \u001b[43mdf\u001b[49m\u001b[38;5;241;43m.\u001b[39;49m\u001b[43m_mgr\u001b[49m\u001b[38;5;241;43m.\u001b[39;49m\u001b[43mreduce\u001b[49m\u001b[43m(\u001b[49m\u001b[43mblk_func\u001b[49m\u001b[43m)\u001b[49m\n\u001b[0;32m  10520\u001b[0m out \u001b[38;5;241m=\u001b[39m df\u001b[38;5;241m.\u001b[39m_constructor(res)\u001b[38;5;241m.\u001b[39miloc[\u001b[38;5;241m0\u001b[39m]\n\u001b[0;32m  10521\u001b[0m \u001b[38;5;28;01mif\u001b[39;00m out_dtype \u001b[38;5;129;01mis\u001b[39;00m \u001b[38;5;129;01mnot\u001b[39;00m \u001b[38;5;28;01mNone\u001b[39;00m:\n",
      "File \u001b[1;32mc:\\Users\\zambr\\OneDrive\\Documents\\tesis\\env\\Lib\\site-packages\\pandas\\core\\internals\\managers.py:1534\u001b[0m, in \u001b[0;36mBlockManager.reduce\u001b[1;34m(self, func)\u001b[0m\n\u001b[0;32m   1532\u001b[0m res_blocks: \u001b[38;5;28mlist\u001b[39m[Block] \u001b[38;5;241m=\u001b[39m []\n\u001b[0;32m   1533\u001b[0m \u001b[38;5;28;01mfor\u001b[39;00m blk \u001b[38;5;129;01min\u001b[39;00m \u001b[38;5;28mself\u001b[39m\u001b[38;5;241m.\u001b[39mblocks:\n\u001b[1;32m-> 1534\u001b[0m     nbs \u001b[38;5;241m=\u001b[39m \u001b[43mblk\u001b[49m\u001b[38;5;241;43m.\u001b[39;49m\u001b[43mreduce\u001b[49m\u001b[43m(\u001b[49m\u001b[43mfunc\u001b[49m\u001b[43m)\u001b[49m\n\u001b[0;32m   1535\u001b[0m     res_blocks\u001b[38;5;241m.\u001b[39mextend(nbs)\n\u001b[0;32m   1537\u001b[0m index \u001b[38;5;241m=\u001b[39m Index([\u001b[38;5;28;01mNone\u001b[39;00m])  \u001b[38;5;66;03m# placeholder\u001b[39;00m\n",
      "File \u001b[1;32mc:\\Users\\zambr\\OneDrive\\Documents\\tesis\\env\\Lib\\site-packages\\pandas\\core\\internals\\blocks.py:339\u001b[0m, in \u001b[0;36mBlock.reduce\u001b[1;34m(self, func)\u001b[0m\n\u001b[0;32m    333\u001b[0m \u001b[38;5;129m@final\u001b[39m\n\u001b[0;32m    334\u001b[0m \u001b[38;5;28;01mdef\u001b[39;00m \u001b[38;5;21mreduce\u001b[39m(\u001b[38;5;28mself\u001b[39m, func) \u001b[38;5;241m-\u001b[39m\u001b[38;5;241m>\u001b[39m \u001b[38;5;28mlist\u001b[39m[Block]:\n\u001b[0;32m    335\u001b[0m     \u001b[38;5;66;03m# We will apply the function and reshape the result into a single-row\u001b[39;00m\n\u001b[0;32m    336\u001b[0m     \u001b[38;5;66;03m#  Block with the same mgr_locs; squeezing will be done at a higher level\u001b[39;00m\n\u001b[0;32m    337\u001b[0m     \u001b[38;5;28;01massert\u001b[39;00m \u001b[38;5;28mself\u001b[39m\u001b[38;5;241m.\u001b[39mndim \u001b[38;5;241m==\u001b[39m \u001b[38;5;241m2\u001b[39m\n\u001b[1;32m--> 339\u001b[0m     result \u001b[38;5;241m=\u001b[39m \u001b[43mfunc\u001b[49m\u001b[43m(\u001b[49m\u001b[38;5;28;43mself\u001b[39;49m\u001b[38;5;241;43m.\u001b[39;49m\u001b[43mvalues\u001b[49m\u001b[43m)\u001b[49m\n\u001b[0;32m    341\u001b[0m     \u001b[38;5;28;01mif\u001b[39;00m \u001b[38;5;28mself\u001b[39m\u001b[38;5;241m.\u001b[39mvalues\u001b[38;5;241m.\u001b[39mndim \u001b[38;5;241m==\u001b[39m \u001b[38;5;241m1\u001b[39m:\n\u001b[0;32m    342\u001b[0m         \u001b[38;5;66;03m# TODO(EA2D): special case not needed with 2D EAs\u001b[39;00m\n\u001b[0;32m    343\u001b[0m         res_values \u001b[38;5;241m=\u001b[39m np\u001b[38;5;241m.\u001b[39marray([[result]])\n",
      "File \u001b[1;32mc:\\Users\\zambr\\OneDrive\\Documents\\tesis\\env\\Lib\\site-packages\\pandas\\core\\frame.py:10482\u001b[0m, in \u001b[0;36mDataFrame._reduce.<locals>.blk_func\u001b[1;34m(values, axis)\u001b[0m\n\u001b[0;32m  10480\u001b[0m     \u001b[38;5;28;01mreturn\u001b[39;00m values\u001b[38;5;241m.\u001b[39m_reduce(name, skipna\u001b[38;5;241m=\u001b[39mskipna, \u001b[38;5;241m*\u001b[39m\u001b[38;5;241m*\u001b[39mkwds)\n\u001b[0;32m  10481\u001b[0m \u001b[38;5;28;01melse\u001b[39;00m:\n\u001b[1;32m> 10482\u001b[0m     \u001b[38;5;28;01mreturn\u001b[39;00m \u001b[43mop\u001b[49m\u001b[43m(\u001b[49m\u001b[43mvalues\u001b[49m\u001b[43m,\u001b[49m\u001b[43m \u001b[49m\u001b[43maxis\u001b[49m\u001b[38;5;241;43m=\u001b[39;49m\u001b[43maxis\u001b[49m\u001b[43m,\u001b[49m\u001b[43m \u001b[49m\u001b[43mskipna\u001b[49m\u001b[38;5;241;43m=\u001b[39;49m\u001b[43mskipna\u001b[49m\u001b[43m,\u001b[49m\u001b[43m \u001b[49m\u001b[38;5;241;43m*\u001b[39;49m\u001b[38;5;241;43m*\u001b[39;49m\u001b[43mkwds\u001b[49m\u001b[43m)\u001b[49m\n",
      "File \u001b[1;32mc:\\Users\\zambr\\OneDrive\\Documents\\tesis\\env\\Lib\\site-packages\\pandas\\core\\nanops.py:96\u001b[0m, in \u001b[0;36mdisallow.__call__.<locals>._f\u001b[1;34m(*args, **kwargs)\u001b[0m\n\u001b[0;32m     94\u001b[0m \u001b[38;5;28;01mtry\u001b[39;00m:\n\u001b[0;32m     95\u001b[0m     \u001b[38;5;28;01mwith\u001b[39;00m np\u001b[38;5;241m.\u001b[39merrstate(invalid\u001b[38;5;241m=\u001b[39m\u001b[38;5;124m\"\u001b[39m\u001b[38;5;124mignore\u001b[39m\u001b[38;5;124m\"\u001b[39m):\n\u001b[1;32m---> 96\u001b[0m         \u001b[38;5;28;01mreturn\u001b[39;00m \u001b[43mf\u001b[49m\u001b[43m(\u001b[49m\u001b[38;5;241;43m*\u001b[39;49m\u001b[43margs\u001b[49m\u001b[43m,\u001b[49m\u001b[43m \u001b[49m\u001b[38;5;241;43m*\u001b[39;49m\u001b[38;5;241;43m*\u001b[39;49m\u001b[43mkwargs\u001b[49m\u001b[43m)\u001b[49m\n\u001b[0;32m     97\u001b[0m \u001b[38;5;28;01mexcept\u001b[39;00m \u001b[38;5;167;01mValueError\u001b[39;00m \u001b[38;5;28;01mas\u001b[39;00m e:\n\u001b[0;32m     98\u001b[0m     \u001b[38;5;66;03m# we want to transform an object array\u001b[39;00m\n\u001b[0;32m     99\u001b[0m     \u001b[38;5;66;03m# ValueError message to the more typical TypeError\u001b[39;00m\n\u001b[0;32m    100\u001b[0m     \u001b[38;5;66;03m# e.g. this is normally a disallowed function on\u001b[39;00m\n\u001b[0;32m    101\u001b[0m     \u001b[38;5;66;03m# object arrays that contain strings\u001b[39;00m\n\u001b[0;32m    102\u001b[0m     \u001b[38;5;28;01mif\u001b[39;00m is_object_dtype(args[\u001b[38;5;241m0\u001b[39m]):\n",
      "File \u001b[1;32mc:\\Users\\zambr\\OneDrive\\Documents\\tesis\\env\\Lib\\site-packages\\pandas\\core\\nanops.py:158\u001b[0m, in \u001b[0;36mbottleneck_switch.__call__.<locals>.f\u001b[1;34m(values, axis, skipna, **kwds)\u001b[0m\n\u001b[0;32m    156\u001b[0m         result \u001b[38;5;241m=\u001b[39m alt(values, axis\u001b[38;5;241m=\u001b[39maxis, skipna\u001b[38;5;241m=\u001b[39mskipna, \u001b[38;5;241m*\u001b[39m\u001b[38;5;241m*\u001b[39mkwds)\n\u001b[0;32m    157\u001b[0m \u001b[38;5;28;01melse\u001b[39;00m:\n\u001b[1;32m--> 158\u001b[0m     result \u001b[38;5;241m=\u001b[39m \u001b[43malt\u001b[49m\u001b[43m(\u001b[49m\u001b[43mvalues\u001b[49m\u001b[43m,\u001b[49m\u001b[43m \u001b[49m\u001b[43maxis\u001b[49m\u001b[38;5;241;43m=\u001b[39;49m\u001b[43maxis\u001b[49m\u001b[43m,\u001b[49m\u001b[43m \u001b[49m\u001b[43mskipna\u001b[49m\u001b[38;5;241;43m=\u001b[39;49m\u001b[43mskipna\u001b[49m\u001b[43m,\u001b[49m\u001b[43m \u001b[49m\u001b[38;5;241;43m*\u001b[39;49m\u001b[38;5;241;43m*\u001b[39;49m\u001b[43mkwds\u001b[49m\u001b[43m)\u001b[49m\n\u001b[0;32m    160\u001b[0m \u001b[38;5;28;01mreturn\u001b[39;00m result\n",
      "File \u001b[1;32mc:\\Users\\zambr\\OneDrive\\Documents\\tesis\\env\\Lib\\site-packages\\pandas\\core\\nanops.py:421\u001b[0m, in \u001b[0;36m_datetimelike_compat.<locals>.new_func\u001b[1;34m(values, axis, skipna, mask, **kwargs)\u001b[0m\n\u001b[0;32m    418\u001b[0m \u001b[38;5;28;01mif\u001b[39;00m datetimelike \u001b[38;5;129;01mand\u001b[39;00m mask \u001b[38;5;129;01mis\u001b[39;00m \u001b[38;5;28;01mNone\u001b[39;00m:\n\u001b[0;32m    419\u001b[0m     mask \u001b[38;5;241m=\u001b[39m isna(values)\n\u001b[1;32m--> 421\u001b[0m result \u001b[38;5;241m=\u001b[39m \u001b[43mfunc\u001b[49m\u001b[43m(\u001b[49m\u001b[43mvalues\u001b[49m\u001b[43m,\u001b[49m\u001b[43m \u001b[49m\u001b[43maxis\u001b[49m\u001b[38;5;241;43m=\u001b[39;49m\u001b[43maxis\u001b[49m\u001b[43m,\u001b[49m\u001b[43m \u001b[49m\u001b[43mskipna\u001b[49m\u001b[38;5;241;43m=\u001b[39;49m\u001b[43mskipna\u001b[49m\u001b[43m,\u001b[49m\u001b[43m \u001b[49m\u001b[43mmask\u001b[49m\u001b[38;5;241;43m=\u001b[39;49m\u001b[43mmask\u001b[49m\u001b[43m,\u001b[49m\u001b[43m \u001b[49m\u001b[38;5;241;43m*\u001b[39;49m\u001b[38;5;241;43m*\u001b[39;49m\u001b[43mkwargs\u001b[49m\u001b[43m)\u001b[49m\n\u001b[0;32m    423\u001b[0m \u001b[38;5;28;01mif\u001b[39;00m datetimelike:\n\u001b[0;32m    424\u001b[0m     result \u001b[38;5;241m=\u001b[39m _wrap_results(result, orig_values\u001b[38;5;241m.\u001b[39mdtype, fill_value\u001b[38;5;241m=\u001b[39miNaT)\n",
      "File \u001b[1;32mc:\\Users\\zambr\\OneDrive\\Documents\\tesis\\env\\Lib\\site-packages\\pandas\\core\\nanops.py:727\u001b[0m, in \u001b[0;36mnanmean\u001b[1;34m(values, axis, skipna, mask)\u001b[0m\n\u001b[0;32m    724\u001b[0m     dtype_count \u001b[38;5;241m=\u001b[39m dtype\n\u001b[0;32m    726\u001b[0m count \u001b[38;5;241m=\u001b[39m _get_counts(values\u001b[38;5;241m.\u001b[39mshape, mask, axis, dtype\u001b[38;5;241m=\u001b[39mdtype_count)\n\u001b[1;32m--> 727\u001b[0m the_sum \u001b[38;5;241m=\u001b[39m \u001b[43m_ensure_numeric\u001b[49m\u001b[43m(\u001b[49m\u001b[43mvalues\u001b[49m\u001b[38;5;241;43m.\u001b[39;49m\u001b[43msum\u001b[49m\u001b[43m(\u001b[49m\u001b[43maxis\u001b[49m\u001b[43m,\u001b[49m\u001b[43m \u001b[49m\u001b[43mdtype\u001b[49m\u001b[38;5;241;43m=\u001b[39;49m\u001b[43mdtype_sum\u001b[49m\u001b[43m)\u001b[49m\u001b[43m)\u001b[49m\n\u001b[0;32m    729\u001b[0m \u001b[38;5;28;01mif\u001b[39;00m axis \u001b[38;5;129;01mis\u001b[39;00m \u001b[38;5;129;01mnot\u001b[39;00m \u001b[38;5;28;01mNone\u001b[39;00m \u001b[38;5;129;01mand\u001b[39;00m \u001b[38;5;28mgetattr\u001b[39m(the_sum, \u001b[38;5;124m\"\u001b[39m\u001b[38;5;124mndim\u001b[39m\u001b[38;5;124m\"\u001b[39m, \u001b[38;5;28;01mFalse\u001b[39;00m):\n\u001b[0;32m    730\u001b[0m     count \u001b[38;5;241m=\u001b[39m cast(np\u001b[38;5;241m.\u001b[39mndarray, count)\n",
      "File \u001b[1;32mc:\\Users\\zambr\\OneDrive\\Documents\\tesis\\env\\Lib\\site-packages\\pandas\\core\\nanops.py:1686\u001b[0m, in \u001b[0;36m_ensure_numeric\u001b[1;34m(x)\u001b[0m\n\u001b[0;32m   1683\u001b[0m         x \u001b[38;5;241m=\u001b[39m x\u001b[38;5;241m.\u001b[39mastype(np\u001b[38;5;241m.\u001b[39mfloat64)\n\u001b[0;32m   1684\u001b[0m     \u001b[38;5;28;01mexcept\u001b[39;00m \u001b[38;5;167;01mValueError\u001b[39;00m \u001b[38;5;28;01mas\u001b[39;00m err:\n\u001b[0;32m   1685\u001b[0m         \u001b[38;5;66;03m# GH#29941 we get here with object arrays containing strs\u001b[39;00m\n\u001b[1;32m-> 1686\u001b[0m         \u001b[38;5;28;01mraise\u001b[39;00m \u001b[38;5;167;01mTypeError\u001b[39;00m(\u001b[38;5;124mf\u001b[39m\u001b[38;5;124m\"\u001b[39m\u001b[38;5;124mCould not convert \u001b[39m\u001b[38;5;132;01m{\u001b[39;00mx\u001b[38;5;132;01m}\u001b[39;00m\u001b[38;5;124m to numeric\u001b[39m\u001b[38;5;124m\"\u001b[39m) \u001b[38;5;28;01mfrom\u001b[39;00m \u001b[38;5;21;01merr\u001b[39;00m\n\u001b[0;32m   1687\u001b[0m \u001b[38;5;28;01melse\u001b[39;00m:\n\u001b[0;32m   1688\u001b[0m     \u001b[38;5;28;01mif\u001b[39;00m \u001b[38;5;129;01mnot\u001b[39;00m np\u001b[38;5;241m.\u001b[39many(np\u001b[38;5;241m.\u001b[39mimag(x)):\n",
      "\u001b[1;31mTypeError\u001b[0m: Could not convert ['[0.08910641395306158, 0.08883976622901905, 0.10286157952278178, 0.08561206578460465][0.0891434008072904, 0.0894027110110592, 0.09892065042462665, 0.10583822235565718][0.1052416486995276, 0.09019418558356655, 0.07455157103685583, 0.07943319137896153][0.06054734140509192, 0.04374214733654772, 0.05323920701255863, 0.05965703037566291][0.08082369092789718, 0.10159747906189749, 0.10687910204791418, 0.08212621414127907][0.08161126071426987, 0.1035672076574444, 0.09641573493788849, 0.07281462095112602][0.10984986283407143, 0.09810164946845583, 0.1136841615180778, 0.10958569787204][0.153873498247076, 0.14163872990617687, 0.13217697407966705, 0.1267168538467032][0.08793125739946686, 0.09588588623162154, 0.0727970920925658, 0.06918842449374618][0.08917912687510185, 0.07324359779476323, 0.09331433607634092, 0.09372570644217071]'] to numeric"
     ]
    }
   ],
   "source": [
    "promedio = df[metrics].mean()\n",
    "\n",
    "# Calcular la desviación estándar de cada columna\n",
    "desviacion_estandar = df[metrics].std()\n",
    "\n",
    "# Crear un nuevo DataFrame con el promedio y la desviación estándar de cada columna\n",
    "df_resumen = pd.DataFrame({'Promedio': promedio, 'Desviacion_Estandar': desviacion_estandar})\n"
   ]
  },
  {
   "cell_type": "code",
   "execution_count": null,
   "metadata": {},
   "outputs": [
    {
     "data": {
      "text/html": [
       "<div>\n",
       "<style scoped>\n",
       "    .dataframe tbody tr th:only-of-type {\n",
       "        vertical-align: middle;\n",
       "    }\n",
       "\n",
       "    .dataframe tbody tr th {\n",
       "        vertical-align: top;\n",
       "    }\n",
       "\n",
       "    .dataframe thead th {\n",
       "        text-align: right;\n",
       "    }\n",
       "</style>\n",
       "<table border=\"1\" class=\"dataframe\">\n",
       "  <thead>\n",
       "    <tr style=\"text-align: right;\">\n",
       "      <th></th>\n",
       "      <th>Promedio</th>\n",
       "      <th>Desviacion_Estandar</th>\n",
       "    </tr>\n",
       "  </thead>\n",
       "  <tbody>\n",
       "    <tr>\n",
       "      <th>Weat</th>\n",
       "      <td>0.075107</td>\n",
       "      <td>0.032339</td>\n",
       "    </tr>\n",
       "    <tr>\n",
       "      <th>RND</th>\n",
       "      <td>0.022122</td>\n",
       "      <td>0.013882</td>\n",
       "    </tr>\n",
       "    <tr>\n",
       "      <th>RIPA</th>\n",
       "      <td>0.017137</td>\n",
       "      <td>0.005436</td>\n",
       "    </tr>\n",
       "    <tr>\n",
       "      <th>RNSB</th>\n",
       "      <td>0.023233</td>\n",
       "      <td>0.012372</td>\n",
       "    </tr>\n",
       "    <tr>\n",
       "      <th>ECT</th>\n",
       "      <td>0.747315</td>\n",
       "      <td>0.159777</td>\n",
       "    </tr>\n",
       "    <tr>\n",
       "      <th>Weates</th>\n",
       "      <td>0.466101</td>\n",
       "      <td>0.141601</td>\n",
       "    </tr>\n",
       "  </tbody>\n",
       "</table>\n",
       "</div>"
      ],
      "text/plain": [
       "        Promedio  Desviacion_Estandar\n",
       "Weat    0.075107             0.032339\n",
       "RND     0.022122             0.013882\n",
       "RIPA    0.017137             0.005436\n",
       "RNSB    0.023233             0.012372\n",
       "ECT     0.747315             0.159777\n",
       "Weates  0.466101             0.141601"
      ]
     },
     "execution_count": 16,
     "metadata": {},
     "output_type": "execute_result"
    }
   ],
   "source": [
    "df_resumen"
   ]
  },
  {
   "cell_type": "markdown",
   "metadata": {},
   "source": [
    "## Promedios y stds"
   ]
  },
  {
   "cell_type": "code",
   "execution_count": null,
   "metadata": {},
   "outputs": [],
   "source": [
    "\n",
    "\n",
    "# Diccionario para almacenar los resultados\n",
    "resultados = {}\n",
    "prom = []\n",
    "stds = []\n",
    "df_res = pd.DataFrame()\n",
    "# Iterar sobre cada dataframe y calcular el promedio y la desviación estándar\n",
    "for i, df in enumerate(bests_df, start=1):\n",
    "    \n",
    "    promedio = df[metrics].mean()\n",
    "\n",
    "    # Calcular la desviación estándar de cada columna\n",
    "    desviacion_estandar = df[metrics].std()\n",
    "\n",
    "    # Crear un nuevo DataFrame con el promedio y la desviación estándar de cada columna\n",
    "    df_resumen = pd.DataFrame({'Promedio': promedio, 'Desviacion_Estandar': desviacion_estandar})\n",
    "    df_resumen['Optimzed Metric'] = metrics[i-1]\n",
    "    df_res = pd.concat([df_res,df_resumen])\n",
    " \n",
    "\n"
   ]
  },
  {
   "cell_type": "code",
   "execution_count": null,
   "metadata": {},
   "outputs": [
    {
     "data": {
      "text/html": [
       "<div>\n",
       "<style scoped>\n",
       "    .dataframe tbody tr th:only-of-type {\n",
       "        vertical-align: middle;\n",
       "    }\n",
       "\n",
       "    .dataframe tbody tr th {\n",
       "        vertical-align: top;\n",
       "    }\n",
       "\n",
       "    .dataframe thead th {\n",
       "        text-align: right;\n",
       "    }\n",
       "</style>\n",
       "<table border=\"1\" class=\"dataframe\">\n",
       "  <thead>\n",
       "    <tr style=\"text-align: right;\">\n",
       "      <th></th>\n",
       "      <th>Promedio</th>\n",
       "      <th>Desviacion_Estandar</th>\n",
       "      <th>Optimzed Metric</th>\n",
       "    </tr>\n",
       "  </thead>\n",
       "  <tbody>\n",
       "    <tr>\n",
       "      <th>Weat</th>\n",
       "      <td>0.075107</td>\n",
       "      <td>0.032339</td>\n",
       "      <td>Weat</td>\n",
       "    </tr>\n",
       "    <tr>\n",
       "      <th>RND</th>\n",
       "      <td>0.022122</td>\n",
       "      <td>0.013882</td>\n",
       "      <td>Weat</td>\n",
       "    </tr>\n",
       "    <tr>\n",
       "      <th>RIPA</th>\n",
       "      <td>0.017137</td>\n",
       "      <td>0.005436</td>\n",
       "      <td>Weat</td>\n",
       "    </tr>\n",
       "    <tr>\n",
       "      <th>RNSB</th>\n",
       "      <td>0.023233</td>\n",
       "      <td>0.012372</td>\n",
       "      <td>Weat</td>\n",
       "    </tr>\n",
       "    <tr>\n",
       "      <th>ECT</th>\n",
       "      <td>0.747315</td>\n",
       "      <td>0.159777</td>\n",
       "      <td>Weat</td>\n",
       "    </tr>\n",
       "    <tr>\n",
       "      <th>Weates</th>\n",
       "      <td>0.466101</td>\n",
       "      <td>0.141601</td>\n",
       "      <td>Weat</td>\n",
       "    </tr>\n",
       "    <tr>\n",
       "      <th>Weat</th>\n",
       "      <td>0.075107</td>\n",
       "      <td>0.032339</td>\n",
       "      <td>RND</td>\n",
       "    </tr>\n",
       "    <tr>\n",
       "      <th>RND</th>\n",
       "      <td>0.022122</td>\n",
       "      <td>0.013882</td>\n",
       "      <td>RND</td>\n",
       "    </tr>\n",
       "    <tr>\n",
       "      <th>RIPA</th>\n",
       "      <td>0.017137</td>\n",
       "      <td>0.005436</td>\n",
       "      <td>RND</td>\n",
       "    </tr>\n",
       "    <tr>\n",
       "      <th>RNSB</th>\n",
       "      <td>0.023390</td>\n",
       "      <td>0.012968</td>\n",
       "      <td>RND</td>\n",
       "    </tr>\n",
       "    <tr>\n",
       "      <th>ECT</th>\n",
       "      <td>0.747315</td>\n",
       "      <td>0.159777</td>\n",
       "      <td>RND</td>\n",
       "    </tr>\n",
       "    <tr>\n",
       "      <th>Weates</th>\n",
       "      <td>0.466101</td>\n",
       "      <td>0.141601</td>\n",
       "      <td>RND</td>\n",
       "    </tr>\n",
       "    <tr>\n",
       "      <th>Weat</th>\n",
       "      <td>0.075107</td>\n",
       "      <td>0.032339</td>\n",
       "      <td>RIPA</td>\n",
       "    </tr>\n",
       "    <tr>\n",
       "      <th>RND</th>\n",
       "      <td>0.022122</td>\n",
       "      <td>0.013882</td>\n",
       "      <td>RIPA</td>\n",
       "    </tr>\n",
       "    <tr>\n",
       "      <th>RIPA</th>\n",
       "      <td>0.017137</td>\n",
       "      <td>0.005436</td>\n",
       "      <td>RIPA</td>\n",
       "    </tr>\n",
       "    <tr>\n",
       "      <th>RNSB</th>\n",
       "      <td>0.024496</td>\n",
       "      <td>0.014129</td>\n",
       "      <td>RIPA</td>\n",
       "    </tr>\n",
       "    <tr>\n",
       "      <th>ECT</th>\n",
       "      <td>0.747315</td>\n",
       "      <td>0.159777</td>\n",
       "      <td>RIPA</td>\n",
       "    </tr>\n",
       "    <tr>\n",
       "      <th>Weates</th>\n",
       "      <td>0.466101</td>\n",
       "      <td>0.141601</td>\n",
       "      <td>RIPA</td>\n",
       "    </tr>\n",
       "    <tr>\n",
       "      <th>Weat</th>\n",
       "      <td>0.075107</td>\n",
       "      <td>0.032339</td>\n",
       "      <td>RNSB</td>\n",
       "    </tr>\n",
       "    <tr>\n",
       "      <th>RND</th>\n",
       "      <td>0.022122</td>\n",
       "      <td>0.013882</td>\n",
       "      <td>RNSB</td>\n",
       "    </tr>\n",
       "    <tr>\n",
       "      <th>RIPA</th>\n",
       "      <td>0.017137</td>\n",
       "      <td>0.005436</td>\n",
       "      <td>RNSB</td>\n",
       "    </tr>\n",
       "    <tr>\n",
       "      <th>RNSB</th>\n",
       "      <td>0.024100</td>\n",
       "      <td>0.011929</td>\n",
       "      <td>RNSB</td>\n",
       "    </tr>\n",
       "    <tr>\n",
       "      <th>ECT</th>\n",
       "      <td>0.747315</td>\n",
       "      <td>0.159777</td>\n",
       "      <td>RNSB</td>\n",
       "    </tr>\n",
       "    <tr>\n",
       "      <th>Weates</th>\n",
       "      <td>0.466101</td>\n",
       "      <td>0.141601</td>\n",
       "      <td>RNSB</td>\n",
       "    </tr>\n",
       "    <tr>\n",
       "      <th>Weat</th>\n",
       "      <td>0.075107</td>\n",
       "      <td>0.032339</td>\n",
       "      <td>ECT</td>\n",
       "    </tr>\n",
       "    <tr>\n",
       "      <th>RND</th>\n",
       "      <td>0.022122</td>\n",
       "      <td>0.013882</td>\n",
       "      <td>ECT</td>\n",
       "    </tr>\n",
       "    <tr>\n",
       "      <th>RIPA</th>\n",
       "      <td>0.017137</td>\n",
       "      <td>0.005436</td>\n",
       "      <td>ECT</td>\n",
       "    </tr>\n",
       "    <tr>\n",
       "      <th>RNSB</th>\n",
       "      <td>0.023485</td>\n",
       "      <td>0.011729</td>\n",
       "      <td>ECT</td>\n",
       "    </tr>\n",
       "    <tr>\n",
       "      <th>ECT</th>\n",
       "      <td>0.747315</td>\n",
       "      <td>0.159777</td>\n",
       "      <td>ECT</td>\n",
       "    </tr>\n",
       "    <tr>\n",
       "      <th>Weates</th>\n",
       "      <td>0.466101</td>\n",
       "      <td>0.141601</td>\n",
       "      <td>ECT</td>\n",
       "    </tr>\n",
       "    <tr>\n",
       "      <th>Weat</th>\n",
       "      <td>0.075107</td>\n",
       "      <td>0.032339</td>\n",
       "      <td>Weates</td>\n",
       "    </tr>\n",
       "    <tr>\n",
       "      <th>RND</th>\n",
       "      <td>0.022122</td>\n",
       "      <td>0.013882</td>\n",
       "      <td>Weates</td>\n",
       "    </tr>\n",
       "    <tr>\n",
       "      <th>RIPA</th>\n",
       "      <td>0.017137</td>\n",
       "      <td>0.005436</td>\n",
       "      <td>Weates</td>\n",
       "    </tr>\n",
       "    <tr>\n",
       "      <th>RNSB</th>\n",
       "      <td>0.024029</td>\n",
       "      <td>0.013064</td>\n",
       "      <td>Weates</td>\n",
       "    </tr>\n",
       "    <tr>\n",
       "      <th>ECT</th>\n",
       "      <td>0.747315</td>\n",
       "      <td>0.159777</td>\n",
       "      <td>Weates</td>\n",
       "    </tr>\n",
       "    <tr>\n",
       "      <th>Weates</th>\n",
       "      <td>0.466101</td>\n",
       "      <td>0.141601</td>\n",
       "      <td>Weates</td>\n",
       "    </tr>\n",
       "  </tbody>\n",
       "</table>\n",
       "</div>"
      ],
      "text/plain": [
       "        Promedio  Desviacion_Estandar Optimzed Metric\n",
       "Weat    0.075107             0.032339            Weat\n",
       "RND     0.022122             0.013882            Weat\n",
       "RIPA    0.017137             0.005436            Weat\n",
       "RNSB    0.023233             0.012372            Weat\n",
       "ECT     0.747315             0.159777            Weat\n",
       "Weates  0.466101             0.141601            Weat\n",
       "Weat    0.075107             0.032339             RND\n",
       "RND     0.022122             0.013882             RND\n",
       "RIPA    0.017137             0.005436             RND\n",
       "RNSB    0.023390             0.012968             RND\n",
       "ECT     0.747315             0.159777             RND\n",
       "Weates  0.466101             0.141601             RND\n",
       "Weat    0.075107             0.032339            RIPA\n",
       "RND     0.022122             0.013882            RIPA\n",
       "RIPA    0.017137             0.005436            RIPA\n",
       "RNSB    0.024496             0.014129            RIPA\n",
       "ECT     0.747315             0.159777            RIPA\n",
       "Weates  0.466101             0.141601            RIPA\n",
       "Weat    0.075107             0.032339            RNSB\n",
       "RND     0.022122             0.013882            RNSB\n",
       "RIPA    0.017137             0.005436            RNSB\n",
       "RNSB    0.024100             0.011929            RNSB\n",
       "ECT     0.747315             0.159777            RNSB\n",
       "Weates  0.466101             0.141601            RNSB\n",
       "Weat    0.075107             0.032339             ECT\n",
       "RND     0.022122             0.013882             ECT\n",
       "RIPA    0.017137             0.005436             ECT\n",
       "RNSB    0.023485             0.011729             ECT\n",
       "ECT     0.747315             0.159777             ECT\n",
       "Weates  0.466101             0.141601             ECT\n",
       "Weat    0.075107             0.032339          Weates\n",
       "RND     0.022122             0.013882          Weates\n",
       "RIPA    0.017137             0.005436          Weates\n",
       "RNSB    0.024029             0.013064          Weates\n",
       "ECT     0.747315             0.159777          Weates\n",
       "Weates  0.466101             0.141601          Weates"
      ]
     },
     "execution_count": 19,
     "metadata": {},
     "output_type": "execute_result"
    }
   ],
   "source": [
    "df_res"
   ]
  },
  {
   "cell_type": "code",
   "execution_count": null,
   "metadata": {},
   "outputs": [],
   "source": [
    "df_res = df_res.reset_index().rename(columns={'index':'Metric'})"
   ]
  },
  {
   "cell_type": "code",
   "execution_count": null,
   "metadata": {},
   "outputs": [],
   "source": [
    "df_res = df_res.sort_values(by='Metric', ascending=False)"
   ]
  },
  {
   "cell_type": "code",
   "execution_count": null,
   "metadata": {},
   "outputs": [
    {
     "data": {
      "text/html": [
       "<div>\n",
       "<style scoped>\n",
       "    .dataframe tbody tr th:only-of-type {\n",
       "        vertical-align: middle;\n",
       "    }\n",
       "\n",
       "    .dataframe tbody tr th {\n",
       "        vertical-align: top;\n",
       "    }\n",
       "\n",
       "    .dataframe thead th {\n",
       "        text-align: right;\n",
       "    }\n",
       "</style>\n",
       "<table border=\"1\" class=\"dataframe\">\n",
       "  <thead>\n",
       "    <tr style=\"text-align: right;\">\n",
       "      <th></th>\n",
       "      <th>Weat</th>\n",
       "      <th>Weates</th>\n",
       "      <th>RND</th>\n",
       "      <th>RIPA</th>\n",
       "      <th>ECT</th>\n",
       "      <th>RNSB</th>\n",
       "      <th>solver</th>\n",
       "    </tr>\n",
       "  </thead>\n",
       "  <tbody>\n",
       "    <tr>\n",
       "      <th>0</th>\n",
       "      <td>0.149077</td>\n",
       "      <td>0.705835</td>\n",
       "      <td>0.058879</td>\n",
       "      <td>0.015027</td>\n",
       "      <td>0.575750</td>\n",
       "      <td>0.011387</td>\n",
       "      <td>arpack</td>\n",
       "    </tr>\n",
       "    <tr>\n",
       "      <th>1</th>\n",
       "      <td>0.055662</td>\n",
       "      <td>0.236692</td>\n",
       "      <td>0.015321</td>\n",
       "      <td>0.009694</td>\n",
       "      <td>0.743352</td>\n",
       "      <td>0.031879</td>\n",
       "      <td>arpack</td>\n",
       "    </tr>\n",
       "    <tr>\n",
       "      <th>2</th>\n",
       "      <td>0.056467</td>\n",
       "      <td>0.367396</td>\n",
       "      <td>0.017910</td>\n",
       "      <td>0.010889</td>\n",
       "      <td>0.826654</td>\n",
       "      <td>0.010967</td>\n",
       "      <td>auto</td>\n",
       "    </tr>\n",
       "    <tr>\n",
       "      <th>3</th>\n",
       "      <td>0.054027</td>\n",
       "      <td>0.384358</td>\n",
       "      <td>0.008561</td>\n",
       "      <td>0.018523</td>\n",
       "      <td>0.922850</td>\n",
       "      <td>0.008604</td>\n",
       "      <td>auto</td>\n",
       "    </tr>\n",
       "    <tr>\n",
       "      <th>4</th>\n",
       "      <td>0.092811</td>\n",
       "      <td>0.437675</td>\n",
       "      <td>0.022966</td>\n",
       "      <td>0.021247</td>\n",
       "      <td>0.595496</td>\n",
       "      <td>0.015260</td>\n",
       "      <td>randomized</td>\n",
       "    </tr>\n",
       "    <tr>\n",
       "      <th>5</th>\n",
       "      <td>0.036941</td>\n",
       "      <td>0.388781</td>\n",
       "      <td>0.012381</td>\n",
       "      <td>0.017064</td>\n",
       "      <td>0.840109</td>\n",
       "      <td>0.024109</td>\n",
       "      <td>randomized</td>\n",
       "    </tr>\n",
       "    <tr>\n",
       "      <th>6</th>\n",
       "      <td>0.069425</td>\n",
       "      <td>0.524668</td>\n",
       "      <td>0.023675</td>\n",
       "      <td>0.021044</td>\n",
       "      <td>0.863574</td>\n",
       "      <td>0.036460</td>\n",
       "      <td>auto</td>\n",
       "    </tr>\n",
       "    <tr>\n",
       "      <th>7</th>\n",
       "      <td>0.079276</td>\n",
       "      <td>0.584666</td>\n",
       "      <td>0.022952</td>\n",
       "      <td>0.028194</td>\n",
       "      <td>0.442986</td>\n",
       "      <td>0.044014</td>\n",
       "      <td>auto</td>\n",
       "    </tr>\n",
       "    <tr>\n",
       "      <th>8</th>\n",
       "      <td>0.057184</td>\n",
       "      <td>0.404150</td>\n",
       "      <td>0.016083</td>\n",
       "      <td>0.015152</td>\n",
       "      <td>0.906483</td>\n",
       "      <td>0.018095</td>\n",
       "      <td>randomized</td>\n",
       "    </tr>\n",
       "    <tr>\n",
       "      <th>9</th>\n",
       "      <td>0.100203</td>\n",
       "      <td>0.626788</td>\n",
       "      <td>0.022486</td>\n",
       "      <td>0.014539</td>\n",
       "      <td>0.755893</td>\n",
       "      <td>0.039517</td>\n",
       "      <td>auto</td>\n",
       "    </tr>\n",
       "  </tbody>\n",
       "</table>\n",
       "</div>"
      ],
      "text/plain": [
       "       Weat    Weates       RND      RIPA       ECT      RNSB      solver\n",
       "0  0.149077  0.705835  0.058879  0.015027  0.575750  0.011387      arpack\n",
       "1  0.055662  0.236692  0.015321  0.009694  0.743352  0.031879      arpack\n",
       "2  0.056467  0.367396  0.017910  0.010889  0.826654  0.010967        auto\n",
       "3  0.054027  0.384358  0.008561  0.018523  0.922850  0.008604        auto\n",
       "4  0.092811  0.437675  0.022966  0.021247  0.595496  0.015260  randomized\n",
       "5  0.036941  0.388781  0.012381  0.017064  0.840109  0.024109  randomized\n",
       "6  0.069425  0.524668  0.023675  0.021044  0.863574  0.036460        auto\n",
       "7  0.079276  0.584666  0.022952  0.028194  0.442986  0.044014        auto\n",
       "8  0.057184  0.404150  0.016083  0.015152  0.906483  0.018095  randomized\n",
       "9  0.100203  0.626788  0.022486  0.014539  0.755893  0.039517        auto"
      ]
     },
     "execution_count": 22,
     "metadata": {},
     "output_type": "execute_result"
    }
   ],
   "source": [
    "df"
   ]
  },
  {
   "cell_type": "code",
   "execution_count": null,
   "metadata": {},
   "outputs": [
    {
     "data": {
      "application/vnd.plotly.v1+json": {
       "config": {
        "plotlyServerURL": "https://plot.ly"
       },
       "data": [
        {
         "alignmentgroup": "True",
         "error_y": {
          "array": [
           0.14160111701079295,
           0.0323389634342247,
           0.01306369954035965,
           0.01388158905293142,
           0.005435630451805502,
           0.15977663371296127
          ]
         },
         "hovertemplate": "Optimzed Metric=Weates<br>Metric=%{x}<br>Promedio=%{y}<extra></extra>",
         "legendgroup": "Weates",
         "marker": {
          "color": "#636efa",
          "pattern": {
           "shape": ""
          }
         },
         "name": "Weates",
         "offsetgroup": "Weates",
         "orientation": "v",
         "showlegend": true,
         "textposition": "auto",
         "type": "bar",
         "x": [
          "Weates",
          "Weat",
          "RNSB",
          "RND",
          "RIPA",
          "ECT"
         ],
         "xaxis": "x",
         "y": [
          0.4661010377175761,
          0.07510738600277396,
          0.02402917739227456,
          0.02212151172456124,
          0.017137300200000004,
          0.7473147808385489
         ],
         "yaxis": "y"
        },
        {
         "alignmentgroup": "True",
         "error_y": {
          "array": [
           0.14160111626418856,
           0.03233897062115301,
           0.012967755298985893,
           0.013881590380088096,
           0.005435628891311621,
           0.1597766175766848
          ]
         },
         "hovertemplate": "Optimzed Metric=RND<br>Metric=%{x}<br>Promedio=%{y}<extra></extra>",
         "legendgroup": "RND",
         "marker": {
          "color": "#EF553B",
          "pattern": {
           "shape": ""
          }
         },
         "name": "RND",
         "offsetgroup": "RND",
         "orientation": "v",
         "showlegend": true,
         "textposition": "auto",
         "type": "bar",
         "x": [
          "Weates",
          "Weat",
          "RNSB",
          "RND",
          "RIPA",
          "ECT"
         ],
         "xaxis": "x",
         "y": [
          0.46610092668783354,
          0.0751073676734312,
          0.023390481072968476,
          0.02212150956063019,
          0.0171372965,
          0.7473147746073238
         ],
         "yaxis": "y"
        },
        {
         "alignmentgroup": "True",
         "error_y": {
          "array": [
           0.1416010965880771,
           0.032338966639300706,
           0.011728585468537774,
           0.013881589299702884,
           0.005435629989726159,
           0.15977662596406006
          ]
         },
         "hovertemplate": "Optimzed Metric=ECT<br>Metric=%{x}<br>Promedio=%{y}<extra></extra>",
         "legendgroup": "ECT",
         "marker": {
          "color": "#00cc96",
          "pattern": {
           "shape": ""
          }
         },
         "name": "ECT",
         "offsetgroup": "ECT",
         "orientation": "v",
         "showlegend": true,
         "textposition": "auto",
         "type": "bar",
         "x": [
          "Weates",
          "Weat",
          "RNSB",
          "RND",
          "RIPA",
          "ECT"
         ],
         "xaxis": "x",
         "y": [
          0.46610112786934954,
          0.07510739690733345,
          0.02348493755607545,
          0.022121512233630174,
          0.0171373008,
          0.7473147879577765
         ],
         "yaxis": "y"
        },
        {
         "alignmentgroup": "True",
         "error_y": {
          "array": [
           0.14160102992761367,
           0.03233895090804022,
           0.01237189703555235,
           0.013881587018685857,
           0.0054356280703101315,
           0.1597766231291015
          ]
         },
         "hovertemplate": "Optimzed Metric=Weat<br>Metric=%{x}<br>Promedio=%{y}<extra></extra>",
         "legendgroup": "Weat",
         "marker": {
          "color": "#ab63fa",
          "pattern": {
           "shape": ""
          }
         },
         "name": "Weat",
         "offsetgroup": "Weat",
         "orientation": "v",
         "showlegend": true,
         "textposition": "auto",
         "type": "bar",
         "x": [
          "Weates",
          "Weat",
          "RNSB",
          "RND",
          "RIPA",
          "ECT"
         ],
         "xaxis": "x",
         "y": [
          0.46610098413363943,
          0.0751073749401577,
          0.02323287036403133,
          0.02212150800254451,
          0.017137301650000002,
          0.7473147803537986
         ],
         "yaxis": "y"
        },
        {
         "alignmentgroup": "True",
         "error_y": {
          "array": [
           0.14160109280902933,
           0.032338959944889764,
           0.01192936826280188,
           0.013881590896761279,
           0.005435631141662397,
           0.15977664205056988
          ]
         },
         "hovertemplate": "Optimzed Metric=RNSB<br>Metric=%{x}<br>Promedio=%{y}<extra></extra>",
         "legendgroup": "RNSB",
         "marker": {
          "color": "#FFA15A",
          "pattern": {
           "shape": ""
          }
         },
         "name": "RNSB",
         "offsetgroup": "RNSB",
         "orientation": "v",
         "showlegend": true,
         "textposition": "auto",
         "type": "bar",
         "x": [
          "Weates",
          "Weat",
          "RNSB",
          "RND",
          "RIPA",
          "ECT"
         ],
         "xaxis": "x",
         "y": [
          0.4661011779983256,
          0.07510739543251085,
          0.02410008246439392,
          0.02212150826139827,
          0.017137302599999998,
          0.747314792640507
         ],
         "yaxis": "y"
        },
        {
         "alignmentgroup": "True",
         "error_y": {
          "array": [
           0.1416010355553316,
           0.032338962579679095,
           0.014128858159509594,
           0.013881588917274224,
           0.0054356281748729985,
           0.159776627956505
          ]
         },
         "hovertemplate": "Optimzed Metric=RIPA<br>Metric=%{x}<br>Promedio=%{y}<extra></extra>",
         "legendgroup": "RIPA",
         "marker": {
          "color": "#19d3f3",
          "pattern": {
           "shape": ""
          }
         },
         "name": "RIPA",
         "offsetgroup": "RIPA",
         "orientation": "v",
         "showlegend": true,
         "textposition": "auto",
         "type": "bar",
         "x": [
          "Weates",
          "Weat",
          "RNSB",
          "RND",
          "RIPA",
          "ECT"
         ],
         "xaxis": "x",
         "y": [
          0.4661011144378649,
          0.07510739503581446,
          0.024495927859217847,
          0.02212151194258396,
          0.0171372995,
          0.7473147889452528
         ],
         "yaxis": "y"
        }
       ],
       "layout": {
        "barmode": "group",
        "height": 400,
        "legend": {
         "title": {
          "text": "Optimzed Metric"
         },
         "tracegroupgap": 0
        },
        "margin": {
         "t": 60
        },
        "template": {
         "data": {
          "bar": [
           {
            "error_x": {
             "color": "#2a3f5f"
            },
            "error_y": {
             "color": "#2a3f5f"
            },
            "marker": {
             "line": {
              "color": "#E5ECF6",
              "width": 0.5
             },
             "pattern": {
              "fillmode": "overlay",
              "size": 10,
              "solidity": 0.2
             }
            },
            "type": "bar"
           }
          ],
          "barpolar": [
           {
            "marker": {
             "line": {
              "color": "#E5ECF6",
              "width": 0.5
             },
             "pattern": {
              "fillmode": "overlay",
              "size": 10,
              "solidity": 0.2
             }
            },
            "type": "barpolar"
           }
          ],
          "carpet": [
           {
            "aaxis": {
             "endlinecolor": "#2a3f5f",
             "gridcolor": "white",
             "linecolor": "white",
             "minorgridcolor": "white",
             "startlinecolor": "#2a3f5f"
            },
            "baxis": {
             "endlinecolor": "#2a3f5f",
             "gridcolor": "white",
             "linecolor": "white",
             "minorgridcolor": "white",
             "startlinecolor": "#2a3f5f"
            },
            "type": "carpet"
           }
          ],
          "choropleth": [
           {
            "colorbar": {
             "outlinewidth": 0,
             "ticks": ""
            },
            "type": "choropleth"
           }
          ],
          "contour": [
           {
            "colorbar": {
             "outlinewidth": 0,
             "ticks": ""
            },
            "colorscale": [
             [
              0,
              "#0d0887"
             ],
             [
              0.1111111111111111,
              "#46039f"
             ],
             [
              0.2222222222222222,
              "#7201a8"
             ],
             [
              0.3333333333333333,
              "#9c179e"
             ],
             [
              0.4444444444444444,
              "#bd3786"
             ],
             [
              0.5555555555555556,
              "#d8576b"
             ],
             [
              0.6666666666666666,
              "#ed7953"
             ],
             [
              0.7777777777777778,
              "#fb9f3a"
             ],
             [
              0.8888888888888888,
              "#fdca26"
             ],
             [
              1,
              "#f0f921"
             ]
            ],
            "type": "contour"
           }
          ],
          "contourcarpet": [
           {
            "colorbar": {
             "outlinewidth": 0,
             "ticks": ""
            },
            "type": "contourcarpet"
           }
          ],
          "heatmap": [
           {
            "colorbar": {
             "outlinewidth": 0,
             "ticks": ""
            },
            "colorscale": [
             [
              0,
              "#0d0887"
             ],
             [
              0.1111111111111111,
              "#46039f"
             ],
             [
              0.2222222222222222,
              "#7201a8"
             ],
             [
              0.3333333333333333,
              "#9c179e"
             ],
             [
              0.4444444444444444,
              "#bd3786"
             ],
             [
              0.5555555555555556,
              "#d8576b"
             ],
             [
              0.6666666666666666,
              "#ed7953"
             ],
             [
              0.7777777777777778,
              "#fb9f3a"
             ],
             [
              0.8888888888888888,
              "#fdca26"
             ],
             [
              1,
              "#f0f921"
             ]
            ],
            "type": "heatmap"
           }
          ],
          "heatmapgl": [
           {
            "colorbar": {
             "outlinewidth": 0,
             "ticks": ""
            },
            "colorscale": [
             [
              0,
              "#0d0887"
             ],
             [
              0.1111111111111111,
              "#46039f"
             ],
             [
              0.2222222222222222,
              "#7201a8"
             ],
             [
              0.3333333333333333,
              "#9c179e"
             ],
             [
              0.4444444444444444,
              "#bd3786"
             ],
             [
              0.5555555555555556,
              "#d8576b"
             ],
             [
              0.6666666666666666,
              "#ed7953"
             ],
             [
              0.7777777777777778,
              "#fb9f3a"
             ],
             [
              0.8888888888888888,
              "#fdca26"
             ],
             [
              1,
              "#f0f921"
             ]
            ],
            "type": "heatmapgl"
           }
          ],
          "histogram": [
           {
            "marker": {
             "pattern": {
              "fillmode": "overlay",
              "size": 10,
              "solidity": 0.2
             }
            },
            "type": "histogram"
           }
          ],
          "histogram2d": [
           {
            "colorbar": {
             "outlinewidth": 0,
             "ticks": ""
            },
            "colorscale": [
             [
              0,
              "#0d0887"
             ],
             [
              0.1111111111111111,
              "#46039f"
             ],
             [
              0.2222222222222222,
              "#7201a8"
             ],
             [
              0.3333333333333333,
              "#9c179e"
             ],
             [
              0.4444444444444444,
              "#bd3786"
             ],
             [
              0.5555555555555556,
              "#d8576b"
             ],
             [
              0.6666666666666666,
              "#ed7953"
             ],
             [
              0.7777777777777778,
              "#fb9f3a"
             ],
             [
              0.8888888888888888,
              "#fdca26"
             ],
             [
              1,
              "#f0f921"
             ]
            ],
            "type": "histogram2d"
           }
          ],
          "histogram2dcontour": [
           {
            "colorbar": {
             "outlinewidth": 0,
             "ticks": ""
            },
            "colorscale": [
             [
              0,
              "#0d0887"
             ],
             [
              0.1111111111111111,
              "#46039f"
             ],
             [
              0.2222222222222222,
              "#7201a8"
             ],
             [
              0.3333333333333333,
              "#9c179e"
             ],
             [
              0.4444444444444444,
              "#bd3786"
             ],
             [
              0.5555555555555556,
              "#d8576b"
             ],
             [
              0.6666666666666666,
              "#ed7953"
             ],
             [
              0.7777777777777778,
              "#fb9f3a"
             ],
             [
              0.8888888888888888,
              "#fdca26"
             ],
             [
              1,
              "#f0f921"
             ]
            ],
            "type": "histogram2dcontour"
           }
          ],
          "mesh3d": [
           {
            "colorbar": {
             "outlinewidth": 0,
             "ticks": ""
            },
            "type": "mesh3d"
           }
          ],
          "parcoords": [
           {
            "line": {
             "colorbar": {
              "outlinewidth": 0,
              "ticks": ""
             }
            },
            "type": "parcoords"
           }
          ],
          "pie": [
           {
            "automargin": true,
            "type": "pie"
           }
          ],
          "scatter": [
           {
            "fillpattern": {
             "fillmode": "overlay",
             "size": 10,
             "solidity": 0.2
            },
            "type": "scatter"
           }
          ],
          "scatter3d": [
           {
            "line": {
             "colorbar": {
              "outlinewidth": 0,
              "ticks": ""
             }
            },
            "marker": {
             "colorbar": {
              "outlinewidth": 0,
              "ticks": ""
             }
            },
            "type": "scatter3d"
           }
          ],
          "scattercarpet": [
           {
            "marker": {
             "colorbar": {
              "outlinewidth": 0,
              "ticks": ""
             }
            },
            "type": "scattercarpet"
           }
          ],
          "scattergeo": [
           {
            "marker": {
             "colorbar": {
              "outlinewidth": 0,
              "ticks": ""
             }
            },
            "type": "scattergeo"
           }
          ],
          "scattergl": [
           {
            "marker": {
             "colorbar": {
              "outlinewidth": 0,
              "ticks": ""
             }
            },
            "type": "scattergl"
           }
          ],
          "scattermapbox": [
           {
            "marker": {
             "colorbar": {
              "outlinewidth": 0,
              "ticks": ""
             }
            },
            "type": "scattermapbox"
           }
          ],
          "scatterpolar": [
           {
            "marker": {
             "colorbar": {
              "outlinewidth": 0,
              "ticks": ""
             }
            },
            "type": "scatterpolar"
           }
          ],
          "scatterpolargl": [
           {
            "marker": {
             "colorbar": {
              "outlinewidth": 0,
              "ticks": ""
             }
            },
            "type": "scatterpolargl"
           }
          ],
          "scatterternary": [
           {
            "marker": {
             "colorbar": {
              "outlinewidth": 0,
              "ticks": ""
             }
            },
            "type": "scatterternary"
           }
          ],
          "surface": [
           {
            "colorbar": {
             "outlinewidth": 0,
             "ticks": ""
            },
            "colorscale": [
             [
              0,
              "#0d0887"
             ],
             [
              0.1111111111111111,
              "#46039f"
             ],
             [
              0.2222222222222222,
              "#7201a8"
             ],
             [
              0.3333333333333333,
              "#9c179e"
             ],
             [
              0.4444444444444444,
              "#bd3786"
             ],
             [
              0.5555555555555556,
              "#d8576b"
             ],
             [
              0.6666666666666666,
              "#ed7953"
             ],
             [
              0.7777777777777778,
              "#fb9f3a"
             ],
             [
              0.8888888888888888,
              "#fdca26"
             ],
             [
              1,
              "#f0f921"
             ]
            ],
            "type": "surface"
           }
          ],
          "table": [
           {
            "cells": {
             "fill": {
              "color": "#EBF0F8"
             },
             "line": {
              "color": "white"
             }
            },
            "header": {
             "fill": {
              "color": "#C8D4E3"
             },
             "line": {
              "color": "white"
             }
            },
            "type": "table"
           }
          ]
         },
         "layout": {
          "annotationdefaults": {
           "arrowcolor": "#2a3f5f",
           "arrowhead": 0,
           "arrowwidth": 1
          },
          "autotypenumbers": "strict",
          "coloraxis": {
           "colorbar": {
            "outlinewidth": 0,
            "ticks": ""
           }
          },
          "colorscale": {
           "diverging": [
            [
             0,
             "#8e0152"
            ],
            [
             0.1,
             "#c51b7d"
            ],
            [
             0.2,
             "#de77ae"
            ],
            [
             0.3,
             "#f1b6da"
            ],
            [
             0.4,
             "#fde0ef"
            ],
            [
             0.5,
             "#f7f7f7"
            ],
            [
             0.6,
             "#e6f5d0"
            ],
            [
             0.7,
             "#b8e186"
            ],
            [
             0.8,
             "#7fbc41"
            ],
            [
             0.9,
             "#4d9221"
            ],
            [
             1,
             "#276419"
            ]
           ],
           "sequential": [
            [
             0,
             "#0d0887"
            ],
            [
             0.1111111111111111,
             "#46039f"
            ],
            [
             0.2222222222222222,
             "#7201a8"
            ],
            [
             0.3333333333333333,
             "#9c179e"
            ],
            [
             0.4444444444444444,
             "#bd3786"
            ],
            [
             0.5555555555555556,
             "#d8576b"
            ],
            [
             0.6666666666666666,
             "#ed7953"
            ],
            [
             0.7777777777777778,
             "#fb9f3a"
            ],
            [
             0.8888888888888888,
             "#fdca26"
            ],
            [
             1,
             "#f0f921"
            ]
           ],
           "sequentialminus": [
            [
             0,
             "#0d0887"
            ],
            [
             0.1111111111111111,
             "#46039f"
            ],
            [
             0.2222222222222222,
             "#7201a8"
            ],
            [
             0.3333333333333333,
             "#9c179e"
            ],
            [
             0.4444444444444444,
             "#bd3786"
            ],
            [
             0.5555555555555556,
             "#d8576b"
            ],
            [
             0.6666666666666666,
             "#ed7953"
            ],
            [
             0.7777777777777778,
             "#fb9f3a"
            ],
            [
             0.8888888888888888,
             "#fdca26"
            ],
            [
             1,
             "#f0f921"
            ]
           ]
          },
          "colorway": [
           "#636efa",
           "#EF553B",
           "#00cc96",
           "#ab63fa",
           "#FFA15A",
           "#19d3f3",
           "#FF6692",
           "#B6E880",
           "#FF97FF",
           "#FECB52"
          ],
          "font": {
           "color": "#2a3f5f"
          },
          "geo": {
           "bgcolor": "white",
           "lakecolor": "white",
           "landcolor": "#E5ECF6",
           "showlakes": true,
           "showland": true,
           "subunitcolor": "white"
          },
          "hoverlabel": {
           "align": "left"
          },
          "hovermode": "closest",
          "mapbox": {
           "style": "light"
          },
          "paper_bgcolor": "white",
          "plot_bgcolor": "#E5ECF6",
          "polar": {
           "angularaxis": {
            "gridcolor": "white",
            "linecolor": "white",
            "ticks": ""
           },
           "bgcolor": "#E5ECF6",
           "radialaxis": {
            "gridcolor": "white",
            "linecolor": "white",
            "ticks": ""
           }
          },
          "scene": {
           "xaxis": {
            "backgroundcolor": "#E5ECF6",
            "gridcolor": "white",
            "gridwidth": 2,
            "linecolor": "white",
            "showbackground": true,
            "ticks": "",
            "zerolinecolor": "white"
           },
           "yaxis": {
            "backgroundcolor": "#E5ECF6",
            "gridcolor": "white",
            "gridwidth": 2,
            "linecolor": "white",
            "showbackground": true,
            "ticks": "",
            "zerolinecolor": "white"
           },
           "zaxis": {
            "backgroundcolor": "#E5ECF6",
            "gridcolor": "white",
            "gridwidth": 2,
            "linecolor": "white",
            "showbackground": true,
            "ticks": "",
            "zerolinecolor": "white"
           }
          },
          "shapedefaults": {
           "line": {
            "color": "#2a3f5f"
           }
          },
          "ternary": {
           "aaxis": {
            "gridcolor": "white",
            "linecolor": "white",
            "ticks": ""
           },
           "baxis": {
            "gridcolor": "white",
            "linecolor": "white",
            "ticks": ""
           },
           "bgcolor": "#E5ECF6",
           "caxis": {
            "gridcolor": "white",
            "linecolor": "white",
            "ticks": ""
           }
          },
          "title": {
           "x": 0.05
          },
          "xaxis": {
           "automargin": true,
           "gridcolor": "white",
           "linecolor": "white",
           "ticks": "",
           "title": {
            "standoff": 15
           },
           "zerolinecolor": "white",
           "zerolinewidth": 2
          },
          "yaxis": {
           "automargin": true,
           "gridcolor": "white",
           "linecolor": "white",
           "ticks": "",
           "title": {
            "standoff": 15
           },
           "zerolinecolor": "white",
           "zerolinewidth": 2
          }
         }
        },
        "xaxis": {
         "anchor": "y",
         "domain": [
          0,
          1
         ],
         "title": {
          "text": "Metric"
         }
        },
        "yaxis": {
         "anchor": "x",
         "domain": [
          0,
          1
         ],
         "title": {
          "text": "Promedio"
         }
        }
       }
      }
     },
     "metadata": {},
     "output_type": "display_data"
    }
   ],
   "source": [
    "import plotly.express as px\n",
    "df = df_res[df_res['Metric'] != 'solver']\n",
    "fig = px.bar(df, x=\"Metric\", y=\"Promedio\",\n",
    "             color='Optimzed Metric', barmode='group',error_y=\"Desviacion_Estandar\",\n",
    "             height=400)\n",
    "fig.show()"
   ]
  },
  {
   "cell_type": "markdown",
   "metadata": {},
   "source": [
    "## T-tests"
   ]
  },
  {
   "cell_type": "code",
   "execution_count": null,
   "metadata": {},
   "outputs": [
    {
     "data": {
      "text/html": [
       "<div>\n",
       "<style scoped>\n",
       "    .dataframe tbody tr th:only-of-type {\n",
       "        vertical-align: middle;\n",
       "    }\n",
       "\n",
       "    .dataframe tbody tr th {\n",
       "        vertical-align: top;\n",
       "    }\n",
       "\n",
       "    .dataframe thead th {\n",
       "        text-align: right;\n",
       "    }\n",
       "</style>\n",
       "<table border=\"1\" class=\"dataframe\">\n",
       "  <thead>\n",
       "    <tr style=\"text-align: right;\">\n",
       "      <th></th>\n",
       "      <th>Weat_Weat</th>\n",
       "      <th>Weat_RND</th>\n",
       "      <th>Weat_RIPA</th>\n",
       "      <th>Weat_RNSB</th>\n",
       "      <th>Weat_ECT</th>\n",
       "      <th>Weat_Weates</th>\n",
       "    </tr>\n",
       "  </thead>\n",
       "  <tbody>\n",
       "    <tr>\n",
       "      <th>0</th>\n",
       "      <td>0.149077</td>\n",
       "      <td>0.149077</td>\n",
       "      <td>0.149077</td>\n",
       "      <td>0.149077</td>\n",
       "      <td>0.149077</td>\n",
       "      <td>0.149077</td>\n",
       "    </tr>\n",
       "    <tr>\n",
       "      <th>1</th>\n",
       "      <td>0.055662</td>\n",
       "      <td>0.055662</td>\n",
       "      <td>0.055662</td>\n",
       "      <td>0.055662</td>\n",
       "      <td>0.055662</td>\n",
       "      <td>0.055662</td>\n",
       "    </tr>\n",
       "    <tr>\n",
       "      <th>2</th>\n",
       "      <td>0.056467</td>\n",
       "      <td>0.056467</td>\n",
       "      <td>0.056467</td>\n",
       "      <td>0.056467</td>\n",
       "      <td>0.056467</td>\n",
       "      <td>0.056467</td>\n",
       "    </tr>\n",
       "    <tr>\n",
       "      <th>3</th>\n",
       "      <td>0.054027</td>\n",
       "      <td>0.054027</td>\n",
       "      <td>0.054027</td>\n",
       "      <td>0.054027</td>\n",
       "      <td>0.054027</td>\n",
       "      <td>0.054027</td>\n",
       "    </tr>\n",
       "    <tr>\n",
       "      <th>4</th>\n",
       "      <td>0.092811</td>\n",
       "      <td>0.092811</td>\n",
       "      <td>0.092811</td>\n",
       "      <td>0.092811</td>\n",
       "      <td>0.092811</td>\n",
       "      <td>0.092811</td>\n",
       "    </tr>\n",
       "    <tr>\n",
       "      <th>5</th>\n",
       "      <td>0.036941</td>\n",
       "      <td>0.036941</td>\n",
       "      <td>0.036941</td>\n",
       "      <td>0.036941</td>\n",
       "      <td>0.036941</td>\n",
       "      <td>0.036941</td>\n",
       "    </tr>\n",
       "    <tr>\n",
       "      <th>6</th>\n",
       "      <td>0.069425</td>\n",
       "      <td>0.069425</td>\n",
       "      <td>0.069425</td>\n",
       "      <td>0.069425</td>\n",
       "      <td>0.069425</td>\n",
       "      <td>0.069425</td>\n",
       "    </tr>\n",
       "    <tr>\n",
       "      <th>7</th>\n",
       "      <td>0.079276</td>\n",
       "      <td>0.079276</td>\n",
       "      <td>0.079276</td>\n",
       "      <td>0.079276</td>\n",
       "      <td>0.079276</td>\n",
       "      <td>0.079276</td>\n",
       "    </tr>\n",
       "    <tr>\n",
       "      <th>8</th>\n",
       "      <td>0.057184</td>\n",
       "      <td>0.057184</td>\n",
       "      <td>0.057184</td>\n",
       "      <td>0.057184</td>\n",
       "      <td>0.057184</td>\n",
       "      <td>0.057184</td>\n",
       "    </tr>\n",
       "    <tr>\n",
       "      <th>9</th>\n",
       "      <td>0.100203</td>\n",
       "      <td>0.100203</td>\n",
       "      <td>0.100203</td>\n",
       "      <td>0.100203</td>\n",
       "      <td>0.100203</td>\n",
       "      <td>0.100203</td>\n",
       "    </tr>\n",
       "  </tbody>\n",
       "</table>\n",
       "</div>"
      ],
      "text/plain": [
       "   Weat_Weat  Weat_RND  Weat_RIPA  Weat_RNSB  Weat_ECT  Weat_Weates\n",
       "0   0.149077  0.149077   0.149077   0.149077  0.149077     0.149077\n",
       "1   0.055662  0.055662   0.055662   0.055662  0.055662     0.055662\n",
       "2   0.056467  0.056467   0.056467   0.056467  0.056467     0.056467\n",
       "3   0.054027  0.054027   0.054027   0.054027  0.054027     0.054027\n",
       "4   0.092811  0.092811   0.092811   0.092811  0.092811     0.092811\n",
       "5   0.036941  0.036941   0.036941   0.036941  0.036941     0.036941\n",
       "6   0.069425  0.069425   0.069425   0.069425  0.069425     0.069425\n",
       "7   0.079276  0.079276   0.079276   0.079276  0.079276     0.079276\n",
       "8   0.057184  0.057184   0.057184   0.057184  0.057184     0.057184\n",
       "9   0.100203  0.100203   0.100203   0.100203  0.100203     0.100203"
      ]
     },
     "execution_count": 24,
     "metadata": {},
     "output_type": "execute_result"
    }
   ],
   "source": [
    "import pandas as pd\n",
    "\n",
    "# Supongamos que tienes una lista llamada 'lista_dataframes' que contiene tus 6 DataFrames\n",
    "\n",
    "# Crear un nuevo DataFrame vacío para almacenar las columnas 'WEAT' de cada DataFrame\n",
    "df_weat = pd.DataFrame()\n",
    "i = 0\n",
    "# Iterar sobre cada DataFrame en la lista y agregar la columna 'WEAT' al nuevo DataFrame\n",
    "for df in bests_df:\n",
    "    met = metrics[i]\n",
    "    df_weat = pd.concat([df_weat, df['Weat'].rename('Weat_'+ met )], axis=1)\n",
    "    i += 1\n",
    "\n",
    "# Mostrar el nuevo DataFrame con las columnas 'WEAT' de cada DataFrame\n",
    "df_weat\n"
   ]
  },
  {
   "cell_type": "code",
   "execution_count": null,
   "metadata": {},
   "outputs": [
    {
     "data": {
      "text/html": [
       "<div>\n",
       "<style scoped>\n",
       "    .dataframe tbody tr th:only-of-type {\n",
       "        vertical-align: middle;\n",
       "    }\n",
       "\n",
       "    .dataframe tbody tr th {\n",
       "        vertical-align: top;\n",
       "    }\n",
       "\n",
       "    .dataframe thead th {\n",
       "        text-align: right;\n",
       "    }\n",
       "</style>\n",
       "<table border=\"1\" class=\"dataframe\">\n",
       "  <thead>\n",
       "    <tr style=\"text-align: right;\">\n",
       "      <th></th>\n",
       "      <th>Weat_Weat</th>\n",
       "      <th>Weat_RND</th>\n",
       "      <th>Weat_RIPA</th>\n",
       "      <th>Weat_RNSB</th>\n",
       "      <th>Weat_ECT</th>\n",
       "      <th>Weat_Weates</th>\n",
       "    </tr>\n",
       "  </thead>\n",
       "  <tbody>\n",
       "    <tr>\n",
       "      <th>Weat_Weat</th>\n",
       "      <td>1.0</td>\n",
       "      <td>1.0</td>\n",
       "      <td>0.999999</td>\n",
       "      <td>0.999999</td>\n",
       "      <td>0.999999</td>\n",
       "      <td>0.999999</td>\n",
       "    </tr>\n",
       "    <tr>\n",
       "      <th>Weat_RND</th>\n",
       "      <td>1.0</td>\n",
       "      <td>1.0</td>\n",
       "      <td>0.999999</td>\n",
       "      <td>0.999998</td>\n",
       "      <td>0.999998</td>\n",
       "      <td>0.999999</td>\n",
       "    </tr>\n",
       "    <tr>\n",
       "      <th>Weat_RIPA</th>\n",
       "      <td>0.999999</td>\n",
       "      <td>0.999999</td>\n",
       "      <td>1.0</td>\n",
       "      <td>1.0</td>\n",
       "      <td>1.0</td>\n",
       "      <td>1.0</td>\n",
       "    </tr>\n",
       "    <tr>\n",
       "      <th>Weat_RNSB</th>\n",
       "      <td>0.999999</td>\n",
       "      <td>0.999998</td>\n",
       "      <td>1.0</td>\n",
       "      <td>1.0</td>\n",
       "      <td>1.0</td>\n",
       "      <td>0.999999</td>\n",
       "    </tr>\n",
       "    <tr>\n",
       "      <th>Weat_ECT</th>\n",
       "      <td>0.999999</td>\n",
       "      <td>0.999998</td>\n",
       "      <td>1.0</td>\n",
       "      <td>1.0</td>\n",
       "      <td>1.0</td>\n",
       "      <td>0.999999</td>\n",
       "    </tr>\n",
       "    <tr>\n",
       "      <th>Weat_Weates</th>\n",
       "      <td>0.999999</td>\n",
       "      <td>0.999999</td>\n",
       "      <td>1.0</td>\n",
       "      <td>0.999999</td>\n",
       "      <td>0.999999</td>\n",
       "      <td>1.0</td>\n",
       "    </tr>\n",
       "  </tbody>\n",
       "</table>\n",
       "</div>"
      ],
      "text/plain": [
       "            Weat_Weat  Weat_RND Weat_RIPA Weat_RNSB  Weat_ECT Weat_Weates\n",
       "Weat_Weat         1.0       1.0  0.999999  0.999999  0.999999    0.999999\n",
       "Weat_RND          1.0       1.0  0.999999  0.999998  0.999998    0.999999\n",
       "Weat_RIPA    0.999999  0.999999       1.0       1.0       1.0         1.0\n",
       "Weat_RNSB    0.999999  0.999998       1.0       1.0       1.0    0.999999\n",
       "Weat_ECT     0.999999  0.999998       1.0       1.0       1.0    0.999999\n",
       "Weat_Weates  0.999999  0.999999       1.0  0.999999  0.999999         1.0"
      ]
     },
     "execution_count": 25,
     "metadata": {},
     "output_type": "execute_result"
    }
   ],
   "source": [
    "import pandas as pd\n",
    "import numpy as np\n",
    "from scipy.stats import ttest_rel\n",
    "\n",
    "# Supongamos que tienes un DataFrame llamado 'df' con las columnas mencionadas\n",
    "\n",
    "# Crear un DataFrame vacío para almacenar los p-values\n",
    "p_values = pd.DataFrame(index=df_weat.columns, columns=df_weat.columns)\n",
    "\n",
    "# Iterar sobre todas las combinaciones de columnas\n",
    "for col1 in df_weat.columns:\n",
    "    for col2 in df_weat.columns:\n",
    "        # Ejecutar el t-test entre las dos columnas\n",
    "        t_statistic, p_value = ttest_rel(df_weat[col1], df_weat[col2])\n",
    "        # Almacenar el p-value en la matriz\n",
    "        p_values.loc[col1, col2] = p_value\n",
    "\n",
    "# Mostrar la matriz de p-values\n",
    "p_values\n"
   ]
  },
  {
   "cell_type": "code",
   "execution_count": null,
   "metadata": {},
   "outputs": [
    {
     "data": {
      "text/html": [
       "<div>\n",
       "<style scoped>\n",
       "    .dataframe tbody tr th:only-of-type {\n",
       "        vertical-align: middle;\n",
       "    }\n",
       "\n",
       "    .dataframe tbody tr th {\n",
       "        vertical-align: top;\n",
       "    }\n",
       "\n",
       "    .dataframe thead th {\n",
       "        text-align: right;\n",
       "    }\n",
       "</style>\n",
       "<table border=\"1\" class=\"dataframe\">\n",
       "  <thead>\n",
       "    <tr style=\"text-align: right;\">\n",
       "      <th></th>\n",
       "      <th>Weat_Weat</th>\n",
       "      <th>Weat_RND</th>\n",
       "      <th>Weat_RIPA</th>\n",
       "      <th>Weat_RNSB</th>\n",
       "      <th>Weat_ECT</th>\n",
       "      <th>Weat_Weates</th>\n",
       "    </tr>\n",
       "  </thead>\n",
       "  <tbody>\n",
       "    <tr>\n",
       "      <th>Weat_Weat</th>\n",
       "      <td>NaN</td>\n",
       "      <td>NaN</td>\n",
       "      <td>NaN</td>\n",
       "      <td>NaN</td>\n",
       "      <td>NaN</td>\n",
       "      <td>NaN</td>\n",
       "    </tr>\n",
       "    <tr>\n",
       "      <th>Weat_RND</th>\n",
       "      <td>NaN</td>\n",
       "      <td>NaN</td>\n",
       "      <td>NaN</td>\n",
       "      <td>NaN</td>\n",
       "      <td>NaN</td>\n",
       "      <td>NaN</td>\n",
       "    </tr>\n",
       "    <tr>\n",
       "      <th>Weat_RIPA</th>\n",
       "      <td>NaN</td>\n",
       "      <td>NaN</td>\n",
       "      <td>NaN</td>\n",
       "      <td>NaN</td>\n",
       "      <td>NaN</td>\n",
       "      <td>NaN</td>\n",
       "    </tr>\n",
       "    <tr>\n",
       "      <th>Weat_RNSB</th>\n",
       "      <td>NaN</td>\n",
       "      <td>NaN</td>\n",
       "      <td>NaN</td>\n",
       "      <td>NaN</td>\n",
       "      <td>NaN</td>\n",
       "      <td>NaN</td>\n",
       "    </tr>\n",
       "    <tr>\n",
       "      <th>Weat_ECT</th>\n",
       "      <td>NaN</td>\n",
       "      <td>NaN</td>\n",
       "      <td>NaN</td>\n",
       "      <td>NaN</td>\n",
       "      <td>NaN</td>\n",
       "      <td>NaN</td>\n",
       "    </tr>\n",
       "    <tr>\n",
       "      <th>Weat_Weates</th>\n",
       "      <td>NaN</td>\n",
       "      <td>NaN</td>\n",
       "      <td>NaN</td>\n",
       "      <td>NaN</td>\n",
       "      <td>NaN</td>\n",
       "      <td>NaN</td>\n",
       "    </tr>\n",
       "  </tbody>\n",
       "</table>\n",
       "</div>"
      ],
      "text/plain": [
       "            Weat_Weat Weat_RND Weat_RIPA Weat_RNSB Weat_ECT Weat_Weates\n",
       "Weat_Weat         NaN      NaN       NaN       NaN      NaN         NaN\n",
       "Weat_RND          NaN      NaN       NaN       NaN      NaN         NaN\n",
       "Weat_RIPA         NaN      NaN       NaN       NaN      NaN         NaN\n",
       "Weat_RNSB         NaN      NaN       NaN       NaN      NaN         NaN\n",
       "Weat_ECT          NaN      NaN       NaN       NaN      NaN         NaN\n",
       "Weat_Weates       NaN      NaN       NaN       NaN      NaN         NaN"
      ]
     },
     "execution_count": 26,
     "metadata": {},
     "output_type": "execute_result"
    }
   ],
   "source": [
    "p_values[p_values < 0.05]"
   ]
  },
  {
   "cell_type": "code",
   "execution_count": null,
   "metadata": {},
   "outputs": [
    {
     "data": {
      "application/vnd.plotly.v1+json": {
       "config": {
        "plotlyServerURL": "https://plot.ly"
       },
       "data": [
        {
         "coloraxis": "coloraxis",
         "hovertemplate": "x: %{x}<br>y: %{y}<br>color: %{z}<extra></extra>",
         "name": "0",
         "type": "heatmap",
         "x": [
          "Weat_Weat",
          "Weat_RND",
          "Weat_RIPA",
          "Weat_RNSB",
          "Weat_ECT",
          "Weat_Weates"
         ],
         "xaxis": "x",
         "y": [
          "Weat_Weat",
          "Weat_RND",
          "Weat_RIPA",
          "Weat_RNSB",
          "Weat_ECT",
          "Weat_Weates"
         ],
         "yaxis": "y",
         "z": [
          [
           1,
           0.999999604625147,
           0.9999989066165753,
           0.9999988850326985,
           0.9999988047892816,
           0.9999993980947607
          ],
          [
           0.999999604625147,
           1,
           0.999998511242127,
           0.9999984896582407,
           0.9999984094148892,
           0.9999990027201677
          ],
          [
           0.9999989066165753,
           0.999998511242127,
           1,
           0.9999999784161717,
           0.9999998981726561,
           0.9999995085219178
          ],
          [
           0.9999988850326985,
           0.9999984896582407,
           0.9999999784161717,
           1,
           0.999999919756479,
           0.9999994869380697
          ],
          [
           0.9999988047892816,
           0.9999984094148892,
           0.9999998981726561,
           0.999999919756479,
           1,
           0.9999994066946061
          ],
          [
           0.9999993980947607,
           0.9999990027201677,
           0.9999995085219178,
           0.9999994869380697,
           0.9999994066946061,
           1
          ]
         ]
        }
       ],
       "layout": {
        "coloraxis": {
         "colorscale": [
          [
           0,
           "#0d0887"
          ],
          [
           0.1111111111111111,
           "#46039f"
          ],
          [
           0.2222222222222222,
           "#7201a8"
          ],
          [
           0.3333333333333333,
           "#9c179e"
          ],
          [
           0.4444444444444444,
           "#bd3786"
          ],
          [
           0.5555555555555556,
           "#d8576b"
          ],
          [
           0.6666666666666666,
           "#ed7953"
          ],
          [
           0.7777777777777778,
           "#fb9f3a"
          ],
          [
           0.8888888888888888,
           "#fdca26"
          ],
          [
           1,
           "#f0f921"
          ]
         ]
        },
        "margin": {
         "t": 60
        },
        "template": {
         "data": {
          "bar": [
           {
            "error_x": {
             "color": "#2a3f5f"
            },
            "error_y": {
             "color": "#2a3f5f"
            },
            "marker": {
             "line": {
              "color": "#E5ECF6",
              "width": 0.5
             },
             "pattern": {
              "fillmode": "overlay",
              "size": 10,
              "solidity": 0.2
             }
            },
            "type": "bar"
           }
          ],
          "barpolar": [
           {
            "marker": {
             "line": {
              "color": "#E5ECF6",
              "width": 0.5
             },
             "pattern": {
              "fillmode": "overlay",
              "size": 10,
              "solidity": 0.2
             }
            },
            "type": "barpolar"
           }
          ],
          "carpet": [
           {
            "aaxis": {
             "endlinecolor": "#2a3f5f",
             "gridcolor": "white",
             "linecolor": "white",
             "minorgridcolor": "white",
             "startlinecolor": "#2a3f5f"
            },
            "baxis": {
             "endlinecolor": "#2a3f5f",
             "gridcolor": "white",
             "linecolor": "white",
             "minorgridcolor": "white",
             "startlinecolor": "#2a3f5f"
            },
            "type": "carpet"
           }
          ],
          "choropleth": [
           {
            "colorbar": {
             "outlinewidth": 0,
             "ticks": ""
            },
            "type": "choropleth"
           }
          ],
          "contour": [
           {
            "colorbar": {
             "outlinewidth": 0,
             "ticks": ""
            },
            "colorscale": [
             [
              0,
              "#0d0887"
             ],
             [
              0.1111111111111111,
              "#46039f"
             ],
             [
              0.2222222222222222,
              "#7201a8"
             ],
             [
              0.3333333333333333,
              "#9c179e"
             ],
             [
              0.4444444444444444,
              "#bd3786"
             ],
             [
              0.5555555555555556,
              "#d8576b"
             ],
             [
              0.6666666666666666,
              "#ed7953"
             ],
             [
              0.7777777777777778,
              "#fb9f3a"
             ],
             [
              0.8888888888888888,
              "#fdca26"
             ],
             [
              1,
              "#f0f921"
             ]
            ],
            "type": "contour"
           }
          ],
          "contourcarpet": [
           {
            "colorbar": {
             "outlinewidth": 0,
             "ticks": ""
            },
            "type": "contourcarpet"
           }
          ],
          "heatmap": [
           {
            "colorbar": {
             "outlinewidth": 0,
             "ticks": ""
            },
            "colorscale": [
             [
              0,
              "#0d0887"
             ],
             [
              0.1111111111111111,
              "#46039f"
             ],
             [
              0.2222222222222222,
              "#7201a8"
             ],
             [
              0.3333333333333333,
              "#9c179e"
             ],
             [
              0.4444444444444444,
              "#bd3786"
             ],
             [
              0.5555555555555556,
              "#d8576b"
             ],
             [
              0.6666666666666666,
              "#ed7953"
             ],
             [
              0.7777777777777778,
              "#fb9f3a"
             ],
             [
              0.8888888888888888,
              "#fdca26"
             ],
             [
              1,
              "#f0f921"
             ]
            ],
            "type": "heatmap"
           }
          ],
          "heatmapgl": [
           {
            "colorbar": {
             "outlinewidth": 0,
             "ticks": ""
            },
            "colorscale": [
             [
              0,
              "#0d0887"
             ],
             [
              0.1111111111111111,
              "#46039f"
             ],
             [
              0.2222222222222222,
              "#7201a8"
             ],
             [
              0.3333333333333333,
              "#9c179e"
             ],
             [
              0.4444444444444444,
              "#bd3786"
             ],
             [
              0.5555555555555556,
              "#d8576b"
             ],
             [
              0.6666666666666666,
              "#ed7953"
             ],
             [
              0.7777777777777778,
              "#fb9f3a"
             ],
             [
              0.8888888888888888,
              "#fdca26"
             ],
             [
              1,
              "#f0f921"
             ]
            ],
            "type": "heatmapgl"
           }
          ],
          "histogram": [
           {
            "marker": {
             "pattern": {
              "fillmode": "overlay",
              "size": 10,
              "solidity": 0.2
             }
            },
            "type": "histogram"
           }
          ],
          "histogram2d": [
           {
            "colorbar": {
             "outlinewidth": 0,
             "ticks": ""
            },
            "colorscale": [
             [
              0,
              "#0d0887"
             ],
             [
              0.1111111111111111,
              "#46039f"
             ],
             [
              0.2222222222222222,
              "#7201a8"
             ],
             [
              0.3333333333333333,
              "#9c179e"
             ],
             [
              0.4444444444444444,
              "#bd3786"
             ],
             [
              0.5555555555555556,
              "#d8576b"
             ],
             [
              0.6666666666666666,
              "#ed7953"
             ],
             [
              0.7777777777777778,
              "#fb9f3a"
             ],
             [
              0.8888888888888888,
              "#fdca26"
             ],
             [
              1,
              "#f0f921"
             ]
            ],
            "type": "histogram2d"
           }
          ],
          "histogram2dcontour": [
           {
            "colorbar": {
             "outlinewidth": 0,
             "ticks": ""
            },
            "colorscale": [
             [
              0,
              "#0d0887"
             ],
             [
              0.1111111111111111,
              "#46039f"
             ],
             [
              0.2222222222222222,
              "#7201a8"
             ],
             [
              0.3333333333333333,
              "#9c179e"
             ],
             [
              0.4444444444444444,
              "#bd3786"
             ],
             [
              0.5555555555555556,
              "#d8576b"
             ],
             [
              0.6666666666666666,
              "#ed7953"
             ],
             [
              0.7777777777777778,
              "#fb9f3a"
             ],
             [
              0.8888888888888888,
              "#fdca26"
             ],
             [
              1,
              "#f0f921"
             ]
            ],
            "type": "histogram2dcontour"
           }
          ],
          "mesh3d": [
           {
            "colorbar": {
             "outlinewidth": 0,
             "ticks": ""
            },
            "type": "mesh3d"
           }
          ],
          "parcoords": [
           {
            "line": {
             "colorbar": {
              "outlinewidth": 0,
              "ticks": ""
             }
            },
            "type": "parcoords"
           }
          ],
          "pie": [
           {
            "automargin": true,
            "type": "pie"
           }
          ],
          "scatter": [
           {
            "fillpattern": {
             "fillmode": "overlay",
             "size": 10,
             "solidity": 0.2
            },
            "type": "scatter"
           }
          ],
          "scatter3d": [
           {
            "line": {
             "colorbar": {
              "outlinewidth": 0,
              "ticks": ""
             }
            },
            "marker": {
             "colorbar": {
              "outlinewidth": 0,
              "ticks": ""
             }
            },
            "type": "scatter3d"
           }
          ],
          "scattercarpet": [
           {
            "marker": {
             "colorbar": {
              "outlinewidth": 0,
              "ticks": ""
             }
            },
            "type": "scattercarpet"
           }
          ],
          "scattergeo": [
           {
            "marker": {
             "colorbar": {
              "outlinewidth": 0,
              "ticks": ""
             }
            },
            "type": "scattergeo"
           }
          ],
          "scattergl": [
           {
            "marker": {
             "colorbar": {
              "outlinewidth": 0,
              "ticks": ""
             }
            },
            "type": "scattergl"
           }
          ],
          "scattermapbox": [
           {
            "marker": {
             "colorbar": {
              "outlinewidth": 0,
              "ticks": ""
             }
            },
            "type": "scattermapbox"
           }
          ],
          "scatterpolar": [
           {
            "marker": {
             "colorbar": {
              "outlinewidth": 0,
              "ticks": ""
             }
            },
            "type": "scatterpolar"
           }
          ],
          "scatterpolargl": [
           {
            "marker": {
             "colorbar": {
              "outlinewidth": 0,
              "ticks": ""
             }
            },
            "type": "scatterpolargl"
           }
          ],
          "scatterternary": [
           {
            "marker": {
             "colorbar": {
              "outlinewidth": 0,
              "ticks": ""
             }
            },
            "type": "scatterternary"
           }
          ],
          "surface": [
           {
            "colorbar": {
             "outlinewidth": 0,
             "ticks": ""
            },
            "colorscale": [
             [
              0,
              "#0d0887"
             ],
             [
              0.1111111111111111,
              "#46039f"
             ],
             [
              0.2222222222222222,
              "#7201a8"
             ],
             [
              0.3333333333333333,
              "#9c179e"
             ],
             [
              0.4444444444444444,
              "#bd3786"
             ],
             [
              0.5555555555555556,
              "#d8576b"
             ],
             [
              0.6666666666666666,
              "#ed7953"
             ],
             [
              0.7777777777777778,
              "#fb9f3a"
             ],
             [
              0.8888888888888888,
              "#fdca26"
             ],
             [
              1,
              "#f0f921"
             ]
            ],
            "type": "surface"
           }
          ],
          "table": [
           {
            "cells": {
             "fill": {
              "color": "#EBF0F8"
             },
             "line": {
              "color": "white"
             }
            },
            "header": {
             "fill": {
              "color": "#C8D4E3"
             },
             "line": {
              "color": "white"
             }
            },
            "type": "table"
           }
          ]
         },
         "layout": {
          "annotationdefaults": {
           "arrowcolor": "#2a3f5f",
           "arrowhead": 0,
           "arrowwidth": 1
          },
          "autotypenumbers": "strict",
          "coloraxis": {
           "colorbar": {
            "outlinewidth": 0,
            "ticks": ""
           }
          },
          "colorscale": {
           "diverging": [
            [
             0,
             "#8e0152"
            ],
            [
             0.1,
             "#c51b7d"
            ],
            [
             0.2,
             "#de77ae"
            ],
            [
             0.3,
             "#f1b6da"
            ],
            [
             0.4,
             "#fde0ef"
            ],
            [
             0.5,
             "#f7f7f7"
            ],
            [
             0.6,
             "#e6f5d0"
            ],
            [
             0.7,
             "#b8e186"
            ],
            [
             0.8,
             "#7fbc41"
            ],
            [
             0.9,
             "#4d9221"
            ],
            [
             1,
             "#276419"
            ]
           ],
           "sequential": [
            [
             0,
             "#0d0887"
            ],
            [
             0.1111111111111111,
             "#46039f"
            ],
            [
             0.2222222222222222,
             "#7201a8"
            ],
            [
             0.3333333333333333,
             "#9c179e"
            ],
            [
             0.4444444444444444,
             "#bd3786"
            ],
            [
             0.5555555555555556,
             "#d8576b"
            ],
            [
             0.6666666666666666,
             "#ed7953"
            ],
            [
             0.7777777777777778,
             "#fb9f3a"
            ],
            [
             0.8888888888888888,
             "#fdca26"
            ],
            [
             1,
             "#f0f921"
            ]
           ],
           "sequentialminus": [
            [
             0,
             "#0d0887"
            ],
            [
             0.1111111111111111,
             "#46039f"
            ],
            [
             0.2222222222222222,
             "#7201a8"
            ],
            [
             0.3333333333333333,
             "#9c179e"
            ],
            [
             0.4444444444444444,
             "#bd3786"
            ],
            [
             0.5555555555555556,
             "#d8576b"
            ],
            [
             0.6666666666666666,
             "#ed7953"
            ],
            [
             0.7777777777777778,
             "#fb9f3a"
            ],
            [
             0.8888888888888888,
             "#fdca26"
            ],
            [
             1,
             "#f0f921"
            ]
           ]
          },
          "colorway": [
           "#636efa",
           "#EF553B",
           "#00cc96",
           "#ab63fa",
           "#FFA15A",
           "#19d3f3",
           "#FF6692",
           "#B6E880",
           "#FF97FF",
           "#FECB52"
          ],
          "font": {
           "color": "#2a3f5f"
          },
          "geo": {
           "bgcolor": "white",
           "lakecolor": "white",
           "landcolor": "#E5ECF6",
           "showlakes": true,
           "showland": true,
           "subunitcolor": "white"
          },
          "hoverlabel": {
           "align": "left"
          },
          "hovermode": "closest",
          "mapbox": {
           "style": "light"
          },
          "paper_bgcolor": "white",
          "plot_bgcolor": "#E5ECF6",
          "polar": {
           "angularaxis": {
            "gridcolor": "white",
            "linecolor": "white",
            "ticks": ""
           },
           "bgcolor": "#E5ECF6",
           "radialaxis": {
            "gridcolor": "white",
            "linecolor": "white",
            "ticks": ""
           }
          },
          "scene": {
           "xaxis": {
            "backgroundcolor": "#E5ECF6",
            "gridcolor": "white",
            "gridwidth": 2,
            "linecolor": "white",
            "showbackground": true,
            "ticks": "",
            "zerolinecolor": "white"
           },
           "yaxis": {
            "backgroundcolor": "#E5ECF6",
            "gridcolor": "white",
            "gridwidth": 2,
            "linecolor": "white",
            "showbackground": true,
            "ticks": "",
            "zerolinecolor": "white"
           },
           "zaxis": {
            "backgroundcolor": "#E5ECF6",
            "gridcolor": "white",
            "gridwidth": 2,
            "linecolor": "white",
            "showbackground": true,
            "ticks": "",
            "zerolinecolor": "white"
           }
          },
          "shapedefaults": {
           "line": {
            "color": "#2a3f5f"
           }
          },
          "ternary": {
           "aaxis": {
            "gridcolor": "white",
            "linecolor": "white",
            "ticks": ""
           },
           "baxis": {
            "gridcolor": "white",
            "linecolor": "white",
            "ticks": ""
           },
           "bgcolor": "#E5ECF6",
           "caxis": {
            "gridcolor": "white",
            "linecolor": "white",
            "ticks": ""
           }
          },
          "title": {
           "x": 0.05
          },
          "xaxis": {
           "automargin": true,
           "gridcolor": "white",
           "linecolor": "white",
           "ticks": "",
           "title": {
            "standoff": 15
           },
           "zerolinecolor": "white",
           "zerolinewidth": 2
          },
          "yaxis": {
           "automargin": true,
           "gridcolor": "white",
           "linecolor": "white",
           "ticks": "",
           "title": {
            "standoff": 15
           },
           "zerolinecolor": "white",
           "zerolinewidth": 2
          }
         }
        },
        "xaxis": {
         "anchor": "y",
         "constrain": "domain",
         "domain": [
          0,
          1
         ],
         "scaleanchor": "y"
        },
        "yaxis": {
         "anchor": "x",
         "autorange": "reversed",
         "constrain": "domain",
         "domain": [
          0,
          1
         ]
        }
       }
      }
     },
     "metadata": {},
     "output_type": "display_data"
    }
   ],
   "source": [
    "import plotly.express as px\n",
    "\n",
    "fig = px.imshow(p_values.astype(float))\n",
    "fig.show()"
   ]
  },
  {
   "cell_type": "code",
   "execution_count": null,
   "metadata": {},
   "outputs": [
    {
     "data": {
      "text/html": [
       "<div>\n",
       "<style scoped>\n",
       "    .dataframe tbody tr th:only-of-type {\n",
       "        vertical-align: middle;\n",
       "    }\n",
       "\n",
       "    .dataframe tbody tr th {\n",
       "        vertical-align: top;\n",
       "    }\n",
       "\n",
       "    .dataframe thead th {\n",
       "        text-align: right;\n",
       "    }\n",
       "</style>\n",
       "<table border=\"1\" class=\"dataframe\">\n",
       "  <thead>\n",
       "    <tr style=\"text-align: right;\">\n",
       "      <th></th>\n",
       "      <th>Ripa_Weat</th>\n",
       "      <th>Ripa_RND</th>\n",
       "      <th>Ripa_RIPA</th>\n",
       "      <th>Ripa_RNSB</th>\n",
       "      <th>Ripa_ECT</th>\n",
       "      <th>Ripa_Weates</th>\n",
       "    </tr>\n",
       "  </thead>\n",
       "  <tbody>\n",
       "    <tr>\n",
       "      <th>0</th>\n",
       "      <td>0.015027</td>\n",
       "      <td>0.015027</td>\n",
       "      <td>0.015027</td>\n",
       "      <td>0.015027</td>\n",
       "      <td>0.015027</td>\n",
       "      <td>0.015027</td>\n",
       "    </tr>\n",
       "    <tr>\n",
       "      <th>1</th>\n",
       "      <td>0.009694</td>\n",
       "      <td>0.009694</td>\n",
       "      <td>0.009694</td>\n",
       "      <td>0.009694</td>\n",
       "      <td>0.009694</td>\n",
       "      <td>0.009694</td>\n",
       "    </tr>\n",
       "    <tr>\n",
       "      <th>2</th>\n",
       "      <td>0.010889</td>\n",
       "      <td>0.010889</td>\n",
       "      <td>0.010889</td>\n",
       "      <td>0.010889</td>\n",
       "      <td>0.010889</td>\n",
       "      <td>0.010889</td>\n",
       "    </tr>\n",
       "    <tr>\n",
       "      <th>3</th>\n",
       "      <td>0.018523</td>\n",
       "      <td>0.018523</td>\n",
       "      <td>0.018523</td>\n",
       "      <td>0.018523</td>\n",
       "      <td>0.018523</td>\n",
       "      <td>0.018523</td>\n",
       "    </tr>\n",
       "    <tr>\n",
       "      <th>4</th>\n",
       "      <td>0.021247</td>\n",
       "      <td>0.021247</td>\n",
       "      <td>0.021247</td>\n",
       "      <td>0.021247</td>\n",
       "      <td>0.021247</td>\n",
       "      <td>0.021247</td>\n",
       "    </tr>\n",
       "    <tr>\n",
       "      <th>5</th>\n",
       "      <td>0.017064</td>\n",
       "      <td>0.017064</td>\n",
       "      <td>0.017064</td>\n",
       "      <td>0.017064</td>\n",
       "      <td>0.017064</td>\n",
       "      <td>0.017064</td>\n",
       "    </tr>\n",
       "    <tr>\n",
       "      <th>6</th>\n",
       "      <td>0.021044</td>\n",
       "      <td>0.021044</td>\n",
       "      <td>0.021044</td>\n",
       "      <td>0.021044</td>\n",
       "      <td>0.021044</td>\n",
       "      <td>0.021044</td>\n",
       "    </tr>\n",
       "    <tr>\n",
       "      <th>7</th>\n",
       "      <td>0.028194</td>\n",
       "      <td>0.028194</td>\n",
       "      <td>0.028194</td>\n",
       "      <td>0.028194</td>\n",
       "      <td>0.028194</td>\n",
       "      <td>0.028194</td>\n",
       "    </tr>\n",
       "    <tr>\n",
       "      <th>8</th>\n",
       "      <td>0.015152</td>\n",
       "      <td>0.015152</td>\n",
       "      <td>0.015152</td>\n",
       "      <td>0.015152</td>\n",
       "      <td>0.015152</td>\n",
       "      <td>0.015152</td>\n",
       "    </tr>\n",
       "    <tr>\n",
       "      <th>9</th>\n",
       "      <td>0.014539</td>\n",
       "      <td>0.014539</td>\n",
       "      <td>0.014539</td>\n",
       "      <td>0.014539</td>\n",
       "      <td>0.014539</td>\n",
       "      <td>0.014539</td>\n",
       "    </tr>\n",
       "  </tbody>\n",
       "</table>\n",
       "</div>"
      ],
      "text/plain": [
       "   Ripa_Weat  Ripa_RND  Ripa_RIPA  Ripa_RNSB  Ripa_ECT  Ripa_Weates\n",
       "0   0.015027  0.015027   0.015027   0.015027  0.015027     0.015027\n",
       "1   0.009694  0.009694   0.009694   0.009694  0.009694     0.009694\n",
       "2   0.010889  0.010889   0.010889   0.010889  0.010889     0.010889\n",
       "3   0.018523  0.018523   0.018523   0.018523  0.018523     0.018523\n",
       "4   0.021247  0.021247   0.021247   0.021247  0.021247     0.021247\n",
       "5   0.017064  0.017064   0.017064   0.017064  0.017064     0.017064\n",
       "6   0.021044  0.021044   0.021044   0.021044  0.021044     0.021044\n",
       "7   0.028194  0.028194   0.028194   0.028194  0.028194     0.028194\n",
       "8   0.015152  0.015152   0.015152   0.015152  0.015152     0.015152\n",
       "9   0.014539  0.014539   0.014539   0.014539  0.014539     0.014539"
      ]
     },
     "execution_count": 28,
     "metadata": {},
     "output_type": "execute_result"
    }
   ],
   "source": [
    "\n",
    "# Crear un nuevo DataFrame vacío para almacenar las columnas 'WEAT' de cada DataFrame\n",
    "df_ripa = pd.DataFrame()\n",
    "i = 0\n",
    "# Iterar sobre cada DataFrame en la lista y agregar la columna 'WEAT' al nuevo DataFrame\n",
    "for df in bests_df:\n",
    "    met = metrics[i]\n",
    "    df_ripa = pd.concat([df_ripa, df['RIPA'].rename('Ripa_'+ met )], axis=1)\n",
    "    i += 1\n",
    "\n",
    "# Mostrar el nuevo DataFrame con las columnas 'WEAT' de cada DataFrame\n",
    "df_ripa\n"
   ]
  },
  {
   "cell_type": "code",
   "execution_count": null,
   "metadata": {},
   "outputs": [
    {
     "data": {
      "text/html": [
       "<div>\n",
       "<style scoped>\n",
       "    .dataframe tbody tr th:only-of-type {\n",
       "        vertical-align: middle;\n",
       "    }\n",
       "\n",
       "    .dataframe tbody tr th {\n",
       "        vertical-align: top;\n",
       "    }\n",
       "\n",
       "    .dataframe thead th {\n",
       "        text-align: right;\n",
       "    }\n",
       "</style>\n",
       "<table border=\"1\" class=\"dataframe\">\n",
       "  <thead>\n",
       "    <tr style=\"text-align: right;\">\n",
       "      <th></th>\n",
       "      <th>Ripa_Weat</th>\n",
       "      <th>Ripa_RND</th>\n",
       "      <th>Ripa_RIPA</th>\n",
       "      <th>Ripa_RNSB</th>\n",
       "      <th>Ripa_ECT</th>\n",
       "      <th>Ripa_Weates</th>\n",
       "    </tr>\n",
       "  </thead>\n",
       "  <tbody>\n",
       "    <tr>\n",
       "      <th>Ripa_Weat</th>\n",
       "      <td>1.0</td>\n",
       "      <td>0.999998</td>\n",
       "      <td>0.999999</td>\n",
       "      <td>1.0</td>\n",
       "      <td>1.0</td>\n",
       "      <td>1.0</td>\n",
       "    </tr>\n",
       "    <tr>\n",
       "      <th>Ripa_RND</th>\n",
       "      <td>0.999998</td>\n",
       "      <td>1.0</td>\n",
       "      <td>0.999999</td>\n",
       "      <td>0.999998</td>\n",
       "      <td>0.999999</td>\n",
       "      <td>0.999999</td>\n",
       "    </tr>\n",
       "    <tr>\n",
       "      <th>Ripa_RIPA</th>\n",
       "      <td>0.999999</td>\n",
       "      <td>0.999999</td>\n",
       "      <td>1.0</td>\n",
       "      <td>0.999999</td>\n",
       "      <td>1.0</td>\n",
       "      <td>1.0</td>\n",
       "    </tr>\n",
       "    <tr>\n",
       "      <th>Ripa_RNSB</th>\n",
       "      <td>1.0</td>\n",
       "      <td>0.999998</td>\n",
       "      <td>0.999999</td>\n",
       "      <td>1.0</td>\n",
       "      <td>0.999999</td>\n",
       "      <td>0.999999</td>\n",
       "    </tr>\n",
       "    <tr>\n",
       "      <th>Ripa_ECT</th>\n",
       "      <td>1.0</td>\n",
       "      <td>0.999999</td>\n",
       "      <td>1.0</td>\n",
       "      <td>0.999999</td>\n",
       "      <td>1.0</td>\n",
       "      <td>1.0</td>\n",
       "    </tr>\n",
       "    <tr>\n",
       "      <th>Ripa_Weates</th>\n",
       "      <td>1.0</td>\n",
       "      <td>0.999999</td>\n",
       "      <td>1.0</td>\n",
       "      <td>0.999999</td>\n",
       "      <td>1.0</td>\n",
       "      <td>1.0</td>\n",
       "    </tr>\n",
       "  </tbody>\n",
       "</table>\n",
       "</div>"
      ],
      "text/plain": [
       "            Ripa_Weat  Ripa_RND Ripa_RIPA Ripa_RNSB  Ripa_ECT Ripa_Weates\n",
       "Ripa_Weat         1.0  0.999998  0.999999       1.0       1.0         1.0\n",
       "Ripa_RND     0.999998       1.0  0.999999  0.999998  0.999999    0.999999\n",
       "Ripa_RIPA    0.999999  0.999999       1.0  0.999999       1.0         1.0\n",
       "Ripa_RNSB         1.0  0.999998  0.999999       1.0  0.999999    0.999999\n",
       "Ripa_ECT          1.0  0.999999       1.0  0.999999       1.0         1.0\n",
       "Ripa_Weates       1.0  0.999999       1.0  0.999999       1.0         1.0"
      ]
     },
     "execution_count": 29,
     "metadata": {},
     "output_type": "execute_result"
    }
   ],
   "source": [
    "import pandas as pd\n",
    "import numpy as np\n",
    "from scipy.stats import ttest_rel\n",
    "\n",
    "# Supongamos que tienes un DataFrame llamado 'df' con las columnas mencionadas\n",
    "\n",
    "# Crear un DataFrame vacío para almacenar los p-values\n",
    "p_values_ripa = pd.DataFrame(index=df_ripa.columns, columns=df_ripa.columns)\n",
    "\n",
    "# Iterar sobre todas las combinaciones de columnas\n",
    "for col1 in df_ripa.columns:\n",
    "    for col2 in df_ripa.columns:\n",
    "        # Ejecutar el t-test entre las dos columnas\n",
    "        t_statistic, p_value = ttest_rel(df_ripa[col1], df_ripa[col2])\n",
    "        # Almacenar el p-value en la matriz\n",
    "        p_values_ripa.loc[col1, col2] = p_value\n",
    "\n",
    "# Mostrar la matriz de p-values\n",
    "p_values_ripa\n"
   ]
  },
  {
   "cell_type": "code",
   "execution_count": null,
   "metadata": {},
   "outputs": [
    {
     "data": {
      "text/html": [
       "<div>\n",
       "<style scoped>\n",
       "    .dataframe tbody tr th:only-of-type {\n",
       "        vertical-align: middle;\n",
       "    }\n",
       "\n",
       "    .dataframe tbody tr th {\n",
       "        vertical-align: top;\n",
       "    }\n",
       "\n",
       "    .dataframe thead th {\n",
       "        text-align: right;\n",
       "    }\n",
       "</style>\n",
       "<table border=\"1\" class=\"dataframe\">\n",
       "  <thead>\n",
       "    <tr style=\"text-align: right;\">\n",
       "      <th></th>\n",
       "      <th>Ripa_Weat</th>\n",
       "      <th>Ripa_RND</th>\n",
       "      <th>Ripa_RIPA</th>\n",
       "      <th>Ripa_RNSB</th>\n",
       "      <th>Ripa_ECT</th>\n",
       "      <th>Ripa_Weates</th>\n",
       "    </tr>\n",
       "  </thead>\n",
       "  <tbody>\n",
       "    <tr>\n",
       "      <th>Ripa_Weat</th>\n",
       "      <td>NaN</td>\n",
       "      <td>NaN</td>\n",
       "      <td>NaN</td>\n",
       "      <td>NaN</td>\n",
       "      <td>NaN</td>\n",
       "      <td>NaN</td>\n",
       "    </tr>\n",
       "    <tr>\n",
       "      <th>Ripa_RND</th>\n",
       "      <td>NaN</td>\n",
       "      <td>NaN</td>\n",
       "      <td>NaN</td>\n",
       "      <td>NaN</td>\n",
       "      <td>NaN</td>\n",
       "      <td>NaN</td>\n",
       "    </tr>\n",
       "    <tr>\n",
       "      <th>Ripa_RIPA</th>\n",
       "      <td>NaN</td>\n",
       "      <td>NaN</td>\n",
       "      <td>NaN</td>\n",
       "      <td>NaN</td>\n",
       "      <td>NaN</td>\n",
       "      <td>NaN</td>\n",
       "    </tr>\n",
       "    <tr>\n",
       "      <th>Ripa_RNSB</th>\n",
       "      <td>NaN</td>\n",
       "      <td>NaN</td>\n",
       "      <td>NaN</td>\n",
       "      <td>NaN</td>\n",
       "      <td>NaN</td>\n",
       "      <td>NaN</td>\n",
       "    </tr>\n",
       "    <tr>\n",
       "      <th>Ripa_ECT</th>\n",
       "      <td>NaN</td>\n",
       "      <td>NaN</td>\n",
       "      <td>NaN</td>\n",
       "      <td>NaN</td>\n",
       "      <td>NaN</td>\n",
       "      <td>NaN</td>\n",
       "    </tr>\n",
       "    <tr>\n",
       "      <th>Ripa_Weates</th>\n",
       "      <td>NaN</td>\n",
       "      <td>NaN</td>\n",
       "      <td>NaN</td>\n",
       "      <td>NaN</td>\n",
       "      <td>NaN</td>\n",
       "      <td>NaN</td>\n",
       "    </tr>\n",
       "  </tbody>\n",
       "</table>\n",
       "</div>"
      ],
      "text/plain": [
       "            Ripa_Weat Ripa_RND Ripa_RIPA Ripa_RNSB Ripa_ECT Ripa_Weates\n",
       "Ripa_Weat         NaN      NaN       NaN       NaN      NaN         NaN\n",
       "Ripa_RND          NaN      NaN       NaN       NaN      NaN         NaN\n",
       "Ripa_RIPA         NaN      NaN       NaN       NaN      NaN         NaN\n",
       "Ripa_RNSB         NaN      NaN       NaN       NaN      NaN         NaN\n",
       "Ripa_ECT          NaN      NaN       NaN       NaN      NaN         NaN\n",
       "Ripa_Weates       NaN      NaN       NaN       NaN      NaN         NaN"
      ]
     },
     "execution_count": 30,
     "metadata": {},
     "output_type": "execute_result"
    }
   ],
   "source": [
    "p_values_ripa[p_values_ripa<0.05]"
   ]
  },
  {
   "cell_type": "code",
   "execution_count": null,
   "metadata": {},
   "outputs": [
    {
     "data": {
      "application/vnd.plotly.v1+json": {
       "config": {
        "plotlyServerURL": "https://plot.ly"
       },
       "data": [
        {
         "coloraxis": "coloraxis",
         "hovertemplate": "x: %{x}<br>y: %{y}<br>color: %{z}<extra></extra>",
         "name": "0",
         "type": "heatmap",
         "x": [
          "Ripa_Weat",
          "Ripa_RND",
          "Ripa_RIPA",
          "Ripa_RNSB",
          "Ripa_ECT",
          "Ripa_Weates"
         ],
         "xaxis": "x",
         "y": [
          "Ripa_Weat",
          "Ripa_RND",
          "Ripa_RIPA",
          "Ripa_RNSB",
          "Ripa_ECT",
          "Ripa_Weates"
         ],
         "yaxis": "y",
         "z": [
          [
           1,
           0.9999983329303268,
           0.9999993040388285,
           0.9999996924823586,
           0.9999997248526058,
           0.9999995306309368
          ],
          [
           0.9999983329303268,
           1,
           0.9999990288914617,
           0.9999980254131797,
           0.9999986080779946,
           0.9999988022997197
          ],
          [
           0.9999993040388285,
           0.9999990288914617,
           1,
           0.9999989965213867,
           0.9999995791863429,
           0.9999997734080397
          ],
          [
           0.9999996924823586,
           0.9999980254131797,
           0.9999989965213867,
           1,
           0.9999994173350966,
           0.9999992231134954
          ],
          [
           0.9999997248526058,
           0.9999986080779946,
           0.9999995791863429,
           0.9999994173350966,
           1,
           0.9999998057783536
          ],
          [
           0.9999995306309368,
           0.9999988022997197,
           0.9999997734080397,
           0.9999992231134954,
           0.9999998057783536,
           1
          ]
         ]
        }
       ],
       "layout": {
        "coloraxis": {
         "colorscale": [
          [
           0,
           "#0d0887"
          ],
          [
           0.1111111111111111,
           "#46039f"
          ],
          [
           0.2222222222222222,
           "#7201a8"
          ],
          [
           0.3333333333333333,
           "#9c179e"
          ],
          [
           0.4444444444444444,
           "#bd3786"
          ],
          [
           0.5555555555555556,
           "#d8576b"
          ],
          [
           0.6666666666666666,
           "#ed7953"
          ],
          [
           0.7777777777777778,
           "#fb9f3a"
          ],
          [
           0.8888888888888888,
           "#fdca26"
          ],
          [
           1,
           "#f0f921"
          ]
         ]
        },
        "margin": {
         "t": 60
        },
        "template": {
         "data": {
          "bar": [
           {
            "error_x": {
             "color": "#2a3f5f"
            },
            "error_y": {
             "color": "#2a3f5f"
            },
            "marker": {
             "line": {
              "color": "#E5ECF6",
              "width": 0.5
             },
             "pattern": {
              "fillmode": "overlay",
              "size": 10,
              "solidity": 0.2
             }
            },
            "type": "bar"
           }
          ],
          "barpolar": [
           {
            "marker": {
             "line": {
              "color": "#E5ECF6",
              "width": 0.5
             },
             "pattern": {
              "fillmode": "overlay",
              "size": 10,
              "solidity": 0.2
             }
            },
            "type": "barpolar"
           }
          ],
          "carpet": [
           {
            "aaxis": {
             "endlinecolor": "#2a3f5f",
             "gridcolor": "white",
             "linecolor": "white",
             "minorgridcolor": "white",
             "startlinecolor": "#2a3f5f"
            },
            "baxis": {
             "endlinecolor": "#2a3f5f",
             "gridcolor": "white",
             "linecolor": "white",
             "minorgridcolor": "white",
             "startlinecolor": "#2a3f5f"
            },
            "type": "carpet"
           }
          ],
          "choropleth": [
           {
            "colorbar": {
             "outlinewidth": 0,
             "ticks": ""
            },
            "type": "choropleth"
           }
          ],
          "contour": [
           {
            "colorbar": {
             "outlinewidth": 0,
             "ticks": ""
            },
            "colorscale": [
             [
              0,
              "#0d0887"
             ],
             [
              0.1111111111111111,
              "#46039f"
             ],
             [
              0.2222222222222222,
              "#7201a8"
             ],
             [
              0.3333333333333333,
              "#9c179e"
             ],
             [
              0.4444444444444444,
              "#bd3786"
             ],
             [
              0.5555555555555556,
              "#d8576b"
             ],
             [
              0.6666666666666666,
              "#ed7953"
             ],
             [
              0.7777777777777778,
              "#fb9f3a"
             ],
             [
              0.8888888888888888,
              "#fdca26"
             ],
             [
              1,
              "#f0f921"
             ]
            ],
            "type": "contour"
           }
          ],
          "contourcarpet": [
           {
            "colorbar": {
             "outlinewidth": 0,
             "ticks": ""
            },
            "type": "contourcarpet"
           }
          ],
          "heatmap": [
           {
            "colorbar": {
             "outlinewidth": 0,
             "ticks": ""
            },
            "colorscale": [
             [
              0,
              "#0d0887"
             ],
             [
              0.1111111111111111,
              "#46039f"
             ],
             [
              0.2222222222222222,
              "#7201a8"
             ],
             [
              0.3333333333333333,
              "#9c179e"
             ],
             [
              0.4444444444444444,
              "#bd3786"
             ],
             [
              0.5555555555555556,
              "#d8576b"
             ],
             [
              0.6666666666666666,
              "#ed7953"
             ],
             [
              0.7777777777777778,
              "#fb9f3a"
             ],
             [
              0.8888888888888888,
              "#fdca26"
             ],
             [
              1,
              "#f0f921"
             ]
            ],
            "type": "heatmap"
           }
          ],
          "heatmapgl": [
           {
            "colorbar": {
             "outlinewidth": 0,
             "ticks": ""
            },
            "colorscale": [
             [
              0,
              "#0d0887"
             ],
             [
              0.1111111111111111,
              "#46039f"
             ],
             [
              0.2222222222222222,
              "#7201a8"
             ],
             [
              0.3333333333333333,
              "#9c179e"
             ],
             [
              0.4444444444444444,
              "#bd3786"
             ],
             [
              0.5555555555555556,
              "#d8576b"
             ],
             [
              0.6666666666666666,
              "#ed7953"
             ],
             [
              0.7777777777777778,
              "#fb9f3a"
             ],
             [
              0.8888888888888888,
              "#fdca26"
             ],
             [
              1,
              "#f0f921"
             ]
            ],
            "type": "heatmapgl"
           }
          ],
          "histogram": [
           {
            "marker": {
             "pattern": {
              "fillmode": "overlay",
              "size": 10,
              "solidity": 0.2
             }
            },
            "type": "histogram"
           }
          ],
          "histogram2d": [
           {
            "colorbar": {
             "outlinewidth": 0,
             "ticks": ""
            },
            "colorscale": [
             [
              0,
              "#0d0887"
             ],
             [
              0.1111111111111111,
              "#46039f"
             ],
             [
              0.2222222222222222,
              "#7201a8"
             ],
             [
              0.3333333333333333,
              "#9c179e"
             ],
             [
              0.4444444444444444,
              "#bd3786"
             ],
             [
              0.5555555555555556,
              "#d8576b"
             ],
             [
              0.6666666666666666,
              "#ed7953"
             ],
             [
              0.7777777777777778,
              "#fb9f3a"
             ],
             [
              0.8888888888888888,
              "#fdca26"
             ],
             [
              1,
              "#f0f921"
             ]
            ],
            "type": "histogram2d"
           }
          ],
          "histogram2dcontour": [
           {
            "colorbar": {
             "outlinewidth": 0,
             "ticks": ""
            },
            "colorscale": [
             [
              0,
              "#0d0887"
             ],
             [
              0.1111111111111111,
              "#46039f"
             ],
             [
              0.2222222222222222,
              "#7201a8"
             ],
             [
              0.3333333333333333,
              "#9c179e"
             ],
             [
              0.4444444444444444,
              "#bd3786"
             ],
             [
              0.5555555555555556,
              "#d8576b"
             ],
             [
              0.6666666666666666,
              "#ed7953"
             ],
             [
              0.7777777777777778,
              "#fb9f3a"
             ],
             [
              0.8888888888888888,
              "#fdca26"
             ],
             [
              1,
              "#f0f921"
             ]
            ],
            "type": "histogram2dcontour"
           }
          ],
          "mesh3d": [
           {
            "colorbar": {
             "outlinewidth": 0,
             "ticks": ""
            },
            "type": "mesh3d"
           }
          ],
          "parcoords": [
           {
            "line": {
             "colorbar": {
              "outlinewidth": 0,
              "ticks": ""
             }
            },
            "type": "parcoords"
           }
          ],
          "pie": [
           {
            "automargin": true,
            "type": "pie"
           }
          ],
          "scatter": [
           {
            "fillpattern": {
             "fillmode": "overlay",
             "size": 10,
             "solidity": 0.2
            },
            "type": "scatter"
           }
          ],
          "scatter3d": [
           {
            "line": {
             "colorbar": {
              "outlinewidth": 0,
              "ticks": ""
             }
            },
            "marker": {
             "colorbar": {
              "outlinewidth": 0,
              "ticks": ""
             }
            },
            "type": "scatter3d"
           }
          ],
          "scattercarpet": [
           {
            "marker": {
             "colorbar": {
              "outlinewidth": 0,
              "ticks": ""
             }
            },
            "type": "scattercarpet"
           }
          ],
          "scattergeo": [
           {
            "marker": {
             "colorbar": {
              "outlinewidth": 0,
              "ticks": ""
             }
            },
            "type": "scattergeo"
           }
          ],
          "scattergl": [
           {
            "marker": {
             "colorbar": {
              "outlinewidth": 0,
              "ticks": ""
             }
            },
            "type": "scattergl"
           }
          ],
          "scattermapbox": [
           {
            "marker": {
             "colorbar": {
              "outlinewidth": 0,
              "ticks": ""
             }
            },
            "type": "scattermapbox"
           }
          ],
          "scatterpolar": [
           {
            "marker": {
             "colorbar": {
              "outlinewidth": 0,
              "ticks": ""
             }
            },
            "type": "scatterpolar"
           }
          ],
          "scatterpolargl": [
           {
            "marker": {
             "colorbar": {
              "outlinewidth": 0,
              "ticks": ""
             }
            },
            "type": "scatterpolargl"
           }
          ],
          "scatterternary": [
           {
            "marker": {
             "colorbar": {
              "outlinewidth": 0,
              "ticks": ""
             }
            },
            "type": "scatterternary"
           }
          ],
          "surface": [
           {
            "colorbar": {
             "outlinewidth": 0,
             "ticks": ""
            },
            "colorscale": [
             [
              0,
              "#0d0887"
             ],
             [
              0.1111111111111111,
              "#46039f"
             ],
             [
              0.2222222222222222,
              "#7201a8"
             ],
             [
              0.3333333333333333,
              "#9c179e"
             ],
             [
              0.4444444444444444,
              "#bd3786"
             ],
             [
              0.5555555555555556,
              "#d8576b"
             ],
             [
              0.6666666666666666,
              "#ed7953"
             ],
             [
              0.7777777777777778,
              "#fb9f3a"
             ],
             [
              0.8888888888888888,
              "#fdca26"
             ],
             [
              1,
              "#f0f921"
             ]
            ],
            "type": "surface"
           }
          ],
          "table": [
           {
            "cells": {
             "fill": {
              "color": "#EBF0F8"
             },
             "line": {
              "color": "white"
             }
            },
            "header": {
             "fill": {
              "color": "#C8D4E3"
             },
             "line": {
              "color": "white"
             }
            },
            "type": "table"
           }
          ]
         },
         "layout": {
          "annotationdefaults": {
           "arrowcolor": "#2a3f5f",
           "arrowhead": 0,
           "arrowwidth": 1
          },
          "autotypenumbers": "strict",
          "coloraxis": {
           "colorbar": {
            "outlinewidth": 0,
            "ticks": ""
           }
          },
          "colorscale": {
           "diverging": [
            [
             0,
             "#8e0152"
            ],
            [
             0.1,
             "#c51b7d"
            ],
            [
             0.2,
             "#de77ae"
            ],
            [
             0.3,
             "#f1b6da"
            ],
            [
             0.4,
             "#fde0ef"
            ],
            [
             0.5,
             "#f7f7f7"
            ],
            [
             0.6,
             "#e6f5d0"
            ],
            [
             0.7,
             "#b8e186"
            ],
            [
             0.8,
             "#7fbc41"
            ],
            [
             0.9,
             "#4d9221"
            ],
            [
             1,
             "#276419"
            ]
           ],
           "sequential": [
            [
             0,
             "#0d0887"
            ],
            [
             0.1111111111111111,
             "#46039f"
            ],
            [
             0.2222222222222222,
             "#7201a8"
            ],
            [
             0.3333333333333333,
             "#9c179e"
            ],
            [
             0.4444444444444444,
             "#bd3786"
            ],
            [
             0.5555555555555556,
             "#d8576b"
            ],
            [
             0.6666666666666666,
             "#ed7953"
            ],
            [
             0.7777777777777778,
             "#fb9f3a"
            ],
            [
             0.8888888888888888,
             "#fdca26"
            ],
            [
             1,
             "#f0f921"
            ]
           ],
           "sequentialminus": [
            [
             0,
             "#0d0887"
            ],
            [
             0.1111111111111111,
             "#46039f"
            ],
            [
             0.2222222222222222,
             "#7201a8"
            ],
            [
             0.3333333333333333,
             "#9c179e"
            ],
            [
             0.4444444444444444,
             "#bd3786"
            ],
            [
             0.5555555555555556,
             "#d8576b"
            ],
            [
             0.6666666666666666,
             "#ed7953"
            ],
            [
             0.7777777777777778,
             "#fb9f3a"
            ],
            [
             0.8888888888888888,
             "#fdca26"
            ],
            [
             1,
             "#f0f921"
            ]
           ]
          },
          "colorway": [
           "#636efa",
           "#EF553B",
           "#00cc96",
           "#ab63fa",
           "#FFA15A",
           "#19d3f3",
           "#FF6692",
           "#B6E880",
           "#FF97FF",
           "#FECB52"
          ],
          "font": {
           "color": "#2a3f5f"
          },
          "geo": {
           "bgcolor": "white",
           "lakecolor": "white",
           "landcolor": "#E5ECF6",
           "showlakes": true,
           "showland": true,
           "subunitcolor": "white"
          },
          "hoverlabel": {
           "align": "left"
          },
          "hovermode": "closest",
          "mapbox": {
           "style": "light"
          },
          "paper_bgcolor": "white",
          "plot_bgcolor": "#E5ECF6",
          "polar": {
           "angularaxis": {
            "gridcolor": "white",
            "linecolor": "white",
            "ticks": ""
           },
           "bgcolor": "#E5ECF6",
           "radialaxis": {
            "gridcolor": "white",
            "linecolor": "white",
            "ticks": ""
           }
          },
          "scene": {
           "xaxis": {
            "backgroundcolor": "#E5ECF6",
            "gridcolor": "white",
            "gridwidth": 2,
            "linecolor": "white",
            "showbackground": true,
            "ticks": "",
            "zerolinecolor": "white"
           },
           "yaxis": {
            "backgroundcolor": "#E5ECF6",
            "gridcolor": "white",
            "gridwidth": 2,
            "linecolor": "white",
            "showbackground": true,
            "ticks": "",
            "zerolinecolor": "white"
           },
           "zaxis": {
            "backgroundcolor": "#E5ECF6",
            "gridcolor": "white",
            "gridwidth": 2,
            "linecolor": "white",
            "showbackground": true,
            "ticks": "",
            "zerolinecolor": "white"
           }
          },
          "shapedefaults": {
           "line": {
            "color": "#2a3f5f"
           }
          },
          "ternary": {
           "aaxis": {
            "gridcolor": "white",
            "linecolor": "white",
            "ticks": ""
           },
           "baxis": {
            "gridcolor": "white",
            "linecolor": "white",
            "ticks": ""
           },
           "bgcolor": "#E5ECF6",
           "caxis": {
            "gridcolor": "white",
            "linecolor": "white",
            "ticks": ""
           }
          },
          "title": {
           "x": 0.05
          },
          "xaxis": {
           "automargin": true,
           "gridcolor": "white",
           "linecolor": "white",
           "ticks": "",
           "title": {
            "standoff": 15
           },
           "zerolinecolor": "white",
           "zerolinewidth": 2
          },
          "yaxis": {
           "automargin": true,
           "gridcolor": "white",
           "linecolor": "white",
           "ticks": "",
           "title": {
            "standoff": 15
           },
           "zerolinecolor": "white",
           "zerolinewidth": 2
          }
         }
        },
        "xaxis": {
         "anchor": "y",
         "constrain": "domain",
         "domain": [
          0,
          1
         ],
         "scaleanchor": "y"
        },
        "yaxis": {
         "anchor": "x",
         "autorange": "reversed",
         "constrain": "domain",
         "domain": [
          0,
          1
         ]
        }
       }
      }
     },
     "metadata": {},
     "output_type": "display_data"
    }
   ],
   "source": [
    "fig = px.imshow(p_values_ripa.astype(float))\n",
    "fig.show()"
   ]
  },
  {
   "cell_type": "code",
   "execution_count": null,
   "metadata": {},
   "outputs": [
    {
     "data": {
      "text/html": [
       "<div>\n",
       "<style scoped>\n",
       "    .dataframe tbody tr th:only-of-type {\n",
       "        vertical-align: middle;\n",
       "    }\n",
       "\n",
       "    .dataframe tbody tr th {\n",
       "        vertical-align: top;\n",
       "    }\n",
       "\n",
       "    .dataframe thead th {\n",
       "        text-align: right;\n",
       "    }\n",
       "</style>\n",
       "<table border=\"1\" class=\"dataframe\">\n",
       "  <thead>\n",
       "    <tr style=\"text-align: right;\">\n",
       "      <th></th>\n",
       "      <th>RND_Weat</th>\n",
       "      <th>RND_RND</th>\n",
       "      <th>RND_RIPA</th>\n",
       "      <th>RND_RNSB</th>\n",
       "      <th>RND_ECT</th>\n",
       "      <th>RND_Weates</th>\n",
       "    </tr>\n",
       "  </thead>\n",
       "  <tbody>\n",
       "    <tr>\n",
       "      <th>RND_Weat</th>\n",
       "      <td>1.0</td>\n",
       "      <td>1.0</td>\n",
       "      <td>1.0</td>\n",
       "      <td>1.0</td>\n",
       "      <td>0.999999</td>\n",
       "      <td>1.0</td>\n",
       "    </tr>\n",
       "    <tr>\n",
       "      <th>RND_RND</th>\n",
       "      <td>1.0</td>\n",
       "      <td>1.0</td>\n",
       "      <td>1.0</td>\n",
       "      <td>1.0</td>\n",
       "      <td>1.0</td>\n",
       "      <td>1.0</td>\n",
       "    </tr>\n",
       "    <tr>\n",
       "      <th>RND_RIPA</th>\n",
       "      <td>1.0</td>\n",
       "      <td>1.0</td>\n",
       "      <td>1.0</td>\n",
       "      <td>1.0</td>\n",
       "      <td>1.0</td>\n",
       "      <td>1.0</td>\n",
       "    </tr>\n",
       "    <tr>\n",
       "      <th>RND_RNSB</th>\n",
       "      <td>1.0</td>\n",
       "      <td>1.0</td>\n",
       "      <td>1.0</td>\n",
       "      <td>1.0</td>\n",
       "      <td>0.999999</td>\n",
       "      <td>1.0</td>\n",
       "    </tr>\n",
       "    <tr>\n",
       "      <th>RND_ECT</th>\n",
       "      <td>0.999999</td>\n",
       "      <td>1.0</td>\n",
       "      <td>1.0</td>\n",
       "      <td>0.999999</td>\n",
       "      <td>1.0</td>\n",
       "      <td>1.0</td>\n",
       "    </tr>\n",
       "    <tr>\n",
       "      <th>RND_Weates</th>\n",
       "      <td>1.0</td>\n",
       "      <td>1.0</td>\n",
       "      <td>1.0</td>\n",
       "      <td>1.0</td>\n",
       "      <td>1.0</td>\n",
       "      <td>1.0</td>\n",
       "    </tr>\n",
       "  </tbody>\n",
       "</table>\n",
       "</div>"
      ],
      "text/plain": [
       "            RND_Weat RND_RND RND_RIPA  RND_RNSB   RND_ECT RND_Weates\n",
       "RND_Weat         1.0     1.0      1.0       1.0  0.999999        1.0\n",
       "RND_RND          1.0     1.0      1.0       1.0       1.0        1.0\n",
       "RND_RIPA         1.0     1.0      1.0       1.0       1.0        1.0\n",
       "RND_RNSB         1.0     1.0      1.0       1.0  0.999999        1.0\n",
       "RND_ECT     0.999999     1.0      1.0  0.999999       1.0        1.0\n",
       "RND_Weates       1.0     1.0      1.0       1.0       1.0        1.0"
      ]
     },
     "execution_count": 32,
     "metadata": {},
     "output_type": "execute_result"
    }
   ],
   "source": [
    "\n",
    "# Crear un nuevo DataFrame vacío para almacenar las columnas 'WEAT' de cada DataFrame\n",
    "df_rnd = pd.DataFrame()\n",
    "i = 0\n",
    "# Iterar sobre cada DataFrame en la lista y agregar la columna 'WEAT' al nuevo DataFrame\n",
    "for df in bests_df:\n",
    "    met = metrics[i]\n",
    "    df_rnd = pd.concat([df_rnd, df['RND'].rename('RND_'+ met )], axis=1)\n",
    "    i += 1\n",
    "\n",
    "# Mostrar el nuevo DataFrame con las columnas 'WEAT' de cada DataFrame\n",
    "\n",
    "# Crear un DataFrame vacío para almacenar los p-values\n",
    "p_values_rnd = pd.DataFrame(index=df_rnd.columns, columns=df_rnd.columns)\n",
    "\n",
    "# Iterar sobre todas las combinaciones de columnas\n",
    "for col1 in df_rnd.columns:\n",
    "    for col2 in df_rnd.columns:\n",
    "        # Ejecutar el t-test entre las dos columnas\n",
    "        t_statistic, p_value = ttest_rel(df_rnd[col1], df_rnd[col2])\n",
    "        # Almacenar el p-value en la matriz\n",
    "        p_values_rnd.loc[col1, col2] = p_value\n",
    "\n",
    "# Mostrar la matriz de p-values\n",
    "p_values_rnd\n",
    "\n",
    "\n"
   ]
  },
  {
   "cell_type": "code",
   "execution_count": null,
   "metadata": {},
   "outputs": [
    {
     "data": {
      "text/html": [
       "<div>\n",
       "<style scoped>\n",
       "    .dataframe tbody tr th:only-of-type {\n",
       "        vertical-align: middle;\n",
       "    }\n",
       "\n",
       "    .dataframe tbody tr th {\n",
       "        vertical-align: top;\n",
       "    }\n",
       "\n",
       "    .dataframe thead th {\n",
       "        text-align: right;\n",
       "    }\n",
       "</style>\n",
       "<table border=\"1\" class=\"dataframe\">\n",
       "  <thead>\n",
       "    <tr style=\"text-align: right;\">\n",
       "      <th></th>\n",
       "      <th>RND_Weat</th>\n",
       "      <th>RND_RND</th>\n",
       "      <th>RND_RIPA</th>\n",
       "      <th>RND_RNSB</th>\n",
       "      <th>RND_ECT</th>\n",
       "      <th>RND_Weates</th>\n",
       "    </tr>\n",
       "  </thead>\n",
       "  <tbody>\n",
       "    <tr>\n",
       "      <th>RND_Weat</th>\n",
       "      <td>NaN</td>\n",
       "      <td>NaN</td>\n",
       "      <td>NaN</td>\n",
       "      <td>NaN</td>\n",
       "      <td>NaN</td>\n",
       "      <td>NaN</td>\n",
       "    </tr>\n",
       "    <tr>\n",
       "      <th>RND_RND</th>\n",
       "      <td>NaN</td>\n",
       "      <td>NaN</td>\n",
       "      <td>NaN</td>\n",
       "      <td>NaN</td>\n",
       "      <td>NaN</td>\n",
       "      <td>NaN</td>\n",
       "    </tr>\n",
       "    <tr>\n",
       "      <th>RND_RIPA</th>\n",
       "      <td>NaN</td>\n",
       "      <td>NaN</td>\n",
       "      <td>NaN</td>\n",
       "      <td>NaN</td>\n",
       "      <td>NaN</td>\n",
       "      <td>NaN</td>\n",
       "    </tr>\n",
       "    <tr>\n",
       "      <th>RND_RNSB</th>\n",
       "      <td>NaN</td>\n",
       "      <td>NaN</td>\n",
       "      <td>NaN</td>\n",
       "      <td>NaN</td>\n",
       "      <td>NaN</td>\n",
       "      <td>NaN</td>\n",
       "    </tr>\n",
       "    <tr>\n",
       "      <th>RND_ECT</th>\n",
       "      <td>NaN</td>\n",
       "      <td>NaN</td>\n",
       "      <td>NaN</td>\n",
       "      <td>NaN</td>\n",
       "      <td>NaN</td>\n",
       "      <td>NaN</td>\n",
       "    </tr>\n",
       "    <tr>\n",
       "      <th>RND_Weates</th>\n",
       "      <td>NaN</td>\n",
       "      <td>NaN</td>\n",
       "      <td>NaN</td>\n",
       "      <td>NaN</td>\n",
       "      <td>NaN</td>\n",
       "      <td>NaN</td>\n",
       "    </tr>\n",
       "  </tbody>\n",
       "</table>\n",
       "</div>"
      ],
      "text/plain": [
       "           RND_Weat RND_RND RND_RIPA RND_RNSB RND_ECT RND_Weates\n",
       "RND_Weat        NaN     NaN      NaN      NaN     NaN        NaN\n",
       "RND_RND         NaN     NaN      NaN      NaN     NaN        NaN\n",
       "RND_RIPA        NaN     NaN      NaN      NaN     NaN        NaN\n",
       "RND_RNSB        NaN     NaN      NaN      NaN     NaN        NaN\n",
       "RND_ECT         NaN     NaN      NaN      NaN     NaN        NaN\n",
       "RND_Weates      NaN     NaN      NaN      NaN     NaN        NaN"
      ]
     },
     "execution_count": 33,
     "metadata": {},
     "output_type": "execute_result"
    }
   ],
   "source": [
    "p_values_rnd[p_values_rnd < 0.05]"
   ]
  },
  {
   "cell_type": "code",
   "execution_count": null,
   "metadata": {},
   "outputs": [
    {
     "data": {
      "application/vnd.plotly.v1+json": {
       "config": {
        "plotlyServerURL": "https://plot.ly"
       },
       "data": [
        {
         "coloraxis": "coloraxis",
         "hovertemplate": "x: %{x}<br>y: %{y}<br>color: %{z}<extra></extra>",
         "name": "0",
         "type": "heatmap",
         "x": [
          "RND_Weat",
          "RND_RND",
          "RND_RIPA",
          "RND_RNSB",
          "RND_ECT",
          "RND_Weates"
         ],
         "xaxis": "x",
         "y": [
          "RND_Weat",
          "RND_RND",
          "RND_RIPA",
          "RND_RNSB",
          "RND_ECT",
          "RND_Weates"
         ],
         "yaxis": "y",
         "z": [
          [
           1,
           0.9999998025084809,
           0.9999995005894555,
           0.9999999671895958,
           0.9999994636985763,
           0.9999995282244208
          ],
          [
           0.9999998025084809,
           1,
           0.9999996980810215,
           0.9999998353189088,
           0.999999661190144,
           0.9999997257159825
          ],
          [
           0.9999995005894555,
           0.9999996980810215,
           1,
           0.9999995333999273,
           0.9999999631091163,
           0.999999972365039
          ],
          [
           0.9999999671895958,
           0.9999998353189088,
           0.9999995333999273,
           1,
           0.9999994965090528,
           0.9999995610348886
          ],
          [
           0.9999994636985763,
           0.999999661190144,
           0.9999999631091163,
           0.9999994965090528,
           1,
           0.999999935474156
          ],
          [
           0.9999995282244208,
           0.9999997257159825,
           0.999999972365039,
           0.9999995610348886,
           0.999999935474156,
           1
          ]
         ]
        }
       ],
       "layout": {
        "coloraxis": {
         "colorscale": [
          [
           0,
           "#0d0887"
          ],
          [
           0.1111111111111111,
           "#46039f"
          ],
          [
           0.2222222222222222,
           "#7201a8"
          ],
          [
           0.3333333333333333,
           "#9c179e"
          ],
          [
           0.4444444444444444,
           "#bd3786"
          ],
          [
           0.5555555555555556,
           "#d8576b"
          ],
          [
           0.6666666666666666,
           "#ed7953"
          ],
          [
           0.7777777777777778,
           "#fb9f3a"
          ],
          [
           0.8888888888888888,
           "#fdca26"
          ],
          [
           1,
           "#f0f921"
          ]
         ]
        },
        "margin": {
         "t": 60
        },
        "template": {
         "data": {
          "bar": [
           {
            "error_x": {
             "color": "#2a3f5f"
            },
            "error_y": {
             "color": "#2a3f5f"
            },
            "marker": {
             "line": {
              "color": "#E5ECF6",
              "width": 0.5
             },
             "pattern": {
              "fillmode": "overlay",
              "size": 10,
              "solidity": 0.2
             }
            },
            "type": "bar"
           }
          ],
          "barpolar": [
           {
            "marker": {
             "line": {
              "color": "#E5ECF6",
              "width": 0.5
             },
             "pattern": {
              "fillmode": "overlay",
              "size": 10,
              "solidity": 0.2
             }
            },
            "type": "barpolar"
           }
          ],
          "carpet": [
           {
            "aaxis": {
             "endlinecolor": "#2a3f5f",
             "gridcolor": "white",
             "linecolor": "white",
             "minorgridcolor": "white",
             "startlinecolor": "#2a3f5f"
            },
            "baxis": {
             "endlinecolor": "#2a3f5f",
             "gridcolor": "white",
             "linecolor": "white",
             "minorgridcolor": "white",
             "startlinecolor": "#2a3f5f"
            },
            "type": "carpet"
           }
          ],
          "choropleth": [
           {
            "colorbar": {
             "outlinewidth": 0,
             "ticks": ""
            },
            "type": "choropleth"
           }
          ],
          "contour": [
           {
            "colorbar": {
             "outlinewidth": 0,
             "ticks": ""
            },
            "colorscale": [
             [
              0,
              "#0d0887"
             ],
             [
              0.1111111111111111,
              "#46039f"
             ],
             [
              0.2222222222222222,
              "#7201a8"
             ],
             [
              0.3333333333333333,
              "#9c179e"
             ],
             [
              0.4444444444444444,
              "#bd3786"
             ],
             [
              0.5555555555555556,
              "#d8576b"
             ],
             [
              0.6666666666666666,
              "#ed7953"
             ],
             [
              0.7777777777777778,
              "#fb9f3a"
             ],
             [
              0.8888888888888888,
              "#fdca26"
             ],
             [
              1,
              "#f0f921"
             ]
            ],
            "type": "contour"
           }
          ],
          "contourcarpet": [
           {
            "colorbar": {
             "outlinewidth": 0,
             "ticks": ""
            },
            "type": "contourcarpet"
           }
          ],
          "heatmap": [
           {
            "colorbar": {
             "outlinewidth": 0,
             "ticks": ""
            },
            "colorscale": [
             [
              0,
              "#0d0887"
             ],
             [
              0.1111111111111111,
              "#46039f"
             ],
             [
              0.2222222222222222,
              "#7201a8"
             ],
             [
              0.3333333333333333,
              "#9c179e"
             ],
             [
              0.4444444444444444,
              "#bd3786"
             ],
             [
              0.5555555555555556,
              "#d8576b"
             ],
             [
              0.6666666666666666,
              "#ed7953"
             ],
             [
              0.7777777777777778,
              "#fb9f3a"
             ],
             [
              0.8888888888888888,
              "#fdca26"
             ],
             [
              1,
              "#f0f921"
             ]
            ],
            "type": "heatmap"
           }
          ],
          "heatmapgl": [
           {
            "colorbar": {
             "outlinewidth": 0,
             "ticks": ""
            },
            "colorscale": [
             [
              0,
              "#0d0887"
             ],
             [
              0.1111111111111111,
              "#46039f"
             ],
             [
              0.2222222222222222,
              "#7201a8"
             ],
             [
              0.3333333333333333,
              "#9c179e"
             ],
             [
              0.4444444444444444,
              "#bd3786"
             ],
             [
              0.5555555555555556,
              "#d8576b"
             ],
             [
              0.6666666666666666,
              "#ed7953"
             ],
             [
              0.7777777777777778,
              "#fb9f3a"
             ],
             [
              0.8888888888888888,
              "#fdca26"
             ],
             [
              1,
              "#f0f921"
             ]
            ],
            "type": "heatmapgl"
           }
          ],
          "histogram": [
           {
            "marker": {
             "pattern": {
              "fillmode": "overlay",
              "size": 10,
              "solidity": 0.2
             }
            },
            "type": "histogram"
           }
          ],
          "histogram2d": [
           {
            "colorbar": {
             "outlinewidth": 0,
             "ticks": ""
            },
            "colorscale": [
             [
              0,
              "#0d0887"
             ],
             [
              0.1111111111111111,
              "#46039f"
             ],
             [
              0.2222222222222222,
              "#7201a8"
             ],
             [
              0.3333333333333333,
              "#9c179e"
             ],
             [
              0.4444444444444444,
              "#bd3786"
             ],
             [
              0.5555555555555556,
              "#d8576b"
             ],
             [
              0.6666666666666666,
              "#ed7953"
             ],
             [
              0.7777777777777778,
              "#fb9f3a"
             ],
             [
              0.8888888888888888,
              "#fdca26"
             ],
             [
              1,
              "#f0f921"
             ]
            ],
            "type": "histogram2d"
           }
          ],
          "histogram2dcontour": [
           {
            "colorbar": {
             "outlinewidth": 0,
             "ticks": ""
            },
            "colorscale": [
             [
              0,
              "#0d0887"
             ],
             [
              0.1111111111111111,
              "#46039f"
             ],
             [
              0.2222222222222222,
              "#7201a8"
             ],
             [
              0.3333333333333333,
              "#9c179e"
             ],
             [
              0.4444444444444444,
              "#bd3786"
             ],
             [
              0.5555555555555556,
              "#d8576b"
             ],
             [
              0.6666666666666666,
              "#ed7953"
             ],
             [
              0.7777777777777778,
              "#fb9f3a"
             ],
             [
              0.8888888888888888,
              "#fdca26"
             ],
             [
              1,
              "#f0f921"
             ]
            ],
            "type": "histogram2dcontour"
           }
          ],
          "mesh3d": [
           {
            "colorbar": {
             "outlinewidth": 0,
             "ticks": ""
            },
            "type": "mesh3d"
           }
          ],
          "parcoords": [
           {
            "line": {
             "colorbar": {
              "outlinewidth": 0,
              "ticks": ""
             }
            },
            "type": "parcoords"
           }
          ],
          "pie": [
           {
            "automargin": true,
            "type": "pie"
           }
          ],
          "scatter": [
           {
            "fillpattern": {
             "fillmode": "overlay",
             "size": 10,
             "solidity": 0.2
            },
            "type": "scatter"
           }
          ],
          "scatter3d": [
           {
            "line": {
             "colorbar": {
              "outlinewidth": 0,
              "ticks": ""
             }
            },
            "marker": {
             "colorbar": {
              "outlinewidth": 0,
              "ticks": ""
             }
            },
            "type": "scatter3d"
           }
          ],
          "scattercarpet": [
           {
            "marker": {
             "colorbar": {
              "outlinewidth": 0,
              "ticks": ""
             }
            },
            "type": "scattercarpet"
           }
          ],
          "scattergeo": [
           {
            "marker": {
             "colorbar": {
              "outlinewidth": 0,
              "ticks": ""
             }
            },
            "type": "scattergeo"
           }
          ],
          "scattergl": [
           {
            "marker": {
             "colorbar": {
              "outlinewidth": 0,
              "ticks": ""
             }
            },
            "type": "scattergl"
           }
          ],
          "scattermapbox": [
           {
            "marker": {
             "colorbar": {
              "outlinewidth": 0,
              "ticks": ""
             }
            },
            "type": "scattermapbox"
           }
          ],
          "scatterpolar": [
           {
            "marker": {
             "colorbar": {
              "outlinewidth": 0,
              "ticks": ""
             }
            },
            "type": "scatterpolar"
           }
          ],
          "scatterpolargl": [
           {
            "marker": {
             "colorbar": {
              "outlinewidth": 0,
              "ticks": ""
             }
            },
            "type": "scatterpolargl"
           }
          ],
          "scatterternary": [
           {
            "marker": {
             "colorbar": {
              "outlinewidth": 0,
              "ticks": ""
             }
            },
            "type": "scatterternary"
           }
          ],
          "surface": [
           {
            "colorbar": {
             "outlinewidth": 0,
             "ticks": ""
            },
            "colorscale": [
             [
              0,
              "#0d0887"
             ],
             [
              0.1111111111111111,
              "#46039f"
             ],
             [
              0.2222222222222222,
              "#7201a8"
             ],
             [
              0.3333333333333333,
              "#9c179e"
             ],
             [
              0.4444444444444444,
              "#bd3786"
             ],
             [
              0.5555555555555556,
              "#d8576b"
             ],
             [
              0.6666666666666666,
              "#ed7953"
             ],
             [
              0.7777777777777778,
              "#fb9f3a"
             ],
             [
              0.8888888888888888,
              "#fdca26"
             ],
             [
              1,
              "#f0f921"
             ]
            ],
            "type": "surface"
           }
          ],
          "table": [
           {
            "cells": {
             "fill": {
              "color": "#EBF0F8"
             },
             "line": {
              "color": "white"
             }
            },
            "header": {
             "fill": {
              "color": "#C8D4E3"
             },
             "line": {
              "color": "white"
             }
            },
            "type": "table"
           }
          ]
         },
         "layout": {
          "annotationdefaults": {
           "arrowcolor": "#2a3f5f",
           "arrowhead": 0,
           "arrowwidth": 1
          },
          "autotypenumbers": "strict",
          "coloraxis": {
           "colorbar": {
            "outlinewidth": 0,
            "ticks": ""
           }
          },
          "colorscale": {
           "diverging": [
            [
             0,
             "#8e0152"
            ],
            [
             0.1,
             "#c51b7d"
            ],
            [
             0.2,
             "#de77ae"
            ],
            [
             0.3,
             "#f1b6da"
            ],
            [
             0.4,
             "#fde0ef"
            ],
            [
             0.5,
             "#f7f7f7"
            ],
            [
             0.6,
             "#e6f5d0"
            ],
            [
             0.7,
             "#b8e186"
            ],
            [
             0.8,
             "#7fbc41"
            ],
            [
             0.9,
             "#4d9221"
            ],
            [
             1,
             "#276419"
            ]
           ],
           "sequential": [
            [
             0,
             "#0d0887"
            ],
            [
             0.1111111111111111,
             "#46039f"
            ],
            [
             0.2222222222222222,
             "#7201a8"
            ],
            [
             0.3333333333333333,
             "#9c179e"
            ],
            [
             0.4444444444444444,
             "#bd3786"
            ],
            [
             0.5555555555555556,
             "#d8576b"
            ],
            [
             0.6666666666666666,
             "#ed7953"
            ],
            [
             0.7777777777777778,
             "#fb9f3a"
            ],
            [
             0.8888888888888888,
             "#fdca26"
            ],
            [
             1,
             "#f0f921"
            ]
           ],
           "sequentialminus": [
            [
             0,
             "#0d0887"
            ],
            [
             0.1111111111111111,
             "#46039f"
            ],
            [
             0.2222222222222222,
             "#7201a8"
            ],
            [
             0.3333333333333333,
             "#9c179e"
            ],
            [
             0.4444444444444444,
             "#bd3786"
            ],
            [
             0.5555555555555556,
             "#d8576b"
            ],
            [
             0.6666666666666666,
             "#ed7953"
            ],
            [
             0.7777777777777778,
             "#fb9f3a"
            ],
            [
             0.8888888888888888,
             "#fdca26"
            ],
            [
             1,
             "#f0f921"
            ]
           ]
          },
          "colorway": [
           "#636efa",
           "#EF553B",
           "#00cc96",
           "#ab63fa",
           "#FFA15A",
           "#19d3f3",
           "#FF6692",
           "#B6E880",
           "#FF97FF",
           "#FECB52"
          ],
          "font": {
           "color": "#2a3f5f"
          },
          "geo": {
           "bgcolor": "white",
           "lakecolor": "white",
           "landcolor": "#E5ECF6",
           "showlakes": true,
           "showland": true,
           "subunitcolor": "white"
          },
          "hoverlabel": {
           "align": "left"
          },
          "hovermode": "closest",
          "mapbox": {
           "style": "light"
          },
          "paper_bgcolor": "white",
          "plot_bgcolor": "#E5ECF6",
          "polar": {
           "angularaxis": {
            "gridcolor": "white",
            "linecolor": "white",
            "ticks": ""
           },
           "bgcolor": "#E5ECF6",
           "radialaxis": {
            "gridcolor": "white",
            "linecolor": "white",
            "ticks": ""
           }
          },
          "scene": {
           "xaxis": {
            "backgroundcolor": "#E5ECF6",
            "gridcolor": "white",
            "gridwidth": 2,
            "linecolor": "white",
            "showbackground": true,
            "ticks": "",
            "zerolinecolor": "white"
           },
           "yaxis": {
            "backgroundcolor": "#E5ECF6",
            "gridcolor": "white",
            "gridwidth": 2,
            "linecolor": "white",
            "showbackground": true,
            "ticks": "",
            "zerolinecolor": "white"
           },
           "zaxis": {
            "backgroundcolor": "#E5ECF6",
            "gridcolor": "white",
            "gridwidth": 2,
            "linecolor": "white",
            "showbackground": true,
            "ticks": "",
            "zerolinecolor": "white"
           }
          },
          "shapedefaults": {
           "line": {
            "color": "#2a3f5f"
           }
          },
          "ternary": {
           "aaxis": {
            "gridcolor": "white",
            "linecolor": "white",
            "ticks": ""
           },
           "baxis": {
            "gridcolor": "white",
            "linecolor": "white",
            "ticks": ""
           },
           "bgcolor": "#E5ECF6",
           "caxis": {
            "gridcolor": "white",
            "linecolor": "white",
            "ticks": ""
           }
          },
          "title": {
           "x": 0.05
          },
          "xaxis": {
           "automargin": true,
           "gridcolor": "white",
           "linecolor": "white",
           "ticks": "",
           "title": {
            "standoff": 15
           },
           "zerolinecolor": "white",
           "zerolinewidth": 2
          },
          "yaxis": {
           "automargin": true,
           "gridcolor": "white",
           "linecolor": "white",
           "ticks": "",
           "title": {
            "standoff": 15
           },
           "zerolinecolor": "white",
           "zerolinewidth": 2
          }
         }
        },
        "xaxis": {
         "anchor": "y",
         "constrain": "domain",
         "domain": [
          0,
          1
         ],
         "scaleanchor": "y"
        },
        "yaxis": {
         "anchor": "x",
         "autorange": "reversed",
         "constrain": "domain",
         "domain": [
          0,
          1
         ]
        }
       }
      }
     },
     "metadata": {},
     "output_type": "display_data"
    }
   ],
   "source": [
    "fig = px.imshow(p_values_rnd.astype(float))\n",
    "fig.show()"
   ]
  },
  {
   "cell_type": "code",
   "execution_count": null,
   "metadata": {},
   "outputs": [
    {
     "data": {
      "text/html": [
       "<div>\n",
       "<style scoped>\n",
       "    .dataframe tbody tr th:only-of-type {\n",
       "        vertical-align: middle;\n",
       "    }\n",
       "\n",
       "    .dataframe tbody tr th {\n",
       "        vertical-align: top;\n",
       "    }\n",
       "\n",
       "    .dataframe thead th {\n",
       "        text-align: right;\n",
       "    }\n",
       "</style>\n",
       "<table border=\"1\" class=\"dataframe\">\n",
       "  <thead>\n",
       "    <tr style=\"text-align: right;\">\n",
       "      <th></th>\n",
       "      <th>ECT_Weat</th>\n",
       "      <th>ECT_RND</th>\n",
       "      <th>ECT_RIPA</th>\n",
       "      <th>ECT_RNSB</th>\n",
       "      <th>ECT_ECT</th>\n",
       "      <th>ECT_Weates</th>\n",
       "    </tr>\n",
       "  </thead>\n",
       "  <tbody>\n",
       "    <tr>\n",
       "      <th>ECT_Weat</th>\n",
       "      <td>1.0</td>\n",
       "      <td>1.0</td>\n",
       "      <td>1.0</td>\n",
       "      <td>1.0</td>\n",
       "      <td>1.0</td>\n",
       "      <td>1.0</td>\n",
       "    </tr>\n",
       "    <tr>\n",
       "      <th>ECT_RND</th>\n",
       "      <td>1.0</td>\n",
       "      <td>1.0</td>\n",
       "      <td>1.0</td>\n",
       "      <td>1.0</td>\n",
       "      <td>1.0</td>\n",
       "      <td>1.0</td>\n",
       "    </tr>\n",
       "    <tr>\n",
       "      <th>ECT_RIPA</th>\n",
       "      <td>1.0</td>\n",
       "      <td>1.0</td>\n",
       "      <td>1.0</td>\n",
       "      <td>1.0</td>\n",
       "      <td>1.0</td>\n",
       "      <td>1.0</td>\n",
       "    </tr>\n",
       "    <tr>\n",
       "      <th>ECT_RNSB</th>\n",
       "      <td>1.0</td>\n",
       "      <td>1.0</td>\n",
       "      <td>1.0</td>\n",
       "      <td>1.0</td>\n",
       "      <td>1.0</td>\n",
       "      <td>1.0</td>\n",
       "    </tr>\n",
       "    <tr>\n",
       "      <th>ECT_ECT</th>\n",
       "      <td>1.0</td>\n",
       "      <td>1.0</td>\n",
       "      <td>1.0</td>\n",
       "      <td>1.0</td>\n",
       "      <td>1.0</td>\n",
       "      <td>1.0</td>\n",
       "    </tr>\n",
       "    <tr>\n",
       "      <th>ECT_Weates</th>\n",
       "      <td>1.0</td>\n",
       "      <td>1.0</td>\n",
       "      <td>1.0</td>\n",
       "      <td>1.0</td>\n",
       "      <td>1.0</td>\n",
       "      <td>1.0</td>\n",
       "    </tr>\n",
       "  </tbody>\n",
       "</table>\n",
       "</div>"
      ],
      "text/plain": [
       "           ECT_Weat ECT_RND ECT_RIPA ECT_RNSB ECT_ECT ECT_Weates\n",
       "ECT_Weat        1.0     1.0      1.0      1.0     1.0        1.0\n",
       "ECT_RND         1.0     1.0      1.0      1.0     1.0        1.0\n",
       "ECT_RIPA        1.0     1.0      1.0      1.0     1.0        1.0\n",
       "ECT_RNSB        1.0     1.0      1.0      1.0     1.0        1.0\n",
       "ECT_ECT         1.0     1.0      1.0      1.0     1.0        1.0\n",
       "ECT_Weates      1.0     1.0      1.0      1.0     1.0        1.0"
      ]
     },
     "execution_count": 35,
     "metadata": {},
     "output_type": "execute_result"
    }
   ],
   "source": [
    "\n",
    "# Crear un nuevo DataFrame vacío para almacenar las columnas 'WEAT' de cada DataFrame\n",
    "df_ect = pd.DataFrame()\n",
    "i = 0\n",
    "# Iterar sobre cada DataFrame en la lista y agregar la columna 'WEAT' al nuevo DataFrame\n",
    "for df in bests_df:\n",
    "    met = metrics[i]\n",
    "    df_ect = pd.concat([df_ect, df['ECT'].rename('ECT_'+ met )], axis=1)\n",
    "    i += 1\n",
    "\n",
    "# Mostrar el nuevo DataFrame con las columnas 'WEAT' de cada DataFrame\n",
    "\n",
    "# Crear un DataFrame vacío para almacenar los p-values\n",
    "p_value_ect = pd.DataFrame(index=df_ect.columns, columns=df_ect.columns)\n",
    "\n",
    "# Iterar sobre todas las combinaciones de columnas\n",
    "for col1 in df_ect.columns:\n",
    "    for col2 in df_ect.columns:\n",
    "        # Ejecutar el t-test entre las dos columnas\n",
    "        t_statistic, p_value = ttest_rel(df_ect[col1], df_ect[col2])\n",
    "        # Almacenar el p-value en la matriz\n",
    "        p_value_ect.loc[col1, col2] = p_value\n",
    "\n",
    "# Mostrar la matriz de p-values\n",
    "p_value_ect\n",
    "\n",
    "\n"
   ]
  },
  {
   "cell_type": "code",
   "execution_count": null,
   "metadata": {},
   "outputs": [
    {
     "data": {
      "text/html": [
       "<div>\n",
       "<style scoped>\n",
       "    .dataframe tbody tr th:only-of-type {\n",
       "        vertical-align: middle;\n",
       "    }\n",
       "\n",
       "    .dataframe tbody tr th {\n",
       "        vertical-align: top;\n",
       "    }\n",
       "\n",
       "    .dataframe thead th {\n",
       "        text-align: right;\n",
       "    }\n",
       "</style>\n",
       "<table border=\"1\" class=\"dataframe\">\n",
       "  <thead>\n",
       "    <tr style=\"text-align: right;\">\n",
       "      <th></th>\n",
       "      <th>ECT_Weat</th>\n",
       "      <th>ECT_RND</th>\n",
       "      <th>ECT_RIPA</th>\n",
       "      <th>ECT_RNSB</th>\n",
       "      <th>ECT_ECT</th>\n",
       "      <th>ECT_Weates</th>\n",
       "    </tr>\n",
       "  </thead>\n",
       "  <tbody>\n",
       "    <tr>\n",
       "      <th>ECT_Weat</th>\n",
       "      <td>NaN</td>\n",
       "      <td>NaN</td>\n",
       "      <td>NaN</td>\n",
       "      <td>NaN</td>\n",
       "      <td>NaN</td>\n",
       "      <td>NaN</td>\n",
       "    </tr>\n",
       "    <tr>\n",
       "      <th>ECT_RND</th>\n",
       "      <td>NaN</td>\n",
       "      <td>NaN</td>\n",
       "      <td>NaN</td>\n",
       "      <td>NaN</td>\n",
       "      <td>NaN</td>\n",
       "      <td>NaN</td>\n",
       "    </tr>\n",
       "    <tr>\n",
       "      <th>ECT_RIPA</th>\n",
       "      <td>NaN</td>\n",
       "      <td>NaN</td>\n",
       "      <td>NaN</td>\n",
       "      <td>NaN</td>\n",
       "      <td>NaN</td>\n",
       "      <td>NaN</td>\n",
       "    </tr>\n",
       "    <tr>\n",
       "      <th>ECT_RNSB</th>\n",
       "      <td>NaN</td>\n",
       "      <td>NaN</td>\n",
       "      <td>NaN</td>\n",
       "      <td>NaN</td>\n",
       "      <td>NaN</td>\n",
       "      <td>NaN</td>\n",
       "    </tr>\n",
       "    <tr>\n",
       "      <th>ECT_ECT</th>\n",
       "      <td>NaN</td>\n",
       "      <td>NaN</td>\n",
       "      <td>NaN</td>\n",
       "      <td>NaN</td>\n",
       "      <td>NaN</td>\n",
       "      <td>NaN</td>\n",
       "    </tr>\n",
       "    <tr>\n",
       "      <th>ECT_Weates</th>\n",
       "      <td>NaN</td>\n",
       "      <td>NaN</td>\n",
       "      <td>NaN</td>\n",
       "      <td>NaN</td>\n",
       "      <td>NaN</td>\n",
       "      <td>NaN</td>\n",
       "    </tr>\n",
       "  </tbody>\n",
       "</table>\n",
       "</div>"
      ],
      "text/plain": [
       "           ECT_Weat ECT_RND ECT_RIPA ECT_RNSB ECT_ECT ECT_Weates\n",
       "ECT_Weat        NaN     NaN      NaN      NaN     NaN        NaN\n",
       "ECT_RND         NaN     NaN      NaN      NaN     NaN        NaN\n",
       "ECT_RIPA        NaN     NaN      NaN      NaN     NaN        NaN\n",
       "ECT_RNSB        NaN     NaN      NaN      NaN     NaN        NaN\n",
       "ECT_ECT         NaN     NaN      NaN      NaN     NaN        NaN\n",
       "ECT_Weates      NaN     NaN      NaN      NaN     NaN        NaN"
      ]
     },
     "execution_count": 36,
     "metadata": {},
     "output_type": "execute_result"
    }
   ],
   "source": [
    "p_value_ect[p_value_ect < 0.05]"
   ]
  },
  {
   "cell_type": "code",
   "execution_count": null,
   "metadata": {},
   "outputs": [
    {
     "data": {
      "application/vnd.plotly.v1+json": {
       "config": {
        "plotlyServerURL": "https://plot.ly"
       },
       "data": [
        {
         "coloraxis": "coloraxis",
         "hovertemplate": "x: %{x}<br>y: %{y}<br>color: %{z}<extra></extra>",
         "name": "0",
         "type": "heatmap",
         "x": [
          "ECT_Weat",
          "ECT_RND",
          "ECT_RIPA",
          "ECT_RNSB",
          "ECT_ECT",
          "ECT_Weates"
         ],
         "xaxis": "x",
         "y": [
          "ECT_Weat",
          "ECT_RND",
          "ECT_RIPA",
          "ECT_RNSB",
          "ECT_ECT",
          "ECT_Weates"
         ],
         "yaxis": "y",
         "z": [
          [
           1,
           0.9999999367173631,
           0.9999999053872377,
           0.9999998646935263,
           0.999999916261748,
           0.9999999946617235
          ],
          [
           0.9999999367173631,
           1,
           0.9999998421046001,
           0.9999998014108908,
           0.9999998529791103,
           0.9999999313790886
          ],
          [
           0.9999999053872377,
           0.9999998421046001,
           1,
           0.9999999593062852,
           0.9999999891254892,
           0.9999999107255172
          ],
          [
           0.9999998646935263,
           0.9999998014108908,
           0.9999999593062852,
           1,
           0.9999999484317745,
           0.999999870031807
          ],
          [
           0.999999916261748,
           0.9999998529791103,
           0.9999999891254892,
           0.9999999484317745,
           1,
           0.9999999216000273
          ],
          [
           0.9999999946617235,
           0.9999999313790886,
           0.9999999107255172,
           0.999999870031807,
           0.9999999216000273,
           1
          ]
         ]
        }
       ],
       "layout": {
        "coloraxis": {
         "colorscale": [
          [
           0,
           "#0d0887"
          ],
          [
           0.1111111111111111,
           "#46039f"
          ],
          [
           0.2222222222222222,
           "#7201a8"
          ],
          [
           0.3333333333333333,
           "#9c179e"
          ],
          [
           0.4444444444444444,
           "#bd3786"
          ],
          [
           0.5555555555555556,
           "#d8576b"
          ],
          [
           0.6666666666666666,
           "#ed7953"
          ],
          [
           0.7777777777777778,
           "#fb9f3a"
          ],
          [
           0.8888888888888888,
           "#fdca26"
          ],
          [
           1,
           "#f0f921"
          ]
         ]
        },
        "margin": {
         "t": 60
        },
        "template": {
         "data": {
          "bar": [
           {
            "error_x": {
             "color": "#2a3f5f"
            },
            "error_y": {
             "color": "#2a3f5f"
            },
            "marker": {
             "line": {
              "color": "#E5ECF6",
              "width": 0.5
             },
             "pattern": {
              "fillmode": "overlay",
              "size": 10,
              "solidity": 0.2
             }
            },
            "type": "bar"
           }
          ],
          "barpolar": [
           {
            "marker": {
             "line": {
              "color": "#E5ECF6",
              "width": 0.5
             },
             "pattern": {
              "fillmode": "overlay",
              "size": 10,
              "solidity": 0.2
             }
            },
            "type": "barpolar"
           }
          ],
          "carpet": [
           {
            "aaxis": {
             "endlinecolor": "#2a3f5f",
             "gridcolor": "white",
             "linecolor": "white",
             "minorgridcolor": "white",
             "startlinecolor": "#2a3f5f"
            },
            "baxis": {
             "endlinecolor": "#2a3f5f",
             "gridcolor": "white",
             "linecolor": "white",
             "minorgridcolor": "white",
             "startlinecolor": "#2a3f5f"
            },
            "type": "carpet"
           }
          ],
          "choropleth": [
           {
            "colorbar": {
             "outlinewidth": 0,
             "ticks": ""
            },
            "type": "choropleth"
           }
          ],
          "contour": [
           {
            "colorbar": {
             "outlinewidth": 0,
             "ticks": ""
            },
            "colorscale": [
             [
              0,
              "#0d0887"
             ],
             [
              0.1111111111111111,
              "#46039f"
             ],
             [
              0.2222222222222222,
              "#7201a8"
             ],
             [
              0.3333333333333333,
              "#9c179e"
             ],
             [
              0.4444444444444444,
              "#bd3786"
             ],
             [
              0.5555555555555556,
              "#d8576b"
             ],
             [
              0.6666666666666666,
              "#ed7953"
             ],
             [
              0.7777777777777778,
              "#fb9f3a"
             ],
             [
              0.8888888888888888,
              "#fdca26"
             ],
             [
              1,
              "#f0f921"
             ]
            ],
            "type": "contour"
           }
          ],
          "contourcarpet": [
           {
            "colorbar": {
             "outlinewidth": 0,
             "ticks": ""
            },
            "type": "contourcarpet"
           }
          ],
          "heatmap": [
           {
            "colorbar": {
             "outlinewidth": 0,
             "ticks": ""
            },
            "colorscale": [
             [
              0,
              "#0d0887"
             ],
             [
              0.1111111111111111,
              "#46039f"
             ],
             [
              0.2222222222222222,
              "#7201a8"
             ],
             [
              0.3333333333333333,
              "#9c179e"
             ],
             [
              0.4444444444444444,
              "#bd3786"
             ],
             [
              0.5555555555555556,
              "#d8576b"
             ],
             [
              0.6666666666666666,
              "#ed7953"
             ],
             [
              0.7777777777777778,
              "#fb9f3a"
             ],
             [
              0.8888888888888888,
              "#fdca26"
             ],
             [
              1,
              "#f0f921"
             ]
            ],
            "type": "heatmap"
           }
          ],
          "heatmapgl": [
           {
            "colorbar": {
             "outlinewidth": 0,
             "ticks": ""
            },
            "colorscale": [
             [
              0,
              "#0d0887"
             ],
             [
              0.1111111111111111,
              "#46039f"
             ],
             [
              0.2222222222222222,
              "#7201a8"
             ],
             [
              0.3333333333333333,
              "#9c179e"
             ],
             [
              0.4444444444444444,
              "#bd3786"
             ],
             [
              0.5555555555555556,
              "#d8576b"
             ],
             [
              0.6666666666666666,
              "#ed7953"
             ],
             [
              0.7777777777777778,
              "#fb9f3a"
             ],
             [
              0.8888888888888888,
              "#fdca26"
             ],
             [
              1,
              "#f0f921"
             ]
            ],
            "type": "heatmapgl"
           }
          ],
          "histogram": [
           {
            "marker": {
             "pattern": {
              "fillmode": "overlay",
              "size": 10,
              "solidity": 0.2
             }
            },
            "type": "histogram"
           }
          ],
          "histogram2d": [
           {
            "colorbar": {
             "outlinewidth": 0,
             "ticks": ""
            },
            "colorscale": [
             [
              0,
              "#0d0887"
             ],
             [
              0.1111111111111111,
              "#46039f"
             ],
             [
              0.2222222222222222,
              "#7201a8"
             ],
             [
              0.3333333333333333,
              "#9c179e"
             ],
             [
              0.4444444444444444,
              "#bd3786"
             ],
             [
              0.5555555555555556,
              "#d8576b"
             ],
             [
              0.6666666666666666,
              "#ed7953"
             ],
             [
              0.7777777777777778,
              "#fb9f3a"
             ],
             [
              0.8888888888888888,
              "#fdca26"
             ],
             [
              1,
              "#f0f921"
             ]
            ],
            "type": "histogram2d"
           }
          ],
          "histogram2dcontour": [
           {
            "colorbar": {
             "outlinewidth": 0,
             "ticks": ""
            },
            "colorscale": [
             [
              0,
              "#0d0887"
             ],
             [
              0.1111111111111111,
              "#46039f"
             ],
             [
              0.2222222222222222,
              "#7201a8"
             ],
             [
              0.3333333333333333,
              "#9c179e"
             ],
             [
              0.4444444444444444,
              "#bd3786"
             ],
             [
              0.5555555555555556,
              "#d8576b"
             ],
             [
              0.6666666666666666,
              "#ed7953"
             ],
             [
              0.7777777777777778,
              "#fb9f3a"
             ],
             [
              0.8888888888888888,
              "#fdca26"
             ],
             [
              1,
              "#f0f921"
             ]
            ],
            "type": "histogram2dcontour"
           }
          ],
          "mesh3d": [
           {
            "colorbar": {
             "outlinewidth": 0,
             "ticks": ""
            },
            "type": "mesh3d"
           }
          ],
          "parcoords": [
           {
            "line": {
             "colorbar": {
              "outlinewidth": 0,
              "ticks": ""
             }
            },
            "type": "parcoords"
           }
          ],
          "pie": [
           {
            "automargin": true,
            "type": "pie"
           }
          ],
          "scatter": [
           {
            "fillpattern": {
             "fillmode": "overlay",
             "size": 10,
             "solidity": 0.2
            },
            "type": "scatter"
           }
          ],
          "scatter3d": [
           {
            "line": {
             "colorbar": {
              "outlinewidth": 0,
              "ticks": ""
             }
            },
            "marker": {
             "colorbar": {
              "outlinewidth": 0,
              "ticks": ""
             }
            },
            "type": "scatter3d"
           }
          ],
          "scattercarpet": [
           {
            "marker": {
             "colorbar": {
              "outlinewidth": 0,
              "ticks": ""
             }
            },
            "type": "scattercarpet"
           }
          ],
          "scattergeo": [
           {
            "marker": {
             "colorbar": {
              "outlinewidth": 0,
              "ticks": ""
             }
            },
            "type": "scattergeo"
           }
          ],
          "scattergl": [
           {
            "marker": {
             "colorbar": {
              "outlinewidth": 0,
              "ticks": ""
             }
            },
            "type": "scattergl"
           }
          ],
          "scattermapbox": [
           {
            "marker": {
             "colorbar": {
              "outlinewidth": 0,
              "ticks": ""
             }
            },
            "type": "scattermapbox"
           }
          ],
          "scatterpolar": [
           {
            "marker": {
             "colorbar": {
              "outlinewidth": 0,
              "ticks": ""
             }
            },
            "type": "scatterpolar"
           }
          ],
          "scatterpolargl": [
           {
            "marker": {
             "colorbar": {
              "outlinewidth": 0,
              "ticks": ""
             }
            },
            "type": "scatterpolargl"
           }
          ],
          "scatterternary": [
           {
            "marker": {
             "colorbar": {
              "outlinewidth": 0,
              "ticks": ""
             }
            },
            "type": "scatterternary"
           }
          ],
          "surface": [
           {
            "colorbar": {
             "outlinewidth": 0,
             "ticks": ""
            },
            "colorscale": [
             [
              0,
              "#0d0887"
             ],
             [
              0.1111111111111111,
              "#46039f"
             ],
             [
              0.2222222222222222,
              "#7201a8"
             ],
             [
              0.3333333333333333,
              "#9c179e"
             ],
             [
              0.4444444444444444,
              "#bd3786"
             ],
             [
              0.5555555555555556,
              "#d8576b"
             ],
             [
              0.6666666666666666,
              "#ed7953"
             ],
             [
              0.7777777777777778,
              "#fb9f3a"
             ],
             [
              0.8888888888888888,
              "#fdca26"
             ],
             [
              1,
              "#f0f921"
             ]
            ],
            "type": "surface"
           }
          ],
          "table": [
           {
            "cells": {
             "fill": {
              "color": "#EBF0F8"
             },
             "line": {
              "color": "white"
             }
            },
            "header": {
             "fill": {
              "color": "#C8D4E3"
             },
             "line": {
              "color": "white"
             }
            },
            "type": "table"
           }
          ]
         },
         "layout": {
          "annotationdefaults": {
           "arrowcolor": "#2a3f5f",
           "arrowhead": 0,
           "arrowwidth": 1
          },
          "autotypenumbers": "strict",
          "coloraxis": {
           "colorbar": {
            "outlinewidth": 0,
            "ticks": ""
           }
          },
          "colorscale": {
           "diverging": [
            [
             0,
             "#8e0152"
            ],
            [
             0.1,
             "#c51b7d"
            ],
            [
             0.2,
             "#de77ae"
            ],
            [
             0.3,
             "#f1b6da"
            ],
            [
             0.4,
             "#fde0ef"
            ],
            [
             0.5,
             "#f7f7f7"
            ],
            [
             0.6,
             "#e6f5d0"
            ],
            [
             0.7,
             "#b8e186"
            ],
            [
             0.8,
             "#7fbc41"
            ],
            [
             0.9,
             "#4d9221"
            ],
            [
             1,
             "#276419"
            ]
           ],
           "sequential": [
            [
             0,
             "#0d0887"
            ],
            [
             0.1111111111111111,
             "#46039f"
            ],
            [
             0.2222222222222222,
             "#7201a8"
            ],
            [
             0.3333333333333333,
             "#9c179e"
            ],
            [
             0.4444444444444444,
             "#bd3786"
            ],
            [
             0.5555555555555556,
             "#d8576b"
            ],
            [
             0.6666666666666666,
             "#ed7953"
            ],
            [
             0.7777777777777778,
             "#fb9f3a"
            ],
            [
             0.8888888888888888,
             "#fdca26"
            ],
            [
             1,
             "#f0f921"
            ]
           ],
           "sequentialminus": [
            [
             0,
             "#0d0887"
            ],
            [
             0.1111111111111111,
             "#46039f"
            ],
            [
             0.2222222222222222,
             "#7201a8"
            ],
            [
             0.3333333333333333,
             "#9c179e"
            ],
            [
             0.4444444444444444,
             "#bd3786"
            ],
            [
             0.5555555555555556,
             "#d8576b"
            ],
            [
             0.6666666666666666,
             "#ed7953"
            ],
            [
             0.7777777777777778,
             "#fb9f3a"
            ],
            [
             0.8888888888888888,
             "#fdca26"
            ],
            [
             1,
             "#f0f921"
            ]
           ]
          },
          "colorway": [
           "#636efa",
           "#EF553B",
           "#00cc96",
           "#ab63fa",
           "#FFA15A",
           "#19d3f3",
           "#FF6692",
           "#B6E880",
           "#FF97FF",
           "#FECB52"
          ],
          "font": {
           "color": "#2a3f5f"
          },
          "geo": {
           "bgcolor": "white",
           "lakecolor": "white",
           "landcolor": "#E5ECF6",
           "showlakes": true,
           "showland": true,
           "subunitcolor": "white"
          },
          "hoverlabel": {
           "align": "left"
          },
          "hovermode": "closest",
          "mapbox": {
           "style": "light"
          },
          "paper_bgcolor": "white",
          "plot_bgcolor": "#E5ECF6",
          "polar": {
           "angularaxis": {
            "gridcolor": "white",
            "linecolor": "white",
            "ticks": ""
           },
           "bgcolor": "#E5ECF6",
           "radialaxis": {
            "gridcolor": "white",
            "linecolor": "white",
            "ticks": ""
           }
          },
          "scene": {
           "xaxis": {
            "backgroundcolor": "#E5ECF6",
            "gridcolor": "white",
            "gridwidth": 2,
            "linecolor": "white",
            "showbackground": true,
            "ticks": "",
            "zerolinecolor": "white"
           },
           "yaxis": {
            "backgroundcolor": "#E5ECF6",
            "gridcolor": "white",
            "gridwidth": 2,
            "linecolor": "white",
            "showbackground": true,
            "ticks": "",
            "zerolinecolor": "white"
           },
           "zaxis": {
            "backgroundcolor": "#E5ECF6",
            "gridcolor": "white",
            "gridwidth": 2,
            "linecolor": "white",
            "showbackground": true,
            "ticks": "",
            "zerolinecolor": "white"
           }
          },
          "shapedefaults": {
           "line": {
            "color": "#2a3f5f"
           }
          },
          "ternary": {
           "aaxis": {
            "gridcolor": "white",
            "linecolor": "white",
            "ticks": ""
           },
           "baxis": {
            "gridcolor": "white",
            "linecolor": "white",
            "ticks": ""
           },
           "bgcolor": "#E5ECF6",
           "caxis": {
            "gridcolor": "white",
            "linecolor": "white",
            "ticks": ""
           }
          },
          "title": {
           "x": 0.05
          },
          "xaxis": {
           "automargin": true,
           "gridcolor": "white",
           "linecolor": "white",
           "ticks": "",
           "title": {
            "standoff": 15
           },
           "zerolinecolor": "white",
           "zerolinewidth": 2
          },
          "yaxis": {
           "automargin": true,
           "gridcolor": "white",
           "linecolor": "white",
           "ticks": "",
           "title": {
            "standoff": 15
           },
           "zerolinecolor": "white",
           "zerolinewidth": 2
          }
         }
        },
        "xaxis": {
         "anchor": "y",
         "constrain": "domain",
         "domain": [
          0,
          1
         ],
         "scaleanchor": "y"
        },
        "yaxis": {
         "anchor": "x",
         "autorange": "reversed",
         "constrain": "domain",
         "domain": [
          0,
          1
         ]
        }
       }
      }
     },
     "metadata": {},
     "output_type": "display_data"
    }
   ],
   "source": [
    "fig = px.imshow(p_value_ect.astype(float))\n",
    "fig.show()"
   ]
  },
  {
   "cell_type": "code",
   "execution_count": null,
   "metadata": {},
   "outputs": [
    {
     "data": {
      "text/html": [
       "<div>\n",
       "<style scoped>\n",
       "    .dataframe tbody tr th:only-of-type {\n",
       "        vertical-align: middle;\n",
       "    }\n",
       "\n",
       "    .dataframe tbody tr th {\n",
       "        vertical-align: top;\n",
       "    }\n",
       "\n",
       "    .dataframe thead th {\n",
       "        text-align: right;\n",
       "    }\n",
       "</style>\n",
       "<table border=\"1\" class=\"dataframe\">\n",
       "  <thead>\n",
       "    <tr style=\"text-align: right;\">\n",
       "      <th></th>\n",
       "      <th>RNSB_Weat</th>\n",
       "      <th>RNSB_RND</th>\n",
       "      <th>RNSB_RIPA</th>\n",
       "      <th>RNSB_RNSB</th>\n",
       "      <th>RNSB_ECT</th>\n",
       "      <th>RNSB_Weates</th>\n",
       "    </tr>\n",
       "  </thead>\n",
       "  <tbody>\n",
       "    <tr>\n",
       "      <th>RNSB_Weat</th>\n",
       "      <td>1.0</td>\n",
       "      <td>0.978121</td>\n",
       "      <td>0.833966</td>\n",
       "      <td>0.875</td>\n",
       "      <td>0.963221</td>\n",
       "      <td>0.890249</td>\n",
       "    </tr>\n",
       "    <tr>\n",
       "      <th>RNSB_RND</th>\n",
       "      <td>0.978121</td>\n",
       "      <td>1.0</td>\n",
       "      <td>0.8574</td>\n",
       "      <td>0.900074</td>\n",
       "      <td>0.986558</td>\n",
       "      <td>0.913841</td>\n",
       "    </tr>\n",
       "    <tr>\n",
       "      <th>RNSB_RIPA</th>\n",
       "      <td>0.833966</td>\n",
       "      <td>0.8574</td>\n",
       "      <td>1.0</td>\n",
       "      <td>0.946775</td>\n",
       "      <td>0.863725</td>\n",
       "      <td>0.939705</td>\n",
       "    </tr>\n",
       "    <tr>\n",
       "      <th>RNSB_RNSB</th>\n",
       "      <td>0.875</td>\n",
       "      <td>0.900074</td>\n",
       "      <td>0.946775</td>\n",
       "      <td>1.0</td>\n",
       "      <td>0.908719</td>\n",
       "      <td>0.990027</td>\n",
       "    </tr>\n",
       "    <tr>\n",
       "      <th>RNSB_ECT</th>\n",
       "      <td>0.963221</td>\n",
       "      <td>0.986558</td>\n",
       "      <td>0.863725</td>\n",
       "      <td>0.908719</td>\n",
       "      <td>1.0</td>\n",
       "      <td>0.922992</td>\n",
       "    </tr>\n",
       "    <tr>\n",
       "      <th>RNSB_Weates</th>\n",
       "      <td>0.890249</td>\n",
       "      <td>0.913841</td>\n",
       "      <td>0.939705</td>\n",
       "      <td>0.990027</td>\n",
       "      <td>0.922992</td>\n",
       "      <td>1.0</td>\n",
       "    </tr>\n",
       "  </tbody>\n",
       "</table>\n",
       "</div>"
      ],
      "text/plain": [
       "            RNSB_Weat  RNSB_RND RNSB_RIPA RNSB_RNSB  RNSB_ECT RNSB_Weates\n",
       "RNSB_Weat         1.0  0.978121  0.833966     0.875  0.963221    0.890249\n",
       "RNSB_RND     0.978121       1.0    0.8574  0.900074  0.986558    0.913841\n",
       "RNSB_RIPA    0.833966    0.8574       1.0  0.946775  0.863725    0.939705\n",
       "RNSB_RNSB       0.875  0.900074  0.946775       1.0  0.908719    0.990027\n",
       "RNSB_ECT     0.963221  0.986558  0.863725  0.908719       1.0    0.922992\n",
       "RNSB_Weates  0.890249  0.913841  0.939705  0.990027  0.922992         1.0"
      ]
     },
     "execution_count": 38,
     "metadata": {},
     "output_type": "execute_result"
    }
   ],
   "source": [
    "\n",
    "# Crear un nuevo DataFrame vacío para almacenar las columnas 'WEAT' de cada DataFrame\n",
    "df_rnsb = pd.DataFrame()\n",
    "i = 0\n",
    "# Iterar sobre cada DataFrame en la lista y agregar la columna 'WEAT' al nuevo DataFrame\n",
    "for df in bests_df:\n",
    "    met = metrics[i]\n",
    "    df_rnsb = pd.concat([df_rnsb, df['RNSB'].rename('RNSB_'+ met )], axis=1)\n",
    "    i += 1\n",
    "\n",
    "# Mostrar el nuevo DataFrame con las columnas 'WEAT' de cada DataFrame\n",
    "\n",
    "# Crear un DataFrame vacío para almacenar los p-values\n",
    "p_values_rnsb = pd.DataFrame(index=df_rnsb.columns, columns=df_rnsb.columns)\n",
    "\n",
    "# Iterar sobre todas las combinaciones de columnas\n",
    "for col1 in df_rnsb.columns:\n",
    "    for col2 in df_rnsb.columns:\n",
    "        # Ejecutar el t-test entre las dos columnas\n",
    "        t_statistic, p_value = ttest_rel(df_rnsb[col1], df_rnsb[col2])\n",
    "        # Almacenar el p-value en la matriz\n",
    "        p_values_rnsb.loc[col1, col2] = p_value\n",
    "\n",
    "# Mostrar la matriz de p-values\n",
    "p_values_rnsb\n",
    "\n",
    "\n"
   ]
  },
  {
   "cell_type": "code",
   "execution_count": null,
   "metadata": {},
   "outputs": [
    {
     "data": {
      "text/html": [
       "<div>\n",
       "<style scoped>\n",
       "    .dataframe tbody tr th:only-of-type {\n",
       "        vertical-align: middle;\n",
       "    }\n",
       "\n",
       "    .dataframe tbody tr th {\n",
       "        vertical-align: top;\n",
       "    }\n",
       "\n",
       "    .dataframe thead th {\n",
       "        text-align: right;\n",
       "    }\n",
       "</style>\n",
       "<table border=\"1\" class=\"dataframe\">\n",
       "  <thead>\n",
       "    <tr style=\"text-align: right;\">\n",
       "      <th></th>\n",
       "      <th>RNSB_Weat</th>\n",
       "      <th>RNSB_RND</th>\n",
       "      <th>RNSB_RIPA</th>\n",
       "      <th>RNSB_RNSB</th>\n",
       "      <th>RNSB_ECT</th>\n",
       "      <th>RNSB_Weates</th>\n",
       "    </tr>\n",
       "  </thead>\n",
       "  <tbody>\n",
       "    <tr>\n",
       "      <th>RNSB_Weat</th>\n",
       "      <td>NaN</td>\n",
       "      <td>NaN</td>\n",
       "      <td>NaN</td>\n",
       "      <td>NaN</td>\n",
       "      <td>NaN</td>\n",
       "      <td>NaN</td>\n",
       "    </tr>\n",
       "    <tr>\n",
       "      <th>RNSB_RND</th>\n",
       "      <td>NaN</td>\n",
       "      <td>NaN</td>\n",
       "      <td>NaN</td>\n",
       "      <td>NaN</td>\n",
       "      <td>NaN</td>\n",
       "      <td>NaN</td>\n",
       "    </tr>\n",
       "    <tr>\n",
       "      <th>RNSB_RIPA</th>\n",
       "      <td>NaN</td>\n",
       "      <td>NaN</td>\n",
       "      <td>NaN</td>\n",
       "      <td>NaN</td>\n",
       "      <td>NaN</td>\n",
       "      <td>NaN</td>\n",
       "    </tr>\n",
       "    <tr>\n",
       "      <th>RNSB_RNSB</th>\n",
       "      <td>NaN</td>\n",
       "      <td>NaN</td>\n",
       "      <td>NaN</td>\n",
       "      <td>NaN</td>\n",
       "      <td>NaN</td>\n",
       "      <td>NaN</td>\n",
       "    </tr>\n",
       "    <tr>\n",
       "      <th>RNSB_ECT</th>\n",
       "      <td>NaN</td>\n",
       "      <td>NaN</td>\n",
       "      <td>NaN</td>\n",
       "      <td>NaN</td>\n",
       "      <td>NaN</td>\n",
       "      <td>NaN</td>\n",
       "    </tr>\n",
       "    <tr>\n",
       "      <th>RNSB_Weates</th>\n",
       "      <td>NaN</td>\n",
       "      <td>NaN</td>\n",
       "      <td>NaN</td>\n",
       "      <td>NaN</td>\n",
       "      <td>NaN</td>\n",
       "      <td>NaN</td>\n",
       "    </tr>\n",
       "  </tbody>\n",
       "</table>\n",
       "</div>"
      ],
      "text/plain": [
       "            RNSB_Weat RNSB_RND RNSB_RIPA RNSB_RNSB RNSB_ECT RNSB_Weates\n",
       "RNSB_Weat         NaN      NaN       NaN       NaN      NaN         NaN\n",
       "RNSB_RND          NaN      NaN       NaN       NaN      NaN         NaN\n",
       "RNSB_RIPA         NaN      NaN       NaN       NaN      NaN         NaN\n",
       "RNSB_RNSB         NaN      NaN       NaN       NaN      NaN         NaN\n",
       "RNSB_ECT          NaN      NaN       NaN       NaN      NaN         NaN\n",
       "RNSB_Weates       NaN      NaN       NaN       NaN      NaN         NaN"
      ]
     },
     "execution_count": 39,
     "metadata": {},
     "output_type": "execute_result"
    }
   ],
   "source": [
    "p_values_rnsb[p_values_rnsb < 0.05]"
   ]
  },
  {
   "cell_type": "code",
   "execution_count": null,
   "metadata": {},
   "outputs": [
    {
     "data": {
      "text/html": [
       "<div>\n",
       "<style scoped>\n",
       "    .dataframe tbody tr th:only-of-type {\n",
       "        vertical-align: middle;\n",
       "    }\n",
       "\n",
       "    .dataframe tbody tr th {\n",
       "        vertical-align: top;\n",
       "    }\n",
       "\n",
       "    .dataframe thead th {\n",
       "        text-align: right;\n",
       "    }\n",
       "</style>\n",
       "<table border=\"1\" class=\"dataframe\">\n",
       "  <thead>\n",
       "    <tr style=\"text-align: right;\">\n",
       "      <th></th>\n",
       "      <th>Weates_Weat</th>\n",
       "      <th>Weates_RND</th>\n",
       "      <th>Weates_RIPA</th>\n",
       "      <th>Weates_RNSB</th>\n",
       "      <th>Weates_ECT</th>\n",
       "      <th>Weates_Weates</th>\n",
       "    </tr>\n",
       "  </thead>\n",
       "  <tbody>\n",
       "    <tr>\n",
       "      <th>Weates_Weat</th>\n",
       "      <td>1.0</td>\n",
       "      <td>0.999999</td>\n",
       "      <td>0.999998</td>\n",
       "      <td>0.999998</td>\n",
       "      <td>0.999998</td>\n",
       "      <td>0.999999</td>\n",
       "    </tr>\n",
       "    <tr>\n",
       "      <th>Weates_RND</th>\n",
       "      <td>0.999999</td>\n",
       "      <td>1.0</td>\n",
       "      <td>0.999998</td>\n",
       "      <td>0.999997</td>\n",
       "      <td>0.999998</td>\n",
       "      <td>0.999999</td>\n",
       "    </tr>\n",
       "    <tr>\n",
       "      <th>Weates_RIPA</th>\n",
       "      <td>0.999998</td>\n",
       "      <td>0.999998</td>\n",
       "      <td>1.0</td>\n",
       "      <td>0.999999</td>\n",
       "      <td>1.0</td>\n",
       "      <td>0.999999</td>\n",
       "    </tr>\n",
       "    <tr>\n",
       "      <th>Weates_RNSB</th>\n",
       "      <td>0.999998</td>\n",
       "      <td>0.999997</td>\n",
       "      <td>0.999999</td>\n",
       "      <td>1.0</td>\n",
       "      <td>0.999999</td>\n",
       "      <td>0.999998</td>\n",
       "    </tr>\n",
       "    <tr>\n",
       "      <th>Weates_ECT</th>\n",
       "      <td>0.999998</td>\n",
       "      <td>0.999998</td>\n",
       "      <td>1.0</td>\n",
       "      <td>0.999999</td>\n",
       "      <td>1.0</td>\n",
       "      <td>0.999999</td>\n",
       "    </tr>\n",
       "    <tr>\n",
       "      <th>Weates_Weates</th>\n",
       "      <td>0.999999</td>\n",
       "      <td>0.999999</td>\n",
       "      <td>0.999999</td>\n",
       "      <td>0.999998</td>\n",
       "      <td>0.999999</td>\n",
       "      <td>1.0</td>\n",
       "    </tr>\n",
       "  </tbody>\n",
       "</table>\n",
       "</div>"
      ],
      "text/plain": [
       "              Weates_Weat Weates_RND Weates_RIPA Weates_RNSB Weates_ECT  \\\n",
       "Weates_Weat           1.0   0.999999    0.999998    0.999998   0.999998   \n",
       "Weates_RND       0.999999        1.0    0.999998    0.999997   0.999998   \n",
       "Weates_RIPA      0.999998   0.999998         1.0    0.999999        1.0   \n",
       "Weates_RNSB      0.999998   0.999997    0.999999         1.0   0.999999   \n",
       "Weates_ECT       0.999998   0.999998         1.0    0.999999        1.0   \n",
       "Weates_Weates    0.999999   0.999999    0.999999    0.999998   0.999999   \n",
       "\n",
       "              Weates_Weates  \n",
       "Weates_Weat        0.999999  \n",
       "Weates_RND         0.999999  \n",
       "Weates_RIPA        0.999999  \n",
       "Weates_RNSB        0.999998  \n",
       "Weates_ECT         0.999999  \n",
       "Weates_Weates           1.0  "
      ]
     },
     "execution_count": 40,
     "metadata": {},
     "output_type": "execute_result"
    }
   ],
   "source": [
    "\n",
    "# Crear un nuevo DataFrame vacío para almacenar las columnas 'WEAT' de cada DataFrame\n",
    "df_weates = pd.DataFrame()\n",
    "i = 0\n",
    "# Iterar sobre cada DataFrame en la lista y agregar la columna 'WEAT' al nuevo DataFrame\n",
    "for df in bests_df:\n",
    "    met = metrics[i]\n",
    "    df_weates = pd.concat([df_weates, df['Weates'].rename('Weates_'+ met )], axis=1)\n",
    "    i += 1\n",
    "\n",
    "# Mostrar el nuevo DataFrame con las columnas 'WEAT' de cada DataFrame\n",
    "\n",
    "# Crear un DataFrame vacío para almacenar los p-values\n",
    "p_values_weates = pd.DataFrame(index=df_weates.columns, columns=df_weates.columns)\n",
    "\n",
    "# Iterar sobre todas las combinaciones de columnas\n",
    "for col1 in df_weates.columns:\n",
    "    for col2 in df_weates.columns:\n",
    "        # Ejecutar el t-test entre las dos columnas\n",
    "        t_statistic, p_value = ttest_rel(df_weates[col1], df_weates[col2])\n",
    "        # Almacenar el p-value en la matriz\n",
    "        p_values_weates.loc[col1, col2] = p_value\n",
    "\n",
    "# Mostrar la matriz de p-values\n",
    "p_values_weates\n",
    "\n",
    "\n"
   ]
  },
  {
   "cell_type": "code",
   "execution_count": null,
   "metadata": {},
   "outputs": [
    {
     "data": {
      "text/html": [
       "<div>\n",
       "<style scoped>\n",
       "    .dataframe tbody tr th:only-of-type {\n",
       "        vertical-align: middle;\n",
       "    }\n",
       "\n",
       "    .dataframe tbody tr th {\n",
       "        vertical-align: top;\n",
       "    }\n",
       "\n",
       "    .dataframe thead th {\n",
       "        text-align: right;\n",
       "    }\n",
       "</style>\n",
       "<table border=\"1\" class=\"dataframe\">\n",
       "  <thead>\n",
       "    <tr style=\"text-align: right;\">\n",
       "      <th></th>\n",
       "      <th>Weates_Weat</th>\n",
       "      <th>Weates_RND</th>\n",
       "      <th>Weates_RIPA</th>\n",
       "      <th>Weates_RNSB</th>\n",
       "      <th>Weates_ECT</th>\n",
       "      <th>Weates_Weates</th>\n",
       "    </tr>\n",
       "  </thead>\n",
       "  <tbody>\n",
       "    <tr>\n",
       "      <th>Weates_Weat</th>\n",
       "      <td>NaN</td>\n",
       "      <td>NaN</td>\n",
       "      <td>NaN</td>\n",
       "      <td>NaN</td>\n",
       "      <td>NaN</td>\n",
       "      <td>NaN</td>\n",
       "    </tr>\n",
       "    <tr>\n",
       "      <th>Weates_RND</th>\n",
       "      <td>NaN</td>\n",
       "      <td>NaN</td>\n",
       "      <td>NaN</td>\n",
       "      <td>NaN</td>\n",
       "      <td>NaN</td>\n",
       "      <td>NaN</td>\n",
       "    </tr>\n",
       "    <tr>\n",
       "      <th>Weates_RIPA</th>\n",
       "      <td>NaN</td>\n",
       "      <td>NaN</td>\n",
       "      <td>NaN</td>\n",
       "      <td>NaN</td>\n",
       "      <td>NaN</td>\n",
       "      <td>NaN</td>\n",
       "    </tr>\n",
       "    <tr>\n",
       "      <th>Weates_RNSB</th>\n",
       "      <td>NaN</td>\n",
       "      <td>NaN</td>\n",
       "      <td>NaN</td>\n",
       "      <td>NaN</td>\n",
       "      <td>NaN</td>\n",
       "      <td>NaN</td>\n",
       "    </tr>\n",
       "    <tr>\n",
       "      <th>Weates_ECT</th>\n",
       "      <td>NaN</td>\n",
       "      <td>NaN</td>\n",
       "      <td>NaN</td>\n",
       "      <td>NaN</td>\n",
       "      <td>NaN</td>\n",
       "      <td>NaN</td>\n",
       "    </tr>\n",
       "    <tr>\n",
       "      <th>Weates_Weates</th>\n",
       "      <td>NaN</td>\n",
       "      <td>NaN</td>\n",
       "      <td>NaN</td>\n",
       "      <td>NaN</td>\n",
       "      <td>NaN</td>\n",
       "      <td>NaN</td>\n",
       "    </tr>\n",
       "  </tbody>\n",
       "</table>\n",
       "</div>"
      ],
      "text/plain": [
       "              Weates_Weat Weates_RND Weates_RIPA Weates_RNSB Weates_ECT  \\\n",
       "Weates_Weat           NaN        NaN         NaN         NaN        NaN   \n",
       "Weates_RND            NaN        NaN         NaN         NaN        NaN   \n",
       "Weates_RIPA           NaN        NaN         NaN         NaN        NaN   \n",
       "Weates_RNSB           NaN        NaN         NaN         NaN        NaN   \n",
       "Weates_ECT            NaN        NaN         NaN         NaN        NaN   \n",
       "Weates_Weates         NaN        NaN         NaN         NaN        NaN   \n",
       "\n",
       "              Weates_Weates  \n",
       "Weates_Weat             NaN  \n",
       "Weates_RND              NaN  \n",
       "Weates_RIPA             NaN  \n",
       "Weates_RNSB             NaN  \n",
       "Weates_ECT              NaN  \n",
       "Weates_Weates           NaN  "
      ]
     },
     "execution_count": 41,
     "metadata": {},
     "output_type": "execute_result"
    }
   ],
   "source": [
    "p_values_weates[p_values_weates < 0.05]"
   ]
  },
  {
   "cell_type": "markdown",
   "metadata": {},
   "source": [
    "## Mejores parametros"
   ]
  },
  {
   "cell_type": "code",
   "execution_count": null,
   "metadata": {},
   "outputs": [],
   "source": [
    "alls = pd.DataFrame()\n",
    "for df in bests_df:\n",
    "    alls = pd.concat([alls, df], axis=0)"
   ]
  },
  {
   "cell_type": "code",
   "execution_count": null,
   "metadata": {},
   "outputs": [
    {
     "data": {
      "text/html": [
       "<div>\n",
       "<style scoped>\n",
       "    .dataframe tbody tr th:only-of-type {\n",
       "        vertical-align: middle;\n",
       "    }\n",
       "\n",
       "    .dataframe tbody tr th {\n",
       "        vertical-align: top;\n",
       "    }\n",
       "\n",
       "    .dataframe thead tr th {\n",
       "        text-align: left;\n",
       "    }\n",
       "\n",
       "    .dataframe thead tr:last-of-type th {\n",
       "        text-align: right;\n",
       "    }\n",
       "</style>\n",
       "<table border=\"1\" class=\"dataframe\">\n",
       "  <thead>\n",
       "    <tr>\n",
       "      <th></th>\n",
       "      <th colspan=\"3\" halign=\"left\">Weat</th>\n",
       "      <th colspan=\"3\" halign=\"left\">Weates</th>\n",
       "      <th colspan=\"3\" halign=\"left\">RND</th>\n",
       "      <th colspan=\"3\" halign=\"left\">RIPA</th>\n",
       "      <th colspan=\"3\" halign=\"left\">ECT</th>\n",
       "      <th colspan=\"3\" halign=\"left\">RNSB</th>\n",
       "    </tr>\n",
       "    <tr>\n",
       "      <th></th>\n",
       "      <th>mean</th>\n",
       "      <th>std</th>\n",
       "      <th>count</th>\n",
       "      <th>mean</th>\n",
       "      <th>std</th>\n",
       "      <th>count</th>\n",
       "      <th>mean</th>\n",
       "      <th>std</th>\n",
       "      <th>count</th>\n",
       "      <th>mean</th>\n",
       "      <th>std</th>\n",
       "      <th>count</th>\n",
       "      <th>mean</th>\n",
       "      <th>std</th>\n",
       "      <th>count</th>\n",
       "      <th>mean</th>\n",
       "      <th>std</th>\n",
       "      <th>count</th>\n",
       "    </tr>\n",
       "    <tr>\n",
       "      <th>solver</th>\n",
       "      <th></th>\n",
       "      <th></th>\n",
       "      <th></th>\n",
       "      <th></th>\n",
       "      <th></th>\n",
       "      <th></th>\n",
       "      <th></th>\n",
       "      <th></th>\n",
       "      <th></th>\n",
       "      <th></th>\n",
       "      <th></th>\n",
       "      <th></th>\n",
       "      <th></th>\n",
       "      <th></th>\n",
       "      <th></th>\n",
       "      <th></th>\n",
       "      <th></th>\n",
       "      <th></th>\n",
       "    </tr>\n",
       "  </thead>\n",
       "  <tbody>\n",
       "    <tr>\n",
       "      <th>arpack</th>\n",
       "      <td>0.083826</td>\n",
       "      <td>0.034037</td>\n",
       "      <td>19</td>\n",
       "      <td>0.519227</td>\n",
       "      <td>0.134729</td>\n",
       "      <td>19</td>\n",
       "      <td>0.025467</td>\n",
       "      <td>0.015491</td>\n",
       "      <td>19</td>\n",
       "      <td>0.018027</td>\n",
       "      <td>0.005301</td>\n",
       "      <td>19</td>\n",
       "      <td>0.725199</td>\n",
       "      <td>0.174473</td>\n",
       "      <td>19</td>\n",
       "      <td>0.027785</td>\n",
       "      <td>0.013695</td>\n",
       "      <td>19</td>\n",
       "    </tr>\n",
       "    <tr>\n",
       "      <th>auto</th>\n",
       "      <td>0.079914</td>\n",
       "      <td>0.032620</td>\n",
       "      <td>23</td>\n",
       "      <td>0.489949</td>\n",
       "      <td>0.134550</td>\n",
       "      <td>23</td>\n",
       "      <td>0.023829</td>\n",
       "      <td>0.014766</td>\n",
       "      <td>23</td>\n",
       "      <td>0.017032</td>\n",
       "      <td>0.005129</td>\n",
       "      <td>23</td>\n",
       "      <td>0.749032</td>\n",
       "      <td>0.152541</td>\n",
       "      <td>23</td>\n",
       "      <td>0.022478</td>\n",
       "      <td>0.012573</td>\n",
       "      <td>23</td>\n",
       "    </tr>\n",
       "    <tr>\n",
       "      <th>full</th>\n",
       "      <td>0.055385</td>\n",
       "      <td>0.001243</td>\n",
       "      <td>3</td>\n",
       "      <td>0.329482</td>\n",
       "      <td>0.080804</td>\n",
       "      <td>3</td>\n",
       "      <td>0.013931</td>\n",
       "      <td>0.004827</td>\n",
       "      <td>3</td>\n",
       "      <td>0.013035</td>\n",
       "      <td>0.004790</td>\n",
       "      <td>3</td>\n",
       "      <td>0.830952</td>\n",
       "      <td>0.089826</td>\n",
       "      <td>3</td>\n",
       "      <td>0.016461</td>\n",
       "      <td>0.010488</td>\n",
       "      <td>3</td>\n",
       "    </tr>\n",
       "    <tr>\n",
       "      <th>randomized</th>\n",
       "      <td>0.060637</td>\n",
       "      <td>0.020569</td>\n",
       "      <td>15</td>\n",
       "      <td>0.389564</td>\n",
       "      <td>0.097872</td>\n",
       "      <td>15</td>\n",
       "      <td>0.016904</td>\n",
       "      <td>0.005023</td>\n",
       "      <td>15</td>\n",
       "      <td>0.016992</td>\n",
       "      <td>0.005338</td>\n",
       "      <td>15</td>\n",
       "      <td>0.755969</td>\n",
       "      <td>0.139152</td>\n",
       "      <td>15</td>\n",
       "      <td>0.022203</td>\n",
       "      <td>0.009021</td>\n",
       "      <td>15</td>\n",
       "    </tr>\n",
       "  </tbody>\n",
       "</table>\n",
       "</div>"
      ],
      "text/plain": [
       "                Weat                    Weates                       RND  \\\n",
       "                mean       std count      mean       std count      mean   \n",
       "solver                                                                     \n",
       "arpack      0.083826  0.034037    19  0.519227  0.134729    19  0.025467   \n",
       "auto        0.079914  0.032620    23  0.489949  0.134550    23  0.023829   \n",
       "full        0.055385  0.001243     3  0.329482  0.080804     3  0.013931   \n",
       "randomized  0.060637  0.020569    15  0.389564  0.097872    15  0.016904   \n",
       "\n",
       "                                RIPA                       ECT            \\\n",
       "                 std count      mean       std count      mean       std   \n",
       "solver                                                                     \n",
       "arpack      0.015491    19  0.018027  0.005301    19  0.725199  0.174473   \n",
       "auto        0.014766    23  0.017032  0.005129    23  0.749032  0.152541   \n",
       "full        0.004827     3  0.013035  0.004790     3  0.830952  0.089826   \n",
       "randomized  0.005023    15  0.016992  0.005338    15  0.755969  0.139152   \n",
       "\n",
       "                      RNSB                  \n",
       "           count      mean       std count  \n",
       "solver                                      \n",
       "arpack        19  0.027785  0.013695    19  \n",
       "auto          23  0.022478  0.012573    23  \n",
       "full           3  0.016461  0.010488     3  \n",
       "randomized    15  0.022203  0.009021    15  "
      ]
     },
     "execution_count": 43,
     "metadata": {},
     "output_type": "execute_result"
    }
   ],
   "source": [
    "alls.groupby('solver').aggregate(['mean', 'std', 'count'])"
   ]
  },
  {
   "cell_type": "markdown",
   "metadata": {},
   "source": [
    "# All data"
   ]
  },
  {
   "cell_type": "code",
   "execution_count": null,
   "metadata": {},
   "outputs": [],
   "source": [
    "all_weat = pd.read_csv('results/all_dhd_weat.csv')"
   ]
  },
  {
   "cell_type": "code",
   "execution_count": null,
   "metadata": {},
   "outputs": [],
   "source": [
    "import pandas as pd"
   ]
  },
  {
   "cell_type": "code",
   "execution_count": null,
   "metadata": {},
   "outputs": [],
   "source": [
    "all_weat2 = pd.read_csv('results/all_dhd_weat2.csv')\n",
    "all_ripa2 = pd.read_csv('results/all_dhd_ripa2.csv')\n",
    "all_rnd2 = pd.read_csv('results/all_dhd_rnd2.csv')\n",
    "all_rnsb2 = pd.read_csv('results/all_dhd_rnsb2.csv')\n",
    "all_weates2 = pd.read_csv('results/all_dhd_weates2.csv')\n",
    "all_ect2 = pd.read_csv('results/all_dhd_ect2.csv')"
   ]
  },
  {
   "cell_type": "code",
   "execution_count": null,
   "metadata": {},
   "outputs": [
    {
     "data": {
      "text/html": [
       "<div>\n",
       "<style scoped>\n",
       "    .dataframe tbody tr th:only-of-type {\n",
       "        vertical-align: middle;\n",
       "    }\n",
       "\n",
       "    .dataframe tbody tr th {\n",
       "        vertical-align: top;\n",
       "    }\n",
       "\n",
       "    .dataframe thead th {\n",
       "        text-align: right;\n",
       "    }\n",
       "</style>\n",
       "<table border=\"1\" class=\"dataframe\">\n",
       "  <thead>\n",
       "    <tr style=\"text-align: right;\">\n",
       "      <th></th>\n",
       "      <th>Unnamed: 0</th>\n",
       "      <th>Weat</th>\n",
       "      <th>Weates</th>\n",
       "      <th>RND</th>\n",
       "      <th>RIPA</th>\n",
       "      <th>ECT</th>\n",
       "      <th>RNSB</th>\n",
       "      <th>solver</th>\n",
       "    </tr>\n",
       "  </thead>\n",
       "  <tbody>\n",
       "    <tr>\n",
       "      <th>0</th>\n",
       "      <td>0</td>\n",
       "      <td>0.161711</td>\n",
       "      <td>0.738900</td>\n",
       "      <td>0.061782</td>\n",
       "      <td>0.016593</td>\n",
       "      <td>0.586401</td>\n",
       "      <td>0.013935</td>\n",
       "      <td>auto</td>\n",
       "    </tr>\n",
       "    <tr>\n",
       "      <th>1</th>\n",
       "      <td>0</td>\n",
       "      <td>0.161711</td>\n",
       "      <td>0.738900</td>\n",
       "      <td>0.061782</td>\n",
       "      <td>0.016593</td>\n",
       "      <td>0.586401</td>\n",
       "      <td>0.015786</td>\n",
       "      <td>full</td>\n",
       "    </tr>\n",
       "    <tr>\n",
       "      <th>2</th>\n",
       "      <td>0</td>\n",
       "      <td>0.161711</td>\n",
       "      <td>0.738899</td>\n",
       "      <td>0.061782</td>\n",
       "      <td>0.016593</td>\n",
       "      <td>0.586401</td>\n",
       "      <td>0.013480</td>\n",
       "      <td>arpack</td>\n",
       "    </tr>\n",
       "    <tr>\n",
       "      <th>3</th>\n",
       "      <td>0</td>\n",
       "      <td>0.161711</td>\n",
       "      <td>0.738900</td>\n",
       "      <td>0.061782</td>\n",
       "      <td>0.016593</td>\n",
       "      <td>0.586401</td>\n",
       "      <td>0.013508</td>\n",
       "      <td>randomized</td>\n",
       "    </tr>\n",
       "    <tr>\n",
       "      <th>4</th>\n",
       "      <td>1</td>\n",
       "      <td>0.050623</td>\n",
       "      <td>0.211289</td>\n",
       "      <td>0.013871</td>\n",
       "      <td>0.008062</td>\n",
       "      <td>0.702860</td>\n",
       "      <td>0.026409</td>\n",
       "      <td>auto</td>\n",
       "    </tr>\n",
       "    <tr>\n",
       "      <th>5</th>\n",
       "      <td>1</td>\n",
       "      <td>0.050623</td>\n",
       "      <td>0.211289</td>\n",
       "      <td>0.013871</td>\n",
       "      <td>0.008062</td>\n",
       "      <td>0.702860</td>\n",
       "      <td>0.030274</td>\n",
       "      <td>full</td>\n",
       "    </tr>\n",
       "    <tr>\n",
       "      <th>6</th>\n",
       "      <td>1</td>\n",
       "      <td>0.050623</td>\n",
       "      <td>0.211289</td>\n",
       "      <td>0.013871</td>\n",
       "      <td>0.008062</td>\n",
       "      <td>0.702860</td>\n",
       "      <td>0.029845</td>\n",
       "      <td>arpack</td>\n",
       "    </tr>\n",
       "    <tr>\n",
       "      <th>7</th>\n",
       "      <td>1</td>\n",
       "      <td>0.050623</td>\n",
       "      <td>0.211288</td>\n",
       "      <td>0.013871</td>\n",
       "      <td>0.008062</td>\n",
       "      <td>0.702860</td>\n",
       "      <td>0.026284</td>\n",
       "      <td>randomized</td>\n",
       "    </tr>\n",
       "    <tr>\n",
       "      <th>8</th>\n",
       "      <td>2</td>\n",
       "      <td>0.047619</td>\n",
       "      <td>0.333535</td>\n",
       "      <td>0.019612</td>\n",
       "      <td>0.012648</td>\n",
       "      <td>0.842538</td>\n",
       "      <td>0.011567</td>\n",
       "      <td>auto</td>\n",
       "    </tr>\n",
       "    <tr>\n",
       "      <th>9</th>\n",
       "      <td>2</td>\n",
       "      <td>0.047619</td>\n",
       "      <td>0.333535</td>\n",
       "      <td>0.019612</td>\n",
       "      <td>0.012648</td>\n",
       "      <td>0.842538</td>\n",
       "      <td>0.012167</td>\n",
       "      <td>full</td>\n",
       "    </tr>\n",
       "    <tr>\n",
       "      <th>10</th>\n",
       "      <td>2</td>\n",
       "      <td>0.047619</td>\n",
       "      <td>0.333537</td>\n",
       "      <td>0.019613</td>\n",
       "      <td>0.012648</td>\n",
       "      <td>0.842538</td>\n",
       "      <td>0.014144</td>\n",
       "      <td>arpack</td>\n",
       "    </tr>\n",
       "    <tr>\n",
       "      <th>11</th>\n",
       "      <td>2</td>\n",
       "      <td>0.047619</td>\n",
       "      <td>0.333536</td>\n",
       "      <td>0.019613</td>\n",
       "      <td>0.012648</td>\n",
       "      <td>0.842538</td>\n",
       "      <td>0.011416</td>\n",
       "      <td>randomized</td>\n",
       "    </tr>\n",
       "    <tr>\n",
       "      <th>12</th>\n",
       "      <td>3</td>\n",
       "      <td>0.058811</td>\n",
       "      <td>0.360253</td>\n",
       "      <td>0.010974</td>\n",
       "      <td>0.012880</td>\n",
       "      <td>0.934797</td>\n",
       "      <td>0.013298</td>\n",
       "      <td>auto</td>\n",
       "    </tr>\n",
       "    <tr>\n",
       "      <th>13</th>\n",
       "      <td>3</td>\n",
       "      <td>0.058811</td>\n",
       "      <td>0.360253</td>\n",
       "      <td>0.010974</td>\n",
       "      <td>0.012880</td>\n",
       "      <td>0.934797</td>\n",
       "      <td>0.009595</td>\n",
       "      <td>full</td>\n",
       "    </tr>\n",
       "    <tr>\n",
       "      <th>14</th>\n",
       "      <td>3</td>\n",
       "      <td>0.058811</td>\n",
       "      <td>0.360253</td>\n",
       "      <td>0.010974</td>\n",
       "      <td>0.012880</td>\n",
       "      <td>0.934797</td>\n",
       "      <td>0.009347</td>\n",
       "      <td>arpack</td>\n",
       "    </tr>\n",
       "    <tr>\n",
       "      <th>15</th>\n",
       "      <td>3</td>\n",
       "      <td>0.058811</td>\n",
       "      <td>0.360253</td>\n",
       "      <td>0.010974</td>\n",
       "      <td>0.012880</td>\n",
       "      <td>0.934797</td>\n",
       "      <td>0.010522</td>\n",
       "      <td>randomized</td>\n",
       "    </tr>\n",
       "    <tr>\n",
       "      <th>16</th>\n",
       "      <td>4</td>\n",
       "      <td>0.096726</td>\n",
       "      <td>0.492940</td>\n",
       "      <td>0.024927</td>\n",
       "      <td>0.019114</td>\n",
       "      <td>0.581517</td>\n",
       "      <td>0.016929</td>\n",
       "      <td>auto</td>\n",
       "    </tr>\n",
       "    <tr>\n",
       "      <th>17</th>\n",
       "      <td>4</td>\n",
       "      <td>0.096726</td>\n",
       "      <td>0.492940</td>\n",
       "      <td>0.024927</td>\n",
       "      <td>0.019114</td>\n",
       "      <td>0.581517</td>\n",
       "      <td>0.014076</td>\n",
       "      <td>full</td>\n",
       "    </tr>\n",
       "    <tr>\n",
       "      <th>18</th>\n",
       "      <td>4</td>\n",
       "      <td>0.096726</td>\n",
       "      <td>0.492939</td>\n",
       "      <td>0.024927</td>\n",
       "      <td>0.019114</td>\n",
       "      <td>0.581517</td>\n",
       "      <td>0.015916</td>\n",
       "      <td>arpack</td>\n",
       "    </tr>\n",
       "    <tr>\n",
       "      <th>19</th>\n",
       "      <td>4</td>\n",
       "      <td>0.096726</td>\n",
       "      <td>0.492940</td>\n",
       "      <td>0.024927</td>\n",
       "      <td>0.019114</td>\n",
       "      <td>0.581517</td>\n",
       "      <td>0.015584</td>\n",
       "      <td>randomized</td>\n",
       "    </tr>\n",
       "    <tr>\n",
       "      <th>20</th>\n",
       "      <td>5</td>\n",
       "      <td>0.019343</td>\n",
       "      <td>0.200990</td>\n",
       "      <td>0.012631</td>\n",
       "      <td>0.010588</td>\n",
       "      <td>0.828201</td>\n",
       "      <td>0.017804</td>\n",
       "      <td>auto</td>\n",
       "    </tr>\n",
       "    <tr>\n",
       "      <th>21</th>\n",
       "      <td>5</td>\n",
       "      <td>0.019343</td>\n",
       "      <td>0.200990</td>\n",
       "      <td>0.012631</td>\n",
       "      <td>0.010588</td>\n",
       "      <td>0.828201</td>\n",
       "      <td>0.019029</td>\n",
       "      <td>full</td>\n",
       "    </tr>\n",
       "    <tr>\n",
       "      <th>22</th>\n",
       "      <td>5</td>\n",
       "      <td>0.019343</td>\n",
       "      <td>0.200990</td>\n",
       "      <td>0.012631</td>\n",
       "      <td>0.010588</td>\n",
       "      <td>0.828201</td>\n",
       "      <td>0.018752</td>\n",
       "      <td>arpack</td>\n",
       "    </tr>\n",
       "    <tr>\n",
       "      <th>23</th>\n",
       "      <td>5</td>\n",
       "      <td>0.019343</td>\n",
       "      <td>0.200990</td>\n",
       "      <td>0.012631</td>\n",
       "      <td>0.010588</td>\n",
       "      <td>0.828201</td>\n",
       "      <td>0.020883</td>\n",
       "      <td>randomized</td>\n",
       "    </tr>\n",
       "    <tr>\n",
       "      <th>24</th>\n",
       "      <td>6</td>\n",
       "      <td>0.091794</td>\n",
       "      <td>0.654117</td>\n",
       "      <td>0.022768</td>\n",
       "      <td>0.025797</td>\n",
       "      <td>0.838558</td>\n",
       "      <td>0.037017</td>\n",
       "      <td>auto</td>\n",
       "    </tr>\n",
       "    <tr>\n",
       "      <th>25</th>\n",
       "      <td>6</td>\n",
       "      <td>0.091794</td>\n",
       "      <td>0.654117</td>\n",
       "      <td>0.022768</td>\n",
       "      <td>0.025797</td>\n",
       "      <td>0.838558</td>\n",
       "      <td>0.036931</td>\n",
       "      <td>full</td>\n",
       "    </tr>\n",
       "    <tr>\n",
       "      <th>26</th>\n",
       "      <td>6</td>\n",
       "      <td>0.091794</td>\n",
       "      <td>0.654116</td>\n",
       "      <td>0.022768</td>\n",
       "      <td>0.025797</td>\n",
       "      <td>0.838558</td>\n",
       "      <td>0.036684</td>\n",
       "      <td>arpack</td>\n",
       "    </tr>\n",
       "    <tr>\n",
       "      <th>27</th>\n",
       "      <td>6</td>\n",
       "      <td>0.091794</td>\n",
       "      <td>0.654117</td>\n",
       "      <td>0.022768</td>\n",
       "      <td>0.025797</td>\n",
       "      <td>0.838558</td>\n",
       "      <td>0.035772</td>\n",
       "      <td>randomized</td>\n",
       "    </tr>\n",
       "    <tr>\n",
       "      <th>28</th>\n",
       "      <td>7</td>\n",
       "      <td>0.096907</td>\n",
       "      <td>0.654668</td>\n",
       "      <td>0.024159</td>\n",
       "      <td>0.029422</td>\n",
       "      <td>0.473342</td>\n",
       "      <td>0.043785</td>\n",
       "      <td>auto</td>\n",
       "    </tr>\n",
       "    <tr>\n",
       "      <th>29</th>\n",
       "      <td>7</td>\n",
       "      <td>0.096907</td>\n",
       "      <td>0.654668</td>\n",
       "      <td>0.024159</td>\n",
       "      <td>0.029422</td>\n",
       "      <td>0.473342</td>\n",
       "      <td>0.042900</td>\n",
       "      <td>full</td>\n",
       "    </tr>\n",
       "    <tr>\n",
       "      <th>30</th>\n",
       "      <td>7</td>\n",
       "      <td>0.096907</td>\n",
       "      <td>0.654668</td>\n",
       "      <td>0.024159</td>\n",
       "      <td>0.029422</td>\n",
       "      <td>0.473342</td>\n",
       "      <td>0.044537</td>\n",
       "      <td>arpack</td>\n",
       "    </tr>\n",
       "    <tr>\n",
       "      <th>31</th>\n",
       "      <td>7</td>\n",
       "      <td>0.096907</td>\n",
       "      <td>0.654668</td>\n",
       "      <td>0.024159</td>\n",
       "      <td>0.029422</td>\n",
       "      <td>0.473342</td>\n",
       "      <td>0.041794</td>\n",
       "      <td>randomized</td>\n",
       "    </tr>\n",
       "    <tr>\n",
       "      <th>32</th>\n",
       "      <td>8</td>\n",
       "      <td>0.049250</td>\n",
       "      <td>0.387877</td>\n",
       "      <td>0.018921</td>\n",
       "      <td>0.018323</td>\n",
       "      <td>0.861920</td>\n",
       "      <td>0.024320</td>\n",
       "      <td>auto</td>\n",
       "    </tr>\n",
       "    <tr>\n",
       "      <th>33</th>\n",
       "      <td>8</td>\n",
       "      <td>0.049250</td>\n",
       "      <td>0.387877</td>\n",
       "      <td>0.018921</td>\n",
       "      <td>0.018323</td>\n",
       "      <td>0.861920</td>\n",
       "      <td>0.021508</td>\n",
       "      <td>full</td>\n",
       "    </tr>\n",
       "    <tr>\n",
       "      <th>34</th>\n",
       "      <td>8</td>\n",
       "      <td>0.049250</td>\n",
       "      <td>0.387877</td>\n",
       "      <td>0.018921</td>\n",
       "      <td>0.018323</td>\n",
       "      <td>0.861920</td>\n",
       "      <td>0.020013</td>\n",
       "      <td>arpack</td>\n",
       "    </tr>\n",
       "    <tr>\n",
       "      <th>35</th>\n",
       "      <td>8</td>\n",
       "      <td>0.049250</td>\n",
       "      <td>0.387877</td>\n",
       "      <td>0.018921</td>\n",
       "      <td>0.018323</td>\n",
       "      <td>0.861920</td>\n",
       "      <td>0.024477</td>\n",
       "      <td>randomized</td>\n",
       "    </tr>\n",
       "    <tr>\n",
       "      <th>36</th>\n",
       "      <td>9</td>\n",
       "      <td>0.100708</td>\n",
       "      <td>0.640507</td>\n",
       "      <td>0.021164</td>\n",
       "      <td>0.015555</td>\n",
       "      <td>0.734841</td>\n",
       "      <td>0.041807</td>\n",
       "      <td>auto</td>\n",
       "    </tr>\n",
       "    <tr>\n",
       "      <th>37</th>\n",
       "      <td>9</td>\n",
       "      <td>0.100708</td>\n",
       "      <td>0.640507</td>\n",
       "      <td>0.021164</td>\n",
       "      <td>0.015555</td>\n",
       "      <td>0.734841</td>\n",
       "      <td>0.044938</td>\n",
       "      <td>full</td>\n",
       "    </tr>\n",
       "    <tr>\n",
       "      <th>38</th>\n",
       "      <td>9</td>\n",
       "      <td>0.100708</td>\n",
       "      <td>0.640507</td>\n",
       "      <td>0.021164</td>\n",
       "      <td>0.015555</td>\n",
       "      <td>0.734841</td>\n",
       "      <td>0.038966</td>\n",
       "      <td>arpack</td>\n",
       "    </tr>\n",
       "    <tr>\n",
       "      <th>39</th>\n",
       "      <td>9</td>\n",
       "      <td>0.100708</td>\n",
       "      <td>0.640507</td>\n",
       "      <td>0.021164</td>\n",
       "      <td>0.015555</td>\n",
       "      <td>0.734841</td>\n",
       "      <td>0.042948</td>\n",
       "      <td>randomized</td>\n",
       "    </tr>\n",
       "  </tbody>\n",
       "</table>\n",
       "</div>"
      ],
      "text/plain": [
       "    Unnamed: 0      Weat    Weates       RND      RIPA       ECT      RNSB  \\\n",
       "0            0  0.161711  0.738900  0.061782  0.016593  0.586401  0.013935   \n",
       "1            0  0.161711  0.738900  0.061782  0.016593  0.586401  0.015786   \n",
       "2            0  0.161711  0.738899  0.061782  0.016593  0.586401  0.013480   \n",
       "3            0  0.161711  0.738900  0.061782  0.016593  0.586401  0.013508   \n",
       "4            1  0.050623  0.211289  0.013871  0.008062  0.702860  0.026409   \n",
       "5            1  0.050623  0.211289  0.013871  0.008062  0.702860  0.030274   \n",
       "6            1  0.050623  0.211289  0.013871  0.008062  0.702860  0.029845   \n",
       "7            1  0.050623  0.211288  0.013871  0.008062  0.702860  0.026284   \n",
       "8            2  0.047619  0.333535  0.019612  0.012648  0.842538  0.011567   \n",
       "9            2  0.047619  0.333535  0.019612  0.012648  0.842538  0.012167   \n",
       "10           2  0.047619  0.333537  0.019613  0.012648  0.842538  0.014144   \n",
       "11           2  0.047619  0.333536  0.019613  0.012648  0.842538  0.011416   \n",
       "12           3  0.058811  0.360253  0.010974  0.012880  0.934797  0.013298   \n",
       "13           3  0.058811  0.360253  0.010974  0.012880  0.934797  0.009595   \n",
       "14           3  0.058811  0.360253  0.010974  0.012880  0.934797  0.009347   \n",
       "15           3  0.058811  0.360253  0.010974  0.012880  0.934797  0.010522   \n",
       "16           4  0.096726  0.492940  0.024927  0.019114  0.581517  0.016929   \n",
       "17           4  0.096726  0.492940  0.024927  0.019114  0.581517  0.014076   \n",
       "18           4  0.096726  0.492939  0.024927  0.019114  0.581517  0.015916   \n",
       "19           4  0.096726  0.492940  0.024927  0.019114  0.581517  0.015584   \n",
       "20           5  0.019343  0.200990  0.012631  0.010588  0.828201  0.017804   \n",
       "21           5  0.019343  0.200990  0.012631  0.010588  0.828201  0.019029   \n",
       "22           5  0.019343  0.200990  0.012631  0.010588  0.828201  0.018752   \n",
       "23           5  0.019343  0.200990  0.012631  0.010588  0.828201  0.020883   \n",
       "24           6  0.091794  0.654117  0.022768  0.025797  0.838558  0.037017   \n",
       "25           6  0.091794  0.654117  0.022768  0.025797  0.838558  0.036931   \n",
       "26           6  0.091794  0.654116  0.022768  0.025797  0.838558  0.036684   \n",
       "27           6  0.091794  0.654117  0.022768  0.025797  0.838558  0.035772   \n",
       "28           7  0.096907  0.654668  0.024159  0.029422  0.473342  0.043785   \n",
       "29           7  0.096907  0.654668  0.024159  0.029422  0.473342  0.042900   \n",
       "30           7  0.096907  0.654668  0.024159  0.029422  0.473342  0.044537   \n",
       "31           7  0.096907  0.654668  0.024159  0.029422  0.473342  0.041794   \n",
       "32           8  0.049250  0.387877  0.018921  0.018323  0.861920  0.024320   \n",
       "33           8  0.049250  0.387877  0.018921  0.018323  0.861920  0.021508   \n",
       "34           8  0.049250  0.387877  0.018921  0.018323  0.861920  0.020013   \n",
       "35           8  0.049250  0.387877  0.018921  0.018323  0.861920  0.024477   \n",
       "36           9  0.100708  0.640507  0.021164  0.015555  0.734841  0.041807   \n",
       "37           9  0.100708  0.640507  0.021164  0.015555  0.734841  0.044938   \n",
       "38           9  0.100708  0.640507  0.021164  0.015555  0.734841  0.038966   \n",
       "39           9  0.100708  0.640507  0.021164  0.015555  0.734841  0.042948   \n",
       "\n",
       "        solver  \n",
       "0         auto  \n",
       "1         full  \n",
       "2       arpack  \n",
       "3   randomized  \n",
       "4         auto  \n",
       "5         full  \n",
       "6       arpack  \n",
       "7   randomized  \n",
       "8         auto  \n",
       "9         full  \n",
       "10      arpack  \n",
       "11  randomized  \n",
       "12        auto  \n",
       "13        full  \n",
       "14      arpack  \n",
       "15  randomized  \n",
       "16        auto  \n",
       "17        full  \n",
       "18      arpack  \n",
       "19  randomized  \n",
       "20        auto  \n",
       "21        full  \n",
       "22      arpack  \n",
       "23  randomized  \n",
       "24        auto  \n",
       "25        full  \n",
       "26      arpack  \n",
       "27  randomized  \n",
       "28        auto  \n",
       "29        full  \n",
       "30      arpack  \n",
       "31  randomized  \n",
       "32        auto  \n",
       "33        full  \n",
       "34      arpack  \n",
       "35  randomized  \n",
       "36        auto  \n",
       "37        full  \n",
       "38      arpack  \n",
       "39  randomized  "
      ]
     },
     "execution_count": 47,
     "metadata": {},
     "output_type": "execute_result"
    }
   ],
   "source": [
    "all_weat2"
   ]
  },
  {
   "cell_type": "code",
   "execution_count": null,
   "metadata": {},
   "outputs": [
    {
     "data": {
      "text/html": [
       "<div>\n",
       "<style scoped>\n",
       "    .dataframe tbody tr th:only-of-type {\n",
       "        vertical-align: middle;\n",
       "    }\n",
       "\n",
       "    .dataframe tbody tr th {\n",
       "        vertical-align: top;\n",
       "    }\n",
       "\n",
       "    .dataframe thead th {\n",
       "        text-align: right;\n",
       "    }\n",
       "</style>\n",
       "<table border=\"1\" class=\"dataframe\">\n",
       "  <thead>\n",
       "    <tr style=\"text-align: right;\">\n",
       "      <th></th>\n",
       "      <th>Unnamed: 0</th>\n",
       "      <th>Weat</th>\n",
       "      <th>Weates</th>\n",
       "      <th>RND</th>\n",
       "      <th>RIPA</th>\n",
       "      <th>ECT</th>\n",
       "      <th>RNSB</th>\n",
       "    </tr>\n",
       "  </thead>\n",
       "  <tbody>\n",
       "    <tr>\n",
       "      <th>count</th>\n",
       "      <td>0.0</td>\n",
       "      <td>0.0</td>\n",
       "      <td>0.0</td>\n",
       "      <td>0.0</td>\n",
       "      <td>0.0</td>\n",
       "      <td>0.0</td>\n",
       "      <td>0.0</td>\n",
       "    </tr>\n",
       "    <tr>\n",
       "      <th>mean</th>\n",
       "      <td>NaN</td>\n",
       "      <td>NaN</td>\n",
       "      <td>NaN</td>\n",
       "      <td>NaN</td>\n",
       "      <td>NaN</td>\n",
       "      <td>NaN</td>\n",
       "      <td>NaN</td>\n",
       "    </tr>\n",
       "    <tr>\n",
       "      <th>std</th>\n",
       "      <td>NaN</td>\n",
       "      <td>NaN</td>\n",
       "      <td>NaN</td>\n",
       "      <td>NaN</td>\n",
       "      <td>NaN</td>\n",
       "      <td>NaN</td>\n",
       "      <td>NaN</td>\n",
       "    </tr>\n",
       "    <tr>\n",
       "      <th>min</th>\n",
       "      <td>NaN</td>\n",
       "      <td>NaN</td>\n",
       "      <td>NaN</td>\n",
       "      <td>NaN</td>\n",
       "      <td>NaN</td>\n",
       "      <td>NaN</td>\n",
       "      <td>NaN</td>\n",
       "    </tr>\n",
       "    <tr>\n",
       "      <th>25%</th>\n",
       "      <td>NaN</td>\n",
       "      <td>NaN</td>\n",
       "      <td>NaN</td>\n",
       "      <td>NaN</td>\n",
       "      <td>NaN</td>\n",
       "      <td>NaN</td>\n",
       "      <td>NaN</td>\n",
       "    </tr>\n",
       "    <tr>\n",
       "      <th>50%</th>\n",
       "      <td>NaN</td>\n",
       "      <td>NaN</td>\n",
       "      <td>NaN</td>\n",
       "      <td>NaN</td>\n",
       "      <td>NaN</td>\n",
       "      <td>NaN</td>\n",
       "      <td>NaN</td>\n",
       "    </tr>\n",
       "    <tr>\n",
       "      <th>75%</th>\n",
       "      <td>NaN</td>\n",
       "      <td>NaN</td>\n",
       "      <td>NaN</td>\n",
       "      <td>NaN</td>\n",
       "      <td>NaN</td>\n",
       "      <td>NaN</td>\n",
       "      <td>NaN</td>\n",
       "    </tr>\n",
       "    <tr>\n",
       "      <th>max</th>\n",
       "      <td>NaN</td>\n",
       "      <td>NaN</td>\n",
       "      <td>NaN</td>\n",
       "      <td>NaN</td>\n",
       "      <td>NaN</td>\n",
       "      <td>NaN</td>\n",
       "      <td>NaN</td>\n",
       "    </tr>\n",
       "  </tbody>\n",
       "</table>\n",
       "</div>"
      ],
      "text/plain": [
       "       Unnamed: 0  Weat  Weates  RND  RIPA  ECT  RNSB\n",
       "count         0.0   0.0     0.0  0.0   0.0  0.0   0.0\n",
       "mean          NaN   NaN     NaN  NaN   NaN  NaN   NaN\n",
       "std           NaN   NaN     NaN  NaN   NaN  NaN   NaN\n",
       "min           NaN   NaN     NaN  NaN   NaN  NaN   NaN\n",
       "25%           NaN   NaN     NaN  NaN   NaN  NaN   NaN\n",
       "50%           NaN   NaN     NaN  NaN   NaN  NaN   NaN\n",
       "75%           NaN   NaN     NaN  NaN   NaN  NaN   NaN\n",
       "max           NaN   NaN     NaN  NaN   NaN  NaN   NaN"
      ]
     },
     "execution_count": 48,
     "metadata": {},
     "output_type": "execute_result"
    }
   ],
   "source": [
    "all_weat2[all_weat2['solver'] == 0].describe()"
   ]
  },
  {
   "cell_type": "code",
   "execution_count": null,
   "metadata": {},
   "outputs": [
    {
     "data": {
      "text/html": [
       "<div>\n",
       "<style scoped>\n",
       "    .dataframe tbody tr th:only-of-type {\n",
       "        vertical-align: middle;\n",
       "    }\n",
       "\n",
       "    .dataframe tbody tr th {\n",
       "        vertical-align: top;\n",
       "    }\n",
       "\n",
       "    .dataframe thead th {\n",
       "        text-align: right;\n",
       "    }\n",
       "</style>\n",
       "<table border=\"1\" class=\"dataframe\">\n",
       "  <thead>\n",
       "    <tr style=\"text-align: right;\">\n",
       "      <th></th>\n",
       "      <th>Unnamed: 0</th>\n",
       "      <th>Weat</th>\n",
       "      <th>Weates</th>\n",
       "      <th>RND</th>\n",
       "      <th>RIPA</th>\n",
       "      <th>ECT</th>\n",
       "      <th>RNSB</th>\n",
       "    </tr>\n",
       "  </thead>\n",
       "  <tbody>\n",
       "    <tr>\n",
       "      <th>count</th>\n",
       "      <td>0.0</td>\n",
       "      <td>0.0</td>\n",
       "      <td>0.0</td>\n",
       "      <td>0.0</td>\n",
       "      <td>0.0</td>\n",
       "      <td>0.0</td>\n",
       "      <td>0.0</td>\n",
       "    </tr>\n",
       "    <tr>\n",
       "      <th>mean</th>\n",
       "      <td>NaN</td>\n",
       "      <td>NaN</td>\n",
       "      <td>NaN</td>\n",
       "      <td>NaN</td>\n",
       "      <td>NaN</td>\n",
       "      <td>NaN</td>\n",
       "      <td>NaN</td>\n",
       "    </tr>\n",
       "    <tr>\n",
       "      <th>std</th>\n",
       "      <td>NaN</td>\n",
       "      <td>NaN</td>\n",
       "      <td>NaN</td>\n",
       "      <td>NaN</td>\n",
       "      <td>NaN</td>\n",
       "      <td>NaN</td>\n",
       "      <td>NaN</td>\n",
       "    </tr>\n",
       "    <tr>\n",
       "      <th>min</th>\n",
       "      <td>NaN</td>\n",
       "      <td>NaN</td>\n",
       "      <td>NaN</td>\n",
       "      <td>NaN</td>\n",
       "      <td>NaN</td>\n",
       "      <td>NaN</td>\n",
       "      <td>NaN</td>\n",
       "    </tr>\n",
       "    <tr>\n",
       "      <th>25%</th>\n",
       "      <td>NaN</td>\n",
       "      <td>NaN</td>\n",
       "      <td>NaN</td>\n",
       "      <td>NaN</td>\n",
       "      <td>NaN</td>\n",
       "      <td>NaN</td>\n",
       "      <td>NaN</td>\n",
       "    </tr>\n",
       "    <tr>\n",
       "      <th>50%</th>\n",
       "      <td>NaN</td>\n",
       "      <td>NaN</td>\n",
       "      <td>NaN</td>\n",
       "      <td>NaN</td>\n",
       "      <td>NaN</td>\n",
       "      <td>NaN</td>\n",
       "      <td>NaN</td>\n",
       "    </tr>\n",
       "    <tr>\n",
       "      <th>75%</th>\n",
       "      <td>NaN</td>\n",
       "      <td>NaN</td>\n",
       "      <td>NaN</td>\n",
       "      <td>NaN</td>\n",
       "      <td>NaN</td>\n",
       "      <td>NaN</td>\n",
       "      <td>NaN</td>\n",
       "    </tr>\n",
       "    <tr>\n",
       "      <th>max</th>\n",
       "      <td>NaN</td>\n",
       "      <td>NaN</td>\n",
       "      <td>NaN</td>\n",
       "      <td>NaN</td>\n",
       "      <td>NaN</td>\n",
       "      <td>NaN</td>\n",
       "      <td>NaN</td>\n",
       "    </tr>\n",
       "  </tbody>\n",
       "</table>\n",
       "</div>"
      ],
      "text/plain": [
       "       Unnamed: 0  Weat  Weates  RND  RIPA  ECT  RNSB\n",
       "count         0.0   0.0     0.0  0.0   0.0  0.0   0.0\n",
       "mean          NaN   NaN     NaN  NaN   NaN  NaN   NaN\n",
       "std           NaN   NaN     NaN  NaN   NaN  NaN   NaN\n",
       "min           NaN   NaN     NaN  NaN   NaN  NaN   NaN\n",
       "25%           NaN   NaN     NaN  NaN   NaN  NaN   NaN\n",
       "50%           NaN   NaN     NaN  NaN   NaN  NaN   NaN\n",
       "75%           NaN   NaN     NaN  NaN   NaN  NaN   NaN\n",
       "max           NaN   NaN     NaN  NaN   NaN  NaN   NaN"
      ]
     },
     "execution_count": 49,
     "metadata": {},
     "output_type": "execute_result"
    }
   ],
   "source": [
    "all_weat2[all_weat2['solver'] == 10].describe()"
   ]
  },
  {
   "cell_type": "code",
   "execution_count": null,
   "metadata": {},
   "outputs": [],
   "source": [
    "all_weat2 = all_weat2.drop(columns=['Unnamed: 0'])"
   ]
  },
  {
   "cell_type": "code",
   "execution_count": null,
   "metadata": {},
   "outputs": [
    {
     "data": {
      "text/html": [
       "<div>\n",
       "<style scoped>\n",
       "    .dataframe tbody tr th:only-of-type {\n",
       "        vertical-align: middle;\n",
       "    }\n",
       "\n",
       "    .dataframe tbody tr th {\n",
       "        vertical-align: top;\n",
       "    }\n",
       "\n",
       "    .dataframe thead tr th {\n",
       "        text-align: left;\n",
       "    }\n",
       "</style>\n",
       "<table border=\"1\" class=\"dataframe\">\n",
       "  <thead>\n",
       "    <tr>\n",
       "      <th></th>\n",
       "      <th>solver</th>\n",
       "      <th colspan=\"2\" halign=\"left\">Weat</th>\n",
       "      <th colspan=\"2\" halign=\"left\">Weates</th>\n",
       "      <th colspan=\"2\" halign=\"left\">RND</th>\n",
       "      <th colspan=\"2\" halign=\"left\">RIPA</th>\n",
       "      <th colspan=\"2\" halign=\"left\">ECT</th>\n",
       "      <th colspan=\"2\" halign=\"left\">RNSB</th>\n",
       "    </tr>\n",
       "    <tr>\n",
       "      <th></th>\n",
       "      <th></th>\n",
       "      <th>mean</th>\n",
       "      <th>std</th>\n",
       "      <th>mean</th>\n",
       "      <th>std</th>\n",
       "      <th>mean</th>\n",
       "      <th>std</th>\n",
       "      <th>mean</th>\n",
       "      <th>std</th>\n",
       "      <th>mean</th>\n",
       "      <th>std</th>\n",
       "      <th>mean</th>\n",
       "      <th>std</th>\n",
       "    </tr>\n",
       "  </thead>\n",
       "  <tbody>\n",
       "    <tr>\n",
       "      <th>0</th>\n",
       "      <td>arpack</td>\n",
       "      <td>0.077349</td>\n",
       "      <td>0.040449</td>\n",
       "      <td>0.467508</td>\n",
       "      <td>0.196229</td>\n",
       "      <td>0.023081</td>\n",
       "      <td>0.014438</td>\n",
       "      <td>0.016898</td>\n",
       "      <td>0.006642</td>\n",
       "      <td>0.738497</td>\n",
       "      <td>0.149821</td>\n",
       "      <td>0.024168</td>\n",
       "      <td>0.012346</td>\n",
       "    </tr>\n",
       "    <tr>\n",
       "      <th>1</th>\n",
       "      <td>auto</td>\n",
       "      <td>0.077349</td>\n",
       "      <td>0.040449</td>\n",
       "      <td>0.467508</td>\n",
       "      <td>0.196230</td>\n",
       "      <td>0.023081</td>\n",
       "      <td>0.014438</td>\n",
       "      <td>0.016898</td>\n",
       "      <td>0.006642</td>\n",
       "      <td>0.738497</td>\n",
       "      <td>0.149821</td>\n",
       "      <td>0.024687</td>\n",
       "      <td>0.012193</td>\n",
       "    </tr>\n",
       "    <tr>\n",
       "      <th>2</th>\n",
       "      <td>full</td>\n",
       "      <td>0.077349</td>\n",
       "      <td>0.040449</td>\n",
       "      <td>0.467508</td>\n",
       "      <td>0.196230</td>\n",
       "      <td>0.023081</td>\n",
       "      <td>0.014438</td>\n",
       "      <td>0.016898</td>\n",
       "      <td>0.006642</td>\n",
       "      <td>0.738497</td>\n",
       "      <td>0.149821</td>\n",
       "      <td>0.024721</td>\n",
       "      <td>0.013087</td>\n",
       "    </tr>\n",
       "    <tr>\n",
       "      <th>3</th>\n",
       "      <td>randomized</td>\n",
       "      <td>0.077349</td>\n",
       "      <td>0.040449</td>\n",
       "      <td>0.467508</td>\n",
       "      <td>0.196230</td>\n",
       "      <td>0.023081</td>\n",
       "      <td>0.014438</td>\n",
       "      <td>0.016898</td>\n",
       "      <td>0.006642</td>\n",
       "      <td>0.738497</td>\n",
       "      <td>0.149821</td>\n",
       "      <td>0.024319</td>\n",
       "      <td>0.012244</td>\n",
       "    </tr>\n",
       "  </tbody>\n",
       "</table>\n",
       "</div>"
      ],
      "text/plain": [
       "       solver      Weat              Weates                 RND            \\\n",
       "                   mean       std      mean       std      mean       std   \n",
       "0      arpack  0.077349  0.040449  0.467508  0.196229  0.023081  0.014438   \n",
       "1        auto  0.077349  0.040449  0.467508  0.196230  0.023081  0.014438   \n",
       "2        full  0.077349  0.040449  0.467508  0.196230  0.023081  0.014438   \n",
       "3  randomized  0.077349  0.040449  0.467508  0.196230  0.023081  0.014438   \n",
       "\n",
       "       RIPA                 ECT                RNSB            \n",
       "       mean       std      mean       std      mean       std  \n",
       "0  0.016898  0.006642  0.738497  0.149821  0.024168  0.012346  \n",
       "1  0.016898  0.006642  0.738497  0.149821  0.024687  0.012193  \n",
       "2  0.016898  0.006642  0.738497  0.149821  0.024721  0.013087  \n",
       "3  0.016898  0.006642  0.738497  0.149821  0.024319  0.012244  "
      ]
     },
     "execution_count": 51,
     "metadata": {},
     "output_type": "execute_result"
    }
   ],
   "source": [
    "all_weat2.groupby('solver').aggregate(['mean', 'std']).reset_index() #.to_latex()"
   ]
  },
  {
   "cell_type": "code",
   "execution_count": null,
   "metadata": {},
   "outputs": [
    {
     "data": {
      "text/html": [
       "<div>\n",
       "<style scoped>\n",
       "    .dataframe tbody tr th:only-of-type {\n",
       "        vertical-align: middle;\n",
       "    }\n",
       "\n",
       "    .dataframe tbody tr th {\n",
       "        vertical-align: top;\n",
       "    }\n",
       "\n",
       "    .dataframe thead tr th {\n",
       "        text-align: left;\n",
       "    }\n",
       "</style>\n",
       "<table border=\"1\" class=\"dataframe\">\n",
       "  <thead>\n",
       "    <tr>\n",
       "      <th></th>\n",
       "      <th>solver</th>\n",
       "      <th colspan=\"2\" halign=\"left\">Weat</th>\n",
       "      <th colspan=\"2\" halign=\"left\">Weates</th>\n",
       "      <th colspan=\"2\" halign=\"left\">RND</th>\n",
       "      <th colspan=\"2\" halign=\"left\">RIPA</th>\n",
       "      <th colspan=\"2\" halign=\"left\">ECT</th>\n",
       "      <th colspan=\"2\" halign=\"left\">RNSB</th>\n",
       "    </tr>\n",
       "    <tr>\n",
       "      <th></th>\n",
       "      <th></th>\n",
       "      <th>mean</th>\n",
       "      <th>std</th>\n",
       "      <th>mean</th>\n",
       "      <th>std</th>\n",
       "      <th>mean</th>\n",
       "      <th>std</th>\n",
       "      <th>mean</th>\n",
       "      <th>std</th>\n",
       "      <th>mean</th>\n",
       "      <th>std</th>\n",
       "      <th>mean</th>\n",
       "      <th>std</th>\n",
       "    </tr>\n",
       "  </thead>\n",
       "  <tbody>\n",
       "    <tr>\n",
       "      <th>0</th>\n",
       "      <td>arpack</td>\n",
       "      <td>0.083912</td>\n",
       "      <td>0.023375</td>\n",
       "      <td>0.535371</td>\n",
       "      <td>0.16255</td>\n",
       "      <td>0.02551</td>\n",
       "      <td>0.014272</td>\n",
       "      <td>0.019431</td>\n",
       "      <td>0.006581</td>\n",
       "      <td>0.745024</td>\n",
       "      <td>0.146697</td>\n",
       "      <td>0.023965</td>\n",
       "      <td>0.012080</td>\n",
       "    </tr>\n",
       "    <tr>\n",
       "      <th>1</th>\n",
       "      <td>auto</td>\n",
       "      <td>0.083912</td>\n",
       "      <td>0.023375</td>\n",
       "      <td>0.535370</td>\n",
       "      <td>0.16255</td>\n",
       "      <td>0.02551</td>\n",
       "      <td>0.014272</td>\n",
       "      <td>0.019431</td>\n",
       "      <td>0.006581</td>\n",
       "      <td>0.745024</td>\n",
       "      <td>0.146697</td>\n",
       "      <td>0.024102</td>\n",
       "      <td>0.012144</td>\n",
       "    </tr>\n",
       "    <tr>\n",
       "      <th>2</th>\n",
       "      <td>full</td>\n",
       "      <td>0.083912</td>\n",
       "      <td>0.023375</td>\n",
       "      <td>0.535370</td>\n",
       "      <td>0.16255</td>\n",
       "      <td>0.02551</td>\n",
       "      <td>0.014272</td>\n",
       "      <td>0.019431</td>\n",
       "      <td>0.006581</td>\n",
       "      <td>0.745024</td>\n",
       "      <td>0.146697</td>\n",
       "      <td>0.023831</td>\n",
       "      <td>0.012596</td>\n",
       "    </tr>\n",
       "    <tr>\n",
       "      <th>3</th>\n",
       "      <td>randomized</td>\n",
       "      <td>0.083912</td>\n",
       "      <td>0.023375</td>\n",
       "      <td>0.535370</td>\n",
       "      <td>0.16255</td>\n",
       "      <td>0.02551</td>\n",
       "      <td>0.014272</td>\n",
       "      <td>0.019431</td>\n",
       "      <td>0.006581</td>\n",
       "      <td>0.745024</td>\n",
       "      <td>0.146697</td>\n",
       "      <td>0.023813</td>\n",
       "      <td>0.012293</td>\n",
       "    </tr>\n",
       "  </tbody>\n",
       "</table>\n",
       "</div>"
      ],
      "text/plain": [
       "       solver      Weat              Weates               RND            \\\n",
       "                   mean       std      mean      std     mean       std   \n",
       "0      arpack  0.083912  0.023375  0.535371  0.16255  0.02551  0.014272   \n",
       "1        auto  0.083912  0.023375  0.535370  0.16255  0.02551  0.014272   \n",
       "2        full  0.083912  0.023375  0.535370  0.16255  0.02551  0.014272   \n",
       "3  randomized  0.083912  0.023375  0.535370  0.16255  0.02551  0.014272   \n",
       "\n",
       "       RIPA                 ECT                RNSB            \n",
       "       mean       std      mean       std      mean       std  \n",
       "0  0.019431  0.006581  0.745024  0.146697  0.023965  0.012080  \n",
       "1  0.019431  0.006581  0.745024  0.146697  0.024102  0.012144  \n",
       "2  0.019431  0.006581  0.745024  0.146697  0.023831  0.012596  \n",
       "3  0.019431  0.006581  0.745024  0.146697  0.023813  0.012293  "
      ]
     },
     "execution_count": 52,
     "metadata": {},
     "output_type": "execute_result"
    }
   ],
   "source": [
    "all_ripa2.drop(columns=['Unnamed: 0']).groupby('solver').aggregate(['mean', 'std']).reset_index()"
   ]
  },
  {
   "cell_type": "code",
   "execution_count": null,
   "metadata": {},
   "outputs": [
    {
     "data": {
      "text/html": [
       "<div>\n",
       "<style scoped>\n",
       "    .dataframe tbody tr th:only-of-type {\n",
       "        vertical-align: middle;\n",
       "    }\n",
       "\n",
       "    .dataframe tbody tr th {\n",
       "        vertical-align: top;\n",
       "    }\n",
       "\n",
       "    .dataframe thead tr th {\n",
       "        text-align: left;\n",
       "    }\n",
       "</style>\n",
       "<table border=\"1\" class=\"dataframe\">\n",
       "  <thead>\n",
       "    <tr>\n",
       "      <th></th>\n",
       "      <th>solver</th>\n",
       "      <th colspan=\"2\" halign=\"left\">Weat</th>\n",
       "      <th colspan=\"2\" halign=\"left\">Weates</th>\n",
       "      <th colspan=\"2\" halign=\"left\">RND</th>\n",
       "      <th colspan=\"2\" halign=\"left\">RIPA</th>\n",
       "      <th colspan=\"2\" halign=\"left\">ECT</th>\n",
       "      <th colspan=\"2\" halign=\"left\">RNSB</th>\n",
       "    </tr>\n",
       "    <tr>\n",
       "      <th></th>\n",
       "      <th></th>\n",
       "      <th>mean</th>\n",
       "      <th>std</th>\n",
       "      <th>mean</th>\n",
       "      <th>std</th>\n",
       "      <th>mean</th>\n",
       "      <th>std</th>\n",
       "      <th>mean</th>\n",
       "      <th>std</th>\n",
       "      <th>mean</th>\n",
       "      <th>std</th>\n",
       "      <th>mean</th>\n",
       "      <th>std</th>\n",
       "    </tr>\n",
       "  </thead>\n",
       "  <tbody>\n",
       "    <tr>\n",
       "      <th>0</th>\n",
       "      <td>arpack</td>\n",
       "      <td>0.080899</td>\n",
       "      <td>0.032169</td>\n",
       "      <td>0.499493</td>\n",
       "      <td>0.124416</td>\n",
       "      <td>0.022209</td>\n",
       "      <td>0.013529</td>\n",
       "      <td>0.015704</td>\n",
       "      <td>0.004509</td>\n",
       "      <td>0.753492</td>\n",
       "      <td>0.141773</td>\n",
       "      <td>0.023255</td>\n",
       "      <td>0.012980</td>\n",
       "    </tr>\n",
       "    <tr>\n",
       "      <th>1</th>\n",
       "      <td>auto</td>\n",
       "      <td>0.080899</td>\n",
       "      <td>0.032169</td>\n",
       "      <td>0.499493</td>\n",
       "      <td>0.124416</td>\n",
       "      <td>0.022209</td>\n",
       "      <td>0.013529</td>\n",
       "      <td>0.015704</td>\n",
       "      <td>0.004509</td>\n",
       "      <td>0.753492</td>\n",
       "      <td>0.141773</td>\n",
       "      <td>0.024485</td>\n",
       "      <td>0.012054</td>\n",
       "    </tr>\n",
       "    <tr>\n",
       "      <th>2</th>\n",
       "      <td>full</td>\n",
       "      <td>0.080899</td>\n",
       "      <td>0.032169</td>\n",
       "      <td>0.499493</td>\n",
       "      <td>0.124416</td>\n",
       "      <td>0.022209</td>\n",
       "      <td>0.013529</td>\n",
       "      <td>0.015704</td>\n",
       "      <td>0.004509</td>\n",
       "      <td>0.753492</td>\n",
       "      <td>0.141773</td>\n",
       "      <td>0.024048</td>\n",
       "      <td>0.012931</td>\n",
       "    </tr>\n",
       "    <tr>\n",
       "      <th>3</th>\n",
       "      <td>randomized</td>\n",
       "      <td>0.080899</td>\n",
       "      <td>0.032169</td>\n",
       "      <td>0.499493</td>\n",
       "      <td>0.124416</td>\n",
       "      <td>0.022209</td>\n",
       "      <td>0.013529</td>\n",
       "      <td>0.015704</td>\n",
       "      <td>0.004509</td>\n",
       "      <td>0.753492</td>\n",
       "      <td>0.141773</td>\n",
       "      <td>0.023603</td>\n",
       "      <td>0.011859</td>\n",
       "    </tr>\n",
       "  </tbody>\n",
       "</table>\n",
       "</div>"
      ],
      "text/plain": [
       "       solver      Weat              Weates                 RND            \\\n",
       "                   mean       std      mean       std      mean       std   \n",
       "0      arpack  0.080899  0.032169  0.499493  0.124416  0.022209  0.013529   \n",
       "1        auto  0.080899  0.032169  0.499493  0.124416  0.022209  0.013529   \n",
       "2        full  0.080899  0.032169  0.499493  0.124416  0.022209  0.013529   \n",
       "3  randomized  0.080899  0.032169  0.499493  0.124416  0.022209  0.013529   \n",
       "\n",
       "       RIPA                 ECT                RNSB            \n",
       "       mean       std      mean       std      mean       std  \n",
       "0  0.015704  0.004509  0.753492  0.141773  0.023255  0.012980  \n",
       "1  0.015704  0.004509  0.753492  0.141773  0.024485  0.012054  \n",
       "2  0.015704  0.004509  0.753492  0.141773  0.024048  0.012931  \n",
       "3  0.015704  0.004509  0.753492  0.141773  0.023603  0.011859  "
      ]
     },
     "execution_count": 53,
     "metadata": {},
     "output_type": "execute_result"
    }
   ],
   "source": [
    "all_rnsb2.drop(columns=['Unnamed: 0']).groupby('solver').aggregate(['mean', 'std']).reset_index()"
   ]
  },
  {
   "cell_type": "code",
   "execution_count": null,
   "metadata": {},
   "outputs": [
    {
     "data": {
      "text/html": [
       "<div>\n",
       "<style scoped>\n",
       "    .dataframe tbody tr th:only-of-type {\n",
       "        vertical-align: middle;\n",
       "    }\n",
       "\n",
       "    .dataframe tbody tr th {\n",
       "        vertical-align: top;\n",
       "    }\n",
       "\n",
       "    .dataframe thead tr th {\n",
       "        text-align: left;\n",
       "    }\n",
       "</style>\n",
       "<table border=\"1\" class=\"dataframe\">\n",
       "  <thead>\n",
       "    <tr>\n",
       "      <th></th>\n",
       "      <th>solver</th>\n",
       "      <th colspan=\"2\" halign=\"left\">Weat</th>\n",
       "      <th colspan=\"2\" halign=\"left\">Weates</th>\n",
       "      <th colspan=\"2\" halign=\"left\">RND</th>\n",
       "      <th colspan=\"2\" halign=\"left\">RIPA</th>\n",
       "      <th colspan=\"2\" halign=\"left\">ECT</th>\n",
       "      <th colspan=\"2\" halign=\"left\">RNSB</th>\n",
       "    </tr>\n",
       "    <tr>\n",
       "      <th></th>\n",
       "      <th></th>\n",
       "      <th>mean</th>\n",
       "      <th>std</th>\n",
       "      <th>mean</th>\n",
       "      <th>std</th>\n",
       "      <th>mean</th>\n",
       "      <th>std</th>\n",
       "      <th>mean</th>\n",
       "      <th>std</th>\n",
       "      <th>mean</th>\n",
       "      <th>std</th>\n",
       "      <th>mean</th>\n",
       "      <th>std</th>\n",
       "    </tr>\n",
       "  </thead>\n",
       "  <tbody>\n",
       "    <tr>\n",
       "      <th>0</th>\n",
       "      <td>arpack</td>\n",
       "      <td>0.095718</td>\n",
       "      <td>0.041595</td>\n",
       "      <td>0.57996</td>\n",
       "      <td>0.216154</td>\n",
       "      <td>0.024673</td>\n",
       "      <td>0.014416</td>\n",
       "      <td>0.019752</td>\n",
       "      <td>0.00719</td>\n",
       "      <td>0.716933</td>\n",
       "      <td>0.18176</td>\n",
       "      <td>0.023871</td>\n",
       "      <td>0.013140</td>\n",
       "    </tr>\n",
       "    <tr>\n",
       "      <th>1</th>\n",
       "      <td>auto</td>\n",
       "      <td>0.095718</td>\n",
       "      <td>0.041595</td>\n",
       "      <td>0.57996</td>\n",
       "      <td>0.216154</td>\n",
       "      <td>0.024673</td>\n",
       "      <td>0.014416</td>\n",
       "      <td>0.019752</td>\n",
       "      <td>0.00719</td>\n",
       "      <td>0.716933</td>\n",
       "      <td>0.18176</td>\n",
       "      <td>0.024314</td>\n",
       "      <td>0.013134</td>\n",
       "    </tr>\n",
       "    <tr>\n",
       "      <th>2</th>\n",
       "      <td>full</td>\n",
       "      <td>0.095718</td>\n",
       "      <td>0.041595</td>\n",
       "      <td>0.57996</td>\n",
       "      <td>0.216154</td>\n",
       "      <td>0.024673</td>\n",
       "      <td>0.014416</td>\n",
       "      <td>0.019752</td>\n",
       "      <td>0.00719</td>\n",
       "      <td>0.716933</td>\n",
       "      <td>0.18176</td>\n",
       "      <td>0.023834</td>\n",
       "      <td>0.012461</td>\n",
       "    </tr>\n",
       "    <tr>\n",
       "      <th>3</th>\n",
       "      <td>randomized</td>\n",
       "      <td>0.095718</td>\n",
       "      <td>0.041595</td>\n",
       "      <td>0.57996</td>\n",
       "      <td>0.216154</td>\n",
       "      <td>0.024673</td>\n",
       "      <td>0.014416</td>\n",
       "      <td>0.019752</td>\n",
       "      <td>0.00719</td>\n",
       "      <td>0.716933</td>\n",
       "      <td>0.18176</td>\n",
       "      <td>0.024135</td>\n",
       "      <td>0.013193</td>\n",
       "    </tr>\n",
       "  </tbody>\n",
       "</table>\n",
       "</div>"
      ],
      "text/plain": [
       "       solver      Weat             Weates                 RND            \\\n",
       "                   mean       std     mean       std      mean       std   \n",
       "0      arpack  0.095718  0.041595  0.57996  0.216154  0.024673  0.014416   \n",
       "1        auto  0.095718  0.041595  0.57996  0.216154  0.024673  0.014416   \n",
       "2        full  0.095718  0.041595  0.57996  0.216154  0.024673  0.014416   \n",
       "3  randomized  0.095718  0.041595  0.57996  0.216154  0.024673  0.014416   \n",
       "\n",
       "       RIPA                ECT               RNSB            \n",
       "       mean      std      mean      std      mean       std  \n",
       "0  0.019752  0.00719  0.716933  0.18176  0.023871  0.013140  \n",
       "1  0.019752  0.00719  0.716933  0.18176  0.024314  0.013134  \n",
       "2  0.019752  0.00719  0.716933  0.18176  0.023834  0.012461  \n",
       "3  0.019752  0.00719  0.716933  0.18176  0.024135  0.013193  "
      ]
     },
     "execution_count": 54,
     "metadata": {},
     "output_type": "execute_result"
    }
   ],
   "source": [
    "all_rnd2.drop(columns=['Unnamed: 0']).groupby('solver').aggregate(['mean', 'std']).reset_index()"
   ]
  },
  {
   "cell_type": "code",
   "execution_count": null,
   "metadata": {},
   "outputs": [
    {
     "data": {
      "text/html": [
       "<div>\n",
       "<style scoped>\n",
       "    .dataframe tbody tr th:only-of-type {\n",
       "        vertical-align: middle;\n",
       "    }\n",
       "\n",
       "    .dataframe tbody tr th {\n",
       "        vertical-align: top;\n",
       "    }\n",
       "\n",
       "    .dataframe thead tr th {\n",
       "        text-align: left;\n",
       "    }\n",
       "</style>\n",
       "<table border=\"1\" class=\"dataframe\">\n",
       "  <thead>\n",
       "    <tr>\n",
       "      <th></th>\n",
       "      <th>solver</th>\n",
       "      <th colspan=\"2\" halign=\"left\">Weat</th>\n",
       "      <th colspan=\"2\" halign=\"left\">Weates</th>\n",
       "      <th colspan=\"2\" halign=\"left\">RND</th>\n",
       "      <th colspan=\"2\" halign=\"left\">RIPA</th>\n",
       "      <th colspan=\"2\" halign=\"left\">ECT</th>\n",
       "      <th colspan=\"2\" halign=\"left\">RNSB</th>\n",
       "    </tr>\n",
       "    <tr>\n",
       "      <th></th>\n",
       "      <th></th>\n",
       "      <th>mean</th>\n",
       "      <th>std</th>\n",
       "      <th>mean</th>\n",
       "      <th>std</th>\n",
       "      <th>mean</th>\n",
       "      <th>std</th>\n",
       "      <th>mean</th>\n",
       "      <th>std</th>\n",
       "      <th>mean</th>\n",
       "      <th>std</th>\n",
       "      <th>mean</th>\n",
       "      <th>std</th>\n",
       "    </tr>\n",
       "  </thead>\n",
       "  <tbody>\n",
       "    <tr>\n",
       "      <th>0</th>\n",
       "      <td>arpack</td>\n",
       "      <td>0.080513</td>\n",
       "      <td>0.036803</td>\n",
       "      <td>0.502518</td>\n",
       "      <td>0.158183</td>\n",
       "      <td>0.022662</td>\n",
       "      <td>0.013991</td>\n",
       "      <td>0.018009</td>\n",
       "      <td>0.00554</td>\n",
       "      <td>0.742791</td>\n",
       "      <td>0.167327</td>\n",
       "      <td>0.024473</td>\n",
       "      <td>0.013690</td>\n",
       "    </tr>\n",
       "    <tr>\n",
       "      <th>1</th>\n",
       "      <td>auto</td>\n",
       "      <td>0.080513</td>\n",
       "      <td>0.036803</td>\n",
       "      <td>0.502518</td>\n",
       "      <td>0.158183</td>\n",
       "      <td>0.022662</td>\n",
       "      <td>0.013991</td>\n",
       "      <td>0.018009</td>\n",
       "      <td>0.00554</td>\n",
       "      <td>0.742791</td>\n",
       "      <td>0.167327</td>\n",
       "      <td>0.023456</td>\n",
       "      <td>0.011503</td>\n",
       "    </tr>\n",
       "    <tr>\n",
       "      <th>2</th>\n",
       "      <td>full</td>\n",
       "      <td>0.080513</td>\n",
       "      <td>0.036803</td>\n",
       "      <td>0.502518</td>\n",
       "      <td>0.158183</td>\n",
       "      <td>0.022662</td>\n",
       "      <td>0.013991</td>\n",
       "      <td>0.018009</td>\n",
       "      <td>0.00554</td>\n",
       "      <td>0.742791</td>\n",
       "      <td>0.167327</td>\n",
       "      <td>0.024135</td>\n",
       "      <td>0.012700</td>\n",
       "    </tr>\n",
       "    <tr>\n",
       "      <th>3</th>\n",
       "      <td>randomized</td>\n",
       "      <td>0.080513</td>\n",
       "      <td>0.036803</td>\n",
       "      <td>0.502518</td>\n",
       "      <td>0.158183</td>\n",
       "      <td>0.022662</td>\n",
       "      <td>0.013991</td>\n",
       "      <td>0.018009</td>\n",
       "      <td>0.00554</td>\n",
       "      <td>0.742791</td>\n",
       "      <td>0.167327</td>\n",
       "      <td>0.023949</td>\n",
       "      <td>0.012439</td>\n",
       "    </tr>\n",
       "  </tbody>\n",
       "</table>\n",
       "</div>"
      ],
      "text/plain": [
       "       solver      Weat              Weates                 RND            \\\n",
       "                   mean       std      mean       std      mean       std   \n",
       "0      arpack  0.080513  0.036803  0.502518  0.158183  0.022662  0.013991   \n",
       "1        auto  0.080513  0.036803  0.502518  0.158183  0.022662  0.013991   \n",
       "2        full  0.080513  0.036803  0.502518  0.158183  0.022662  0.013991   \n",
       "3  randomized  0.080513  0.036803  0.502518  0.158183  0.022662  0.013991   \n",
       "\n",
       "       RIPA                ECT                RNSB            \n",
       "       mean      std      mean       std      mean       std  \n",
       "0  0.018009  0.00554  0.742791  0.167327  0.024473  0.013690  \n",
       "1  0.018009  0.00554  0.742791  0.167327  0.023456  0.011503  \n",
       "2  0.018009  0.00554  0.742791  0.167327  0.024135  0.012700  \n",
       "3  0.018009  0.00554  0.742791  0.167327  0.023949  0.012439  "
      ]
     },
     "execution_count": 55,
     "metadata": {},
     "output_type": "execute_result"
    }
   ],
   "source": [
    "all_ect2.drop(columns=['Unnamed: 0']).groupby('solver').aggregate(['mean', 'std']).reset_index()"
   ]
  },
  {
   "cell_type": "code",
   "execution_count": null,
   "metadata": {},
   "outputs": [],
   "source": [
    "all_ect2 = all_ect2.rename(columns={'solver':'solver'})"
   ]
  },
  {
   "cell_type": "code",
   "execution_count": null,
   "metadata": {},
   "outputs": [],
   "source": [
    "dfs = [all_weat2,\n",
    "all_ripa2,\n",
    "all_rnd2,\n",
    "all_rnsb2,\n",
    "all_weat2,\n",
    "all_ect2 ]"
   ]
  },
  {
   "cell_type": "code",
   "execution_count": null,
   "metadata": {},
   "outputs": [],
   "source": [
    "df_concat = pd.concat(dfs, axis=0)"
   ]
  },
  {
   "cell_type": "code",
   "execution_count": null,
   "metadata": {},
   "outputs": [
    {
     "data": {
      "text/html": [
       "<div>\n",
       "<style scoped>\n",
       "    .dataframe tbody tr th:only-of-type {\n",
       "        vertical-align: middle;\n",
       "    }\n",
       "\n",
       "    .dataframe tbody tr th {\n",
       "        vertical-align: top;\n",
       "    }\n",
       "\n",
       "    .dataframe thead th {\n",
       "        text-align: right;\n",
       "    }\n",
       "</style>\n",
       "<table border=\"1\" class=\"dataframe\">\n",
       "  <thead>\n",
       "    <tr style=\"text-align: right;\">\n",
       "      <th></th>\n",
       "      <th>Weat</th>\n",
       "      <th>Weates</th>\n",
       "      <th>RND</th>\n",
       "      <th>RIPA</th>\n",
       "      <th>ECT</th>\n",
       "      <th>RNSB</th>\n",
       "      <th>solver</th>\n",
       "      <th>Unnamed: 0</th>\n",
       "    </tr>\n",
       "  </thead>\n",
       "  <tbody>\n",
       "    <tr>\n",
       "      <th>0</th>\n",
       "      <td>0.161711</td>\n",
       "      <td>0.738900</td>\n",
       "      <td>0.061782</td>\n",
       "      <td>0.016593</td>\n",
       "      <td>0.586401</td>\n",
       "      <td>0.013935</td>\n",
       "      <td>auto</td>\n",
       "      <td>NaN</td>\n",
       "    </tr>\n",
       "    <tr>\n",
       "      <th>1</th>\n",
       "      <td>0.161711</td>\n",
       "      <td>0.738900</td>\n",
       "      <td>0.061782</td>\n",
       "      <td>0.016593</td>\n",
       "      <td>0.586401</td>\n",
       "      <td>0.015786</td>\n",
       "      <td>full</td>\n",
       "      <td>NaN</td>\n",
       "    </tr>\n",
       "    <tr>\n",
       "      <th>2</th>\n",
       "      <td>0.161711</td>\n",
       "      <td>0.738899</td>\n",
       "      <td>0.061782</td>\n",
       "      <td>0.016593</td>\n",
       "      <td>0.586401</td>\n",
       "      <td>0.013480</td>\n",
       "      <td>arpack</td>\n",
       "      <td>NaN</td>\n",
       "    </tr>\n",
       "    <tr>\n",
       "      <th>3</th>\n",
       "      <td>0.161711</td>\n",
       "      <td>0.738900</td>\n",
       "      <td>0.061782</td>\n",
       "      <td>0.016593</td>\n",
       "      <td>0.586401</td>\n",
       "      <td>0.013508</td>\n",
       "      <td>randomized</td>\n",
       "      <td>NaN</td>\n",
       "    </tr>\n",
       "    <tr>\n",
       "      <th>4</th>\n",
       "      <td>0.050623</td>\n",
       "      <td>0.211289</td>\n",
       "      <td>0.013871</td>\n",
       "      <td>0.008062</td>\n",
       "      <td>0.702860</td>\n",
       "      <td>0.026409</td>\n",
       "      <td>auto</td>\n",
       "      <td>NaN</td>\n",
       "    </tr>\n",
       "    <tr>\n",
       "      <th>...</th>\n",
       "      <td>...</td>\n",
       "      <td>...</td>\n",
       "      <td>...</td>\n",
       "      <td>...</td>\n",
       "      <td>...</td>\n",
       "      <td>...</td>\n",
       "      <td>...</td>\n",
       "      <td>...</td>\n",
       "    </tr>\n",
       "    <tr>\n",
       "      <th>35</th>\n",
       "      <td>0.055378</td>\n",
       "      <td>0.405407</td>\n",
       "      <td>0.017122</td>\n",
       "      <td>0.016084</td>\n",
       "      <td>0.897602</td>\n",
       "      <td>0.020421</td>\n",
       "      <td>randomized</td>\n",
       "      <td>8.0</td>\n",
       "    </tr>\n",
       "    <tr>\n",
       "      <th>36</th>\n",
       "      <td>0.102196</td>\n",
       "      <td>0.664908</td>\n",
       "      <td>0.021952</td>\n",
       "      <td>0.013661</td>\n",
       "      <td>0.769814</td>\n",
       "      <td>0.039428</td>\n",
       "      <td>auto</td>\n",
       "      <td>9.0</td>\n",
       "    </tr>\n",
       "    <tr>\n",
       "      <th>37</th>\n",
       "      <td>0.102196</td>\n",
       "      <td>0.664908</td>\n",
       "      <td>0.021952</td>\n",
       "      <td>0.013661</td>\n",
       "      <td>0.769814</td>\n",
       "      <td>0.039130</td>\n",
       "      <td>full</td>\n",
       "      <td>9.0</td>\n",
       "    </tr>\n",
       "    <tr>\n",
       "      <th>38</th>\n",
       "      <td>0.102196</td>\n",
       "      <td>0.664908</td>\n",
       "      <td>0.021952</td>\n",
       "      <td>0.013661</td>\n",
       "      <td>0.769814</td>\n",
       "      <td>0.043735</td>\n",
       "      <td>arpack</td>\n",
       "      <td>9.0</td>\n",
       "    </tr>\n",
       "    <tr>\n",
       "      <th>39</th>\n",
       "      <td>0.102196</td>\n",
       "      <td>0.664908</td>\n",
       "      <td>0.021952</td>\n",
       "      <td>0.013661</td>\n",
       "      <td>0.769814</td>\n",
       "      <td>0.042574</td>\n",
       "      <td>randomized</td>\n",
       "      <td>9.0</td>\n",
       "    </tr>\n",
       "  </tbody>\n",
       "</table>\n",
       "<p>240 rows × 8 columns</p>\n",
       "</div>"
      ],
      "text/plain": [
       "        Weat    Weates       RND      RIPA       ECT      RNSB      solver  \\\n",
       "0   0.161711  0.738900  0.061782  0.016593  0.586401  0.013935        auto   \n",
       "1   0.161711  0.738900  0.061782  0.016593  0.586401  0.015786        full   \n",
       "2   0.161711  0.738899  0.061782  0.016593  0.586401  0.013480      arpack   \n",
       "3   0.161711  0.738900  0.061782  0.016593  0.586401  0.013508  randomized   \n",
       "4   0.050623  0.211289  0.013871  0.008062  0.702860  0.026409        auto   \n",
       "..       ...       ...       ...       ...       ...       ...         ...   \n",
       "35  0.055378  0.405407  0.017122  0.016084  0.897602  0.020421  randomized   \n",
       "36  0.102196  0.664908  0.021952  0.013661  0.769814  0.039428        auto   \n",
       "37  0.102196  0.664908  0.021952  0.013661  0.769814  0.039130        full   \n",
       "38  0.102196  0.664908  0.021952  0.013661  0.769814  0.043735      arpack   \n",
       "39  0.102196  0.664908  0.021952  0.013661  0.769814  0.042574  randomized   \n",
       "\n",
       "    Unnamed: 0  \n",
       "0          NaN  \n",
       "1          NaN  \n",
       "2          NaN  \n",
       "3          NaN  \n",
       "4          NaN  \n",
       "..         ...  \n",
       "35         8.0  \n",
       "36         9.0  \n",
       "37         9.0  \n",
       "38         9.0  \n",
       "39         9.0  \n",
       "\n",
       "[240 rows x 8 columns]"
      ]
     },
     "execution_count": 59,
     "metadata": {},
     "output_type": "execute_result"
    }
   ],
   "source": [
    "df_concat"
   ]
  },
  {
   "cell_type": "code",
   "execution_count": null,
   "metadata": {},
   "outputs": [],
   "source": [
    "metrics = ['Weat', 'Weates', 'RND', 'RIPA', 'ECT', 'RNSB']"
   ]
  },
  {
   "cell_type": "code",
   "execution_count": null,
   "metadata": {},
   "outputs": [],
   "source": [
    "solvers = [\"auto\", \"full\", \"arpack\", \"randomized\"]\n"
   ]
  },
  {
   "cell_type": "code",
   "execution_count": null,
   "metadata": {},
   "outputs": [
    {
     "ename": "KeyError",
     "evalue": "\"['Unnamed: 0'] not found in axis\"",
     "output_type": "error",
     "traceback": [
      "\u001b[1;31m---------------------------------------------------------------------------\u001b[0m",
      "\u001b[1;31mKeyError\u001b[0m                                  Traceback (most recent call last)",
      "Cell \u001b[1;32mIn[71], line 1\u001b[0m\n\u001b[1;32m----> 1\u001b[0m \u001b[43mdf_concat\u001b[49m\u001b[38;5;241;43m.\u001b[39;49m\u001b[43mdrop\u001b[49m\u001b[43m(\u001b[49m\u001b[43mcolumns\u001b[49m\u001b[38;5;241;43m=\u001b[39;49m\u001b[43m[\u001b[49m\u001b[38;5;124;43m'\u001b[39;49m\u001b[38;5;124;43mUnnamed: 0\u001b[39;49m\u001b[38;5;124;43m'\u001b[39;49m\u001b[43m]\u001b[49m\u001b[43m,\u001b[49m\u001b[43m \u001b[49m\u001b[43minplace\u001b[49m\u001b[38;5;241;43m=\u001b[39;49m\u001b[38;5;28;43;01mTrue\u001b[39;49;00m\u001b[43m)\u001b[49m\n",
      "File \u001b[1;32mc:\\Users\\zambr\\OneDrive\\Documents\\tesis\\env\\Lib\\site-packages\\pandas\\core\\frame.py:5258\u001b[0m, in \u001b[0;36mDataFrame.drop\u001b[1;34m(self, labels, axis, index, columns, level, inplace, errors)\u001b[0m\n\u001b[0;32m   5110\u001b[0m \u001b[38;5;28;01mdef\u001b[39;00m \u001b[38;5;21mdrop\u001b[39m(\n\u001b[0;32m   5111\u001b[0m     \u001b[38;5;28mself\u001b[39m,\n\u001b[0;32m   5112\u001b[0m     labels: IndexLabel \u001b[38;5;241m=\u001b[39m \u001b[38;5;28;01mNone\u001b[39;00m,\n\u001b[1;32m   (...)\u001b[0m\n\u001b[0;32m   5119\u001b[0m     errors: IgnoreRaise \u001b[38;5;241m=\u001b[39m \u001b[38;5;124m\"\u001b[39m\u001b[38;5;124mraise\u001b[39m\u001b[38;5;124m\"\u001b[39m,\n\u001b[0;32m   5120\u001b[0m ) \u001b[38;5;241m-\u001b[39m\u001b[38;5;241m>\u001b[39m DataFrame \u001b[38;5;241m|\u001b[39m \u001b[38;5;28;01mNone\u001b[39;00m:\n\u001b[0;32m   5121\u001b[0m \u001b[38;5;250m    \u001b[39m\u001b[38;5;124;03m\"\"\"\u001b[39;00m\n\u001b[0;32m   5122\u001b[0m \u001b[38;5;124;03m    Drop specified labels from rows or columns.\u001b[39;00m\n\u001b[0;32m   5123\u001b[0m \n\u001b[1;32m   (...)\u001b[0m\n\u001b[0;32m   5256\u001b[0m \u001b[38;5;124;03m            weight  1.0     0.8\u001b[39;00m\n\u001b[0;32m   5257\u001b[0m \u001b[38;5;124;03m    \"\"\"\u001b[39;00m\n\u001b[1;32m-> 5258\u001b[0m     \u001b[38;5;28;01mreturn\u001b[39;00m \u001b[38;5;28;43msuper\u001b[39;49m\u001b[43m(\u001b[49m\u001b[43m)\u001b[49m\u001b[38;5;241;43m.\u001b[39;49m\u001b[43mdrop\u001b[49m\u001b[43m(\u001b[49m\n\u001b[0;32m   5259\u001b[0m \u001b[43m        \u001b[49m\u001b[43mlabels\u001b[49m\u001b[38;5;241;43m=\u001b[39;49m\u001b[43mlabels\u001b[49m\u001b[43m,\u001b[49m\n\u001b[0;32m   5260\u001b[0m \u001b[43m        \u001b[49m\u001b[43maxis\u001b[49m\u001b[38;5;241;43m=\u001b[39;49m\u001b[43maxis\u001b[49m\u001b[43m,\u001b[49m\n\u001b[0;32m   5261\u001b[0m \u001b[43m        \u001b[49m\u001b[43mindex\u001b[49m\u001b[38;5;241;43m=\u001b[39;49m\u001b[43mindex\u001b[49m\u001b[43m,\u001b[49m\n\u001b[0;32m   5262\u001b[0m \u001b[43m        \u001b[49m\u001b[43mcolumns\u001b[49m\u001b[38;5;241;43m=\u001b[39;49m\u001b[43mcolumns\u001b[49m\u001b[43m,\u001b[49m\n\u001b[0;32m   5263\u001b[0m \u001b[43m        \u001b[49m\u001b[43mlevel\u001b[49m\u001b[38;5;241;43m=\u001b[39;49m\u001b[43mlevel\u001b[49m\u001b[43m,\u001b[49m\n\u001b[0;32m   5264\u001b[0m \u001b[43m        \u001b[49m\u001b[43minplace\u001b[49m\u001b[38;5;241;43m=\u001b[39;49m\u001b[43minplace\u001b[49m\u001b[43m,\u001b[49m\n\u001b[0;32m   5265\u001b[0m \u001b[43m        \u001b[49m\u001b[43merrors\u001b[49m\u001b[38;5;241;43m=\u001b[39;49m\u001b[43merrors\u001b[49m\u001b[43m,\u001b[49m\n\u001b[0;32m   5266\u001b[0m \u001b[43m    \u001b[49m\u001b[43m)\u001b[49m\n",
      "File \u001b[1;32mc:\\Users\\zambr\\OneDrive\\Documents\\tesis\\env\\Lib\\site-packages\\pandas\\core\\generic.py:4549\u001b[0m, in \u001b[0;36mNDFrame.drop\u001b[1;34m(self, labels, axis, index, columns, level, inplace, errors)\u001b[0m\n\u001b[0;32m   4547\u001b[0m \u001b[38;5;28;01mfor\u001b[39;00m axis, labels \u001b[38;5;129;01min\u001b[39;00m axes\u001b[38;5;241m.\u001b[39mitems():\n\u001b[0;32m   4548\u001b[0m     \u001b[38;5;28;01mif\u001b[39;00m labels \u001b[38;5;129;01mis\u001b[39;00m \u001b[38;5;129;01mnot\u001b[39;00m \u001b[38;5;28;01mNone\u001b[39;00m:\n\u001b[1;32m-> 4549\u001b[0m         obj \u001b[38;5;241m=\u001b[39m \u001b[43mobj\u001b[49m\u001b[38;5;241;43m.\u001b[39;49m\u001b[43m_drop_axis\u001b[49m\u001b[43m(\u001b[49m\u001b[43mlabels\u001b[49m\u001b[43m,\u001b[49m\u001b[43m \u001b[49m\u001b[43maxis\u001b[49m\u001b[43m,\u001b[49m\u001b[43m \u001b[49m\u001b[43mlevel\u001b[49m\u001b[38;5;241;43m=\u001b[39;49m\u001b[43mlevel\u001b[49m\u001b[43m,\u001b[49m\u001b[43m \u001b[49m\u001b[43merrors\u001b[49m\u001b[38;5;241;43m=\u001b[39;49m\u001b[43merrors\u001b[49m\u001b[43m)\u001b[49m\n\u001b[0;32m   4551\u001b[0m \u001b[38;5;28;01mif\u001b[39;00m inplace:\n\u001b[0;32m   4552\u001b[0m     \u001b[38;5;28mself\u001b[39m\u001b[38;5;241m.\u001b[39m_update_inplace(obj)\n",
      "File \u001b[1;32mc:\\Users\\zambr\\OneDrive\\Documents\\tesis\\env\\Lib\\site-packages\\pandas\\core\\generic.py:4591\u001b[0m, in \u001b[0;36mNDFrame._drop_axis\u001b[1;34m(self, labels, axis, level, errors, only_slice)\u001b[0m\n\u001b[0;32m   4589\u001b[0m         new_axis \u001b[38;5;241m=\u001b[39m axis\u001b[38;5;241m.\u001b[39mdrop(labels, level\u001b[38;5;241m=\u001b[39mlevel, errors\u001b[38;5;241m=\u001b[39merrors)\n\u001b[0;32m   4590\u001b[0m     \u001b[38;5;28;01melse\u001b[39;00m:\n\u001b[1;32m-> 4591\u001b[0m         new_axis \u001b[38;5;241m=\u001b[39m \u001b[43maxis\u001b[49m\u001b[38;5;241;43m.\u001b[39;49m\u001b[43mdrop\u001b[49m\u001b[43m(\u001b[49m\u001b[43mlabels\u001b[49m\u001b[43m,\u001b[49m\u001b[43m \u001b[49m\u001b[43merrors\u001b[49m\u001b[38;5;241;43m=\u001b[39;49m\u001b[43merrors\u001b[49m\u001b[43m)\u001b[49m\n\u001b[0;32m   4592\u001b[0m     indexer \u001b[38;5;241m=\u001b[39m axis\u001b[38;5;241m.\u001b[39mget_indexer(new_axis)\n\u001b[0;32m   4594\u001b[0m \u001b[38;5;66;03m# Case for non-unique axis\u001b[39;00m\n\u001b[0;32m   4595\u001b[0m \u001b[38;5;28;01melse\u001b[39;00m:\n",
      "File \u001b[1;32mc:\\Users\\zambr\\OneDrive\\Documents\\tesis\\env\\Lib\\site-packages\\pandas\\core\\indexes\\base.py:6696\u001b[0m, in \u001b[0;36mIndex.drop\u001b[1;34m(self, labels, errors)\u001b[0m\n\u001b[0;32m   6694\u001b[0m \u001b[38;5;28;01mif\u001b[39;00m mask\u001b[38;5;241m.\u001b[39many():\n\u001b[0;32m   6695\u001b[0m     \u001b[38;5;28;01mif\u001b[39;00m errors \u001b[38;5;241m!=\u001b[39m \u001b[38;5;124m\"\u001b[39m\u001b[38;5;124mignore\u001b[39m\u001b[38;5;124m\"\u001b[39m:\n\u001b[1;32m-> 6696\u001b[0m         \u001b[38;5;28;01mraise\u001b[39;00m \u001b[38;5;167;01mKeyError\u001b[39;00m(\u001b[38;5;124mf\u001b[39m\u001b[38;5;124m\"\u001b[39m\u001b[38;5;132;01m{\u001b[39;00m\u001b[38;5;28mlist\u001b[39m(labels[mask])\u001b[38;5;132;01m}\u001b[39;00m\u001b[38;5;124m not found in axis\u001b[39m\u001b[38;5;124m\"\u001b[39m)\n\u001b[0;32m   6697\u001b[0m     indexer \u001b[38;5;241m=\u001b[39m indexer[\u001b[38;5;241m~\u001b[39mmask]\n\u001b[0;32m   6698\u001b[0m \u001b[38;5;28;01mreturn\u001b[39;00m \u001b[38;5;28mself\u001b[39m\u001b[38;5;241m.\u001b[39mdelete(indexer)\n",
      "\u001b[1;31mKeyError\u001b[0m: \"['Unnamed: 0'] not found in axis\""
     ]
    }
   ],
   "source": [
    "df_concat.drop(columns=['Unnamed: 0'], inplace=True)"
   ]
  },
  {
   "cell_type": "code",
   "execution_count": null,
   "metadata": {},
   "outputs": [],
   "source": [
    "combined_df = pd.DataFrame()\n",
    "for solver in solvers:\n",
    "    stats = df_concat[df_concat['solver'] == solver].drop(columns='solver').describe().reset_index()\n",
    "    stats = stats[(stats['index'] == 'mean') | (stats['index'] == 'std')].reset_index().set_index('index').transpose()\n",
    "    stats['solver'] = str(solver)\n",
    "    combined_df = pd.concat([combined_df, stats])"
   ]
  },
  {
   "cell_type": "code",
   "execution_count": null,
   "metadata": {},
   "outputs": [],
   "source": [
    "combined_df = combined_df[combined_df.index != 'level_0']"
   ]
  },
  {
   "cell_type": "code",
   "execution_count": null,
   "metadata": {},
   "outputs": [],
   "source": [
    "combined_df = combined_df.reset_index()"
   ]
  },
  {
   "cell_type": "code",
   "execution_count": null,
   "metadata": {},
   "outputs": [],
   "source": [
    "combined_df['solver'] = combined_df['solver'].astype(str)"
   ]
  },
  {
   "cell_type": "code",
   "execution_count": null,
   "metadata": {},
   "outputs": [
    {
     "data": {
      "text/html": [
       "<div>\n",
       "<style scoped>\n",
       "    .dataframe tbody tr th:only-of-type {\n",
       "        vertical-align: middle;\n",
       "    }\n",
       "\n",
       "    .dataframe tbody tr th {\n",
       "        vertical-align: top;\n",
       "    }\n",
       "\n",
       "    .dataframe thead th {\n",
       "        text-align: right;\n",
       "    }\n",
       "</style>\n",
       "<table border=\"1\" class=\"dataframe\">\n",
       "  <thead>\n",
       "    <tr style=\"text-align: right;\">\n",
       "      <th>index</th>\n",
       "      <th>index</th>\n",
       "      <th>mean</th>\n",
       "      <th>std</th>\n",
       "      <th>solver</th>\n",
       "    </tr>\n",
       "  </thead>\n",
       "  <tbody>\n",
       "    <tr>\n",
       "      <th>0</th>\n",
       "      <td>Weat</td>\n",
       "      <td>0.082623</td>\n",
       "      <td>0.035368</td>\n",
       "      <td>auto</td>\n",
       "    </tr>\n",
       "    <tr>\n",
       "      <th>1</th>\n",
       "      <td>Weates</td>\n",
       "      <td>0.508726</td>\n",
       "      <td>0.175102</td>\n",
       "      <td>auto</td>\n",
       "    </tr>\n",
       "    <tr>\n",
       "      <th>2</th>\n",
       "      <td>RND</td>\n",
       "      <td>0.023536</td>\n",
       "      <td>0.013621</td>\n",
       "      <td>auto</td>\n",
       "    </tr>\n",
       "    <tr>\n",
       "      <th>3</th>\n",
       "      <td>RIPA</td>\n",
       "      <td>0.017782</td>\n",
       "      <td>0.006153</td>\n",
       "      <td>auto</td>\n",
       "    </tr>\n",
       "    <tr>\n",
       "      <th>4</th>\n",
       "      <td>ECT</td>\n",
       "      <td>0.739206</td>\n",
       "      <td>0.150446</td>\n",
       "      <td>auto</td>\n",
       "    </tr>\n",
       "    <tr>\n",
       "      <th>5</th>\n",
       "      <td>RNSB</td>\n",
       "      <td>0.024289</td>\n",
       "      <td>0.011692</td>\n",
       "      <td>auto</td>\n",
       "    </tr>\n",
       "    <tr>\n",
       "      <th>6</th>\n",
       "      <td>Weat</td>\n",
       "      <td>0.082623</td>\n",
       "      <td>0.035368</td>\n",
       "      <td>full</td>\n",
       "    </tr>\n",
       "    <tr>\n",
       "      <th>7</th>\n",
       "      <td>Weates</td>\n",
       "      <td>0.508726</td>\n",
       "      <td>0.175102</td>\n",
       "      <td>full</td>\n",
       "    </tr>\n",
       "    <tr>\n",
       "      <th>8</th>\n",
       "      <td>RND</td>\n",
       "      <td>0.023536</td>\n",
       "      <td>0.013621</td>\n",
       "      <td>full</td>\n",
       "    </tr>\n",
       "    <tr>\n",
       "      <th>9</th>\n",
       "      <td>RIPA</td>\n",
       "      <td>0.017782</td>\n",
       "      <td>0.006153</td>\n",
       "      <td>full</td>\n",
       "    </tr>\n",
       "    <tr>\n",
       "      <th>10</th>\n",
       "      <td>ECT</td>\n",
       "      <td>0.739206</td>\n",
       "      <td>0.150446</td>\n",
       "      <td>full</td>\n",
       "    </tr>\n",
       "    <tr>\n",
       "      <th>11</th>\n",
       "      <td>RNSB</td>\n",
       "      <td>0.024215</td>\n",
       "      <td>0.012263</td>\n",
       "      <td>full</td>\n",
       "    </tr>\n",
       "    <tr>\n",
       "      <th>12</th>\n",
       "      <td>Weat</td>\n",
       "      <td>0.082623</td>\n",
       "      <td>0.035368</td>\n",
       "      <td>arpack</td>\n",
       "    </tr>\n",
       "    <tr>\n",
       "      <th>13</th>\n",
       "      <td>Weates</td>\n",
       "      <td>0.508726</td>\n",
       "      <td>0.175102</td>\n",
       "      <td>arpack</td>\n",
       "    </tr>\n",
       "    <tr>\n",
       "      <th>14</th>\n",
       "      <td>RND</td>\n",
       "      <td>0.023536</td>\n",
       "      <td>0.013621</td>\n",
       "      <td>arpack</td>\n",
       "    </tr>\n",
       "    <tr>\n",
       "      <th>15</th>\n",
       "      <td>RIPA</td>\n",
       "      <td>0.017782</td>\n",
       "      <td>0.006153</td>\n",
       "      <td>arpack</td>\n",
       "    </tr>\n",
       "    <tr>\n",
       "      <th>16</th>\n",
       "      <td>ECT</td>\n",
       "      <td>0.739206</td>\n",
       "      <td>0.150446</td>\n",
       "      <td>arpack</td>\n",
       "    </tr>\n",
       "    <tr>\n",
       "      <th>17</th>\n",
       "      <td>RNSB</td>\n",
       "      <td>0.023983</td>\n",
       "      <td>0.012229</td>\n",
       "      <td>arpack</td>\n",
       "    </tr>\n",
       "    <tr>\n",
       "      <th>18</th>\n",
       "      <td>Weat</td>\n",
       "      <td>0.082623</td>\n",
       "      <td>0.035368</td>\n",
       "      <td>randomized</td>\n",
       "    </tr>\n",
       "    <tr>\n",
       "      <th>19</th>\n",
       "      <td>Weates</td>\n",
       "      <td>0.508726</td>\n",
       "      <td>0.175102</td>\n",
       "      <td>randomized</td>\n",
       "    </tr>\n",
       "    <tr>\n",
       "      <th>20</th>\n",
       "      <td>RND</td>\n",
       "      <td>0.023536</td>\n",
       "      <td>0.013621</td>\n",
       "      <td>randomized</td>\n",
       "    </tr>\n",
       "    <tr>\n",
       "      <th>21</th>\n",
       "      <td>RIPA</td>\n",
       "      <td>0.017782</td>\n",
       "      <td>0.006153</td>\n",
       "      <td>randomized</td>\n",
       "    </tr>\n",
       "    <tr>\n",
       "      <th>22</th>\n",
       "      <td>ECT</td>\n",
       "      <td>0.739206</td>\n",
       "      <td>0.150446</td>\n",
       "      <td>randomized</td>\n",
       "    </tr>\n",
       "    <tr>\n",
       "      <th>23</th>\n",
       "      <td>RNSB</td>\n",
       "      <td>0.024023</td>\n",
       "      <td>0.011852</td>\n",
       "      <td>randomized</td>\n",
       "    </tr>\n",
       "  </tbody>\n",
       "</table>\n",
       "</div>"
      ],
      "text/plain": [
       "index   index      mean       std      solver\n",
       "0        Weat  0.082623  0.035368        auto\n",
       "1      Weates  0.508726  0.175102        auto\n",
       "2         RND  0.023536  0.013621        auto\n",
       "3        RIPA  0.017782  0.006153        auto\n",
       "4         ECT  0.739206  0.150446        auto\n",
       "5        RNSB  0.024289  0.011692        auto\n",
       "6        Weat  0.082623  0.035368        full\n",
       "7      Weates  0.508726  0.175102        full\n",
       "8         RND  0.023536  0.013621        full\n",
       "9        RIPA  0.017782  0.006153        full\n",
       "10        ECT  0.739206  0.150446        full\n",
       "11       RNSB  0.024215  0.012263        full\n",
       "12       Weat  0.082623  0.035368      arpack\n",
       "13     Weates  0.508726  0.175102      arpack\n",
       "14        RND  0.023536  0.013621      arpack\n",
       "15       RIPA  0.017782  0.006153      arpack\n",
       "16        ECT  0.739206  0.150446      arpack\n",
       "17       RNSB  0.023983  0.012229      arpack\n",
       "18       Weat  0.082623  0.035368  randomized\n",
       "19     Weates  0.508726  0.175102  randomized\n",
       "20        RND  0.023536  0.013621  randomized\n",
       "21       RIPA  0.017782  0.006153  randomized\n",
       "22        ECT  0.739206  0.150446  randomized\n",
       "23       RNSB  0.024023  0.011852  randomized"
      ]
     },
     "execution_count": 83,
     "metadata": {},
     "output_type": "execute_result"
    }
   ],
   "source": [
    "combined_df"
   ]
  },
  {
   "cell_type": "code",
   "execution_count": null,
   "metadata": {},
   "outputs": [
    {
     "data": {
      "application/vnd.plotly.v1+json": {
       "config": {
        "plotlyServerURL": "https://plot.ly"
       },
       "data": [
        {
         "alignmentgroup": "True",
         "error_y": {
          "array": [
           0.03536843018884331,
           0.17510216795661762,
           0.013620813489297542,
           0.00615295215720277,
           0.1504457728414311,
           0.011691618364174346
          ]
         },
         "hovertemplate": "solver=auto<br>index=%{x}<br>mean=%{y}<extra></extra>",
         "legendgroup": "auto",
         "marker": {
          "color": "#636efa",
          "pattern": {
           "shape": ""
          }
         },
         "name": "auto",
         "offsetgroup": "auto",
         "orientation": "v",
         "showlegend": true,
         "textposition": "auto",
         "type": "bar",
         "x": [
          "Weat",
          "Weates",
          "RND",
          "RIPA",
          "ECT",
          "RNSB"
         ],
         "xaxis": "x",
         "y": [
          0.08262344213549883,
          0.508726045013495,
          0.0235359016073873,
          0.017782124993333332,
          0.7392057941158464,
          0.02428872140144378
         ],
         "yaxis": "y"
        },
        {
         "alignmentgroup": "True",
         "error_y": {
          "array": [
           0.03536843018884331,
           0.17510216795661762,
           0.013620813489297542,
           0.00615295215720277,
           0.1504457728414311,
           0.012263460507172847
          ]
         },
         "hovertemplate": "solver=full<br>index=%{x}<br>mean=%{y}<extra></extra>",
         "legendgroup": "full",
         "marker": {
          "color": "#EF553B",
          "pattern": {
           "shape": ""
          }
         },
         "name": "full",
         "offsetgroup": "full",
         "orientation": "v",
         "showlegend": true,
         "textposition": "auto",
         "type": "bar",
         "x": [
          "Weat",
          "Weates",
          "RND",
          "RIPA",
          "ECT",
          "RNSB"
         ],
         "xaxis": "x",
         "y": [
          0.08262344213549883,
          0.508726045013495,
          0.0235359016073873,
          0.017782124993333332,
          0.7392057941158464,
          0.024214783579187882
         ],
         "yaxis": "y"
        },
        {
         "alignmentgroup": "True",
         "error_y": {
          "array": [
           0.03536841163409027,
           0.17510204564959514,
           0.01362081157583474,
           0.006152948838352271,
           0.15044576723300965,
           0.012228566714331614
          ]
         },
         "hovertemplate": "solver=arpack<br>index=%{x}<br>mean=%{y}<extra></extra>",
         "legendgroup": "arpack",
         "marker": {
          "color": "#00cc96",
          "pattern": {
           "shape": ""
          }
         },
         "name": "arpack",
         "offsetgroup": "arpack",
         "orientation": "v",
         "showlegend": true,
         "textposition": "auto",
         "type": "bar",
         "x": [
          "Weat",
          "Weates",
          "RND",
          "RIPA",
          "ECT",
          "RNSB"
         ],
         "xaxis": "x",
         "y": [
          0.08262345657234368,
          0.5087261325678083,
          0.0235359013182661,
          0.0177821292,
          0.7392057825199064,
          0.023983485811347086
         ],
         "yaxis": "y"
        },
        {
         "alignmentgroup": "True",
         "error_y": {
          "array": [
           0.03536843833790683,
           0.1751022223902865,
           0.013620814602367338,
           0.006152952591311739,
           0.1504457722891718,
           0.011851922708697242
          ]
         },
         "hovertemplate": "solver=randomized<br>index=%{x}<br>mean=%{y}<extra></extra>",
         "legendgroup": "randomized",
         "marker": {
          "color": "#ab63fa",
          "pattern": {
           "shape": ""
          }
         },
         "name": "randomized",
         "offsetgroup": "randomized",
         "orientation": "v",
         "showlegend": true,
         "textposition": "auto",
         "type": "bar",
         "x": [
          "Weat",
          "Weates",
          "RND",
          "RIPA",
          "ECT",
          "RNSB"
         ],
         "xaxis": "x",
         "y": [
          0.08262344358487918,
          0.508726028418865,
          0.023535902320567955,
          0.01778212518833333,
          0.739205799286901,
          0.024022924102332078
         ],
         "yaxis": "y"
        }
       ],
       "layout": {
        "barmode": "group",
        "height": 400,
        "legend": {
         "title": {
          "text": "solver"
         },
         "tracegroupgap": 0
        },
        "margin": {
         "t": 60
        },
        "template": {
         "data": {
          "bar": [
           {
            "error_x": {
             "color": "#2a3f5f"
            },
            "error_y": {
             "color": "#2a3f5f"
            },
            "marker": {
             "line": {
              "color": "#E5ECF6",
              "width": 0.5
             },
             "pattern": {
              "fillmode": "overlay",
              "size": 10,
              "solidity": 0.2
             }
            },
            "type": "bar"
           }
          ],
          "barpolar": [
           {
            "marker": {
             "line": {
              "color": "#E5ECF6",
              "width": 0.5
             },
             "pattern": {
              "fillmode": "overlay",
              "size": 10,
              "solidity": 0.2
             }
            },
            "type": "barpolar"
           }
          ],
          "carpet": [
           {
            "aaxis": {
             "endlinecolor": "#2a3f5f",
             "gridcolor": "white",
             "linecolor": "white",
             "minorgridcolor": "white",
             "startlinecolor": "#2a3f5f"
            },
            "baxis": {
             "endlinecolor": "#2a3f5f",
             "gridcolor": "white",
             "linecolor": "white",
             "minorgridcolor": "white",
             "startlinecolor": "#2a3f5f"
            },
            "type": "carpet"
           }
          ],
          "choropleth": [
           {
            "colorbar": {
             "outlinewidth": 0,
             "ticks": ""
            },
            "type": "choropleth"
           }
          ],
          "contour": [
           {
            "colorbar": {
             "outlinewidth": 0,
             "ticks": ""
            },
            "colorscale": [
             [
              0,
              "#0d0887"
             ],
             [
              0.1111111111111111,
              "#46039f"
             ],
             [
              0.2222222222222222,
              "#7201a8"
             ],
             [
              0.3333333333333333,
              "#9c179e"
             ],
             [
              0.4444444444444444,
              "#bd3786"
             ],
             [
              0.5555555555555556,
              "#d8576b"
             ],
             [
              0.6666666666666666,
              "#ed7953"
             ],
             [
              0.7777777777777778,
              "#fb9f3a"
             ],
             [
              0.8888888888888888,
              "#fdca26"
             ],
             [
              1,
              "#f0f921"
             ]
            ],
            "type": "contour"
           }
          ],
          "contourcarpet": [
           {
            "colorbar": {
             "outlinewidth": 0,
             "ticks": ""
            },
            "type": "contourcarpet"
           }
          ],
          "heatmap": [
           {
            "colorbar": {
             "outlinewidth": 0,
             "ticks": ""
            },
            "colorscale": [
             [
              0,
              "#0d0887"
             ],
             [
              0.1111111111111111,
              "#46039f"
             ],
             [
              0.2222222222222222,
              "#7201a8"
             ],
             [
              0.3333333333333333,
              "#9c179e"
             ],
             [
              0.4444444444444444,
              "#bd3786"
             ],
             [
              0.5555555555555556,
              "#d8576b"
             ],
             [
              0.6666666666666666,
              "#ed7953"
             ],
             [
              0.7777777777777778,
              "#fb9f3a"
             ],
             [
              0.8888888888888888,
              "#fdca26"
             ],
             [
              1,
              "#f0f921"
             ]
            ],
            "type": "heatmap"
           }
          ],
          "heatmapgl": [
           {
            "colorbar": {
             "outlinewidth": 0,
             "ticks": ""
            },
            "colorscale": [
             [
              0,
              "#0d0887"
             ],
             [
              0.1111111111111111,
              "#46039f"
             ],
             [
              0.2222222222222222,
              "#7201a8"
             ],
             [
              0.3333333333333333,
              "#9c179e"
             ],
             [
              0.4444444444444444,
              "#bd3786"
             ],
             [
              0.5555555555555556,
              "#d8576b"
             ],
             [
              0.6666666666666666,
              "#ed7953"
             ],
             [
              0.7777777777777778,
              "#fb9f3a"
             ],
             [
              0.8888888888888888,
              "#fdca26"
             ],
             [
              1,
              "#f0f921"
             ]
            ],
            "type": "heatmapgl"
           }
          ],
          "histogram": [
           {
            "marker": {
             "pattern": {
              "fillmode": "overlay",
              "size": 10,
              "solidity": 0.2
             }
            },
            "type": "histogram"
           }
          ],
          "histogram2d": [
           {
            "colorbar": {
             "outlinewidth": 0,
             "ticks": ""
            },
            "colorscale": [
             [
              0,
              "#0d0887"
             ],
             [
              0.1111111111111111,
              "#46039f"
             ],
             [
              0.2222222222222222,
              "#7201a8"
             ],
             [
              0.3333333333333333,
              "#9c179e"
             ],
             [
              0.4444444444444444,
              "#bd3786"
             ],
             [
              0.5555555555555556,
              "#d8576b"
             ],
             [
              0.6666666666666666,
              "#ed7953"
             ],
             [
              0.7777777777777778,
              "#fb9f3a"
             ],
             [
              0.8888888888888888,
              "#fdca26"
             ],
             [
              1,
              "#f0f921"
             ]
            ],
            "type": "histogram2d"
           }
          ],
          "histogram2dcontour": [
           {
            "colorbar": {
             "outlinewidth": 0,
             "ticks": ""
            },
            "colorscale": [
             [
              0,
              "#0d0887"
             ],
             [
              0.1111111111111111,
              "#46039f"
             ],
             [
              0.2222222222222222,
              "#7201a8"
             ],
             [
              0.3333333333333333,
              "#9c179e"
             ],
             [
              0.4444444444444444,
              "#bd3786"
             ],
             [
              0.5555555555555556,
              "#d8576b"
             ],
             [
              0.6666666666666666,
              "#ed7953"
             ],
             [
              0.7777777777777778,
              "#fb9f3a"
             ],
             [
              0.8888888888888888,
              "#fdca26"
             ],
             [
              1,
              "#f0f921"
             ]
            ],
            "type": "histogram2dcontour"
           }
          ],
          "mesh3d": [
           {
            "colorbar": {
             "outlinewidth": 0,
             "ticks": ""
            },
            "type": "mesh3d"
           }
          ],
          "parcoords": [
           {
            "line": {
             "colorbar": {
              "outlinewidth": 0,
              "ticks": ""
             }
            },
            "type": "parcoords"
           }
          ],
          "pie": [
           {
            "automargin": true,
            "type": "pie"
           }
          ],
          "scatter": [
           {
            "fillpattern": {
             "fillmode": "overlay",
             "size": 10,
             "solidity": 0.2
            },
            "type": "scatter"
           }
          ],
          "scatter3d": [
           {
            "line": {
             "colorbar": {
              "outlinewidth": 0,
              "ticks": ""
             }
            },
            "marker": {
             "colorbar": {
              "outlinewidth": 0,
              "ticks": ""
             }
            },
            "type": "scatter3d"
           }
          ],
          "scattercarpet": [
           {
            "marker": {
             "colorbar": {
              "outlinewidth": 0,
              "ticks": ""
             }
            },
            "type": "scattercarpet"
           }
          ],
          "scattergeo": [
           {
            "marker": {
             "colorbar": {
              "outlinewidth": 0,
              "ticks": ""
             }
            },
            "type": "scattergeo"
           }
          ],
          "scattergl": [
           {
            "marker": {
             "colorbar": {
              "outlinewidth": 0,
              "ticks": ""
             }
            },
            "type": "scattergl"
           }
          ],
          "scattermapbox": [
           {
            "marker": {
             "colorbar": {
              "outlinewidth": 0,
              "ticks": ""
             }
            },
            "type": "scattermapbox"
           }
          ],
          "scatterpolar": [
           {
            "marker": {
             "colorbar": {
              "outlinewidth": 0,
              "ticks": ""
             }
            },
            "type": "scatterpolar"
           }
          ],
          "scatterpolargl": [
           {
            "marker": {
             "colorbar": {
              "outlinewidth": 0,
              "ticks": ""
             }
            },
            "type": "scatterpolargl"
           }
          ],
          "scatterternary": [
           {
            "marker": {
             "colorbar": {
              "outlinewidth": 0,
              "ticks": ""
             }
            },
            "type": "scatterternary"
           }
          ],
          "surface": [
           {
            "colorbar": {
             "outlinewidth": 0,
             "ticks": ""
            },
            "colorscale": [
             [
              0,
              "#0d0887"
             ],
             [
              0.1111111111111111,
              "#46039f"
             ],
             [
              0.2222222222222222,
              "#7201a8"
             ],
             [
              0.3333333333333333,
              "#9c179e"
             ],
             [
              0.4444444444444444,
              "#bd3786"
             ],
             [
              0.5555555555555556,
              "#d8576b"
             ],
             [
              0.6666666666666666,
              "#ed7953"
             ],
             [
              0.7777777777777778,
              "#fb9f3a"
             ],
             [
              0.8888888888888888,
              "#fdca26"
             ],
             [
              1,
              "#f0f921"
             ]
            ],
            "type": "surface"
           }
          ],
          "table": [
           {
            "cells": {
             "fill": {
              "color": "#EBF0F8"
             },
             "line": {
              "color": "white"
             }
            },
            "header": {
             "fill": {
              "color": "#C8D4E3"
             },
             "line": {
              "color": "white"
             }
            },
            "type": "table"
           }
          ]
         },
         "layout": {
          "annotationdefaults": {
           "arrowcolor": "#2a3f5f",
           "arrowhead": 0,
           "arrowwidth": 1
          },
          "autotypenumbers": "strict",
          "coloraxis": {
           "colorbar": {
            "outlinewidth": 0,
            "ticks": ""
           }
          },
          "colorscale": {
           "diverging": [
            [
             0,
             "#8e0152"
            ],
            [
             0.1,
             "#c51b7d"
            ],
            [
             0.2,
             "#de77ae"
            ],
            [
             0.3,
             "#f1b6da"
            ],
            [
             0.4,
             "#fde0ef"
            ],
            [
             0.5,
             "#f7f7f7"
            ],
            [
             0.6,
             "#e6f5d0"
            ],
            [
             0.7,
             "#b8e186"
            ],
            [
             0.8,
             "#7fbc41"
            ],
            [
             0.9,
             "#4d9221"
            ],
            [
             1,
             "#276419"
            ]
           ],
           "sequential": [
            [
             0,
             "#0d0887"
            ],
            [
             0.1111111111111111,
             "#46039f"
            ],
            [
             0.2222222222222222,
             "#7201a8"
            ],
            [
             0.3333333333333333,
             "#9c179e"
            ],
            [
             0.4444444444444444,
             "#bd3786"
            ],
            [
             0.5555555555555556,
             "#d8576b"
            ],
            [
             0.6666666666666666,
             "#ed7953"
            ],
            [
             0.7777777777777778,
             "#fb9f3a"
            ],
            [
             0.8888888888888888,
             "#fdca26"
            ],
            [
             1,
             "#f0f921"
            ]
           ],
           "sequentialminus": [
            [
             0,
             "#0d0887"
            ],
            [
             0.1111111111111111,
             "#46039f"
            ],
            [
             0.2222222222222222,
             "#7201a8"
            ],
            [
             0.3333333333333333,
             "#9c179e"
            ],
            [
             0.4444444444444444,
             "#bd3786"
            ],
            [
             0.5555555555555556,
             "#d8576b"
            ],
            [
             0.6666666666666666,
             "#ed7953"
            ],
            [
             0.7777777777777778,
             "#fb9f3a"
            ],
            [
             0.8888888888888888,
             "#fdca26"
            ],
            [
             1,
             "#f0f921"
            ]
           ]
          },
          "colorway": [
           "#636efa",
           "#EF553B",
           "#00cc96",
           "#ab63fa",
           "#FFA15A",
           "#19d3f3",
           "#FF6692",
           "#B6E880",
           "#FF97FF",
           "#FECB52"
          ],
          "font": {
           "color": "#2a3f5f"
          },
          "geo": {
           "bgcolor": "white",
           "lakecolor": "white",
           "landcolor": "#E5ECF6",
           "showlakes": true,
           "showland": true,
           "subunitcolor": "white"
          },
          "hoverlabel": {
           "align": "left"
          },
          "hovermode": "closest",
          "mapbox": {
           "style": "light"
          },
          "paper_bgcolor": "white",
          "plot_bgcolor": "#E5ECF6",
          "polar": {
           "angularaxis": {
            "gridcolor": "white",
            "linecolor": "white",
            "ticks": ""
           },
           "bgcolor": "#E5ECF6",
           "radialaxis": {
            "gridcolor": "white",
            "linecolor": "white",
            "ticks": ""
           }
          },
          "scene": {
           "xaxis": {
            "backgroundcolor": "#E5ECF6",
            "gridcolor": "white",
            "gridwidth": 2,
            "linecolor": "white",
            "showbackground": true,
            "ticks": "",
            "zerolinecolor": "white"
           },
           "yaxis": {
            "backgroundcolor": "#E5ECF6",
            "gridcolor": "white",
            "gridwidth": 2,
            "linecolor": "white",
            "showbackground": true,
            "ticks": "",
            "zerolinecolor": "white"
           },
           "zaxis": {
            "backgroundcolor": "#E5ECF6",
            "gridcolor": "white",
            "gridwidth": 2,
            "linecolor": "white",
            "showbackground": true,
            "ticks": "",
            "zerolinecolor": "white"
           }
          },
          "shapedefaults": {
           "line": {
            "color": "#2a3f5f"
           }
          },
          "ternary": {
           "aaxis": {
            "gridcolor": "white",
            "linecolor": "white",
            "ticks": ""
           },
           "baxis": {
            "gridcolor": "white",
            "linecolor": "white",
            "ticks": ""
           },
           "bgcolor": "#E5ECF6",
           "caxis": {
            "gridcolor": "white",
            "linecolor": "white",
            "ticks": ""
           }
          },
          "title": {
           "x": 0.05
          },
          "xaxis": {
           "automargin": true,
           "gridcolor": "white",
           "linecolor": "white",
           "ticks": "",
           "title": {
            "standoff": 15
           },
           "zerolinecolor": "white",
           "zerolinewidth": 2
          },
          "yaxis": {
           "automargin": true,
           "gridcolor": "white",
           "linecolor": "white",
           "ticks": "",
           "title": {
            "standoff": 15
           },
           "zerolinecolor": "white",
           "zerolinewidth": 2
          }
         }
        },
        "xaxis": {
         "anchor": "y",
         "domain": [
          0,
          1
         ],
         "title": {
          "text": "index"
         }
        },
        "yaxis": {
         "anchor": "x",
         "domain": [
          0,
          1
         ],
         "title": {
          "text": "mean"
         }
        }
       }
      }
     },
     "metadata": {},
     "output_type": "display_data"
    }
   ],
   "source": [
    "import plotly.express as px\n",
    "fig = px.bar(combined_df, x=\"index\", y=\"mean\",\n",
    "             color='solver', barmode='group',error_y=\"std\",\n",
    "             height=400)\n",
    "\n",
    "fig.show()"
   ]
  }
 ],
 "metadata": {
  "kernelspec": {
   "display_name": "env",
   "language": "python",
   "name": "python3"
  },
  "language_info": {
   "codemirror_mode": {
    "name": "ipython",
    "version": 3
   },
   "file_extension": ".py",
   "mimetype": "text/x-python",
   "name": "python",
   "nbconvert_exporter": "python",
   "pygments_lexer": "ipython3",
   "version": "3.11.4"
  }
 },
 "nbformat": 4,
 "nbformat_minor": 2
}
